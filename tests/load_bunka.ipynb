{
 "cells": [
  {
   "cell_type": "code",
   "execution_count": 1,
   "metadata": {},
   "outputs": [],
   "source": [
    "import sys\n",
    "sys.path.append('../')\n",
    "\n",
    "from bunkatopics import Bunka"
   ]
  },
  {
   "cell_type": "code",
   "execution_count": 2,
   "metadata": {},
   "outputs": [],
   "source": [
    "bunka = Bunka().load_bunka(\"../bunka_dump\")"
   ]
  },
  {
   "cell_type": "code",
   "execution_count": 3,
   "metadata": {},
   "outputs": [
    {
     "name": "stderr",
     "output_type": "stream",
     "text": [
      "\u001b[32m2024-04-09 15:35:21 - \u001b[94mBunka\u001b[0m - INFO - \u001b[1mComputing the topics\u001b[0m\n"
     ]
    }
   ],
   "source": [
    "df_topics = bunka.get_topics(\n",
    "    custom_clustering_model=None,\n",
    "    n_clusters=10,\n",
    "    min_count_terms=2,\n",
    "    min_docs_per_cluster=30,\n",
    ")"
   ]
  },
  {
   "cell_type": "code",
   "execution_count": 4,
   "metadata": {},
   "outputs": [],
   "source": [
    "import numpy as np\n",
    "\n",
    "embeddings = [x.embedding for x in bunka.docs]\n",
    "np.save(\"../bunka_dump/embeddings.npy\", embeddings)\n"
   ]
  },
  {
   "cell_type": "code",
   "execution_count": 5,
   "metadata": {},
   "outputs": [],
   "source": [
    "docs = [x.content for x in bunka.docs]\n",
    "ids = [x.doc_id for x in bunka.docs]\n",
    "\n",
    "pre_computed_embeddings = [{'doc_id': doc_id, 'embedding': embedding} for doc_id, embedding in zip(ids, embeddings)]"
   ]
  },
  {
   "cell_type": "code",
   "execution_count": 6,
   "metadata": {},
   "outputs": [],
   "source": [
    "from sklearn.manifold import TSNE\n",
    "\n",
    "projection_model = TSNE(\n",
    "    n_components=2,\n",
    "    learning_rate=\"auto\",\n",
    "    init=\"random\",\n",
    "    perplexity=3,\n",
    "    random_state=42,\n",
    ")\n",
    "\n",
    "new_bunka = Bunka(projection_model=projection_model)"
   ]
  },
  {
   "cell_type": "code",
   "execution_count": 7,
   "metadata": {},
   "outputs": [
    {
     "name": "stderr",
     "output_type": "stream",
     "text": [
      "\u001b[32m2024-04-09 15:37:00 - \u001b[94mBunka\u001b[0m - INFO - \u001b[1mEmbedding documents... (can take varying amounts of time depending on their size)\u001b[0m\n",
      "\u001b[32m2024-04-09 15:37:00 - \u001b[94mBunka\u001b[0m - INFO - \u001b[1mReducing the dimensions of embeddings...\u001b[0m\n",
      "\u001b[32m2024-04-09 15:37:02 - \u001b[94mBunka\u001b[0m - INFO - \u001b[1mExtracting meaningful terms from documents...\u001b[0m\n",
      "100%|██████████| 1000/1000 [00:04<00:00, 232.71it/s]\n"
     ]
    }
   ],
   "source": [
    "new_bunka.fit(docs=docs, ids = ids, pre_computed_embeddings = pre_computed_embeddings)"
   ]
  },
  {
   "cell_type": "code",
   "execution_count": 8,
   "metadata": {},
   "outputs": [
    {
     "name": "stderr",
     "output_type": "stream",
     "text": [
      "\u001b[32m2024-04-09 15:37:21 - \u001b[94mBunka\u001b[0m - INFO - \u001b[1mComputing the topics\u001b[0m\n"
     ]
    }
   ],
   "source": [
    "df_topics_new = new_bunka.get_topics(\n",
    "    custom_clustering_model=None,\n",
    "    n_clusters=10,\n",
    "    min_count_terms=2,\n",
    "    min_docs_per_cluster=30,\n",
    ")"
   ]
  },
  {
   "cell_type": "code",
   "execution_count": 9,
   "metadata": {},
   "outputs": [
    {
     "data": {
      "text/html": [
       "<div>\n",
       "<style scoped>\n",
       "    .dataframe tbody tr th:only-of-type {\n",
       "        vertical-align: middle;\n",
       "    }\n",
       "\n",
       "    .dataframe tbody tr th {\n",
       "        vertical-align: top;\n",
       "    }\n",
       "\n",
       "    .dataframe thead th {\n",
       "        text-align: right;\n",
       "    }\n",
       "</style>\n",
       "<table border=\"1\" class=\"dataframe\">\n",
       "  <thead>\n",
       "    <tr style=\"text-align: right;\">\n",
       "      <th></th>\n",
       "      <th>topic_id</th>\n",
       "      <th>topic_name</th>\n",
       "      <th>size</th>\n",
       "      <th>percent</th>\n",
       "    </tr>\n",
       "  </thead>\n",
       "  <tbody>\n",
       "    <tr>\n",
       "      <th>0</th>\n",
       "      <td>bt-7</td>\n",
       "      <td>Slack | Team | job | software | Developers</td>\n",
       "      <td>122</td>\n",
       "      <td>12.2</td>\n",
       "    </tr>\n",
       "    <tr>\n",
       "      <th>1</th>\n",
       "      <td>bt-0</td>\n",
       "      <td>Thanks | Course | humans | Science | COVID</td>\n",
       "      <td>118</td>\n",
       "      <td>11.8</td>\n",
       "    </tr>\n",
       "    <tr>\n",
       "      <th>2</th>\n",
       "      <td>bt-1</td>\n",
       "      <td>Companies | menu | systems | Waves | apps</td>\n",
       "      <td>116</td>\n",
       "      <td>11.6</td>\n",
       "    </tr>\n",
       "    <tr>\n",
       "      <th>3</th>\n",
       "      <td>bt-8</td>\n",
       "      <td>blockchain | Impact | technology | game | people</td>\n",
       "      <td>113</td>\n",
       "      <td>11.3</td>\n",
       "    </tr>\n",
       "    <tr>\n",
       "      <th>4</th>\n",
       "      <td>bt-2</td>\n",
       "      <td>Women | Technology | Tech | World | humanity</td>\n",
       "      <td>104</td>\n",
       "      <td>10.4</td>\n",
       "    </tr>\n",
       "    <tr>\n",
       "      <th>5</th>\n",
       "      <td>bt-5</td>\n",
       "      <td>com | Solution | company | guide | Week</td>\n",
       "      <td>96</td>\n",
       "      <td>9.6</td>\n",
       "    </tr>\n",
       "    <tr>\n",
       "      <th>6</th>\n",
       "      <td>bt-9</td>\n",
       "      <td>Dictionaries | Languages | visualization | Des...</td>\n",
       "      <td>94</td>\n",
       "      <td>9.4</td>\n",
       "    </tr>\n",
       "    <tr>\n",
       "      <th>7</th>\n",
       "      <td>bt-6</td>\n",
       "      <td>Market | Cryptocurrency | Reasons | Exchanges ...</td>\n",
       "      <td>87</td>\n",
       "      <td>8.7</td>\n",
       "    </tr>\n",
       "    <tr>\n",
       "      <th>8</th>\n",
       "      <td>bt-3</td>\n",
       "      <td>Objects | app | Methods | Web | Programming</td>\n",
       "      <td>76</td>\n",
       "      <td>7.6</td>\n",
       "    </tr>\n",
       "    <tr>\n",
       "      <th>9</th>\n",
       "      <td>bt-4</td>\n",
       "      <td>gadgets | Guide | type | Projects | APIs</td>\n",
       "      <td>74</td>\n",
       "      <td>7.4</td>\n",
       "    </tr>\n",
       "  </tbody>\n",
       "</table>\n",
       "</div>"
      ],
      "text/plain": [
       "  topic_id                                         topic_name  size  percent\n",
       "0     bt-7         Slack | Team | job | software | Developers   122     12.2\n",
       "1     bt-0         Thanks | Course | humans | Science | COVID   118     11.8\n",
       "2     bt-1          Companies | menu | systems | Waves | apps   116     11.6\n",
       "3     bt-8   blockchain | Impact | technology | game | people   113     11.3\n",
       "4     bt-2       Women | Technology | Tech | World | humanity   104     10.4\n",
       "5     bt-5            com | Solution | company | guide | Week    96      9.6\n",
       "6     bt-9  Dictionaries | Languages | visualization | Des...    94      9.4\n",
       "7     bt-6  Market | Cryptocurrency | Reasons | Exchanges ...    87      8.7\n",
       "8     bt-3        Objects | app | Methods | Web | Programming    76      7.6\n",
       "9     bt-4           gadgets | Guide | type | Projects | APIs    74      7.4"
      ]
     },
     "execution_count": 9,
     "metadata": {},
     "output_type": "execute_result"
    }
   ],
   "source": []
  },
  {
   "cell_type": "code",
   "execution_count": null,
   "metadata": {},
   "outputs": [],
   "source": []
  }
 ],
 "metadata": {
  "kernelspec": {
   "display_name": "bunka_env",
   "language": "python",
   "name": "python3"
  },
  "language_info": {
   "codemirror_mode": {
    "name": "ipython",
    "version": 3
   },
   "file_extension": ".py",
   "mimetype": "text/x-python",
   "name": "python",
   "nbconvert_exporter": "python",
   "pygments_lexer": "ipython3",
   "version": "3.11.7"
  }
 },
 "nbformat": 4,
 "nbformat_minor": 2
}
