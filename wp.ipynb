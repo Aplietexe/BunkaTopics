{
 "cells": [
  {
   "cell_type": "code",
   "execution_count": 6,
   "id": "27ccaab8-aa34-4472-95b9-a2068e664e44",
   "metadata": {},
   "outputs": [
    {
     "name": "stderr",
     "output_type": "stream",
     "text": [
      "2022-05-24 09:00:47,113 - Extracting Terms...\n",
      "2022-05-24 09:00:47,727 - loaded 'en_core_web_sm' spaCy language pipeline\n",
      "100%|███████████████████████████████████████████████████████████████████| 2990/2990 [00:20<00:00, 142.71it/s]\n"
     ]
    }
   ],
   "source": [
    "import pandas as pd\n",
    "from bunkatopics import BunkaTopics\n",
    "\n",
    "df = pd.read_csv(\"data/imdb.csv\", index_col=[0])\n",
    "df = df.sample(3000, random_state=42)\n",
    "df = df[[\"imdb\", \"description\"]].dropna()\n",
    "\n",
    "\n",
    "model = BunkaTopics(df, \n",
    "                    text_var = 'description',\n",
    "                    index_var = 'imdb',\n",
    "                    extract_terms=True,\n",
    "                    terms_embeddings=False,\n",
    "                    docs_embeddings=False,\n",
    "                    embeddings_model=\"distiluse-base-multilingual-cased-v1\",\n",
    "                    multiprocessing=True,\n",
    "                    language=\"en\",\n",
    "                    sample_size_terms = len(df),\n",
    "                    terms_limit=3000,\n",
    "                    terms_ents=True,\n",
    "                    terms_ngrams=(1, 2),\n",
    "                    terms_ncs=True,\n",
    "                    terms_include_pos=[\"NOUN\", \"PROPN\", \"ADJ\"],\n",
    "                    terms_include_types=[\"PERSON\", \"ORG\"])"
   ]
  },
  {
   "cell_type": "code",
   "execution_count": null,
   "id": "e734ed9f-a866-43d6-84ab-49c792007b55",
   "metadata": {},
   "outputs": [],
   "source": []
  },
  {
   "cell_type": "code",
   "execution_count": null,
   "id": "abb0ff24-9cf1-4ea7-bb85-91bf062c74f2",
   "metadata": {},
   "outputs": [],
   "source": []
  },
  {
   "cell_type": "code",
   "execution_count": null,
   "id": "97975845-655b-4e8c-baa0-44f38090f298",
   "metadata": {},
   "outputs": [],
   "source": []
  },
  {
   "cell_type": "code",
   "execution_count": null,
   "id": "96e464fe-3a14-4ed1-9614-22f40254c332",
   "metadata": {},
   "outputs": [],
   "source": []
  },
  {
   "cell_type": "code",
   "execution_count": null,
   "id": "076681ac-f5ca-4186-bf6e-6dfbc1741678",
   "metadata": {},
   "outputs": [],
   "source": []
  }
 ],
 "metadata": {
  "kernelspec": {
   "display_name": "Python 3 (ipykernel)",
   "language": "python",
   "name": "python3"
  },
  "language_info": {
   "codemirror_mode": {
    "name": "ipython",
    "version": 3
   },
   "file_extension": ".py",
   "mimetype": "text/x-python",
   "name": "python",
   "nbconvert_exporter": "python",
   "pygments_lexer": "ipython3",
   "version": "3.9.7"
  }
 },
 "nbformat": 4,
 "nbformat_minor": 5
}
