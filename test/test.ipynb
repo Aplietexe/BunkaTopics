{
 "cells": [
  {
   "cell_type": "code",
   "execution_count": 3,
   "id": "dbdf936c-11e8-48ef-8584-76d8e2bc52c4",
   "metadata": {},
   "outputs": [],
   "source": [
    "from bunkatopics import BunkaTopics\n",
    "import pandas as pd"
   ]
  },
  {
   "cell_type": "code",
   "execution_count": 4,
   "id": "2903bf34-cb4d-4fb7-b7e3-e00b6d106f2a",
   "metadata": {},
   "outputs": [],
   "source": [
    "df = pd.read_csv(\"../data/imdb.csv\", index_col=[0])\n",
    "df = df.sample(500, random_state=42)\n",
    "df = df[[\"imdb\", \"description\"]].dropna()"
   ]
  },
  {
   "cell_type": "code",
   "execution_count": 6,
   "id": "b8b1300b-924d-4ca0-98f0-576a80463154",
   "metadata": {},
   "outputs": [
    {
     "name": "stderr",
     "output_type": "stream",
     "text": [
      "2022-05-23 23:19:53,625 - Extracting Terms...\n",
      "  0%|                                                                                | 0/498 [00:00<?, ?it/s]2022-05-23 23:20:17,123 - loaded 'en_core_web_sm' spaCy language pipeline\n",
      "2022-05-23 23:20:17,139 - loaded 'en_core_web_sm' spaCy language pipeline\n",
      "2022-05-23 23:20:17,161 - loaded 'en_core_web_sm' spaCy language pipeline\n",
      "2022-05-23 23:20:17,179 - loaded 'en_core_web_sm' spaCy language pipeline\n",
      "2022-05-23 23:20:17,188 - loaded 'en_core_web_sm' spaCy language pipeline\n",
      "2022-05-23 23:20:17,205 - loaded 'en_core_web_sm' spaCy language pipeline\n",
      "2022-05-23 23:20:17,232 - loaded 'en_core_web_sm' spaCy language pipeline\n",
      "  0%|▏                                                                     | 1/498 [00:23<3:15:47, 23.64s/it]2022-05-23 23:20:17,488 - loaded 'en_core_web_sm' spaCy language pipeline\n",
      "100%|██████████████████████████████████████████████████████████████████████| 498/498 [00:53<00:00,  9.23it/s]\n",
      "2022-05-23 23:20:48,250 - Extracting Docs Embeddings...\n",
      "100%|██████████████████████████████████████████████████████████████████████| 498/498 [00:28<00:00, 17.62it/s]\n"
     ]
    },
    {
     "name": "stdout",
     "output_type": "stream",
     "text": [
      "UMAP(n_components=5, random_state=42, verbose=True)\n",
      "Mon May 23 23:21:16 2022 Construct fuzzy simplicial set\n",
      "Mon May 23 23:21:17 2022 Finding Nearest Neighbors\n",
      "Mon May 23 23:21:18 2022 Finished Nearest Neighbor Search\n",
      "Mon May 23 23:21:19 2022 Construct embedding\n"
     ]
    },
    {
     "data": {
      "application/vnd.jupyter.widget-view+json": {
       "model_id": "3e14a7ed46294b7583e03b95334e3ed3",
       "version_major": 2,
       "version_minor": 0
      },
      "text/plain": [
       "Epochs completed:   0%|            0/500 [00:00]"
      ]
     },
     "metadata": {},
     "output_type": "display_data"
    },
    {
     "name": "stdout",
     "output_type": "stream",
     "text": [
      "Mon May 23 23:21:21 2022 Finished embedding\n"
     ]
    }
   ],
   "source": [
    "model = BunkaTopics(df, \n",
    "                    text_var = 'description',\n",
    "                    index_var = 'imdb',\n",
    "                    extract_terms=True,\n",
    "                    terms_embeddings=False,\n",
    "                    docs_embeddings=True,\n",
    "                    embeddings_model=\"distiluse-base-multilingual-cased-v1\",\n",
    "                    multiprocessing=True,\n",
    "                    language=\"en\",\n",
    "                    sample_size_terms=500,\n",
    "                    terms_limit=500,\n",
    "                    terms_ents=True,\n",
    "                    terms_ngrams=(1, 2),\n",
    "                    terms_ncs=True,\n",
    "                    terms_include_pos=[\"NOUN\", \"PROPN\", \"ADJ\"],\n",
    "                    terms_include_types=[\"PERSON\", \"ORG\"])"
   ]
  },
  {
   "cell_type": "code",
   "execution_count": 16,
   "id": "fff105be-c81b-47c1-ad66-32c37b5866b8",
   "metadata": {},
   "outputs": [],
   "source": [
    "topics = model.get_clusters(topic_number= 20,\n",
    "                    top_terms = 3,\n",
    "                    term_type = \"lemma\",\n",
    "                    top_terms_included = 100,\n",
    "                    ngrams = [2])"
   ]
  },
  {
   "cell_type": "code",
   "execution_count": 15,
   "id": "8eaaeb40-549a-477f-a219-6042abbb4dfe",
   "metadata": {},
   "outputs": [
    {
     "name": "stdout",
     "output_type": "stream",
     "text": [
      "UMAP(random_state=42, verbose=True)\n",
      "Mon May 23 23:23:09 2022 Construct fuzzy simplicial set\n",
      "Mon May 23 23:23:09 2022 Finding Nearest Neighbors\n",
      "Mon May 23 23:23:09 2022 Finished Nearest Neighbor Search\n",
      "Mon May 23 23:23:09 2022 Construct embedding\n"
     ]
    },
    {
     "data": {
      "application/vnd.jupyter.widget-view+json": {
       "model_id": "708458029a254311bf4dd18ae538b28b",
       "version_major": 2,
       "version_minor": 0
      },
      "text/plain": [
       "Epochs completed:   0%|            0/500 [00:00]"
      ]
     },
     "metadata": {},
     "output_type": "display_data"
    },
    {
     "name": "stdout",
     "output_type": "stream",
     "text": [
      "Mon May 23 23:23:10 2022 Finished embedding\n"
     ]
    },
    {
     "data": {
      "application/vnd.plotly.v1+json": {
       "config": {
        "plotlyServerURL": "https://plot.ly"
       },
       "data": [
        {
         "customdata": [
          [
           "Two inseparable, hormonal, English BFF teen boys, avoided by all<br>others, head to Ibiza with Kevin's parents. Will they lose<br>their virginity there?<br>"
          ],
          [
           "A pretty, popular teenager can't go out on a date<br>until her ill-tempered older sister does.<br>"
          ],
          [
           "As adults, best friends Julien and Sophie continue the odd<br>game they started as children -- a fearless competition to<br>outdo one another with daring and outrageous stunts. While they<br>often act out to relieve one another's pain, their game<br>might be a way to avoid the fact that they<br>are truly meant for one another.<br>"
          ],
          [
           "Several ordinary high school students go through their daily routine<br>as two others prepare for something more malevolent.<br>"
          ],
          [
           "Over two \"typical\" days in the life of<br>"
          ],
          [
           "One day in New York City, Jane Ryan tries out<br>for an overseas college program, her twin sister Roxy schemes<br>to meet her favorite punk rockers, and a series of<br>mishaps throws their day into ...<br>"
          ],
          [
           "Three American college students studying abroad are lured to a<br>Slovakian hostel, and discover the grim reality behind it.<br>"
          ],
          [
           "A trio of girls set out to change the male-dominated<br>environment of the Seven Oaks college campus, and to rescue<br>their fellow students from depression, grunge and low standards of<br>every kind.<br>"
          ],
          [
           "A British college student falls for an American student, only<br>to be separated from him when she's banned from the<br>U.S. after overstaying her visa.<br>"
          ],
          [
           "A high school has a tradition of dirty deeds the<br>night before homecoming (if there's any volunteer) where, to win,<br>the person performs 10 dirty deeds in 12 hours. Will<br>Harper make it?<br>"
          ],
          [
           "16-year-old Jesse and old friend Randolph try to foil an<br>illegal whaler threatening Willy and his pregnant mate.<br>"
          ],
          [
           "A high school wise guy is determined to have a<br>day off from school, despite what the Principal thinks of<br>that.<br>"
          ],
          [
           "Bubble Boy's been in a bubble all his life due<br>to no immune system. A cute blonde girl befriends BB.<br>Her boyfriend proposes and BB decides to travel across USA<br>to Niagara Falls to stop the wedding.<br>"
          ],
          [
           "Barry B. Benson, a bee just graduated from college, is<br>disillusioned at his lone career choice: making honey. On a<br>special trip outside the hive, Barry's life is saved by<br>Vanessa, a florist in New York City. As their relationship<br>blossoms, he discovers humans actually eat honey, and subsequently decides<br>to sue them.<br>"
          ],
          [
           "Over the course of a few hectic days, numerous interrelated<br>people prepare for a political convention.<br>"
          ]
         ],
         "hovertemplate": "cluster_size=7 | 15<br>dim_1=%{x}<br>dim_2=%{y}<br>centroid_name=%{text}<br>description=%{customdata[0]}<extra></extra>",
         "legendgroup": "7 | 15",
         "marker": {
          "color": "#636efa",
          "symbol": "circle"
         },
         "mode": "markers+text",
         "name": "7 | 15",
         "orientation": "v",
         "showlegend": true,
         "text": [
          " ",
          " ",
          " ",
          " ",
          " ",
          " ",
          " ",
          " ",
          " ",
          " ",
          " ",
          " ",
          " ",
          " ",
          " "
         ],
         "type": "scatter",
         "x": [
          11.177863121032715,
          7.850567817687988,
          11.593792915344238,
          10.307609558105469,
          9.937165260314941,
          10.98495101928711,
          11.552192687988281,
          11.655364036560059,
          11.433331489562988,
          10.388862609863281,
          11.364911079406738,
          10.313315391540527,
          11.160015106201172,
          11.273608207702637,
          10.177534103393555
         ],
         "xaxis": "x",
         "y": [
          4.59255838394165,
          2.689239740371704,
          4.5524373054504395,
          4.620788097381592,
          4.504359722137451,
          4.066460132598877,
          4.75283145904541,
          4.679052829742432,
          4.622805118560791,
          4.63604211807251,
          4.383217811584473,
          4.602766990661621,
          4.54935359954834,
          4.566518783569336,
          4.539968490600586
         ],
         "yaxis": "y"
        },
        {
         "customdata": [
          [
           "An unexpected romance blooms after the the youngest daughter of<br>a merchant who has fallen on hard times offers herself<br>to the mysterious beast to which her father has become<br>indebted.<br>"
          ],
          [
           "An aging widow from New York City follows her daughter<br>to Los Angeles in hopes of starting a new life<br>after her husband passes away.<br>"
          ],
          [
           "American-born Gogol, the son of Indian immigrants, wants to fit<br>in among his fellow New Yorkers, despite his family's unwillingness<br>to let go of their traditional ways.<br>"
          ],
          [
           "Three parents try to stop their daughters from losing their<br>virginity on prom night.<br>"
          ],
          [
           "A beautiful but shy shepherdess plots vengeance on the men<br>whose greedy conspiracy to acquire her father's land caused his<br>death years earlier.<br>"
          ],
          [
           "A young orphan girl's adventures in finding a family that<br>will take her.<br>"
          ],
          [
           "A perfect family's dynamic is ruined by a kidnapper's brutally<br>efficient plot.<br>"
          ],
          [
           "When Joe is beat up by a co-worker in front<br>of his daughter on \"Bring Your Child To Work Day\",<br>he decides to fight back.<br>"
          ],
          [
           "When his daughter is kidnapped, a retired assassin is drawn<br>back into the life he gave up. To rescue her,<br>he must confront his former rival.<br>"
          ],
          [
           "A former boxer discovers that his biggest battle of all<br>is going to be with his ex-wife, Annie, who returns<br>after abandoning their young son seven years prior.<br>"
          ],
          [
           "Upon learning that their mother has been lying to them<br>for years about their allegedly deceased father, two fraternal twin<br>brothers hit the road in order to find him.<br>"
          ],
          [
           "Queen Cleopatra VII of Egypt experiences both triumph and tragedy<br>as she attempts to resist the imperial ambitions of Rome.<br>"
          ],
          [
           "Brazilian chef Isabella Oliveira moves to San Francisco when her<br>husband, frustrated by her motion sickness, cheats on her.<br>"
          ],
          [
           "A mousy romance novelist sets off for Colombia to ransom<br>her kidnapped sister, and soon finds herself in the middle<br>of a dangerous adventure hunting for treasure with a mercenary<br>rogue.<br>"
          ],
          [
           "A couple struggles to visit all four of their divorced<br>parents on Christmas.<br>"
          ],
          [
           "A young widow discovers that her late husband has left<br>her 10 messages intended to help ease her pain and<br>start a new life.<br>"
          ],
          [
           "A recent widow invites her husband's troubled best friend to<br>live with her and her two children. As he gradually<br>turns his life around, he helps the family cope and<br>confront their loss.<br>"
          ],
          [
           "After leaving jail, Víctor is still in love with Elena,<br>but she's married to the former cop -now basketball player-<br>who became paralysed by a shot from Víctor's gun...<br>"
          ],
          [
           "A Kashmiri woman agrees to marry a Pakistani army officer<br>in order to spy on Pakistan during the Indo-Pakistan War<br>of 1971.<br>"
          ],
          [
           "Despite trying to keep his swashbuckling to a minimum, a<br>threat to California's pending statehood causes the adventure-loving Don Alejandro<br>de la Vega and his wife, Elena, to take action.<br>"
          ],
          [
           "While on a trip to Thailand, a successful American businessman<br>tries to radically change his life. Back in New York,<br>his wife and daughter find their relationship with their live-in<br>Filipino maid changing around them. At the same time, in<br>the Philippines, the maid's family struggles to deal with her<br>absence.<br>"
          ],
          [
           "A couple find themselves in over their heads when they<br>foster three children.<br>"
          ],
          [
           "A New Yorker's life is thrown into a tailspin when<br>his younger cousin surprise-visits him, starting a strange, unpredictable adventure.<br>"
          ],
          [
           "The lives of two families change forever after a fatal<br>tragedy takes place on Reservation Road.<br>"
          ],
          [
           "An East European girl travels to the United States with<br>her young son, expecting it to be like a Hollywood<br>film.<br>"
          ],
          [
           "After withdrawing to the Chateau Marmont, a passionless Hollywood actor<br>reexamines his life when his eleven-year-old daughter surprises him with<br>a visit.<br>"
          ],
          [
           "A surreal tale of a married couple going on a<br>road trip to visit the wife's parents with the intention<br>of killing them for the inheritance.<br>"
          ],
          [
           "A teenage girl in the Midwest becomes infected by an<br>outbreak of a disease that slowly turns the infected into<br>cannibalistic zombies. During her transformation, her loving father stays by<br>her side.<br>"
          ],
          [
           "In 1959, a widower hires a kindly housekeeper/nanny to care<br>for his seven-year-old daughter.<br>"
          ]
         ],
         "hovertemplate": "cluster_size=8 | 29<br>dim_1=%{x}<br>dim_2=%{y}<br>centroid_name=%{text}<br>description=%{customdata[0]}<extra></extra>",
         "legendgroup": "8 | 29",
         "marker": {
          "color": "#EF553B",
          "symbol": "circle"
         },
         "mode": "markers+text",
         "name": "8 | 29",
         "orientation": "v",
         "showlegend": true,
         "text": [
          " ",
          " ",
          " ",
          " ",
          " ",
          " ",
          " ",
          " ",
          " ",
          " ",
          " ",
          " ",
          " ",
          " ",
          " ",
          " ",
          " ",
          " ",
          " ",
          " ",
          " ",
          " ",
          " ",
          " ",
          " ",
          " ",
          " ",
          " ",
          " "
         ],
         "type": "scatter",
         "x": [
          7.02875280380249,
          7.335992336273193,
          7.431399345397949,
          7.723922252655029,
          6.958852767944336,
          7.417718410491943,
          6.896954536437988,
          6.154447555541992,
          6.135671138763428,
          6.0374345779418945,
          6.913917541503906,
          6.807009696960449,
          7.305118083953857,
          6.871527194976807,
          7.386659145355225,
          7.007591247558594,
          7.067952632904053,
          6.758616924285889,
          6.717861652374268,
          7.142033576965332,
          7.405601978302002,
          7.659989833831787,
          7.087609767913818,
          6.911801815032959,
          7.427717685699463,
          7.3407063484191895,
          6.84718132019043,
          6.845821857452393,
          6.6584153175354
         ],
         "xaxis": "x",
         "y": [
          2.965451717376709,
          2.3740384578704834,
          2.5489399433135986,
          2.6591012477874756,
          2.7683143615722656,
          2.817645788192749,
          1.98305082321167,
          2.9200527667999268,
          2.7850863933563232,
          2.989370107650757,
          2.1832733154296875,
          2.647214651107788,
          2.2610881328582764,
          2.8083901405334473,
          2.561096429824829,
          1.9055042266845703,
          2.0124449729919434,
          1.9553308486938477,
          2.1105573177337646,
          2.1319706439971924,
          2.3688395023345947,
          2.6617448329925537,
          3.0785887241363525,
          1.9594640731811523,
          2.683861494064331,
          2.8823928833007812,
          1.883819341659546,
          2.8035926818847656,
          2.572549343109131
         ],
         "yaxis": "y"
        },
        {
         "customdata": [
          [
           "Benjamin Gates must follow a clue left in<br>"
          ],
          [
           "A furloughed convict and his American and Chinese partners hunt<br>a high-level cybercrime network from Chicago to Los Angeles to<br>Hong Kong to Jakarta.<br>"
          ],
          [
           "A detective from Hong Kong teams up with an American<br>gambler to battle against a notorious Chinese criminal.<br>"
          ],
          [
           "Two con artists try to swindle a currency collector by<br>selling him a counterfeit copy of an extremely rare currency<br>bill.<br>"
          ],
          [
           "The group of people gather at the house in Copenhagen<br>suburb to break all the limitations and to bring out<br>the \"inner idiot\" in themselves.<br>"
          ],
          [
           "After a heist in South Korea, a gang of 5+1<br>fly to Hong Kong to look into a heist, in<br>a Macau casino, of a $30M diamond, planned by someone<br>unreliable. He brings in HK thieves as well. Can anyone<br>be trusted?<br>"
          ],
          [
           "A demonic force has chosen Freddy Krueger as its portal<br>to the real world. Can<br>"
          ],
          [
           "\"Rambo\" parody in which Topper Harley leads a rescue team<br>into Iraq to save Iraqi war prisoners and all of<br>their previous rescue teams.<br>"
          ],
          [
           "Prison inmates form a football team to challenge the prison<br>guards.<br>"
          ],
          [
           "Charles Dreyfus (Herbert Lom), who has finally cracked over Inspector<br>Jacques Clouseau's (Peter Sellers') antics, escapes from a mental institution<br>and launches an elaborate plan to get rid of Clouseau<br>once and for all.<br>"
          ],
          [
           "Live-action role players conjure up a demon from Hell by<br>mistake and they must deal with the consequences.<br>"
          ],
          [
           "During a team-building retreat in the mountains a group of<br>sales representatives are hunted down one by one.<br>"
          ],
          [
           "A tough cop teams up with a professional skydiver to<br>capture a renegade computer hacker on the run from the<br>law.<br>"
          ],
          [
           "The true story of an English boxer incarcerated in one<br>of Thailand's most notorious prisons as he fights in Muay<br>Thai tournaments to earn his freedom.<br>"
          ],
          [
           "Santa Claus is actually a demon who lost a bet<br>with an Angel, so he becomes the giver of toys<br>and happiness. But when the bet is off, he returns<br>to his evil ways.<br>"
          ],
          [
           "An aging gambler on a losing streak attempts to rob<br>a casino in Monte Carlo. But someone's already tipped off<br>the cops before he even makes a move.<br>"
          ],
          [
           "In the future, a sadistic gang leader is imprisoned and<br>volunteers for a conduct-aversion experiment, but it doesn't go as<br>planned.<br>"
          ],
          [
           "A virus spreads through an office complex causing white collar<br>workers to act out their worst impulses.<br>"
          ],
          [
           "A group of motorists hear about a crook's hidden stash<br>of loot, and race against each other across the country<br>to get to it.<br>"
          ],
          [
           "A detective must work with an Orc to find a<br>powerful wand before evil creatures do.<br>"
          ],
          [
           "A temperamental figure skater and a former hockey player try<br>to win Olympic gold as a figure skating pairs team.<br>"
          ],
          [
           "A hapless chauffeur must take a comatose Secret Agent's place<br>using his special gadget-laden tuxedo.<br>"
          ],
          [
           "After being betrayed and left for dead in Italy, Charlie<br>Croker and his team plan an elaborate gold heist against<br>their former ally.<br>"
          ],
          [
           "A new assignment forces a top spy to team up<br>with his football hooligan brother.<br>"
          ],
          [
           "Immortals Connor and Duncan MacLeod must join forces against Kell,<br>an evil immortal who has become too strong for anyone<br>to face alone.<br>"
          ],
          [
           "Ethan Hunt and his IMF team, along with some familiar<br>allies, race against time after a mission gone wrong.<br>"
          ]
         ],
         "hovertemplate": "cluster_size=5 | 26<br>dim_1=%{x}<br>dim_2=%{y}<br>centroid_name=%{text}<br>description=%{customdata[0]}<extra></extra>",
         "legendgroup": "5 | 26",
         "marker": {
          "color": "#00cc96",
          "symbol": "circle"
         },
         "mode": "markers+text",
         "name": "5 | 26",
         "orientation": "v",
         "showlegend": true,
         "text": [
          " ",
          " ",
          " ",
          " ",
          " ",
          " ",
          " ",
          " ",
          " ",
          " ",
          " ",
          " ",
          " ",
          " ",
          " ",
          " ",
          " ",
          " ",
          " ",
          " ",
          " ",
          " ",
          " ",
          " ",
          " ",
          " "
         ],
         "type": "scatter",
         "x": [
          1.0822902917861938,
          1.6997712850570679,
          1.5411417484283447,
          1.6876333951950073,
          1.7129486799240112,
          1.639290690422058,
          0.5383124947547913,
          0.9204903244972229,
          1.4790458679199219,
          0.9890568256378174,
          0.6387059688568115,
          1.5680508613586426,
          1.651495337486267,
          0.9361303448677063,
          0.8116058111190796,
          1.4503724575042725,
          0.8140430450439453,
          1.600440263748169,
          1.6063225269317627,
          0.5421009063720703,
          1.4299112558364868,
          0.3704414367675781,
          1.0936214923858643,
          1.442201852798462,
          0.4972766637802124,
          1.2793034315109253
         ],
         "xaxis": "x",
         "y": [
          2.7710049152374268,
          1.9220144748687744,
          2.185244083404541,
          2.49713134765625,
          2.2735397815704346,
          2.035310983657837,
          2.0469934940338135,
          2.7959353923797607,
          2.7701575756073,
          2.1968650817871094,
          1.9453957080841064,
          2.2052392959594727,
          1.9356344938278198,
          1.499103307723999,
          2.0643422603607178,
          2.1866650581359863,
          1.356355905532837,
          1.8977795839309692,
          2.235736846923828,
          2.0245988368988037,
          2.743314504623413,
          2.2277755737304688,
          2.5257840156555176,
          2.8298282623291016,
          1.9985394477844238,
          2.6818392276763916
         ],
         "yaxis": "y"
        },
        {
         "customdata": [
          [
           "An untested American submarine captain teams with U.S. Navy Seals<br>to rescue the Russian president, who has been kidnapped by<br>a rogue general.<br>"
          ],
          [
           "A gun-for-hire known only as Agent 47 hired by a<br>group known only as 'The Organization' is ensnared in a<br>political conspiracy, which finds him pursued by both Interpol and<br>the Russian military as he treks across Russia and Eastern<br>Europe.<br>"
          ],
          [
           "An elite military unit comprised of special operatives known as<br>G.I. Joe, operating out of The Pit, takes on an<br>evil organization led by a notorious arms dealer.<br>"
          ],
          [
           "A United States Navy destroyer escort participates in a Navy<br>\"invisibility\" experiment that inadvertently sends two sailors forty years into<br>the future.<br>"
          ],
          [
           "A drama centered on two fighters in the Holger Danske<br>World War II resistance group.<br>"
          ],
          [
           "When Dusty learns that his engine is damaged and he<br>may never race again, he joins a forest fire and<br>rescue unit to be trained as a firefighter, or else<br>his air strip will be shut down.<br>"
          ],
          [
           "After a collision with a shipping container at sea, a<br>resourceful sailor finds himself, despite all efforts to the contrary,<br>staring his mortality in the face.<br>"
          ],
          [
           "Six months after the rage virus was inflicted on the<br>population of Great Britain, the US Army helps to secure<br>a small area of London for the survivors to repopulate<br>and start again. But not everything goes according to plan.<br>"
          ],
          [
           "When a fisherman leaves to fight with the Greek army<br>during World War II, his fiancée falls in love with<br>the local Italian commander.<br>"
          ],
          [
           "During the early years of Nazi occupation of France in<br>World War II, romance blooms between Lucile Angellier (<br>"
          ],
          [
           "During the Cold War, a controversial television journalist is asked<br>by the C.I.A. to persuade certain acquaintances, who are Soviet<br>Agents of the Omega network, to defect.<br>"
          ],
          [
           "The heroic story of two soldiers trapped in an ambush,<br>fighting for their lives.<br>"
          ],
          [
           "To avoid a potentially explosive scandal when the U.S. President<br>goes into a coma, an affable temp agency owner with<br>an uncanny resemblance is put in his place.<br>"
          ],
          [
           "After the fall of Tobruk in 1942, during the Allied<br>retreat in the Libyan desert, an American tank picks-up a<br>motley group of survivors but they face advancing Germans and<br>a lack of water.<br>"
          ],
          [
           "Captain Barbossa, Will Turner and Elizabeth Swann must sail off<br>the edge of the map, navigate treachery and betrayal, find<br>Jack Sparrow, and make their final alliances for one last<br>decisive battle.<br>"
          ],
          [
           "When a Las Vegas performer-turned-snitch named Buddy Israel decides to<br>turn state's evidence and testify against the mob, it seems<br>that a whole lot of people would like to make<br>sure he's no longer breathing.<br>"
          ],
          [
           "A Secret Service Agent is held captive in the trunk<br>of a car and endures mental and physical torture as<br>terrorists attempt to extract information for their plot against the<br>President of the United States.<br>"
          ],
          [
           "The story of two outlaws and a bounty hunter in<br>1940s Manchuria and their rivalry to possess a treasure map<br>while being pursued by the Japanese army and Chinese bandits.<br>"
          ],
          [
           "A military special operations team, led by a CIA case<br>officer, are on a mission in the harsh and hostile<br>terrain of Afghanistan where they find themselves in a Middle<br>Eastern \"Bermuda Triangle\" of ancient evil.<br>"
          ],
          [
           "The story of admiral Aleksandr Kolchak who remained faithful to<br>his oath to the Russian Emperor and fought against the<br>Bolshevik rule after the 1917 October Revolution.<br>"
          ],
          [
           "In WWI Africa, a gin-swilling riverboat captain is persuaded by<br>a strait-laced missionary to use his boat to attack an<br>enemy warship.<br>"
          ],
          [
           "When straight arrow FBI agent Roy Clayton heads up the<br>investigation into a dangerous international conspiracy, all clues seem to<br>lead back to former U.S. Special Operations officer, Samir Horn.<br>"
          ],
          [
           "Neerja is the story of the courageous Neerja Bhanot, who<br>sacrificed her life while protecting the lives of 359 passengers<br>on the Pan Am flight 73 in 1986. The flight<br>was hijacked by a terrorist organization.<br>"
          ],
          [
           "After a failed assassination attempt, a United States Marine finds<br>himself stranded in the desert. Exposed to the elements, he<br>must survive the dangers of the desert and battle the<br>psychological and physical tolls of the treacherous conditions.<br>"
          ],
          [
           "A frustrated war correspondent, unable to find the war he's<br>been asked to cover, takes the risky path of coopting<br>the identity of a dead arms dealer acquaintance.<br>"
          ],
          [
           "Bosnia and Herzegovina during 1993 at the time of the<br>heaviest fighting between the two warring sides. Two soldiers from<br>opposing sides in the conflict, Nino and Ciki, become trapped<br>in no man's land, whilst a third soldier becomes a<br>living booby trap.<br>"
          ],
          [
           "The story follows a group of German soldiers, from their<br>Italian R&R in the summer of 1942 to the frozen<br>steppes of Soviet Russia and ending with the battle for<br>Stalingrad.<br>"
          ],
          [
           "Blacksmith Will Turner teams up with eccentric pirate \"Captain\" Jack<br>Sparrow to save his love, the governor's daughter, from Jack's<br>former pirate allies, who are now undead.<br>"
          ],
          [
           "A military officer uses his intellect and fighting skills to<br>hunt and knock down a terrorist aiming to rip apart<br>Mumbai via the sleeper cells under his command.<br>"
          ],
          [
           "James Bond willingly falls into an assassination plot involving a<br>naive Russian beauty in order to retrieve a Soviet encryption<br>device that was stolen by S.P.E.C.T.R.E.<br>"
          ]
         ],
         "hovertemplate": "cluster_size=9 | 30<br>dim_1=%{x}<br>dim_2=%{y}<br>centroid_name=%{text}<br>description=%{customdata[0]}<extra></extra>",
         "legendgroup": "9 | 30",
         "marker": {
          "color": "#ab63fa",
          "symbol": "circle"
         },
         "mode": "markers+text",
         "name": "9 | 30",
         "orientation": "v",
         "showlegend": true,
         "text": [
          " ",
          " ",
          " ",
          " ",
          " ",
          " ",
          " ",
          " ",
          " ",
          " ",
          " ",
          " ",
          " ",
          " ",
          " ",
          " ",
          " ",
          " ",
          " ",
          " ",
          " ",
          " ",
          " ",
          " ",
          " ",
          " ",
          " ",
          " ",
          " ",
          " "
         ],
         "type": "scatter",
         "x": [
          -1.0252639055252075,
          -0.6524239182472229,
          -0.7016704678535461,
          -1.2583999633789062,
          -1.8057053089141846,
          -0.6474371552467346,
          -1.0220129489898682,
          0.7665624618530273,
          -1.8057633638381958,
          -1.850797176361084,
          -0.24947811663150787,
          -1.8388701677322388,
          -0.4572654068470001,
          -1.7518188953399658,
          -0.7987191677093506,
          -0.3569541573524475,
          -0.5714524984359741,
          -1.7686196565628052,
          -0.6234175562858582,
          -1.6649610996246338,
          -1.3410621881484985,
          -0.4990699589252472,
          -1.8548258543014526,
          -0.8863207101821899,
          -0.16863128542900085,
          -1.7807217836380005,
          -1.7247883081436157,
          -0.5758318901062012,
          -0.5833596587181091,
          -0.7118704319000244
         ],
         "xaxis": "x",
         "y": [
          3.1060588359832764,
          2.8399901390075684,
          2.9150240421295166,
          3.0863287448883057,
          3.0935733318328857,
          3.076852798461914,
          3.3309342861175537,
          4.787596702575684,
          3.0827832221984863,
          3.016602039337158,
          2.9611001014709473,
          3.1015939712524414,
          2.9149858951568604,
          3.128599166870117,
          3.6025121212005615,
          2.8125500679016113,
          2.8716392517089844,
          3.16841197013855,
          2.8973207473754883,
          3.018233060836792,
          3.100644111633301,
          2.9378325939178467,
          3.0572283267974854,
          3.007903814315796,
          3.046090841293335,
          3.094794988632202,
          3.0541470050811768,
          3.4825897216796875,
          2.884899854660034,
          3.0486080646514893
         ],
         "yaxis": "y"
        },
        {
         "customdata": [
          [
           "A historical drama that illustrates Russian author Leo Tolstoy's (Christopher<br>Plummer's) struggle to balance fame and wealth with his commitment<br>to a life devoid of material things.<br>"
          ],
          [
           "An Asian cross-cultural trilogy of horror films from accomplished indie<br>directors.<br>"
          ],
          [
           "Legendary explorer Thor Heyerdahl's epic 4,300-mile crossing of the Pacific<br>on a balsawood raft in 1947, in an effort to<br>prove that it was possible for South Americans to settle<br>in Polynesia in pre-Columbian times.<br>"
          ],
          [
           "Nat Turner, a literate slave and preacher in the antebellum<br>South, orchestrates an uprising.<br>"
          ],
          [
           "Eighteenth-century Spanish Jesuits try to protect a remote South American<br>tribe in danger of falling under the rule of pro-slavery<br>Portugal.<br>"
          ],
          [
           "A retelling of the Orpheus and Eurydice myth, set during<br>the time of the Carnaval in Rio de Janeiro.<br>"
          ],
          [
           "Four friends reunite to relive their moments of glory as<br>a rock band.<br>"
          ],
          [
           "A collection of four Japanese folk tales with supernatural themes.<br>"
          ],
          [
           "When four lifelong friends travel to New Orleans for the<br>annual Essence Festival, sisterhoods are rekindled, wild sides are rediscovered,<br>and there's enough dancing, drinking, brawling and romancing to make<br>the Big Easy blush.<br>"
          ],
          [
           "Jim and his girlfriend Kelly are visiting the infamous Willow<br>Creek, the alleged home of the original Bigfoot legend -<br>the tale of huge ape like creatures that roam the<br>forests of North ...<br>"
          ],
          [
           "The life of Cuban poet and novelist, Reinaldo Arenas.<br>"
          ],
          [
           "A demystified take on the tale of King Arthur and<br>the Knights of the Round Table.<br>"
          ],
          [
           "A story of slavery, set in the southern U.S. in<br>the 1930s.<br>"
          ],
          [
           "A collection of animated interpretations of great works of Western<br>classical music.<br>"
          ],
          [
           "The story of the legendary outlaw is portrayed with the<br>characters as humanoid animals.<br>"
          ],
          [
           "Three actors learn that their respective performances in the film<br>\"Home for Purim,\" a drama set in the mid-1940s American<br>South, are generating award-season buzz.<br>"
          ],
          [
           "Four independent stories set in modern China about random acts<br>of violence.<br>"
          ],
          [
           "The hilarious adventures of two best friends, Apachi Indian chief<br>Abahachi and cowboy Ranger, in the Wild West.<br>"
          ],
          [
           "The story of Sir<br>"
          ]
         ],
         "hovertemplate": "cluster_size=14 | 19<br>dim_1=%{x}<br>dim_2=%{y}<br>centroid_name=%{text}<br>description=%{customdata[0]}<extra></extra>",
         "legendgroup": "14 | 19",
         "marker": {
          "color": "#FFA15A",
          "symbol": "circle"
         },
         "mode": "markers+text",
         "name": "14 | 19",
         "orientation": "v",
         "showlegend": true,
         "text": [
          " ",
          " ",
          " ",
          " ",
          " ",
          " ",
          " ",
          " ",
          " ",
          " ",
          " ",
          " ",
          " ",
          " ",
          " ",
          " ",
          " ",
          " ",
          " "
         ],
         "type": "scatter",
         "x": [
          8.797718048095703,
          8.808382987976074,
          8.886598587036133,
          8.919939994812012,
          8.896780967712402,
          8.90234088897705,
          8.874551773071289,
          8.858075141906738,
          8.806622505187988,
          4.172202110290527,
          8.981630325317383,
          8.907153129577637,
          8.884370803833008,
          8.829957962036133,
          8.77012825012207,
          8.868398666381836,
          8.880606651306152,
          -1.916865348815918,
          8.987984657287598
         ],
         "xaxis": "x",
         "y": [
          4.590493202209473,
          5.4549736976623535,
          5.551309585571289,
          5.038050651550293,
          5.4746317863464355,
          4.745743274688721,
          4.537834644317627,
          5.544673919677734,
          4.564028263092041,
          5.7674641609191895,
          4.691175937652588,
          4.842708110809326,
          5.508533954620361,
          5.480063438415527,
          5.631556987762451,
          5.488437175750732,
          5.53496789932251,
          3.1668474674224854,
          4.7985310554504395
         ],
         "yaxis": "y"
        },
        {
         "customdata": [
          [
           "Antoine has always been fascinated with a hairdresser's delicate touch,<br>the beguiling perfume and the figure of a woman with<br>an opulent bosom, moreover, he knew that he would marry<br>one, fulfilling his dream of a perfect and idealised love.<br>"
          ],
          [
           "The relationships of two couples become complicated and deceitful when<br>the man from one couple meets the woman of the<br>other.<br>"
          ],
          [
           "A hot-tempered farm laborer convinces the woman he loves to<br>marry their rich but dying boss so that they can<br>have a claim to his fortune.<br>"
          ],
          [
           "Johnny and a couple pals kidnap Jake's 15-year-old brother, Zach,<br>then assigns his buddy Frankie to be Zach's minder. They<br>develop a brotherly friendship. Zach parties with his captors as<br>things begin to spin out of control.<br>"
          ],
          [
           "When tradition prevents her from marrying the man she loves,<br>a young woman discovers she has a unique talent for<br>cooking.<br>"
          ],
          [
           "A shallow man falls in love with a 300-pound woman<br>because of her inner beauty.<br>"
          ],
          [
           "A Dutch matron establishes and, for several generations, oversees a<br>close-knit, matriarchal community where feminism and liberalism thrive.<br>"
          ],
          [
           "Friendless Peter Klaven goes on a series of man-dates to<br>find a Best Man for his wedding. But, when his<br>insta-bond with his new B.F.F. puts a strain on his<br>relationship with his fiancée, can the trio learn to live<br>happily ever after?<br>"
          ],
          [
           "An American intern at U.K. Vogue helps her friends find<br>love.<br>"
          ],
          [
           "A modern-day witch likes her neighbor but despises his fiancée,<br>so she enchants him to love her instead, only to<br>fall in love with him for real.<br>"
          ],
          [
           "Two female friends become sexual rivals at maturity.<br>"
          ],
          [
           "A look at the relationship between Mike Wazowski (Billy Crystal)<br>and James P. \"Sully\" Sullivan (John Goodman) during their days<br>at Monsters University, when they weren't necessarily the best of<br>friends.<br>"
          ],
          [
           "A married man who daydreams about being with other women<br>finds his will and morals tested after he's visited by<br>the ex-mistress of his old friend.<br>"
          ],
          [
           "A look at the lives and relationships among girls at<br>an elite boarding school.<br>"
          ],
          [
           "A pair of buddies conspire to save their best friend<br>from marrying the wrong woman.<br>"
          ],
          [
           "Three inseparable childhood friends are just out of college. Nothing<br>comes between them - until they each fall in love,<br>and their wildly different approaches to relationships creates tension.<br>"
          ],
          [
           "Two friends try sharing an apartment, but their ideas of<br>housekeeping and lifestyles are as different as night and day.<br>"
          ],
          [
           "During their college years, Anjali was in love with her<br>best-friend Rahul, but he had eyes only for Tina. Years<br>later, Rahul and the now-deceased Tina's eight-year-old daughter attempts to<br>reunite her father and Anjali.<br>"
          ],
          [
           "Eliza (Lacey Chabert) and Debbie (Danielle Harris) are two sisters<br>who don't always get along. But their relationship is put<br>to the test when Debbie's life is in danger, and<br>Eliza might have to give up her power to talk<br>to animals.<br>"
          ],
          [
           "A resurrected Egyptian mummy stalks a beautiful woman he believes<br>to be the reincarnation of his lover and bride.<br>"
          ],
          [
           "The friendship between two life-long girlfriends is put to the<br>test when one starts a family and the other falls<br>ill.<br>"
          ],
          [
           "A privileged woman and a reckless man fall in love<br>despite their different social classes.<br>"
          ],
          [
           "To satisfy his nagging parents, a gay landlord and a<br>female tenant agree to a marriage of convenience, but his<br>parents arrive to visit and things get out of hand.<br>"
          ],
          [
           "British retirees travel to India to take up residence in<br>what they believe is a newly restored hotel. Less luxurious<br>than advertised, the Marigold Hotel nevertheless slowly begins to charm<br>in unexpected ways.<br>"
          ],
          [
           "A poor yet passionate young man falls in love with<br>a rich young woman, giving her a sense of freedom,<br>but they are soon separated because of their social differences.<br>"
          ],
          [
           "An upper-class widow falls in love with a much younger,<br>down-to-earth nurseryman, much to the disapproval of her children and<br>criticism of her country club peers.<br>"
          ],
          [
           "Jenny's parents and siblings are always trying to set her<br>up with a man when she visits them. What they<br>don't know is that she's already met the right person,<br>her \"roommate\" Kitty, 5 years ago and she wants to<br>marry her and start a family.<br>"
          ],
          [
           "A performer and gambler travels to New York City to<br>raise the $25,000 he needs to marry his fiancée, only<br>to become entangled with a beautiful aspiring dancer.<br>"
          ],
          [
           "Lieutenant Frank Drebin discovers that his ex-girlfriend's new beau is<br>involved in a plot to kidnap a scientist who advocates<br>solar energy.<br>"
          ],
          [
           "Set in medieval Rajasthan, Queen Padmavati is married to a<br>noble king and they live in a prosperous fortress with<br>their subjects until an ambitious Sultan hears of Padmavati's beauty<br>and forms an obsessive love for the Queen of Mewar.<br>"
          ],
          [
           "On a Caribbean cruise, Jenny is marooned on a beach<br>with her rock and roll idol. Deliriously in love with<br>the idea of time alone with him, she manages to<br>hide the fact that they're a stone's throw away from<br>their resort.<br>"
          ],
          [
           "Murphy is an American living in Paris who enters a<br>highly sexually and emotionally charged relationship with the unstable Electra.<br>Unaware of the effect it will have on their relationship,<br>they invite their pretty neighbor into their bed.<br>"
          ],
          [
           "Teresa, a fifty-year-old Austrian mother, travels to the paradise of<br>the beaches of Kenya, seeking out love from African boys.<br>But she must confront the hard truth that on the<br>beaches of Kenya, love is a business.<br>"
          ],
          [
           "Robbie, a singer, and Julia, a waitress, are both engaged,<br>but to the wrong people. Fortune intervenes to help them<br>discover each other.<br>"
          ],
          [
           "When attending their son's college graduation, a couple reignite the<br>spark in their relationship. But the complicated fact is they're<br>divorced and he's remarried.<br>"
          ],
          [
           "Wallace, who is burned out from a string of failed<br>relationships, forms an instant bond with Chantry, who lives with<br>her longtime boyfriend. Together, they puzzle out what it means<br>if your best friend is also the love of your<br>life.<br>"
          ],
          [
           "When a woman's long-time friend reveals he's engaged, she realizes<br>she loves him herself and sets out to get him,<br>with only days before the wedding.<br>"
          ],
          [
           "Two weeks shy of his wedding, a socially awkward guy<br>enters into a charade by hiring the owner of a<br>company that provides best men for grooms in need.<br>"
          ],
          [
           "The love lives of two brothers, Mickey and Francis, interconnect<br>as Francis cheats on his wife with Mickey's ex-girlfriend, while<br>Mickey impulsively marries a stranger.<br>"
          ],
          [
           "Kundan, the son of a Hindu pundit, discovers that his<br>childhood sweetheart Zoya loves city-bred Akram and wants to marry<br>him. However, he persistently seeks to win her heart.<br>"
          ]
         ],
         "hovertemplate": "cluster_size=17 | 40<br>dim_1=%{x}<br>dim_2=%{y}<br>centroid_name=%{text}<br>description=%{customdata[0]}<extra></extra>",
         "legendgroup": "17 | 40",
         "marker": {
          "color": "#19d3f3",
          "symbol": "circle"
         },
         "mode": "markers+text",
         "name": "17 | 40",
         "orientation": "v",
         "showlegend": true,
         "text": [
          " ",
          " ",
          " ",
          " ",
          " ",
          " ",
          " ",
          " ",
          " ",
          " ",
          " ",
          " ",
          " ",
          " ",
          " ",
          " ",
          " ",
          " ",
          " ",
          " ",
          " ",
          " ",
          " ",
          " ",
          " ",
          " ",
          " ",
          " ",
          " ",
          " ",
          " ",
          " ",
          " ",
          " ",
          " ",
          " ",
          " ",
          " ",
          " ",
          " "
         ],
         "type": "scatter",
         "x": [
          11.864662170410156,
          12.040728569030762,
          12.112682342529297,
          11.526113510131836,
          12.103300094604492,
          11.848038673400879,
          11.780526161193848,
          11.909229278564453,
          11.1738920211792,
          12.010026931762695,
          12.077783584594727,
          11.692839622497559,
          12.238980293273926,
          11.821310997009277,
          12.187762260437012,
          11.868598937988281,
          12.213615417480469,
          11.853187561035156,
          11.543802261352539,
          11.972115516662598,
          12.086078643798828,
          11.94514274597168,
          11.703356742858887,
          12.001323699951172,
          11.97359561920166,
          11.936971664428711,
          11.687325477600098,
          11.652990341186523,
          11.71993350982666,
          11.974113464355469,
          11.138016700744629,
          11.554837226867676,
          11.754496574401855,
          11.330875396728516,
          11.914491653442383,
          11.737544059753418,
          12.095458984375,
          11.781535148620605,
          11.792905807495117,
          11.937399864196777
         ],
         "xaxis": "x",
         "y": [
          2.8419833183288574,
          4.067394733428955,
          3.127875328063965,
          4.418546199798584,
          3.187135934829712,
          2.7992186546325684,
          2.7979822158813477,
          4.324414253234863,
          4.066305160522461,
          3.02240252494812,
          4.178477764129639,
          4.484190464019775,
          3.5201597213745117,
          4.605205535888672,
          3.7015459537506104,
          4.464547157287598,
          3.955793857574463,
          3.156283378601074,
          4.282383441925049,
          2.9076461791992188,
          4.097219467163086,
          2.9369304180145264,
          3.8732409477233887,
          3.012122392654419,
          2.932445764541626,
          2.9203529357910156,
          4.087253570556641,
          4.055459976196289,
          4.243853569030762,
          2.9547064304351807,
          4.126597881317139,
          4.168837070465088,
          3.231523036956787,
          4.189428329467773,
          4.349465370178223,
          4.312615871429443,
          3.6427783966064453,
          4.112174987792969,
          4.174942970275879,
          3.157634735107422
         ],
         "yaxis": "y"
        },
        {
         "customdata": [
          [
           "Enzo, a lonely and misanthropic small time crook, uses the<br>superpowers gained after falling in the Tiber river to chase<br>down a crazy gangster called \"The gypsy\".<br>"
          ],
          [
           "After being tricked and cast out of Bagdad by the<br>evil Jaffar, King Ahmad joins forces with a thief named<br>Abu to reclaim his throne, the city, and the Princess<br>he loves.<br>"
          ],
          [
           "Upon arriving in a small town where she has inherited<br>a rundown mansion, a famous horror hostess battles an evil<br>uncle, and townspeople who want her burned at the stake.<br>"
          ],
          [
           "When the head of a statue sacred to a village<br>is stolen, a young martial artist goes to the big<br>city and finds himself taking on the underworld to retrieve<br>it.<br>"
          ],
          [
           "Sherlock Holmes and Dr Watson investigate the legend of a<br>supernatural hound, a beast that may be stalking a young<br>heir on the fog-shrouded moorland that makes up his estate.<br>"
          ],
          [
           "The Knight Arn is sent on a last mission against<br>Saladin. He has to win this battle, before he can<br>go home to Sweden, and finally marry his Cecilia and<br>start a family. But the peace back home is threatened<br>by the Danes.<br>"
          ],
          [
           "The ancient war between humans and a race of giants<br>is reignited when Jack, a young farmhand fighting for a<br>kingdom and the love of a princess, opens a gateway<br>between the two worlds.<br>"
          ],
          [
           "An intelligent son of a former entrepreneur takes revenge on<br>a powerful and rich businessman who is as smart as<br>he is.<br>"
          ],
          [
           "The young warrior Son Goku sets out on a quest,<br>racing against time and the vengeful King Piccolo, to collect<br>a set of seven magical orbs that will grant their<br>wielder unlimited power.<br>"
          ],
          [
           "Lured by gold, two greedy peasants unknowingly escort a princess<br>and her general across enemy lines.<br>"
          ],
          [
           "After having escaped the Maze, the Gladers now face a<br>new set of challenges on the open roads of a<br>desolate landscape filled with unimaginable obstacles.<br>"
          ],
          [
           "At the end of the ice age, an evil queen<br>and her son are set on conquering the world using<br>magic and warriors. The lone survivor of a crushed village<br>fights back as does the king of Fire Keep.<br>"
          ],
          [
           "Is he the village idiot or a genius in disguise?<br>17 year old Noi drifts through life on a remote<br>fjord in the north of Iceland. In winter, the fjord<br>is cut off from the outside world, ...<br>"
          ],
          [
           "After a threat from the tiger Shere Khan forces him<br>to flee the jungle, a man-cub named Mowgli embarks on<br>a journey of self discovery with the help of panther<br>Bagheera and free-spirited bear Baloo.<br>"
          ],
          [
           "Kids, left home alone, accidentally unleash a horde of malevolent<br>demons from a mysterious hole in their suburban backyard.<br>"
          ],
          [
           "A boy inadvertently breaks three important rules concerning his new<br>pet and unleashes a horde of malevolently mischievous monsters on<br>a small town.<br>"
          ],
          [
           "Exiled into the dangerous forest by her wicked stepmother, a<br>princess is rescued by seven dwarf miners who make her<br>part of their household.<br>"
          ],
          [
           "A governess uses magic to rein in the behavior of<br>seven ne'er-do-well children in her charge.<br>"
          ],
          [
           "Four young men who belong to a New England supernatural<br>legacy are forced to battle a fifth power long thought<br>to have died out. Meanwhile, jealousy and suspicion threaten to<br>tear them apart.<br>"
          ],
          [
           "In Medieval Japan, an elderly warlord retires, handing over his<br>empire to his three sons. However, he vastly underestimates how<br>the new-found power will corrupt them and cause them to<br>turn on each other...and him.<br>"
          ],
          [
           "Ethics, being human and the soul come to the fore<br>when a 7-year old finds a bag of Pounds just<br>days before the currency is switched to Euros and learns<br>what we are really made of.<br>"
          ],
          [
           "A suburban family moves to a new neighborhood with their<br>large, yet lovable Great Dane, who has a tendency to<br>wreak havoc in his own oblivious way.<br>"
          ],
          [
           "After the Bergens invade Troll Village, Poppy, the happiest Troll<br>ever born, and the curmudgeonly Branch set off on a<br>journey to rescue her friends.<br>"
          ],
          [
           "It's a jungle out there for Blu, Jewel and their<br>three kids after they're hurtled from Rio de Janeiro to<br>the wilds of the Amazon. As Blu tries to fit<br>in, he goes beak-to-beak with the vengeful Nigel, and meets<br>his father-in-law.<br>"
          ],
          [
           "The authority of a man, who runs a parallel government<br>in Mumbai, is challenged. His son rises to face his<br>enemies.<br>"
          ],
          [
           "After being exiled from the most advanced town in post<br>apocalyptic Australia, a drifter travels with a group of abandoned<br>children to rebel against the town's queen.<br>"
          ],
          [
           "Forced for some time to be a fighting slave, a<br>pagan warrior escapes his captors with a boy and joins<br>a group of Crusaders on their quest to the Holy<br>Land.<br>"
          ]
         ],
         "hovertemplate": "cluster_size=4 | 27<br>dim_1=%{x}<br>dim_2=%{y}<br>centroid_name=%{text}<br>description=%{customdata[0]}<extra></extra>",
         "legendgroup": "4 | 27",
         "marker": {
          "color": "#FF6692",
          "symbol": "circle"
         },
         "mode": "markers+text",
         "name": "4 | 27",
         "orientation": "v",
         "showlegend": true,
         "text": [
          " ",
          " ",
          " ",
          " ",
          " ",
          " ",
          " ",
          " ",
          " ",
          " ",
          " ",
          " ",
          " ",
          " ",
          " ",
          " ",
          " ",
          " ",
          " ",
          " ",
          " ",
          " ",
          " ",
          " ",
          " ",
          " ",
          " "
         ],
         "type": "scatter",
         "x": [
          3.8969292640686035,
          2.933561086654663,
          2.8946194648742676,
          2.715132236480713,
          3.4607162475585938,
          3.2487616539001465,
          2.8107099533081055,
          3.7928049564361572,
          2.937817096710205,
          2.6432528495788574,
          3.03839373588562,
          2.922908067703247,
          3.9602787494659424,
          2.9068963527679443,
          2.87648868560791,
          3.193234920501709,
          3.0274252891540527,
          3.1070139408111572,
          3.4980196952819824,
          3.513322114944458,
          3.167562484741211,
          5.92451286315918,
          2.9242520332336426,
          4.035708904266357,
          3.6997945308685303,
          2.894242286682129,
          2.821475028991699
         ],
         "xaxis": "x",
         "y": [
          5.861608982086182,
          5.662813663482666,
          5.112529277801514,
          5.052093505859375,
          5.882638454437256,
          5.240015029907227,
          5.700662612915039,
          5.856755256652832,
          5.507205486297607,
          5.664897918701172,
          5.7544264793396,
          5.580967903137207,
          5.7865891456604,
          5.70676326751709,
          5.03483247756958,
          5.355782985687256,
          5.598769664764404,
          5.199544906616211,
          5.758342266082764,
          5.7715606689453125,
          5.1704206466674805,
          4.06397008895874,
          5.6818528175354,
          5.806370735168457,
          5.802123546600342,
          5.586491584777832,
          5.285377502441406
         ],
         "yaxis": "y"
        },
        {
         "customdata": [
          [
           "Private investigator Matthew Scudder is hired by a drug kingpin<br>to find out who kidnapped and murdered his wife.<br>"
          ],
          [
           "A biker returns from Thailand to set things straight with<br>his girlfriend. One gang leader wants him for delivery of<br>2 motorbikes filled with crystal meth and another gang leader<br>wants him for murdering his brother.<br>"
          ],
          [
           "After his family is murdered by a notorious and ruthless<br>bandit, a former police officer enlists the services of two<br>outlaws to capture the bandit.<br>"
          ],
          [
           "Desperation drives four inner-city women to bank robbery in Los<br>Angeles, then they start mistrusting each other.<br>"
          ],
          [
           "An unlikely partnership between a Highway Patrol Officer, two criminals<br>and a station secretary is formed to defend a defunct<br>Los Angeles precinct office against a siege by a bloodthirsty<br>street gang.<br>"
          ],
          [
           "A police officer assigned alarm dispatch duty enters a race<br>against time when he answers an emergency call from a<br>kidnapped woman.<br>"
          ],
          [
           "A big-city newspaper columnist is forced to enter a drug<br>and alcohol rehab center after ruining her sister's wedding and<br>crashing a stolen limousine.<br>"
          ],
          [
           "In 1970, drug-fueled Los Angeles private investigator Larry \"Doc\" Sportello<br>investigates the disappearance of a former girlfriend.<br>"
          ],
          [
           "A convicted arsonist looks to manipulate a parole officer into<br>a plan to secure his parole by placing his beautiful<br>wife in the lawman's path.<br>"
          ],
          [
           "The accidental shooting of a boy in New York leads<br>to an investigation by the Deputy Mayor, and unexpectedly far-reaching<br>consequences.<br>"
          ],
          [
           "The original characters from The Cannonball Run (1981) race across<br>the country once more in various cars and trucks.<br>"
          ],
          [
           "A devious sexpot steals her husband's drug money and hides<br>out in a small town where she meets the perfect<br>dupe for her next scheme.<br>"
          ],
          [
           "The evil Brand X joins a supermarket that becomes a<br>city after closing time.<br>"
          ],
          [
           "Orin Boyd, a tough cop in an inner-city precinct discovers<br>a web of dirty cops and corruption.<br>"
          ],
          [
           "After murdering an undercover DEA agent, two corrupt cops scramble<br>to cover up what they've done.<br>"
          ],
          [
           "Architect/vigilante Paul Kersey arrives back in New York City and<br>is forcibly recruited by a crooked police chief to fight<br>street crime caused by a large gang terrorizing the neighborhoods.<br>"
          ],
          [
           "A story between a mole in the police department and<br>an undercover cop. Their objectives are the same: to find<br>out who is the mole, and who is the cop.<br>"
          ],
          [
           "In prison four long-sentence inmates planning an elaborate escape cautiously<br>induct a new inmate to join in their scheme which<br>leads to distrust and uncertainty.<br>"
          ],
          [
           "The story of the early days of California wine making<br>featuring the now infamous, blind Paris wine tasting of 1976<br>that has come to be known as \"Judgment of Paris\".<br>"
          ],
          [
           "A Queens couple who specialize in robbing mafia social clubs<br>stumble upon a score bigger than they could ever imagine,<br>becoming targets of both the mob and the FBI in<br>the process.<br>"
          ],
          [
           "In Los Angeles, a fallen soldier who has joined the<br>ranks of the living dead reunites with his best friend<br>in order to deal with the city's drug dealers and<br>killers - a perfect way to collect the blood that<br>one of them so desperately needs.<br>"
          ]
         ],
         "hovertemplate": "cluster_size=13 | 21<br>dim_1=%{x}<br>dim_2=%{y}<br>centroid_name=%{text}<br>description=%{customdata[0]}<extra></extra>",
         "legendgroup": "13 | 21",
         "marker": {
          "color": "#B6E880",
          "symbol": "circle"
         },
         "mode": "markers+text",
         "name": "13 | 21",
         "orientation": "v",
         "showlegend": true,
         "text": [
          " ",
          " ",
          " ",
          " ",
          " ",
          " ",
          " ",
          " ",
          " ",
          " ",
          " ",
          " ",
          " ",
          " ",
          " ",
          " ",
          " ",
          " ",
          " ",
          " ",
          " "
         ],
         "type": "scatter",
         "x": [
          1.988707423210144,
          3.166318655014038,
          2.441084384918213,
          3.066248893737793,
          2.78178334236145,
          3.036090850830078,
          3.6048197746276855,
          1.64620041847229,
          3.6234896183013916,
          2.8711564540863037,
          1.531782627105713,
          3.636516571044922,
          3.518928289413452,
          2.5225789546966553,
          2.380919933319092,
          2.88204026222229,
          2.2768936157226562,
          3.2611563205718994,
          1.6340126991271973,
          2.535801649093628,
          3.1119043827056885
         ],
         "xaxis": "x",
         "y": [
          0.5473575592041016,
          1.2737140655517578,
          0.7348232269287109,
          1.2147996425628662,
          1.222992181777954,
          1.1499520540237427,
          1.2474868297576904,
          0.6384835839271545,
          1.2193883657455444,
          1.2397241592407227,
          0.7853807806968689,
          1.2467583417892456,
          1.263157606124878,
          1.0779911279678345,
          0.8695605993270874,
          1.164880633354187,
          0.8575627207756042,
          1.2290475368499756,
          0.6199111342430115,
          1.1340514421463013,
          1.3120423555374146
         ],
         "yaxis": "y"
        },
        {
         "customdata": [
          [
           "A father who can't keep his promises, dies in a<br>car accident. One year later, he returns as a snowman,<br>who has the final chance to put things right with<br>his son, before he is gone forever.<br>"
          ],
          [
           "Pulp novelist Holly Martins travels to shadowy, postwar Vienna, only<br>to find himself investigating the mysterious death of an old<br>friend, Harry Lime.<br>"
          ],
          [
           "Six years after their Guantanamo Bay adventure, stoner buds Harold<br>Lee and Kumar Patel cause a holiday fracas by inadvertently<br>burning down Harold's father-in-law's prize Christmas tree.<br>"
          ],
          [
           "Two childhood best friends, one a superficial womanizer and the<br>other a barely functioning bipolar, embark on a road trip<br>back to their hometown after one of them learns his<br>estranged father has died.<br>"
          ],
          [
           "Because of an unusual disorder that has aged him four<br>times faster than a typical human being, a boy looks<br>like a 40-year-old man as he starts fifth grade at<br>public school after being homeschooled.<br>"
          ],
          [
           "At Adams College, a group of bullied outcasts and misfits<br>resolve to fight back for their peace and self-respect.<br>"
          ],
          [
           "A childless couple bury a box in their backyard, containing<br>all of their wishes for an infant. Soon, a child<br>is born, though Timothy Green is not all that he<br>appears.<br>"
          ],
          [
           "In an alternate present-day version of Oakland, telemarketer Cassius Green<br>discovers a magical key to professional success, propelling him into<br>a universe of greed.<br>"
          ],
          [
           "A young boy whose parents have just divorced finds an<br>unlikely friend and mentor in the misanthropic, bawdy, hedonistic war<br>veteran who lives next door.<br>"
          ],
          [
           "Sultan is a classic underdog tale about a wrestler's journey,<br>looking for a comeback by defeating all odds.<br>"
          ],
          [
           "A disaffected soldier returns to his hometown to get even<br>with the thugs who brutalized his mentally-challenged brother years ago.<br>"
          ],
          [
           "Ben, a young Irish boy, and his little sister Saoirse,<br>a girl who can turn into a seal, go on<br>an adventure to free the fairies and save the spirit<br>world.<br>"
          ],
          [
           "Twin boys move to a new home with their mother<br>after she has face changing cosmetic surgery, but under her<br>bandages is someone the children don't recognize.<br>"
          ],
          [
           "The story of Oscar Grant III, a 22-year-old Bay Area<br>resident, who crosses paths with friends, enemies, family, and strangers<br>on the last day of 2008.<br>"
          ],
          [
           "A rebellious girl is sent to a Southern beach town<br>for the summer to stay with her father. Through their<br>mutual love of music, the estranged duo learn to reconnect.<br>"
          ],
          [
           "A hopeless man stranded on a deserted island befriends a<br>dead body and together they go on a surreal journey<br>to get home.<br>"
          ],
          [
           "A news team trails a man as he travels into<br>the world of Eden Parish to find his missing sister,<br>where it becomes apparent that this paradise may not be<br>as it seems.<br>"
          ],
          [
           "A retired military investigator works with a police detective to<br>uncover the truth behind his son's disappearance following his return<br>from a tour of duty in Iraq.<br>"
          ],
          [
           "Young writer Sal Paradise has his life shaken by the<br>arrival of free-spirited Dean Moriarty and his girl, Marylou. As<br>they travel across the country, they encounter a mix of<br>people who each impact their journey indelibly.<br>"
          ],
          [
           "Street dancer Thomas Uncles is from the wrong side of<br>the tracks, but his bond with the beautiful Megan White<br>might help the duo realize their dreams as they enter<br>in the mother of all dance battles.<br>"
          ],
          [
           "At the snobby Crawford Academy, Virginia's group of friends start<br>to go missing years after horrible events that happened to<br>her as a child around her birthday.<br>"
          ],
          [
           "A young man comforts his older brother's wife and children<br>after he goes missing in Afghanistan.<br>"
          ],
          [
           "A scatterbrained socialite hires a vagrant as a family butler<br>- but there's more to Godfrey than meets the eye.<br>"
          ],
          [
           "In small-town Alaska, a news reporter recruits his ex-girlfriend -<br>a Greenpeace volunteer - on a campaign to save a<br>family of gray whales trapped by rapidly forming ice in<br>the Arctic Circle.<br>"
          ],
          [
           "A quietly troubled young man returns home for his mother's<br>funeral after being estranged from his family for a decade.<br>"
          ],
          [
           "Three childhood friends set aside their personal issues and reunite<br>for a girls' weekend on a remote island off the<br>coast of Maine. One wrong move turns their weekend getaway<br>into a deadly fight for survival.<br>"
          ],
          [
           "A young swordsman comes to Paris and faces villains, romance,<br>adventure and intrigue with three Musketeer friends.<br>"
          ],
          [
           "A man who lost his family in the September 11<br>attack on New York City runs into his old college<br>roommate. Rekindling the friendship is the one thing that appears<br>able to help the man recover from his grief.<br>"
          ],
          [
           "Seeking to offer his son the satisfying summer camp experience<br>that eluded him as a child, the operator of a<br>neighborhood daycare center opens his own camp, only to face<br>financial hardship and stiff competition from a rival camp.<br>"
          ],
          [
           "Up-and-coming sports reporter rescues a homeless man (\"Champ\") only to<br>discover that he is, in fact, a boxing legend believed<br>to have passed away. What begins as an opportunity to<br>resurrect Champ's story and escape the shadow of his father's<br>success becomes a personal journey as the ambitious reporter reexamines<br>his own life and his relationship with his family.<br>"
          ]
         ],
         "hovertemplate": "cluster_size=2 | 30<br>dim_1=%{x}<br>dim_2=%{y}<br>centroid_name=%{text}<br>description=%{customdata[0]}<extra></extra>",
         "legendgroup": "2 | 30",
         "marker": {
          "color": "#FF97FF",
          "symbol": "circle"
         },
         "mode": "markers+text",
         "name": "2 | 30",
         "orientation": "v",
         "showlegend": true,
         "text": [
          " ",
          " ",
          " ",
          " ",
          " ",
          " ",
          " ",
          " ",
          " ",
          " ",
          " ",
          " ",
          " ",
          " ",
          " ",
          " ",
          " ",
          " ",
          " ",
          " ",
          " ",
          " ",
          " ",
          " ",
          " ",
          " ",
          " ",
          " ",
          " ",
          " "
         ],
         "type": "scatter",
         "x": [
          6.921838760375977,
          6.492112159729004,
          6.810514450073242,
          6.765373706817627,
          5.9619598388671875,
          6.643200397491455,
          6.253898620605469,
          6.281203269958496,
          6.1993818283081055,
          6.62074613571167,
          5.878932952880859,
          0.038374584168195724,
          6.4494709968566895,
          6.659790992736816,
          7.481549263000488,
          -0.014235157519578934,
          -0.061913613229990005,
          5.936970233917236,
          0.02681819163262844,
          6.757438659667969,
          6.738320827484131,
          5.971769332885742,
          7.447301864624023,
          6.907316207885742,
          5.924776554107666,
          6.613429069519043,
          6.4949049949646,
          6.552957534790039,
          5.944459915161133,
          6.593250274658203
         ],
         "xaxis": "x",
         "y": [
          3.863706350326538,
          4.360877990722656,
          3.8979012966156006,
          3.878067970275879,
          4.147736072540283,
          4.081687927246094,
          3.9793527126312256,
          4.1542558670043945,
          4.042964935302734,
          4.443342685699463,
          3.3218894004821777,
          5.318659782409668,
          3.88017201423645,
          4.078210353851318,
          3.5078933238983154,
          5.217094898223877,
          5.280367374420166,
          3.124087333679199,
          5.3111772537231445,
          3.7719168663024902,
          3.966575860977173,
          3.394656181335449,
          3.1959033012390137,
          3.172518491744995,
          3.29355525970459,
          4.1139235496521,
          4.1862897872924805,
          4.034696578979492,
          4.0137939453125,
          4.135920524597168
         ],
         "yaxis": "y"
        },
        {
         "customdata": [
          [
           "A mother desperate to reconnect with her troubled daughter becomes<br>embroiled in the urban legend of a demonic witch.<br>"
          ],
          [
           "A mattress salesman finds his plan to adopt a Chinese<br>baby augmented by the arrival of a young woman, who<br>comes into his workplace, falls asleep on one of the<br>beds, and starts to affect his life upon waking up.<br>"
          ],
          [
           "Having renounced her ignominious past, a former streetwalker reunites with<br>her son. However, an extortion scheme endangers her aspirations for<br>a decent bourgeois life. Can she protect him from the<br>same snares that wounded her youth?<br>"
          ],
          [
           "When a young female doctor notices an unnatural amount of<br>comas occurring in her hospital she uncovers a horrible conspiracy.<br>"
          ],
          [
           "After losing her unborn child, Madeline Matheson insists on carrying<br>the baby to term. Following the delivery, the child miraculously<br>returns to life with an appetite for human blood. Madeline<br>is faced with a mother's ultimate decision.<br>"
          ],
          [
           "A young single mother and textile worker agrees to help<br>unionize her mill despite the problems and dangers involved.<br>"
          ],
          [
           "A thirteen-year-old girl's relationship with her mother is put to<br>the test as she discovers drugs, sex, and petty crime<br>in the company of her cool but troubled best friend.<br>"
          ],
          [
           "Determined to have a normal family life once his mother<br>gets out of prison, a Scottish teenager from a tough<br>background sets out to raise the money for a home.<br>"
          ],
          [
           "An action-comedy about a simple cook from Chandni Chowk mistaken<br>for the reincarnation of an ancient peasant warrior Liu Shengh<br>by residents of an oppressed Chinese village.<br>"
          ],
          [
           "Checco is born on the privileged side of life in<br>an Italian small town, with a guaranteed job as a<br>public servant. When a new reformist government vows to cut<br>down on bureaucracy, Checco is forced to accept worsening conditions.<br>"
          ],
          [
           "The allure of easy money sends Mary Mason, a medical<br>student, into the world of underground surgeries which ends up<br>leaving more marks on her than her so called \"freakish\"<br>clients.<br>"
          ],
          [
           "When a headstrong chef takes charge of her equally stubborn<br>8-year-old niece, the tensions between them mount... until an Italian<br>sous-chef arrives to lighten the mood.<br>"
          ],
          [
           "An English auctioneer proposes to the daughter of a Mafia<br>kingpin, only to realize that certain \"favors\" would be asked<br>of him.<br>"
          ],
          [
           "Self-proclaimed stuntman Rod Kimble is preparing for the jump of<br>his life - to clear fifteen buses to raise money<br>for his abusive stepfather Frank's life-saving heart operation.<br>"
          ],
          [
           "In a building site in present-day Tehran, Lateef, a 17-year-old<br>Turkish worker is irresistibly drawn to Rahmat, a young Afghan<br>worker. The revelation of Rahmat's secret changes both their lives.<br>"
          ],
          [
           "Viridiana, a young nun about to take her final vows,<br>pays a visit to her widowed uncle at the request<br>of her Mother Superior.<br>"
          ],
          [
           "A young woman pretends to be pregnant in order to<br>avoid being fired from her job. When that gets her<br>special treatment by everyone involved in her life, she tries<br>to keep up the lie for nine months.<br>"
          ],
          [
           "A stripper and single mother gets dragged into a dangerous<br>situation after a congressman takes a fancy to her.<br>"
          ],
          [
           "Inspired by a true crime, a man begins to experience<br>mystifying events that lead him to slay his mother with<br>a sword.<br>"
          ],
          [
           "In order to protect a beautiful woman and her son<br>from a robber, a male FBI agent disguises himself as<br>a large grandmother.<br>"
          ],
          [
           "After her death, a mother returns to her home town<br>in order to fix the situations she couldn't resolve during<br>her life.<br>"
          ],
          [
           "When a sudden illness and an unexpected reunion threaten dutiful<br>housewife Elena's potential inheritance, she must hatch a desperate plan<br>...<br>"
          ],
          [
           "When a debt puts a young man's life in danger,<br>he turns to putting a hit out on his evil<br>mother in order to collect the insurance.<br>"
          ],
          [
           "When a mother disapproves of her son's lover, she hires<br>an underwear model and former bullfighter to seduce her away.<br>"
          ],
          [
           "Henry Durand is a young federal agent who is given<br>a difficult assignment: spy on his mother and her boyfriend<br>who is suspected of leading a gang of art thieves.<br>"
          ],
          [
           "Thirteen-year-old fledgling writer Briony Tallis irrevocably changes the course of<br>several lives when she accuses her older sister's lover of<br>a crime he did not commit.<br>"
          ],
          [
           "A woman receives an eye transplant that allows her to<br>see into the supernatural world.<br>"
          ],
          [
           "Faisi wants to go to UK to become a professional<br>chef but circumstances force him to assist his grandfather in<br>a small restaurant in Kozhikode city, changing his outlook on<br>life forever.<br>"
          ],
          [
           "After being drugged and raped at a party, a young<br>woman contracts what she thinks is an STD; but, it's<br>actually something much worse.<br>"
          ],
          [
           "A single mother and waitress, a misanthropic author, and a<br>gay artist form an unlikely friendship after the artist is<br>assaulted in a robbery.<br>"
          ],
          [
           "Adriana, 13, is kidnapped in Mexico City by Russian sex<br>traffickers. Her criminal 17 y.o. brother starts looking for her.<br>Across the border in Texas, he gets help from a<br>cop.<br>"
          ],
          [
           "The life of an uptight tax lawyer turns chaotic when<br>he is asked to escort a young woman newly released<br>from prison, who persuades him to help prove her innocence.<br>"
          ]
         ],
         "hovertemplate": "cluster_size=16 | 32<br>dim_1=%{x}<br>dim_2=%{y}<br>centroid_name=%{text}<br>description=%{customdata[0]}<extra></extra>",
         "legendgroup": "16 | 32",
         "marker": {
          "color": "#FECB52",
          "symbol": "circle"
         },
         "mode": "markers+text",
         "name": "16 | 32",
         "orientation": "v",
         "showlegend": true,
         "text": [
          " ",
          " ",
          " ",
          " ",
          " ",
          " ",
          " ",
          " ",
          " ",
          " ",
          " ",
          " ",
          " ",
          " ",
          " ",
          " ",
          " ",
          " ",
          " ",
          " ",
          " ",
          " ",
          " ",
          " ",
          " ",
          " ",
          " ",
          " ",
          " ",
          " ",
          " ",
          " "
         ],
         "type": "scatter",
         "x": [
          5.3748860359191895,
          6.064798355102539,
          5.9790120124816895,
          5.755616664886475,
          5.91580057144165,
          5.061078071594238,
          4.839409828186035,
          5.39150333404541,
          5.29288387298584,
          5.318247318267822,
          5.736684799194336,
          5.0787177085876465,
          5.491611480712891,
          5.277435302734375,
          5.185254096984863,
          5.484194755554199,
          5.878085613250732,
          5.045476913452148,
          5.270071983337402,
          4.754720687866211,
          5.808351993560791,
          5.891584873199463,
          5.344893455505371,
          4.992195129394531,
          4.701276779174805,
          5.173642635345459,
          5.792935371398926,
          5.337071895599365,
          5.101499080657959,
          4.874239444732666,
          4.724136829376221,
          5.427255153656006
         ],
         "xaxis": "x",
         "y": [
          2.6691789627075195,
          1.789011001586914,
          2.8150734901428223,
          1.6679770946502686,
          3.054196357727051,
          2.1965456008911133,
          2.0232739448547363,
          3.3870441913604736,
          2.772861957550049,
          2.776376485824585,
          1.83833646774292,
          2.301342487335205,
          3.3493151664733887,
          3.842498302459717,
          2.257308006286621,
          2.9684700965881348,
          1.7725809812545776,
          2.1824705600738525,
          2.6453306674957275,
          2.0253055095672607,
          3.041543960571289,
          1.8151952028274536,
          2.5975990295410156,
          2.183668375015259,
          2.0587265491485596,
          2.1738762855529785,
          1.7160316705703735,
          3.111778974533081,
          2.067296028137207,
          2.108349084854126,
          1.964369297027588,
          2.0922577381134033
         ],
         "yaxis": "y"
        },
        {
         "customdata": [
          [
           "Marie is a vampire with a thirst for bad guys.<br>When she fails to properly dispose of one of her<br>victims, a violent mob boss, she bites off more than<br>she can chew and faces a new, immortal danger.<br>"
          ],
          [
           "A retired spy is called back into action, and to<br>bond with her new step-children, she invites them along for<br>the adventure to stop the evil Timekeeper from taking over<br>the world.<br>"
          ],
          [
           "Chucky and Tiffany are resurrected by their innocent gender confused<br>Daughter, Glenda, and hit Hollywood, where a movie depicting the<br>killer dolls' murder spree is underway.<br>"
          ],
          [
           "A simple yet proud farmer in the year 1922 conspires<br>to murder his wife for financial gain, convincing his teenage<br>son to assist. But their actions have unintended consequences.<br>"
          ],
          [
           "After killing a man in self-defense, a young woman is<br>blackmailed by a witness to the killing.<br>"
          ],
          [
           "A mysterious creature, known as Ink, steals a child's soul<br>in hopes of using it as a bargaining chip to<br>join the Incubi - the group of supernatural beings responsible<br>for creating nightmares.<br>"
          ],
          [
           "In a desert dystopia, a young woman is kidnapped by<br>cannibals.<br>"
          ],
          [
           "After a teenager has a terrifying vision of him and<br>his friends dying in a plane crash, he prevents the<br>accident only to have Death hunt them down, one by<br>one.<br>"
          ],
          [
           "Damien the Antichrist, now about to turn thirteen years old,<br>finally learns of his destiny under the guidance of an<br>unholy disciple of Satan. Meanwhile dark forces begin to eliminate<br>all those who suspect the child's true identity.<br>"
          ],
          [
           "A young soldier seeks to put an end to the<br>evils caused by a vicious witch-hunter when the latter terrorizes<br>his fiancée and kills her uncle.<br>"
          ],
          [
           "The tragic death of a beautiful young girl starts a<br>tense and atmospheric game of cat and mouse between hunter<br>John Moon and the hardened backwater criminals out for his<br>blood.<br>"
          ],
          [
           "The monstrous spirit of a slain child murderer seeks revenge<br>by invading the dreams of teenagers whose parents were responsible<br>for his untimely death.<br>"
          ],
          [
           "A young couple is trapped in a remote town where<br>a dangerous religious cult of children believes that everyone over<br>age 18 must be killed.<br>"
          ],
          [
           "A 14-year-old video enthusiast is so caught up in film<br>fantasy that he can no longer relate to the real<br>world, to such an extent that he commits murder and<br>records an on-camera confession for his parents.<br>"
          ],
          [
           "Katniss Everdeen voluntarily takes her younger sister's place in the<br>Hunger Games: a televised competition in which two teenagers from<br>each of the twelve Districts of Panem are chosen at<br>random to fight to the death.<br>"
          ],
          [
           "After a tragic accident, a man conjures up a towering,<br>vengeful demon called Pumpkinhead to destroy a group of unsuspecting<br>teenagers.<br>"
          ],
          [
           "A priest with a haunted past and a novice on<br>the threshold of her final vows are sent by the<br>Vatican to investigate the death of a young nun in<br>Romania and confront a malevolent force in the form of<br>a demonic nun.<br>"
          ],
          [
           "As Nell Sweetzer tries to build a new life after<br>the events of the first movie, the evil force that<br>once possessed her returns with an even more horrific plan.<br>"
          ],
          [
           "In 15th-century France, a gypsy girl is framed for murder<br>by the infatuated Chief Justice, and only the deformed bellringer<br>of Notre Dame Cathedral can save her.<br>"
          ],
          [
           "Elektra the warrior survives a near-death experience, becomes an assassin-for-hire,<br>and tries to protect her two latest targets, a single<br>father and his young daughter, from a group of supernatural<br>assassins.<br>"
          ]
         ],
         "hovertemplate": "cluster_size=15 | 20<br>dim_1=%{x}<br>dim_2=%{y}<br>centroid_name=%{text}<br>description=%{customdata[0]}<extra></extra>",
         "legendgroup": "15 | 20",
         "marker": {
          "color": "#636efa",
          "symbol": "circle"
         },
         "mode": "markers+text",
         "name": "15 | 20",
         "orientation": "v",
         "showlegend": true,
         "text": [
          " ",
          " ",
          " ",
          " ",
          " ",
          " ",
          " ",
          " ",
          " ",
          " ",
          " ",
          " ",
          " ",
          " ",
          " ",
          " ",
          " ",
          " ",
          " ",
          " "
         ],
         "type": "scatter",
         "x": [
          3.781219720840454,
          3.158608913421631,
          3.8830678462982178,
          6.313617706298828,
          3.874858856201172,
          3.1590254306793213,
          6.60427713394165,
          3.431752920150757,
          2.9602890014648438,
          3.645667552947998,
          3.694514036178589,
          3.517674446105957,
          3.1130192279815674,
          3.6883649826049805,
          3.6535747051239014,
          3.148024320602417,
          3.7071785926818848,
          3.630941867828369,
          3.9558067321777344,
          3.640172243118286
         ],
         "xaxis": "x",
         "y": [
          4.1801981925964355,
          4.8642706871032715,
          4.090704441070557,
          2.653930902481079,
          4.042059898376465,
          4.755282402038574,
          2.464463472366333,
          4.308382987976074,
          4.861756324768066,
          4.258687973022461,
          4.253468036651611,
          4.326035022735596,
          4.5024895668029785,
          4.214863300323486,
          4.288022041320801,
          4.4493818283081055,
          4.256234645843506,
          4.282470226287842,
          4.035497188568115,
          4.318612575531006
         ],
         "yaxis": "y"
        },
        {
         "customdata": [
          [
           "A film star helps a young singer and actress find<br>fame, even as age and alcoholism send his own career<br>on a downward spiral.<br>"
          ],
          [
           "On the set of a playwright's new project, a love<br>triangle forms between his wife, her ex-lover, and the call<br>girl-turned-actress cast in the production.<br>"
          ],
          [
           "The life of TV star<br>"
          ],
          [
           "A simple Italian postman learns to love poetry while delivering<br>mail to a famous poet, and then uses this to<br>woo local beauty Beatrice.<br>"
          ],
          [
           "The story of two North Carolina teens, Landon Carter and<br>Jamie Sullivan, who are thrown together after Landon gets into<br>trouble and is made to do community service.<br>"
          ],
          [
           "A comedian tries to make it as a serious actor<br>when his reality television star fiancée talks him into broadcasting<br>their wedding on her television show.<br>"
          ],
          [
           "Laura Henderson (Dame Judi Dench) buys an old London theater<br>and opens it up as the Windmill, a performance hall<br>which goes down in history for, amongst other things, its<br>all-nude revues.<br>"
          ],
          [
           "Take two rival television reporters: one handsome, one talented, both<br>male. Add one Producer, female. Mix well, and watch the<br>sparks fly.<br>"
          ],
          [
           "Retreating from life after a tragedy, a man questions the<br>universe by writing to Love, Time, and Death. Receiving unexpected<br>answers, he begins to see how these things interlock and<br>how even loss can reveal moments of meaning and beauty.<br>"
          ],
          [
           "A filmmaker recalls his childhood when falling in love with<br>the pictures at the cinema of his home village and<br>forms a deep friendship with the cinema's projectionist.<br>"
          ],
          [
           "Quentin Tarantino and Robert Rodriguez's homage to exploitation double features<br>in the 60s and 70s with two back-to-back cult films<br>that include previews of coming attractions between them.<br>"
          ],
          [
           "A love story between a man and woman. And between<br>a mother and her son. A mystical and fantastical odyssey<br>on love.<br>"
          ],
          [
           "Three stories of never-ending love.<br>"
          ],
          [
           "A medical school dropout and a housewife/mom try to make<br>it as stand-up comedians. They become friends and help each<br>other out at an NYC comedy club.<br>"
          ],
          [
           "Colette is pushed by her husband to write novels under<br>his name. Upon their success, she fights to make her<br>talents known, challenging gender norms.<br>"
          ],
          [
           "An underachieving voice coach finds herself competing in the movie<br>trailer voice-over profession against her arrogant father and his protégé.<br>"
          ],
          [
           "A dramatic retelling of the post-Watergate television interviews between British<br>talk-show host<br>"
          ],
          [
           "The story of Calamity Jane, her saloon, and her romance<br>with Wild Bill Hickok.<br>"
          ],
          [
           "A Chicago playwright uses self-hypnosis to travel back in time<br>and meet the actress whose vintage portrait hangs in a<br>grand hotel.<br>"
          ],
          [
           "This movie chronicles how Chetan met his wife and the<br>difficulties they faced due to their cultural differences.<br>"
          ],
          [
           "The story of the five-day interview between Rolling Stone reporter<br>David Lipsky and acclaimed novelist David Foster Wallace, which took<br>place right after the 1996 publication of Wallace's groundbreaking epic<br>novel, 'Infinite Jest.'<br>"
          ],
          [
           "Two intersecting love triangles. Obsession and betrayal set against the<br>music scene in Austin, Texas.<br>"
          ],
          [
           "A drama exploring the romantic past and emotional present of<br>Ann Lord (Vanessa Redgrave) and her daughters, Constance Haverford (Natasha<br>Richardson) and Nina Mars (Toni Collette). As Ann lays dying,<br>she remembers, and is moved to convey to her daughters,<br>the defining moments in her life fifty years ago, when<br>she was a young woman. Harris Arden (Patrick Wilson) is<br>the man Ann loves in the 1950s ...<br>"
          ],
          [
           "A female theatre dresser creates a stir and sparks a<br>revolution in seventeenth century London theatre by playing Desdemona in<br>Othello. But what will become of the male actor she<br>once worked for and eventually replaced?<br>"
          ],
          [
           "A Shakespearean actor takes poetic revenge on the critics who<br>denied him recognition.<br>"
          ],
          [
           "The inspiring and unknown true story behind MercyMe's beloved, chart<br>topping song that brings ultimate hope to so many is<br>a gripping reminder of the power of true forgiveness.<br>"
          ],
          [
           "Set in the 1930s, a former veterinary student takes a<br>job in a travelling circus and falls in love with<br>the ringmaster's wife.<br>"
          ],
          [
           "A sex comedy centered on a serial womanizer and his<br>jilted lover.<br>"
          ],
          [
           "After being discharged from the army, Antoine Doinel centers a<br>screwball comedy where he applies for different jobs and tries<br>to make sense of his relationships with women.<br>"
          ],
          [
           "The life and career of wildly controversial rock 'n' roll<br>star<br>"
          ],
          [
           "Bride-to-be Finn Dodd hears tales of romance and sorrow from<br>her elders as they construct a quilt.<br>"
          ],
          [
           "Suffering from writer's block and eagerly awaiting his writing award,<br>Harry Block remembers events from his past and scenes from<br>his best-selling books as characters, real and fictional, come back<br>to haunt him.<br>"
          ]
         ],
         "hovertemplate": "cluster_size=0 | 32<br>dim_1=%{x}<br>dim_2=%{y}<br>centroid_name=%{text}<br>description=%{customdata[0]}<extra></extra>",
         "legendgroup": "0 | 32",
         "marker": {
          "color": "#EF553B",
          "symbol": "circle"
         },
         "mode": "markers+text",
         "name": "0 | 32",
         "orientation": "v",
         "showlegend": true,
         "text": [
          " ",
          " ",
          " ",
          " ",
          " ",
          " ",
          " ",
          " ",
          " ",
          " ",
          " ",
          " ",
          " ",
          " ",
          " ",
          " ",
          " ",
          " ",
          " ",
          " ",
          " ",
          " ",
          " ",
          " ",
          " ",
          " ",
          " ",
          " ",
          " ",
          " ",
          " ",
          " "
         ],
         "type": "scatter",
         "x": [
          9.321621894836426,
          10.332250595092773,
          9.416448593139648,
          11.649141311645508,
          10.812507629394531,
          10.26274299621582,
          9.9077787399292,
          9.418699264526367,
          10.869773864746094,
          10.511625289916992,
          9.59762191772461,
          10.775688171386719,
          10.69955825805664,
          10.465344429016113,
          9.643636703491211,
          9.150186538696289,
          10.14490032196045,
          10.366581916809082,
          9.685174942016602,
          9.810657501220703,
          10.720120429992676,
          10.585174560546875,
          10.557207107543945,
          10.069475173950195,
          9.686539649963379,
          10.94063949584961,
          10.273362159729004,
          10.180614471435547,
          10.216501235961914,
          9.336675643920898,
          10.626957893371582,
          10.884359359741211
         ],
         "xaxis": "x",
         "y": [
          3.8303871154785156,
          3.0210111141204834,
          4.357100486755371,
          2.7975733280181885,
          3.8756537437438965,
          3.3203542232513428,
          3.1700336933135986,
          2.6405880451202393,
          2.7858870029449463,
          2.8372976779937744,
          3.2950363159179688,
          2.6450555324554443,
          2.6672375202178955,
          3.648876667022705,
          3.031818151473999,
          3.517820119857788,
          3.299654483795166,
          2.869840383529663,
          3.2804698944091797,
          3.1150567531585693,
          2.6085336208343506,
          2.7494418621063232,
          2.7084498405456543,
          3.1431479454040527,
          3.2273857593536377,
          2.782134532928467,
          3.0506625175476074,
          3.2030675411224365,
          3.160953998565674,
          4.328125,
          2.756969928741455,
          2.8107542991638184
         ],
         "yaxis": "y"
        },
        {
         "customdata": [
          [
           "A young Parisian woman meets a middle-aged American businessman who<br>demands their clandestine relationship be based only on sex.<br>"
          ],
          [
           "In a dystopian near future, single people, according to the<br>laws of The City, are taken to The Hotel, where<br>they are obliged to find a romantic partner in forty-five<br>days or are transformed into beasts and sent off into<br>The Woods.<br>"
          ],
          [
           "The antisocial son of an alcoholic father and a bipolar<br>mother grows up in 1960s Ireland.<br>"
          ],
          [
           "After a botched money delivery, Lola has 20 minutes to<br>come up with 100,000 Deutschmarks.<br>"
          ],
          [
           "Natalie, head of her curriculum activities in high school and<br>riding on a tennis scholarship for college, gets Keith as<br>her Chemistry lab partner. As Natalie can be uptight, Keith<br>proves to be the opposite, even while hiding a secret.<br>"
          ],
          [
           "A young woman with a mysterious past lands in Southport,<br>North Carolina where her bond with a widower forces her<br>to confront the dark secret that haunts her.<br>"
          ],
          [
           "Larry Gigli is assigned by a crime boss to kidnap<br>the brother of a prominent district attorney. A beautiful woman<br>known only as Ricki is sent to stay with him<br>to make sure he doesn't mess up the job.<br>"
          ],
          [
           "Identical twin gangsters Ronald and Reginald Kray terrorize London during<br>the 1960s.<br>"
          ],
          [
           "A waitress, desperate to fulfill her dreams as a restaurant<br>owner, is set on a journey to turn a frog<br>prince back into a human being, but she has to<br>face the same problem after she kisses him.<br>"
          ],
          [
           "Showgirls Lorelei Lee and Dorothy Shaw travel to Paris, pursued<br>by a private detective hired by the suspicious father of<br>Lorelei's fiancé, as well as a rich, enamored old man<br>and many other doting admirers.<br>"
          ],
          [
           "A young couple living in a Connecticut suburb during the<br>mid-1950s struggle to come to terms with their personal problems<br>while trying to raise their two children.<br>"
          ],
          [
           "An aspiring teenage cartoonist and his friends come to the<br>aid of a singer trying to save her family property<br>from developers.<br>"
          ],
          [
           "Richie and Eddie, a perverted loser and his alcoholic partner<br>in crime, run the worst hotel in Britain: the Guest<br>House Paradiso.<br>"
          ],
          [
           "An old Jewish woman and her African-American chauffeur in the<br>American South have a relationship that grows and improves over<br>the years.<br>"
          ],
          [
           "Alcoholic playboy Kyle Hadley marries the woman secretly loved by<br>his poor but hard-working best friend, who in turn is<br>pursued by Kyle's nymphomaniac sister.<br>"
          ],
          [
           "In 1950s Connecticut, a housewife faces a marital crisis and<br>mounting racial tensions in the outside world.<br>"
          ],
          [
           "The relationships of four couples unravel after the discovery of<br>a young woman's body in Lantana bush in suburban Sydney.<br>"
          ],
          [
           "Set in the Little Saigon district outside of Sydney, a<br>woman (Blanchett) trying to escape her past becomes embroiled in<br>a drug deal.<br>"
          ],
          [
           "Cady Heron is a hit with The Plastics, the A-list<br>girl clique at her new school, until she makes the<br>mistake of falling for Aaron Samuels, the ex-boyfriend of alpha<br>Plastic Regina George.<br>"
          ]
         ],
         "hovertemplate": "cluster_size=19 | 19<br>dim_1=%{x}<br>dim_2=%{y}<br>centroid_name=%{text}<br>description=%{customdata[0]}<extra></extra>",
         "legendgroup": "19 | 19",
         "marker": {
          "color": "#00cc96",
          "symbol": "circle"
         },
         "mode": "markers+text",
         "name": "19 | 19",
         "orientation": "v",
         "showlegend": true,
         "text": [
          " ",
          " ",
          " ",
          " ",
          " ",
          " ",
          " ",
          " ",
          " ",
          " ",
          " ",
          " ",
          " ",
          " ",
          " ",
          " ",
          " ",
          " ",
          " "
         ],
         "type": "scatter",
         "x": [
          8.699434280395508,
          8.869482040405273,
          8.884905815124512,
          9.330304145812988,
          8.49829387664795,
          8.670388221740723,
          4.64622163772583,
          9.40732192993164,
          8.957359313964844,
          9.3726806640625,
          8.671516418457031,
          8.861291885375977,
          9.357646942138672,
          8.863816261291504,
          8.494236946105957,
          8.836437225341797,
          8.793781280517578,
          3.8024532794952393,
          8.520393371582031
         ],
         "xaxis": "x",
         "y": [
          2.6249501705169678,
          2.6585826873779297,
          3.2410225868225098,
          2.972851514816284,
          2.8506247997283936,
          2.7868943214416504,
          1.8577228784561157,
          3.3427481651306152,
          2.7246384620666504,
          2.990013360977173,
          3.1625428199768066,
          3.4602293968200684,
          3.2326507568359375,
          2.787163257598877,
          2.8388705253601074,
          2.88051176071167,
          2.62963604927063,
          1.2885255813598633,
          2.8441474437713623
         ],
         "yaxis": "y"
        },
        {
         "customdata": [
          [
           "To save their farm, the resident animals go bounty hunting<br>for a notorious outlaw.<br>"
          ],
          [
           "The military attempts to contain a manmade combat virus that<br>causes death and permanent insanity in those infected, as it<br>overtakes a small Pennsylvania town.<br>"
          ],
          [
           "Mr. Church reunites the Expendables for what should be an<br>easy paycheck, but when one of their men is murdered<br>on the job, their quest for revenge puts them deep<br>in enemy territory and up against an unexpected threat.<br>"
          ],
          [
           "A group of archaeologists become trapped in the past when<br>they go there to retrieve a friend. The group must<br>survive in fourteenth century France before they can escape back<br>to the twenty-first century.<br>"
          ],
          [
           "A group of animals who have spent all their life<br>in a New York zoo end up in the jungles<br>of Madagascar, and must adjust to living in the wild.<br>"
          ],
          [
           "A ragtag group of Pennsylvanians barricade themselves in an old<br>farmhouse to remain safe from a bloodthirsty, flesh-eating breed of<br>monsters who are ravaging the East Coast of the United<br>States.<br>"
          ],
          [
           "Tarzan, having acclimated to life in London, is called back<br>to his former home in the jungle to investigate the<br>activities at a mining encampment.<br>"
          ],
          [
           "In a city of anthropomorphic animals, a rookie bunny cop<br>and a cynical con artist fox must work together to<br>uncover a conspiracy.<br>"
          ],
          [
           "A new theme park, built on the original site of<br>Jurassic Park, creates a genetically modified hybrid dinosaur, the Indominus<br>Rex, which escapes containment and goes on a killing spree.<br>"
          ],
          [
           "A bounty hunting scam joins two men in an uneasy<br>alliance against a third in a race to find a<br>fortune in gold buried in a remote cemetery.<br>"
          ],
          [
           "2 firemen in a burning building get a treasure map.<br>Stolen gold church items are hidden in a closed down<br>factory in St. Louis. Once there, they're trapped in by<br>a black gang considering it their territory. Lots of shooting.<br>"
          ],
          [
           "A strange prehistoric beast lurks in the depths of the<br>Amazonian jungle. A group of scientists try to capture the<br>animal and bring it back to civilization for study.<br>"
          ],
          [
           "Amid the Civil War in 17th-century England, a group of<br>deserters flee from battle through an overgrown field. Captured by<br>an alchemist, the men are forced to help him search<br>to find a hidden treasure that he believes is buried<br>in the field.<br>"
          ],
          [
           "A gun-fighting stranger comes to the small settlement of Lago<br>and is hired to bring the townsfolk together in an<br>attempt to hold off three outlaws who are on their<br>way.<br>"
          ],
          [
           "The turtles find themselves transported back in time to ancient<br>Japan.<br>"
          ],
          [
           "Bloodthirsty creatures await a pack of divers who become trapped<br>in an underwater cave network.<br>"
          ],
          [
           "When a kingpin threatens New York City, a group of<br>mutated turtle warriors must emerge from the shadows to protect<br>their home.<br>"
          ],
          [
           "In a small town in Massachusetts, a group of friends,<br>fascinated by the internet lore of the Slender Man, attempt<br>to prove that he doesn't actually exist - until one<br>of them mysteriously goes missing.<br>"
          ]
         ],
         "hovertemplate": "cluster_size=11 | 18<br>dim_1=%{x}<br>dim_2=%{y}<br>centroid_name=%{text}<br>description=%{customdata[0]}<extra></extra>",
         "legendgroup": "11 | 18",
         "marker": {
          "color": "#ab63fa",
          "symbol": "circle"
         },
         "mode": "markers+text",
         "name": "11 | 18",
         "orientation": "v",
         "showlegend": true,
         "text": [
          " ",
          " ",
          " ",
          " ",
          " ",
          " ",
          " ",
          " ",
          " ",
          " ",
          " ",
          " ",
          " ",
          " ",
          " ",
          " ",
          " ",
          " "
         ],
         "type": "scatter",
         "x": [
          1.7825796604156494,
          0.9400602579116821,
          2.1434824466705322,
          1.836194634437561,
          1.8045282363891602,
          1.8618968725204468,
          1.872996211051941,
          1.771928071975708,
          1.8043864965438843,
          1.6183712482452393,
          1.638004183769226,
          1.803847312927246,
          1.5892280340194702,
          2.091010808944702,
          1.8539843559265137,
          1.6498746871948242,
          1.82041335105896,
          1.2540898323059082
         ],
         "xaxis": "x",
         "y": [
          6.117102146148682,
          4.7867913246154785,
          5.046960353851318,
          6.093439102172852,
          6.1303486824035645,
          6.024849891662598,
          6.101767063140869,
          6.096929550170898,
          6.115482807159424,
          5.0781097412109375,
          5.104738235473633,
          6.117208003997803,
          5.114279747009277,
          5.275918006896973,
          6.161590099334717,
          5.120190620422363,
          6.108450889587402,
          5.007456302642822
         ],
         "yaxis": "y"
        },
        {
         "customdata": [
          [
           "A psychopathic criminal with a mother complex makes a daring<br>break from prison and leads his old gang in a<br>chemical plant payroll heist.<br>"
          ],
          [
           "Young hero Thomas embarks on a mission to find a<br>cure for a deadly disease known as \"The Flare\".<br>"
          ],
          [
           "A group of youngsters kidnap a respected Mafia figure.<br>"
          ],
          [
           "After returning to the criminal underworld to repay a debt,<br>John Wick discovers that a large bounty has been put<br>on his life.<br>"
          ],
          [
           "A young man turns from drug addiction and petty crime<br>to a life redeemed by a discovery of compassion.<br>"
          ],
          [
           "A Catholic school principal questions a priest's ambiguous relationship with<br>a troubled young student.<br>"
          ],
          [
           "Baran the Bandit, released from prison after 35 years, searches<br>for vengeance and his lover.<br>"
          ],
          [
           "Julian, a drug-smuggler thriving in Bangkok's criminal underworld, sees his<br>life get even more complicated when his mother compels him<br>to find and kill whoever is responsible for his brother's<br>recent death.<br>"
          ],
          [
           "The story of a bullied fifteen-year-old boy in a small<br>town as he struggles to adjust to his difficult life.<br>"
          ],
          [
           "A former summer camp caretaker, horribly burned from a prank<br>gone wrong, lurks around an upstate New York summer camp<br>bent on killing the teenagers responsible for his disfigurement.<br>"
          ],
          [
           "A veteran pot dealer creates a fake family as part<br>of his plan to move a huge shipment of weed<br>into the U.S. from Mexico.<br>"
          ],
          [
           "A priest tries to stop a gangster from corrupting a<br>group of street kids.<br>"
          ],
          [
           "After a botched bank robbery lands his younger brother in<br>prison, Connie Nikas embarks on a twisted odyssey through New<br>York City's underworld to get his brother Nick out of<br>jail.<br>"
          ],
          [
           "A former neo-nazi skinhead tries to prevent his younger brother<br>from going down the same wrong path that he did.<br>"
          ],
          [
           "A small-town sheriff in the American West enlists the help<br>of a cripple, a drunk, and a young gunfighter in<br>his efforts to hold in jail the brother of the<br>local bad guy.<br>"
          ]
         ],
         "hovertemplate": "cluster_size=3 | 15<br>dim_1=%{x}<br>dim_2=%{y}<br>centroid_name=%{text}<br>description=%{customdata[0]}<extra></extra>",
         "legendgroup": "3 | 15",
         "marker": {
          "color": "#FFA15A",
          "symbol": "circle"
         },
         "mode": "markers+text",
         "name": "3 | 15",
         "orientation": "v",
         "showlegend": true,
         "text": [
          " ",
          " ",
          " ",
          " ",
          " ",
          " ",
          " ",
          " ",
          " ",
          " ",
          " ",
          " ",
          " ",
          " ",
          " "
         ],
         "type": "scatter",
         "x": [
          4.195272445678711,
          3.509204387664795,
          3.2569892406463623,
          4.0049967765808105,
          3.8831191062927246,
          3.3154666423797607,
          3.996358633041382,
          4.118070125579834,
          5.27584981918335,
          3.406480550765991,
          4.060792446136475,
          3.26594614982605,
          3.9359333515167236,
          3.4797286987304688,
          3.8261871337890625
         ],
         "xaxis": "x",
         "y": [
          2.2130565643310547,
          2.7468984127044678,
          2.7642483711242676,
          2.2339348793029785,
          2.410043478012085,
          2.8777036666870117,
          2.2785804271698,
          2.216524124145508,
          3.922978639602661,
          3.062359571456909,
          2.2752268314361572,
          2.8283262252807617,
          2.3199589252471924,
          3.0044872760772705,
          2.540961503982544
         ],
         "yaxis": "y"
        },
        {
         "customdata": [
          [
           "A serial killer pins his crimes on two college students<br>who gave him a ride.<br>"
          ],
          [
           "Mark marries Marnie although she is a habitual thief and<br>has serious psychological problems, and tries to help her confront<br>and resolve them.<br>"
          ],
          [
           "An associate burns down a wax museum with the owner<br>inside, but he survives only to become vengeful and murderous.<br>"
          ],
          [
           "A high school senior finds herself immersed in an online<br>game of truth or dare, where her every move starts<br>to become manipulated by an anonymous community of \"watchers.\"<br>"
          ],
          [
           "Hypnotist Dr. Caligari uses a somnambulist, Cesare, to commit murders.<br>"
          ],
          [
           "A group of students go the location of the infamous<br>Dyatlov pass incident to make a documentary, but things take<br>a turn for the worse as the secret of what<br>happened there is revealed.<br>"
          ],
          [
           "Two friends, attempting to start-up their own photo studio, come<br>across shady dealings, corruption and murder, and must fight to<br>bring the guilty to light.<br>"
          ],
          [
           "A young videographer answers an online ad for a one-day<br>job in a remote town to record the last messages<br>of a dying man. When he notices the man's odd<br>behavior, he starts to question his intentions.<br>"
          ],
          [
           "Two strangers, who awaken in a room with no recollection<br>of how they got there, soon discover they're pawns in<br>a deadly game perpetrated by a notorious serial killer.<br>"
          ],
          [
           "Nine strangers are kidnapped and forced to figure out the<br>connection they have to each other as one has to<br>die every ten minutes.<br>"
          ],
          [
           "A psychiatrist with intense acrophobia (fear of heights) goes to<br>work for a mental institution run by doctors who appear<br>to be crazier than their patients, and have secrets that<br>they are willing to commit murder to keep.<br>"
          ],
          [
           "A college student suspects a series of bizarre deaths are<br>connected to certain urban legends.<br>"
          ],
          [
           "Fifteen years ago, a group of men's lives were forever<br>changed by a strange occurrence. Now, the same group of<br>men will spend a night together ... in terror.<br>"
          ],
          [
           "Consequences force an innocent man to get involved in crime<br>after making an error.<br>"
          ],
          [
           "An imprisoned I.R.A. fighter is freed to help stop a<br>brutal, seemingly \"faceless\" assassin from completing his next job.<br>"
          ],
          [
           "A famous fashion photographer develops a disturbing ability to see<br>through the eyes of a killer.<br>"
          ],
          [
           "A graduate history student is unwittingly caught in the middle<br>of an international conspiracy involving stolen diamonds, an exiled Nazi<br>war criminal, and a rogue government agent.<br>"
          ],
          [
           "A criminal mastermind uses hypnosis to rule the rackets after<br>death.<br>"
          ],
          [
           "A masked serial killer turns a horror-themed amusement park into<br>his own personal playground, terrorizing a group of friends while<br>the rest of the patrons believe that it is all<br>part of the show.<br>"
          ],
          [
           "This movie focuses on the attempts of a psychiatrist to<br>prevent one of his patients from committing suicide while trying<br>to maintain his own grip on reality.<br>"
          ],
          [
           "A girl group find themselves in the middle of a<br>conspiracy to deliver subliminal messages through popular music.<br>"
          ],
          [
           "A law student uncovers a conspiracy, putting herself and others<br>in danger.<br>"
          ],
          [
           "Based on the true events of the only case in<br>US History where a spirit caused the death of a<br>man.<br>"
          ],
          [
           "Two female journalists and a photographer travel to Europe to<br>investigate a series of mysterious disappearances, only to find themselves<br>embroiled in a struggle against a kind of evil they<br>never expected.<br>"
          ],
          [
           "The story follows Jack, a highly intelligent serial killer, over<br>the course of twelve years, and depicts the murders that<br>really develop his inner madman.<br>"
          ],
          [
           "A psychiatrist comes to the aid of a compulsive gambler<br>and is led by a smooth-talking grifter into the shadowy<br>but compelling world of stings, scams, and con men.<br>"
          ],
          [
           "Serial killer Jason Voorhees' supernatural origins are revealed.<br>"
          ],
          [
           "A film about Mark David Chapman in the days leading<br>up to the infamous murder of Beatle John Lennon.<br>"
          ],
          [
           "Searching for a missing student, two private investigators break into<br>his house and find collection of VHS tapes. Viewing the<br>horrific contents of each cassette, they realize there may be<br>dark motives behind the student's disappearance.<br>"
          ],
          [
           "\"Documentary\" about a man who can look and act like<br>whoever he's around, and meets various famous people.<br>"
          ],
          [
           "Inspector Jacques Clouseau investigates the murder of Mr. Benjamin Ballon's<br>driver at a country estate.<br>"
          ],
          [
           "A team of parapsychologists try to figure out a strange<br>phenomenon occurring in an apartment building.<br>"
          ],
          [
           "When a murder occurs on the train on which he's<br>travelling, celebrated detective Hercule Poirot is recruited to solve the<br>case.<br>"
          ],
          [
           "In the late 1960s/early 1970s, a San Francisco cartoonist becomes<br>an amateur detective obsessed with tracking down the Zodiac Killer,<br>an unidentified individual who terrorizes Northern California with a killing<br>spree.<br>"
          ],
          [
           "After an encounter with a neck-biter, a publishing executive thinks<br>that he's turning into a vampire.<br>"
          ],
          [
           "An ex-con gets on a series of apparently unrelated killings.<br>He gets tracked by a veteran cop with secrets of<br>his own and an egocentric hit man.<br>"
          ],
          [
           "Documents<br>"
          ],
          [
           "Two strangers become dangerously close after witnessing a deadly accident.<br>"
          ],
          [
           "Two years after the first series of murders, as Sidney<br>acclimates to college life, someone donning the Ghostface costume begins<br>a new string of killings.<br>"
          ]
         ],
         "hovertemplate": "cluster_size=18 | 39<br>dim_1=%{x}<br>dim_2=%{y}<br>centroid_name=%{text}<br>description=%{customdata[0]}<extra></extra>",
         "legendgroup": "18 | 39",
         "marker": {
          "color": "#19d3f3",
          "symbol": "circle"
         },
         "mode": "markers+text",
         "name": "18 | 39",
         "orientation": "v",
         "showlegend": true,
         "text": [
          " ",
          " ",
          " ",
          " ",
          " ",
          " ",
          " ",
          " ",
          " ",
          " ",
          " ",
          " ",
          " ",
          " ",
          " ",
          " ",
          " ",
          " ",
          " ",
          " ",
          " ",
          " ",
          " ",
          " ",
          " ",
          " ",
          " ",
          " ",
          " ",
          " ",
          " ",
          " ",
          " ",
          " ",
          " ",
          " ",
          " ",
          " ",
          " "
         ],
         "type": "scatter",
         "x": [
          2.07330322265625,
          0.925090491771698,
          2.023984670639038,
          2.313720941543579,
          1.9349881410598755,
          2.381998062133789,
          2.7775909900665283,
          3.188920736312866,
          2.262263059616089,
          2.2643752098083496,
          0.9557968974113464,
          2.388791561126709,
          3.056654930114746,
          2.3323678970336914,
          0.9788956046104431,
          1.8799176216125488,
          2.1902878284454346,
          2.0214977264404297,
          0.9314389228820801,
          1.8925576210021973,
          2.302255630493164,
          2.2239949703216553,
          2.7368829250335693,
          3.0636143684387207,
          2.0397448539733887,
          0.8288084268569946,
          1.9955335855484009,
          1.836997151374817,
          2.317033052444458,
          1.4540654420852661,
          1.9764947891235352,
          1.886457085609436,
          2.0086145401000977,
          1.6380035877227783,
          3.5396578311920166,
          1.8314049243927002,
          1.5596418380737305,
          2.3140876293182373,
          2.179518461227417
         ],
         "xaxis": "x",
         "y": [
          0.1562197357416153,
          0.8811694979667664,
          0.8120608925819397,
          -0.5789100527763367,
          0.3114035725593567,
          -0.590621829032898,
          -0.4543880224227905,
          -0.4319867789745331,
          -0.2085685431957245,
          -0.17508630454540253,
          0.8790206909179688,
          -0.3221359848976135,
          -0.4509027600288391,
          0.7987213134765625,
          1.1044608354568481,
          0.37569212913513184,
          -0.503363311290741,
          0.2356186956167221,
          0.9303412437438965,
          -0.2659893333911896,
          -0.5387300252914429,
          -0.4982258379459381,
          -0.4267411530017853,
          -0.4664181172847748,
          0.15320052206516266,
          1.113769769668579,
          0.22930972278118134,
          0.5034783482551575,
          -0.4194481074810028,
          0.7161296606063843,
          0.42687538266181946,
          -0.31039777398109436,
          0.45007556676864624,
          0.6392202377319336,
          -0.3403398096561432,
          0.5345325469970703,
          0.6847444176673889,
          -0.2805274426937103,
          -0.07228602468967438
         ],
         "yaxis": "y"
        },
        {
         "customdata": [
          [
           "A losing coach with an underdog football team faces their<br>giants of fear and failure on and off the field<br>to surprising results.<br>"
          ],
          [
           "Working class New York bus driver Ralph Kramden is always<br>coming up with get-rich-quick schemes for him and his best<br>friend, Ed Norton, who's always around to help him get<br>in (and out of) trouble.<br>"
          ],
          [
           "A man struggles to survive after he unintentionally locks himself<br>up in a high rise devoid of food, water and<br>electricity.<br>"
          ],
          [
           "The extracurricular king of Rushmore Preparatory School is put on<br>academic probation.<br>"
          ],
          [
           "While drying out on the West Coast, an alcoholic hitman<br>befriends a tart-tongued woman who might just come in handy<br>when it's time for him to return to Buffalo and<br>settle some old scores.<br>"
          ],
          [
           "Sharpshooter Matt Quigley is hired from Wyoming by an Australian<br>rancher paying a very high price. But when Quigley arrives<br>Down Under, all is not as it seems.<br>"
          ],
          [
           "A proud strip club owner is forced to come to<br>terms with himself as a man, when his gambling addiction<br>gets him in hot water with the mob, who offer<br>him only one alternative.<br>"
          ],
          [
           "Harold Hill poses as a boys' band leader to con<br>naive Iowa townsfolk.<br>"
          ],
          [
           "Tommy is an unemployed mechanic who spends most of his<br>time in a bar (Trees Lounge) in a small blue<br>collar town. He seems to always be thinking, \"If only<br>X then I could stop drinking\".<br>"
          ],
          [
           "A greedy landowner and his backward nephew conspire to block<br>the only water source for an adjoining property in order<br>to bankrupt the owner and force him to sell.<br>"
          ],
          [
           "Upper-class Tony hires servant Hugo Barrett, who turns out to<br>have a hidden agenda.<br>"
          ],
          [
           "A Texas baseball coach makes the major league after agreeing<br>to try out if his high school team made the<br>playoffs.<br>"
          ],
          [
           "Based on H.G. Bissinger's book, which profiled the economically depressed<br>town of Odessa, Texas and their heroic high school football<br>team, The Permian High Panthers.<br>"
          ],
          [
           "Big and Little Enos are opening a sea food restaurant.<br>They bet Sheriff Buford T. Justice that he cannot drive<br>from Miami to the Enos ranch in Texas in a<br>given amount of time. If Buford loses he has to<br>give up his badge.<br>"
          ],
          [
           "Dunson leads a cattle drive, the culmination of over 14<br>years of work, to its destination in Missouri. But his<br>tyrannical behavior along the way causes a mutiny, led by<br>his adopted son.<br>"
          ],
          [
           "A waterboy for a college football team discovers he has<br>a unique tackling ability and becomes a member of the<br>team.<br>"
          ],
          [
           "In this allegorical story, a revolution led by pupil Mick<br>Travis takes place at an old established private school in<br>England.<br>"
          ],
          [
           "A young, English working-class boy spends his free time caring<br>for and training his pet falcon.<br>"
          ],
          [
           "Jimmy Dolan is a college basketball coach who wants a<br>big promotion. To get it, he needs to make a<br>dramatic find. He ends up deep in Africa, hoping to<br>recruit Saleh, a huge basketball ...<br>"
          ],
          [
           "A high school wrestler in Spokane, Washington has trouble focusing<br>on his training regimen when a beautiful young drifter takes<br>up temporary residence at his home.<br>"
          ]
         ],
         "hovertemplate": "cluster_size=10 | 20<br>dim_1=%{x}<br>dim_2=%{y}<br>centroid_name=%{text}<br>description=%{customdata[0]}<extra></extra>",
         "legendgroup": "10 | 20",
         "marker": {
          "color": "#FF6692",
          "symbol": "circle"
         },
         "mode": "markers+text",
         "name": "10 | 20",
         "orientation": "v",
         "showlegend": true,
         "text": [
          " ",
          " ",
          " ",
          " ",
          " ",
          " ",
          " ",
          " ",
          " ",
          " ",
          " ",
          " ",
          " ",
          " ",
          " ",
          " ",
          " ",
          " ",
          " ",
          " "
         ],
         "type": "scatter",
         "x": [
          1.560476541519165,
          5.177399158477783,
          3.8348090648651123,
          1.7919421195983887,
          5.1195969581604,
          1.9409855604171753,
          1.7185664176940918,
          1.5148690938949585,
          1.6262104511260986,
          3.8624305725097656,
          1.4830254316329956,
          1.6589479446411133,
          1.7262146472930908,
          1.7327640056610107,
          5.158735275268555,
          1.5753165483474731,
          1.7814267873764038,
          5.343771457672119,
          1.751410961151123,
          5.284176349639893
         ],
         "xaxis": "x",
         "y": [
          2.9820098876953125,
          3.9635307788848877,
          5.827389240264893,
          3.1841917037963867,
          4.034856796264648,
          3.235438823699951,
          3.125955104827881,
          2.979149341583252,
          3.045851707458496,
          5.743496894836426,
          2.934826612472534,
          3.0923914909362793,
          3.168776512145996,
          3.1282761096954346,
          4.000514030456543,
          3.0138700008392334,
          3.1709084510803223,
          3.9732820987701416,
          3.1448709964752197,
          3.891209125518799
         ],
         "yaxis": "y"
        },
        {
         "customdata": [
          [
           "Astronaut Scorch Supernova finds himself caught in a trap when<br>he responds to an SOS from a notoriously dangerous alien<br>planet.<br>"
          ],
          [
           "A young boy named Milo gains a deeper appreciation for<br>his mom after Martians come to Earth to take her<br>away.<br>"
          ],
          [
           "An artificial man, who was incompletely constructed and has scissors<br>for hands, leads a solitary life. Then one day, a<br>suburban lady meets him and introduces him to her world.<br>"
          ],
          [
           "A highly advanced robotic boy longs to become \"real\" so<br>that he can regain the love of his human mother.<br>"
          ],
          [
           "A genetic engineering student tries to bring back the skills<br>of a legend of the past and use his skills<br>to save India from a deadly virus attack by China.<br>"
          ],
          [
           "When the galaxy comes under the threat of a nefarious<br>space captain, a mechanic and his newfound robot ally join<br>an elite squad of combatants to save the universe.<br>"
          ],
          [
           "After a space merchant vessel receives an unknown transmission as<br>a distress call, one of the crew is attacked by<br>a mysterious life form and they soon realize that its<br>life cycle has merely begun.<br>"
          ],
          [
           "An unsuspecting, disenchanted man finds himself working as a spy<br>in the dangerous, high-stakes world of corporate espionage. Quickly getting<br>way over-his-head, he teams up with a mysterious femme fatale.<br>"
          ],
          [
           "Orphaned high school student Rick Riker is bitten by a<br>radioactive dragonfly, develops super powers (except for the ability to<br>fly), and becomes a hero.<br>"
          ],
          [
           "Two Russians push the wrong button on a strange device<br>and end up on the telepathic planet Pluke with its<br>strange societal norms.<br>"
          ],
          [
           "James Bond investigates the mid-air theft of a space shuttle,<br>and discovers a plot to commit global genocide.<br>"
          ],
          [
           "Bank clerk Stanley Ipkiss is transformed into a manic superhero<br>when he wears a mysterious mask.<br>"
          ],
          [
           "A simpleton inventor becomes a superhero with a bulletproof costume<br>and a low budget.<br>"
          ],
          [
           "A friendship with a top-secret robot turns a lonely girl's<br>life into a thrilling adventure as they take on bullies,<br>evil bots and a scheming madman.<br>"
          ],
          [
           "Two young brothers are drawn into an intergalactic adventure when<br>their house is hurled through the depths of space by<br>the magical board game they are playing.<br>"
          ],
          [
           "A seemingly normal young boy turns out to be a<br>top secret, military-created robot with superhuman abilities.<br>"
          ],
          [
           "Blair, a fighter pilot, joins an interstellar war to fight<br>the evil Kilrathi who are trying to destroy the universe.<br>"
          ],
          [
           "Strange lights descend on the city of Los Angeles, drawing<br>people outside like moths to a flame where an extraterrestrial<br>force threatens to swallow the entire human population off the<br>face of the Earth.<br>"
          ],
          [
           "The first human born on Mars travels to Earth for<br>the first time, experiencing the wonders of the planet through<br>fresh eyes. He embarks on an adventure with a street-smart<br>girl to discover how he came to be.<br>"
          ],
          [
           "Set in the near-future, technology controls nearly all aspects of<br>life. But when the world of Grey, a self-labeled technophobe,<br>is turned upside down, his only hope for revenge is<br>an experimental computer chip implant.<br>"
          ],
          [
           "A rescue crew investigates a spaceship that disappeared into a<br>black hole and has now returned...with someone or something new<br>on-board.<br>"
          ],
          [
           "Jean-Baptiste Grenouille, born with a superior olfactory sense, creates the<br>world's finest perfume. His work, however, takes a dark turn<br>as he searches for the ultimate scent.<br>"
          ],
          [
           "With their 400-day mission simulation nearing completion, 4 astronauts begin<br>to feel something's amiss.<br>"
          ],
          [
           "A man spends a summer day swimming as many pools<br>as he can all over a quiet suburban town.<br>"
          ],
          [
           "For generations, the people of the City of Ember have<br>flourished in an amazing world of glittering lights. But Ember's<br>once powerful generator is failing and the great lamps that<br>illuminate the city are starting to flicker.<br>"
          ],
          [
           "An alien trying to escape from NASA is befriended by<br>a wheelchair-bound boy.<br>"
          ],
          [
           "After discovering that an asteroid the size of Texas is<br>going to impact Earth in less than a month, NASA<br>recruits a misfit team of deep-core drillers to save the<br>planet.<br>"
          ],
          [
           "The idealist William Wilberforce (Ioan Gruffudd) maneuvers his way through<br>Parliament, endeavoring to end the British transatlantic slave trade.<br>"
          ],
          [
           "Roy Neary, an electric lineman, watches how his quiet and<br>ordinary daily life turns upside down after a close encounter<br>with a UFO.<br>"
          ]
         ],
         "hovertemplate": "cluster_size=12 | 29<br>dim_1=%{x}<br>dim_2=%{y}<br>centroid_name=%{text}<br>description=%{customdata[0]}<extra></extra>",
         "legendgroup": "12 | 29",
         "marker": {
          "color": "#B6E880",
          "symbol": "circle"
         },
         "mode": "markers+text",
         "name": "12 | 29",
         "orientation": "v",
         "showlegend": true,
         "text": [
          " ",
          " ",
          " ",
          " ",
          " ",
          " ",
          " ",
          " ",
          " ",
          " ",
          " ",
          " ",
          " ",
          " ",
          " ",
          " ",
          " ",
          " ",
          " ",
          " ",
          " ",
          " ",
          " ",
          " ",
          " ",
          " ",
          " ",
          " ",
          " "
         ],
         "type": "scatter",
         "x": [
          -1.322094202041626,
          -0.20158518850803375,
          -0.48137983679771423,
          -0.4431327283382416,
          -0.4866681396961212,
          -1.148869514465332,
          -1.3815287351608276,
          -0.3999054729938507,
          -0.7209481596946716,
          -1.3198683261871338,
          -1.3170794248580933,
          -0.6536805629730225,
          -0.7386044859886169,
          -0.44545963406562805,
          -0.4160020351409912,
          -0.5549206137657166,
          -1.274533987045288,
          0.7471795678138733,
          -0.21030697226524353,
          -0.610477864742279,
          -1.2726216316223145,
          -0.8263698816299438,
          -1.3227624893188477,
          -0.23021739721298218,
          0.8484017848968506,
          -1.1957528591156006,
          -1.2027318477630615,
          -0.9769828915596008,
          -0.9569060802459717
         ],
         "xaxis": "x",
         "y": [
          4.760012149810791,
          5.265100955963135,
          4.966598033905029,
          5.111417770385742,
          4.811133861541748,
          4.871735572814941,
          4.655422210693359,
          3.224621295928955,
          4.704275608062744,
          4.76266622543335,
          4.640082359313965,
          4.197999477386475,
          4.600132465362549,
          5.007824897766113,
          5.024325370788574,
          4.929036617279053,
          4.767651557922363,
          4.939958095550537,
          5.187600135803223,
          4.832571506500244,
          4.819949150085449,
          4.8806962966918945,
          4.797236442565918,
          4.934506416320801,
          5.011679649353027,
          4.8693318367004395,
          4.769981861114502,
          4.758723258972168,
          4.867053508758545
         ],
         "yaxis": "y"
        },
        {
         "customdata": [
          [
           "A struggling dentist's life is turned upside down when a<br>famous gangster moves in next door, and his wife convinces<br>him to inform a notorious mob boss about the gangster's<br>whereabouts.<br>"
          ],
          [
           "Domestic and professional tensions mount when a husband and wife<br>work as opposing lawyers in a case involving a woman<br>who shot her husband.<br>"
          ],
          [
           "A young woman fakes her own death in an attempt<br>to escape her nightmarish marriage, but discovers it is impossible<br>to elude her controlling husband.<br>"
          ],
          [
           "Two women are arrested for smuggling while vacationing in Thailand.<br>"
          ],
          [
           "A realtor and his wife and children are summoned to<br>a mansion, which they soon discover is haunted, and while<br>they attempt to escape, he learns an important lesson about<br>the family he has neglected.<br>"
          ],
          [
           "A psychiatrist, living in Vienna, enters a torrid relationship with<br>a married woman. When she ends up in the hospital<br>from an overdose, an inspector becomes set on discovering the<br>demise of their affair.<br>"
          ],
          [
           "A bounty hunter learns that his next target is his<br>ex-wife, a reporter working on a murder cover-up. Soon after<br>their reunion, the always-at-odds duo find themselves on a run-for-their-lives<br>adventure.<br>"
          ],
          [
           "5 years after a mom's 6 y.o. girl is murdered,<br>she gets a phone call from someone claiming to be<br>the daughter. An ex cop and a reporter help. A<br>secret group called The Nameless may be behind it all.<br>"
          ],
          [
           "An unstable escaped convict terrorizes a woman who is alone<br>with her two children.<br>"
          ],
          [
           "Two business executives--one an avowed misogynist, the other recently emotionally<br>wounded by his love interest--set out to exact revenge on<br>the female gender by seeking out the most innocent, uncorrupted<br>girl they can find and ruining her life.<br>"
          ],
          [
           "Laura Palmer's harrowing final days are chronicled one year after<br>the murder of Teresa Banks, a resident of Twin Peaks'<br>neighboring town.<br>"
          ],
          [
           "A reporter and her ex-husband investigate a cursed video tape<br>that is rumored to kill the viewer seven days after<br>watching it.<br>"
          ],
          [
           "A woman subject to mental, physical and sexual abuse on<br>a remote island seeks a way out.<br>"
          ],
          [
           "The story of a girl who is willing to do<br>anything to become Valedictorian, even if it means murdering the<br>teacher that stands in her way.<br>"
          ],
          [
           "The wife and mistress of the sadistic dean of an<br>exclusive prep school conspire to murder him.<br>"
          ],
          [
           "A woman advertising for a new roommate finds that something<br>very strange is going on with the tenant who decides<br>to move in.<br>"
          ],
          [
           "The lives of four people intersect in Mumbai: a washer-man<br>who wants to become an actor, a banker-turned-photographer, a painter<br>looking for inspiration, and a newly-married immigrant who journals her<br>experiences on home video.<br>"
          ],
          [
           "A woman's survivor's guilt from a Columbine-like event twenty years<br>ago causes her present-day idyllic life to fall apart.<br>"
          ],
          [
           "A cover-up spanning four U.S. Presidents pushes the country's first<br>female newspaper publisher and her editor to join an unprecedented<br>battle between press and government.<br>"
          ],
          [
           "While both participating in a production of \"Death of a<br>Salesman,\" a teacher's wife is assaulted in her new home,<br>which leaves him determined to find the perpetrator over his<br>wife's traumatized objections.<br>"
          ],
          [
           "Julie Kohler is prevented from suicide by her mother. She<br>leaves the town. She will track down, charm and kill<br>five men who do not know her. What is her<br>goal? What is her purpose?<br>"
          ],
          [
           "A well meaning crack shot husband is pressured by his<br>beautiful marksman wife to go on an interstate robbery spree,<br>where he finds out just how depraved and deadly she<br>really is.<br>"
          ],
          [
           "After her humiliated husband kills himself, an embittered pregnant widow<br>loses her child, and embarks on a mission of vengeance<br>against a woman and her family.<br>"
          ]
         ],
         "hovertemplate": "cluster_size=6 | 23<br>dim_1=%{x}<br>dim_2=%{y}<br>centroid_name=%{text}<br>description=%{customdata[0]}<extra></extra>",
         "legendgroup": "6 | 23",
         "marker": {
          "color": "#FF97FF",
          "symbol": "circle"
         },
         "mode": "markers+text",
         "name": "6 | 23",
         "orientation": "v",
         "showlegend": true,
         "text": [
          " ",
          " ",
          " ",
          " ",
          " ",
          " ",
          " ",
          " ",
          " ",
          " ",
          " ",
          " ",
          " ",
          " ",
          " ",
          " ",
          " ",
          " ",
          " ",
          " ",
          " ",
          " ",
          " "
         ],
         "type": "scatter",
         "x": [
          5.872899055480957,
          5.973371982574463,
          6.082127571105957,
          5.9223408699035645,
          6.627120018005371,
          6.074599266052246,
          3.6072654724121094,
          4.044893264770508,
          6.258022308349609,
          6.415712356567383,
          3.7476108074188232,
          3.8551855087280273,
          6.057966709136963,
          6.005475997924805,
          5.9512810707092285,
          5.898914337158203,
          8.884758949279785,
          6.36413049697876,
          9.07371997833252,
          6.010485649108887,
          6.107640743255615,
          5.925053119659424,
          6.030808925628662
         ],
         "xaxis": "x",
         "y": [
          0.640291154384613,
          0.5389009118080139,
          0.6048667430877686,
          0.7425389289855957,
          1.5628899335861206,
          1.149335265159607,
          -0.3694040775299072,
          3.922362804412842,
          0.7712507247924805,
          1.0816068649291992,
          -0.3197813034057617,
          -0.2850112318992615,
          0.8723339438438416,
          0.4547310769557953,
          0.45586955547332764,
          1.575845718383789,
          2.4121463298797607,
          1.0325523614883423,
          2.3674120903015137,
          0.5117093324661255,
          0.5834650993347168,
          0.5693755745887756,
          0.5609394311904907
         ],
         "yaxis": "y"
        },
        {
         "customdata": [
          [
           "A dying gunfighter spends his last days looking for a<br>way to die with a minimum of pain and a<br>maximum of dignity.<br>"
          ],
          [
           "When his peaceful life is threatened by a high-tech assassin,<br>former black-ops agent Frank Moses reassembles his old team in<br>a last-ditch effort to survive and uncover his assailants.<br>"
          ],
          [
           "A hunter squares off against a killer whale seeking vengeance<br>for the death of its mate.<br>"
          ],
          [
           "A soldier fighting aliens gets to relive the same day<br>over and over again, the day restarting every time he<br>dies.<br>"
          ],
          [
           "Based on the real-life event, when a gold and copper<br>mine collapses, it traps 33 miners underground for 69 days.<br>"
          ],
          [
           "A suicidally disillusioned liberal politician puts a contract out on<br>himself and takes the opportunity to be bluntly honest with<br>his voters by affecting the rhythms and speech of hip-hop<br>music and culture.<br>"
          ],
          [
           "An idyllic science fiction future has one major drawback: life<br>must end at the age of thirty.<br>"
          ],
          [
           "A comet wipes out most of life on Earth, leaving<br>two Valley Girls fighting against cannibal zombies and a sinister<br>group of scientists.<br>"
          ],
          [
           "The unburied dead return to life and seek human victims.<br>"
          ],
          [
           "At the end of the Civil War, a colonel hunts<br>down a man with whom he has a grudge.<br>"
          ],
          [
           "An Iranian man drives his truck in search of someone<br>who will quietly bury him under a cherry tree after<br>he commits suicide.<br>"
          ],
          [
           "Events over the course of one traumatic night in Paris<br>unfold in reverse-chronological order as the beautiful Alex is brutally<br>raped and beaten by a stranger in the underpass.<br>"
          ],
          [
           "A bike stuntman recalls his previous life as a warrior,<br>and pursues his love's reincarnation. A sinister figure from their<br>shared past threatens to separate them forever.<br>"
          ],
          [
           "In a desolate war zone where screams of the innocent<br>echo, seven Maroon Berets will dance with death on the<br>very line between disaster and valor.<br>"
          ]
         ],
         "hovertemplate": "cluster_size=1 | 14<br>dim_1=%{x}<br>dim_2=%{y}<br>centroid_name=%{text}<br>description=%{customdata[0]}<extra></extra>",
         "legendgroup": "1 | 14",
         "marker": {
          "color": "#FECB52",
          "symbol": "circle"
         },
         "mode": "markers+text",
         "name": "1 | 14",
         "orientation": "v",
         "showlegend": true,
         "text": [
          " ",
          " ",
          " ",
          " ",
          " ",
          " ",
          " ",
          " ",
          " ",
          " ",
          " ",
          " ",
          " ",
          " "
         ],
         "type": "scatter",
         "x": [
          0.790664553642273,
          0.7660427689552307,
          0.9731521606445312,
          0.7667325139045715,
          0.9999477863311768,
          1.1643657684326172,
          0.9631989598274231,
          1.1803499460220337,
          0.8427698016166687,
          0.7090288996696472,
          0.840972363948822,
          3.083510398864746,
          0.8403351902961731,
          1.213197946548462
         ],
         "xaxis": "x",
         "y": [
          4.333107948303223,
          3.985766649246216,
          4.337677478790283,
          4.48096227645874,
          4.638869285583496,
          4.185307502746582,
          4.361762046813965,
          4.537667274475098,
          4.511514663696289,
          4.118132591247559,
          4.361131191253662,
          -0.4079856872558594,
          4.343578338623047,
          4.49144983291626
         ],
         "yaxis": "y"
        },
        {
         "customdata": [
          [
           null
          ],
          [
           null
          ],
          [
           null
          ],
          [
           null
          ],
          [
           null
          ],
          [
           null
          ],
          [
           null
          ],
          [
           null
          ],
          [
           null
          ],
          [
           null
          ],
          [
           null
          ],
          [
           null
          ],
          [
           null
          ],
          [
           null
          ],
          [
           null
          ],
          [
           null
          ],
          [
           null
          ],
          [
           null
          ],
          [
           null
          ],
          [
           null
          ]
         ],
         "hovertemplate": "cluster_size=centroids<br>dim_1=%{x}<br>dim_2=%{y}<br>centroid_name=%{text}<br>description=%{customdata[0]}<extra></extra>",
         "legendgroup": "centroids",
         "marker": {
          "color": "#636efa",
          "symbol": "circle"
         },
         "mode": "markers+text",
         "name": "centroids",
         "orientation": "v",
         "showlegend": true,
         "text": [
          "0 - true story | young woman",
          "1 - civil war",
          "10 - football team | high school | good friend",
          "11 - treasure map | civil war | new york",
          "12 - young boy | los angeles | high school",
          "13 - los angeles | gang leader | new york",
          "14 - good friend",
          "15 - new life | young woman",
          "16 - single mother | young woman | fbi agent",
          "17 - old daughter | beautiful woman | old friend",
          "18 - serial killer | international conspiracy | jacques clouseau",
          "19 - beautiful woman | young woman | high school",
          "2 - young man | summer camp | young boy",
          "3 - summer camp | new york | young man",
          "4 - small town",
          "5 - hong kong | gang leader | jacques clouseau",
          "6 - young woman",
          "7 - high school | york city | old friend",
          "8 - old daughter | new life | new york",
          "9 - war ii | world war | jack sparrow"
         ],
         "type": "scatter",
         "x": [
          10.216236114501953,
          1.0810191631317139,
          2.782153844833374,
          1.7298264503479004,
          -0.7074416875839233,
          2.7389731407165527,
          8.058767318725586,
          3.828082799911499,
          5.355143070220947,
          11.838939666748047,
          2.06428861618042,
          8.396735191345215,
          5.643063545227051,
          3.835359811782837,
          3.290586471557617,
          1.1931540966033936,
          5.947451591491699,
          10.744738578796387,
          7.00980281829834,
          -1.0070316791534424
         ],
         "xaxis": "x",
         "y": [
          3.1417617797851562,
          4.019924163818359,
          3.5820398330688477,
          5.644534111022949,
          4.792045593261719,
          1.0499554872512817,
          5.07431697845459,
          4.170340538024902,
          2.414537191390991,
          3.7122268676757812,
          0.11797378212213516,
          2.7986488342285156,
          4.038973331451416,
          2.646352529525757,
          5.499459743499756,
          2.2250819206237793,
          0.9320098757743835,
          4.423893451690674,
          2.492509603500366,
          3.1175808906555176
         ],
         "yaxis": "y"
        }
       ],
       "layout": {
        "height": 1000,
        "legend": {
         "title": {
          "text": "cluster_size"
         },
         "tracegroupgap": 0
        },
        "margin": {
         "t": 60
        },
        "template": {
         "data": {
          "bar": [
           {
            "error_x": {
             "color": "#2a3f5f"
            },
            "error_y": {
             "color": "#2a3f5f"
            },
            "marker": {
             "line": {
              "color": "#E5ECF6",
              "width": 0.5
             },
             "pattern": {
              "fillmode": "overlay",
              "size": 10,
              "solidity": 0.2
             }
            },
            "type": "bar"
           }
          ],
          "barpolar": [
           {
            "marker": {
             "line": {
              "color": "#E5ECF6",
              "width": 0.5
             },
             "pattern": {
              "fillmode": "overlay",
              "size": 10,
              "solidity": 0.2
             }
            },
            "type": "barpolar"
           }
          ],
          "carpet": [
           {
            "aaxis": {
             "endlinecolor": "#2a3f5f",
             "gridcolor": "white",
             "linecolor": "white",
             "minorgridcolor": "white",
             "startlinecolor": "#2a3f5f"
            },
            "baxis": {
             "endlinecolor": "#2a3f5f",
             "gridcolor": "white",
             "linecolor": "white",
             "minorgridcolor": "white",
             "startlinecolor": "#2a3f5f"
            },
            "type": "carpet"
           }
          ],
          "choropleth": [
           {
            "colorbar": {
             "outlinewidth": 0,
             "ticks": ""
            },
            "type": "choropleth"
           }
          ],
          "contour": [
           {
            "colorbar": {
             "outlinewidth": 0,
             "ticks": ""
            },
            "colorscale": [
             [
              0,
              "#0d0887"
             ],
             [
              0.1111111111111111,
              "#46039f"
             ],
             [
              0.2222222222222222,
              "#7201a8"
             ],
             [
              0.3333333333333333,
              "#9c179e"
             ],
             [
              0.4444444444444444,
              "#bd3786"
             ],
             [
              0.5555555555555556,
              "#d8576b"
             ],
             [
              0.6666666666666666,
              "#ed7953"
             ],
             [
              0.7777777777777778,
              "#fb9f3a"
             ],
             [
              0.8888888888888888,
              "#fdca26"
             ],
             [
              1,
              "#f0f921"
             ]
            ],
            "type": "contour"
           }
          ],
          "contourcarpet": [
           {
            "colorbar": {
             "outlinewidth": 0,
             "ticks": ""
            },
            "type": "contourcarpet"
           }
          ],
          "heatmap": [
           {
            "colorbar": {
             "outlinewidth": 0,
             "ticks": ""
            },
            "colorscale": [
             [
              0,
              "#0d0887"
             ],
             [
              0.1111111111111111,
              "#46039f"
             ],
             [
              0.2222222222222222,
              "#7201a8"
             ],
             [
              0.3333333333333333,
              "#9c179e"
             ],
             [
              0.4444444444444444,
              "#bd3786"
             ],
             [
              0.5555555555555556,
              "#d8576b"
             ],
             [
              0.6666666666666666,
              "#ed7953"
             ],
             [
              0.7777777777777778,
              "#fb9f3a"
             ],
             [
              0.8888888888888888,
              "#fdca26"
             ],
             [
              1,
              "#f0f921"
             ]
            ],
            "type": "heatmap"
           }
          ],
          "heatmapgl": [
           {
            "colorbar": {
             "outlinewidth": 0,
             "ticks": ""
            },
            "colorscale": [
             [
              0,
              "#0d0887"
             ],
             [
              0.1111111111111111,
              "#46039f"
             ],
             [
              0.2222222222222222,
              "#7201a8"
             ],
             [
              0.3333333333333333,
              "#9c179e"
             ],
             [
              0.4444444444444444,
              "#bd3786"
             ],
             [
              0.5555555555555556,
              "#d8576b"
             ],
             [
              0.6666666666666666,
              "#ed7953"
             ],
             [
              0.7777777777777778,
              "#fb9f3a"
             ],
             [
              0.8888888888888888,
              "#fdca26"
             ],
             [
              1,
              "#f0f921"
             ]
            ],
            "type": "heatmapgl"
           }
          ],
          "histogram": [
           {
            "marker": {
             "pattern": {
              "fillmode": "overlay",
              "size": 10,
              "solidity": 0.2
             }
            },
            "type": "histogram"
           }
          ],
          "histogram2d": [
           {
            "colorbar": {
             "outlinewidth": 0,
             "ticks": ""
            },
            "colorscale": [
             [
              0,
              "#0d0887"
             ],
             [
              0.1111111111111111,
              "#46039f"
             ],
             [
              0.2222222222222222,
              "#7201a8"
             ],
             [
              0.3333333333333333,
              "#9c179e"
             ],
             [
              0.4444444444444444,
              "#bd3786"
             ],
             [
              0.5555555555555556,
              "#d8576b"
             ],
             [
              0.6666666666666666,
              "#ed7953"
             ],
             [
              0.7777777777777778,
              "#fb9f3a"
             ],
             [
              0.8888888888888888,
              "#fdca26"
             ],
             [
              1,
              "#f0f921"
             ]
            ],
            "type": "histogram2d"
           }
          ],
          "histogram2dcontour": [
           {
            "colorbar": {
             "outlinewidth": 0,
             "ticks": ""
            },
            "colorscale": [
             [
              0,
              "#0d0887"
             ],
             [
              0.1111111111111111,
              "#46039f"
             ],
             [
              0.2222222222222222,
              "#7201a8"
             ],
             [
              0.3333333333333333,
              "#9c179e"
             ],
             [
              0.4444444444444444,
              "#bd3786"
             ],
             [
              0.5555555555555556,
              "#d8576b"
             ],
             [
              0.6666666666666666,
              "#ed7953"
             ],
             [
              0.7777777777777778,
              "#fb9f3a"
             ],
             [
              0.8888888888888888,
              "#fdca26"
             ],
             [
              1,
              "#f0f921"
             ]
            ],
            "type": "histogram2dcontour"
           }
          ],
          "mesh3d": [
           {
            "colorbar": {
             "outlinewidth": 0,
             "ticks": ""
            },
            "type": "mesh3d"
           }
          ],
          "parcoords": [
           {
            "line": {
             "colorbar": {
              "outlinewidth": 0,
              "ticks": ""
             }
            },
            "type": "parcoords"
           }
          ],
          "pie": [
           {
            "automargin": true,
            "type": "pie"
           }
          ],
          "scatter": [
           {
            "marker": {
             "colorbar": {
              "outlinewidth": 0,
              "ticks": ""
             }
            },
            "type": "scatter"
           }
          ],
          "scatter3d": [
           {
            "line": {
             "colorbar": {
              "outlinewidth": 0,
              "ticks": ""
             }
            },
            "marker": {
             "colorbar": {
              "outlinewidth": 0,
              "ticks": ""
             }
            },
            "type": "scatter3d"
           }
          ],
          "scattercarpet": [
           {
            "marker": {
             "colorbar": {
              "outlinewidth": 0,
              "ticks": ""
             }
            },
            "type": "scattercarpet"
           }
          ],
          "scattergeo": [
           {
            "marker": {
             "colorbar": {
              "outlinewidth": 0,
              "ticks": ""
             }
            },
            "type": "scattergeo"
           }
          ],
          "scattergl": [
           {
            "marker": {
             "colorbar": {
              "outlinewidth": 0,
              "ticks": ""
             }
            },
            "type": "scattergl"
           }
          ],
          "scattermapbox": [
           {
            "marker": {
             "colorbar": {
              "outlinewidth": 0,
              "ticks": ""
             }
            },
            "type": "scattermapbox"
           }
          ],
          "scatterpolar": [
           {
            "marker": {
             "colorbar": {
              "outlinewidth": 0,
              "ticks": ""
             }
            },
            "type": "scatterpolar"
           }
          ],
          "scatterpolargl": [
           {
            "marker": {
             "colorbar": {
              "outlinewidth": 0,
              "ticks": ""
             }
            },
            "type": "scatterpolargl"
           }
          ],
          "scatterternary": [
           {
            "marker": {
             "colorbar": {
              "outlinewidth": 0,
              "ticks": ""
             }
            },
            "type": "scatterternary"
           }
          ],
          "surface": [
           {
            "colorbar": {
             "outlinewidth": 0,
             "ticks": ""
            },
            "colorscale": [
             [
              0,
              "#0d0887"
             ],
             [
              0.1111111111111111,
              "#46039f"
             ],
             [
              0.2222222222222222,
              "#7201a8"
             ],
             [
              0.3333333333333333,
              "#9c179e"
             ],
             [
              0.4444444444444444,
              "#bd3786"
             ],
             [
              0.5555555555555556,
              "#d8576b"
             ],
             [
              0.6666666666666666,
              "#ed7953"
             ],
             [
              0.7777777777777778,
              "#fb9f3a"
             ],
             [
              0.8888888888888888,
              "#fdca26"
             ],
             [
              1,
              "#f0f921"
             ]
            ],
            "type": "surface"
           }
          ],
          "table": [
           {
            "cells": {
             "fill": {
              "color": "#EBF0F8"
             },
             "line": {
              "color": "white"
             }
            },
            "header": {
             "fill": {
              "color": "#C8D4E3"
             },
             "line": {
              "color": "white"
             }
            },
            "type": "table"
           }
          ]
         },
         "layout": {
          "annotationdefaults": {
           "arrowcolor": "#2a3f5f",
           "arrowhead": 0,
           "arrowwidth": 1
          },
          "autotypenumbers": "strict",
          "coloraxis": {
           "colorbar": {
            "outlinewidth": 0,
            "ticks": ""
           }
          },
          "colorscale": {
           "diverging": [
            [
             0,
             "#8e0152"
            ],
            [
             0.1,
             "#c51b7d"
            ],
            [
             0.2,
             "#de77ae"
            ],
            [
             0.3,
             "#f1b6da"
            ],
            [
             0.4,
             "#fde0ef"
            ],
            [
             0.5,
             "#f7f7f7"
            ],
            [
             0.6,
             "#e6f5d0"
            ],
            [
             0.7,
             "#b8e186"
            ],
            [
             0.8,
             "#7fbc41"
            ],
            [
             0.9,
             "#4d9221"
            ],
            [
             1,
             "#276419"
            ]
           ],
           "sequential": [
            [
             0,
             "#0d0887"
            ],
            [
             0.1111111111111111,
             "#46039f"
            ],
            [
             0.2222222222222222,
             "#7201a8"
            ],
            [
             0.3333333333333333,
             "#9c179e"
            ],
            [
             0.4444444444444444,
             "#bd3786"
            ],
            [
             0.5555555555555556,
             "#d8576b"
            ],
            [
             0.6666666666666666,
             "#ed7953"
            ],
            [
             0.7777777777777778,
             "#fb9f3a"
            ],
            [
             0.8888888888888888,
             "#fdca26"
            ],
            [
             1,
             "#f0f921"
            ]
           ],
           "sequentialminus": [
            [
             0,
             "#0d0887"
            ],
            [
             0.1111111111111111,
             "#46039f"
            ],
            [
             0.2222222222222222,
             "#7201a8"
            ],
            [
             0.3333333333333333,
             "#9c179e"
            ],
            [
             0.4444444444444444,
             "#bd3786"
            ],
            [
             0.5555555555555556,
             "#d8576b"
            ],
            [
             0.6666666666666666,
             "#ed7953"
            ],
            [
             0.7777777777777778,
             "#fb9f3a"
            ],
            [
             0.8888888888888888,
             "#fdca26"
            ],
            [
             1,
             "#f0f921"
            ]
           ]
          },
          "colorway": [
           "#636efa",
           "#EF553B",
           "#00cc96",
           "#ab63fa",
           "#FFA15A",
           "#19d3f3",
           "#FF6692",
           "#B6E880",
           "#FF97FF",
           "#FECB52"
          ],
          "font": {
           "color": "#2a3f5f"
          },
          "geo": {
           "bgcolor": "white",
           "lakecolor": "white",
           "landcolor": "#E5ECF6",
           "showlakes": true,
           "showland": true,
           "subunitcolor": "white"
          },
          "hoverlabel": {
           "align": "left"
          },
          "hovermode": "closest",
          "mapbox": {
           "style": "light"
          },
          "paper_bgcolor": "white",
          "plot_bgcolor": "#E5ECF6",
          "polar": {
           "angularaxis": {
            "gridcolor": "white",
            "linecolor": "white",
            "ticks": ""
           },
           "bgcolor": "#E5ECF6",
           "radialaxis": {
            "gridcolor": "white",
            "linecolor": "white",
            "ticks": ""
           }
          },
          "scene": {
           "xaxis": {
            "backgroundcolor": "#E5ECF6",
            "gridcolor": "white",
            "gridwidth": 2,
            "linecolor": "white",
            "showbackground": true,
            "ticks": "",
            "zerolinecolor": "white"
           },
           "yaxis": {
            "backgroundcolor": "#E5ECF6",
            "gridcolor": "white",
            "gridwidth": 2,
            "linecolor": "white",
            "showbackground": true,
            "ticks": "",
            "zerolinecolor": "white"
           },
           "zaxis": {
            "backgroundcolor": "#E5ECF6",
            "gridcolor": "white",
            "gridwidth": 2,
            "linecolor": "white",
            "showbackground": true,
            "ticks": "",
            "zerolinecolor": "white"
           }
          },
          "shapedefaults": {
           "line": {
            "color": "#2a3f5f"
           }
          },
          "ternary": {
           "aaxis": {
            "gridcolor": "white",
            "linecolor": "white",
            "ticks": ""
           },
           "baxis": {
            "gridcolor": "white",
            "linecolor": "white",
            "ticks": ""
           },
           "bgcolor": "#E5ECF6",
           "caxis": {
            "gridcolor": "white",
            "linecolor": "white",
            "ticks": ""
           }
          },
          "title": {
           "x": 0.05
          },
          "xaxis": {
           "automargin": true,
           "gridcolor": "white",
           "linecolor": "white",
           "ticks": "",
           "title": {
            "standoff": 15
           },
           "zerolinecolor": "white",
           "zerolinewidth": 2
          },
          "yaxis": {
           "automargin": true,
           "gridcolor": "white",
           "linecolor": "white",
           "ticks": "",
           "title": {
            "standoff": 15
           },
           "zerolinecolor": "white",
           "zerolinewidth": 2
          }
         }
        },
        "width": 1000,
        "xaxis": {
         "anchor": "y",
         "autorange": true,
         "domain": [
          0,
          1
         ],
         "range": [
          -2.787035871675785,
          13.109150816133793
         ],
         "title": {
          "text": "dim_1"
         },
         "type": "linear"
        },
        "yaxis": {
         "anchor": "x",
         "autorange": true,
         "domain": [
          0,
          1
         ],
         "range": [
          -1.002449497201438,
          6.573417767503257
         ],
         "title": {
          "text": "dim_2"
         },
         "type": "linear"
        }
       }
      },
      "image/png": "[encoded data removed]",
      "text/html": [
       "<div>                            <div id=\"7325ebf7-804b-40bb-83ff-5380eb9467dd\" class=\"plotly-graph-div\" style=\"height:1000px; width:1000px;\"></div>            <script type=\"text/javascript\">                require([\"plotly\"], function(Plotly) {                    window.PLOTLYENV=window.PLOTLYENV || {};                                    if (document.getElementById(\"7325ebf7-804b-40bb-83ff-5380eb9467dd\")) {                    Plotly.newPlot(                        \"7325ebf7-804b-40bb-83ff-5380eb9467dd\",                        [{\"customdata\":[[\"Two inseparable, hormonal, English BFF teen boys, avoided by all<br>others, head to Ibiza with Kevin's parents. Will they lose<br>their virginity there?<br>\"],[\"A pretty, popular teenager can't go out on a date<br>until her ill-tempered older sister does.<br>\"],[\"As adults, best friends Julien and Sophie continue the odd<br>game they started as children -- a fearless competition to<br>outdo one another with daring and outrageous stunts. While they<br>often act out to relieve one another's pain, their game<br>might be a way to avoid the fact that they<br>are truly meant for one another.<br>\"],[\"Several ordinary high school students go through their daily routine<br>as two others prepare for something more malevolent.<br>\"],[\"Over two \\\"typical\\\" days in the life of<br>\"],[\"One day in New York City, Jane Ryan tries out<br>for an overseas college program, her twin sister Roxy schemes<br>to meet her favorite punk rockers, and a series of<br>mishaps throws their day into ...<br>\"],[\"Three American college students studying abroad are lured to a<br>Slovakian hostel, and discover the grim reality behind it.<br>\"],[\"A trio of girls set out to change the male-dominated<br>environment of the Seven Oaks college campus, and to rescue<br>their fellow students from depression, grunge and low standards of<br>every kind.<br>\"],[\"A British college student falls for an American student, only<br>to be separated from him when she's banned from the<br>U.S. after overstaying her visa.<br>\"],[\"A high school has a tradition of dirty deeds the<br>night before homecoming (if there's any volunteer) where, to win,<br>the person performs 10 dirty deeds in 12 hours. Will<br>Harper make it?<br>\"],[\"16-year-old Jesse and old friend Randolph try to foil an<br>illegal whaler threatening Willy and his pregnant mate.<br>\"],[\"A high school wise guy is determined to have a<br>day off from school, despite what the Principal thinks of<br>that.<br>\"],[\"Bubble Boy's been in a bubble all his life due<br>to no immune system. A cute blonde girl befriends BB.<br>Her boyfriend proposes and BB decides to travel across USA<br>to Niagara Falls to stop the wedding.<br>\"],[\"Barry B. Benson, a bee just graduated from college, is<br>disillusioned at his lone career choice: making honey. On a<br>special trip outside the hive, Barry's life is saved by<br>Vanessa, a florist in New York City. As their relationship<br>blossoms, he discovers humans actually eat honey, and subsequently decides<br>to sue them.<br>\"],[\"Over the course of a few hectic days, numerous interrelated<br>people prepare for a political convention.<br>\"]],\"hovertemplate\":\"cluster_size=7 | 15<br>dim_1=%{x}<br>dim_2=%{y}<br>centroid_name=%{text}<br>description=%{customdata[0]}<extra></extra>\",\"legendgroup\":\"7 | 15\",\"marker\":{\"color\":\"#636efa\",\"symbol\":\"circle\"},\"mode\":\"markers+text\",\"name\":\"7 | 15\",\"orientation\":\"v\",\"showlegend\":true,\"text\":[\" \",\" \",\" \",\" \",\" \",\" \",\" \",\" \",\" \",\" \",\" \",\" \",\" \",\" \",\" \"],\"x\":[11.177863121032715,7.850567817687988,11.593792915344238,10.307609558105469,9.937165260314941,10.98495101928711,11.552192687988281,11.655364036560059,11.433331489562988,10.388862609863281,11.364911079406738,10.313315391540527,11.160015106201172,11.273608207702637,10.177534103393555],\"xaxis\":\"x\",\"y\":[4.59255838394165,2.689239740371704,4.5524373054504395,4.620788097381592,4.504359722137451,4.066460132598877,4.75283145904541,4.679052829742432,4.622805118560791,4.63604211807251,4.383217811584473,4.602766990661621,4.54935359954834,4.566518783569336,4.539968490600586],\"yaxis\":\"y\",\"type\":\"scatter\"},{\"customdata\":[[\"An unexpected romance blooms after the the youngest daughter of<br>a merchant who has fallen on hard times offers herself<br>to the mysterious beast to which her father has become<br>indebted.<br>\"],[\"An aging widow from New York City follows her daughter<br>to Los Angeles in hopes of starting a new life<br>after her husband passes away.<br>\"],[\"American-born Gogol, the son of Indian immigrants, wants to fit<br>in among his fellow New Yorkers, despite his family's unwillingness<br>to let go of their traditional ways.<br>\"],[\"Three parents try to stop their daughters from losing their<br>virginity on prom night.<br>\"],[\"A beautiful but shy shepherdess plots vengeance on the men<br>whose greedy conspiracy to acquire her father's land caused his<br>death years earlier.<br>\"],[\"A young orphan girl's adventures in finding a family that<br>will take her.<br>\"],[\"A perfect family's dynamic is ruined by a kidnapper's brutally<br>efficient plot.<br>\"],[\"When Joe is beat up by a co-worker in front<br>of his daughter on \\\"Bring Your Child To Work Day\\\",<br>he decides to fight back.<br>\"],[\"When his daughter is kidnapped, a retired assassin is drawn<br>back into the life he gave up. To rescue her,<br>he must confront his former rival.<br>\"],[\"A former boxer discovers that his biggest battle of all<br>is going to be with his ex-wife, Annie, who returns<br>after abandoning their young son seven years prior.<br>\"],[\"Upon learning that their mother has been lying to them<br>for years about their allegedly deceased father, two fraternal twin<br>brothers hit the road in order to find him.<br>\"],[\"Queen Cleopatra VII of Egypt experiences both triumph and tragedy<br>as she attempts to resist the imperial ambitions of Rome.<br>\"],[\"Brazilian chef Isabella Oliveira moves to San Francisco when her<br>husband, frustrated by her motion sickness, cheats on her.<br>\"],[\"A mousy romance novelist sets off for Colombia to ransom<br>her kidnapped sister, and soon finds herself in the middle<br>of a dangerous adventure hunting for treasure with a mercenary<br>rogue.<br>\"],[\"A couple struggles to visit all four of their divorced<br>parents on Christmas.<br>\"],[\"A young widow discovers that her late husband has left<br>her 10 messages intended to help ease her pain and<br>start a new life.<br>\"],[\"A recent widow invites her husband's troubled best friend to<br>live with her and her two children. As he gradually<br>turns his life around, he helps the family cope and<br>confront their loss.<br>\"],[\"After leaving jail, V\\u00edctor is still in love with Elena,<br>but she's married to the former cop -now basketball player-<br>who became paralysed by a shot from V\\u00edctor's gun...<br>\"],[\"A Kashmiri woman agrees to marry a Pakistani army officer<br>in order to spy on Pakistan during the Indo-Pakistan War<br>of 1971.<br>\"],[\"Despite trying to keep his swashbuckling to a minimum, a<br>threat to California's pending statehood causes the adventure-loving Don Alejandro<br>de la Vega and his wife, Elena, to take action.<br>\"],[\"While on a trip to Thailand, a successful American businessman<br>tries to radically change his life. Back in New York,<br>his wife and daughter find their relationship with their live-in<br>Filipino maid changing around them. At the same time, in<br>the Philippines, the maid's family struggles to deal with her<br>absence.<br>\"],[\"A couple find themselves in over their heads when they<br>foster three children.<br>\"],[\"A New Yorker's life is thrown into a tailspin when<br>his younger cousin surprise-visits him, starting a strange, unpredictable adventure.<br>\"],[\"The lives of two families change forever after a fatal<br>tragedy takes place on Reservation Road.<br>\"],[\"An East European girl travels to the United States with<br>her young son, expecting it to be like a Hollywood<br>film.<br>\"],[\"After withdrawing to the Chateau Marmont, a passionless Hollywood actor<br>reexamines his life when his eleven-year-old daughter surprises him with<br>a visit.<br>\"],[\"A surreal tale of a married couple going on a<br>road trip to visit the wife's parents with the intention<br>of killing them for the inheritance.<br>\"],[\"A teenage girl in the Midwest becomes infected by an<br>outbreak of a disease that slowly turns the infected into<br>cannibalistic zombies. During her transformation, her loving father stays by<br>her side.<br>\"],[\"In 1959, a widower hires a kindly housekeeper/nanny to care<br>for his seven-year-old daughter.<br>\"]],\"hovertemplate\":\"cluster_size=8 | 29<br>dim_1=%{x}<br>dim_2=%{y}<br>centroid_name=%{text}<br>description=%{customdata[0]}<extra></extra>\",\"legendgroup\":\"8 | 29\",\"marker\":{\"color\":\"#EF553B\",\"symbol\":\"circle\"},\"mode\":\"markers+text\",\"name\":\"8 | 29\",\"orientation\":\"v\",\"showlegend\":true,\"text\":[\" \",\" \",\" \",\" \",\" \",\" \",\" \",\" \",\" \",\" \",\" \",\" \",\" \",\" \",\" \",\" \",\" \",\" \",\" \",\" \",\" \",\" \",\" \",\" \",\" \",\" \",\" \",\" \",\" \"],\"x\":[7.02875280380249,7.335992336273193,7.431399345397949,7.723922252655029,6.958852767944336,7.417718410491943,6.896954536437988,6.154447555541992,6.135671138763428,6.0374345779418945,6.913917541503906,6.807009696960449,7.305118083953857,6.871527194976807,7.386659145355225,7.007591247558594,7.067952632904053,6.758616924285889,6.717861652374268,7.142033576965332,7.405601978302002,7.659989833831787,7.087609767913818,6.911801815032959,7.427717685699463,7.3407063484191895,6.84718132019043,6.845821857452393,6.6584153175354],\"xaxis\":\"x\",\"y\":[2.965451717376709,2.3740384578704834,2.5489399433135986,2.6591012477874756,2.7683143615722656,2.817645788192749,1.98305082321167,2.9200527667999268,2.7850863933563232,2.989370107650757,2.1832733154296875,2.647214651107788,2.2610881328582764,2.8083901405334473,2.561096429824829,1.9055042266845703,2.0124449729919434,1.9553308486938477,2.1105573177337646,2.1319706439971924,2.3688395023345947,2.6617448329925537,3.0785887241363525,1.9594640731811523,2.683861494064331,2.8823928833007812,1.883819341659546,2.8035926818847656,2.572549343109131],\"yaxis\":\"y\",\"type\":\"scatter\"},{\"customdata\":[[\"Benjamin Gates must follow a clue left in<br>\"],[\"A furloughed convict and his American and Chinese partners hunt<br>a high-level cybercrime network from Chicago to Los Angeles to<br>Hong Kong to Jakarta.<br>\"],[\"A detective from Hong Kong teams up with an American<br>gambler to battle against a notorious Chinese criminal.<br>\"],[\"Two con artists try to swindle a currency collector by<br>selling him a counterfeit copy of an extremely rare currency<br>bill.<br>\"],[\"The group of people gather at the house in Copenhagen<br>suburb to break all the limitations and to bring out<br>the \\\"inner idiot\\\" in themselves.<br>\"],[\"After a heist in South Korea, a gang of 5+1<br>fly to Hong Kong to look into a heist, in<br>a Macau casino, of a $30M diamond, planned by someone<br>unreliable. He brings in HK thieves as well. Can anyone<br>be trusted?<br>\"],[\"A demonic force has chosen Freddy Krueger as its portal<br>to the real world. Can<br>\"],[\"\\\"Rambo\\\" parody in which Topper Harley leads a rescue team<br>into Iraq to save Iraqi war prisoners and all of<br>their previous rescue teams.<br>\"],[\"Prison inmates form a football team to challenge the prison<br>guards.<br>\"],[\"Charles Dreyfus (Herbert Lom), who has finally cracked over Inspector<br>Jacques Clouseau's (Peter Sellers') antics, escapes from a mental institution<br>and launches an elaborate plan to get rid of Clouseau<br>once and for all.<br>\"],[\"Live-action role players conjure up a demon from Hell by<br>mistake and they must deal with the consequences.<br>\"],[\"During a team-building retreat in the mountains a group of<br>sales representatives are hunted down one by one.<br>\"],[\"A tough cop teams up with a professional skydiver to<br>capture a renegade computer hacker on the run from the<br>law.<br>\"],[\"The true story of an English boxer incarcerated in one<br>of Thailand's most notorious prisons as he fights in Muay<br>Thai tournaments to earn his freedom.<br>\"],[\"Santa Claus is actually a demon who lost a bet<br>with an Angel, so he becomes the giver of toys<br>and happiness. But when the bet is off, he returns<br>to his evil ways.<br>\"],[\"An aging gambler on a losing streak attempts to rob<br>a casino in Monte Carlo. But someone's already tipped off<br>the cops before he even makes a move.<br>\"],[\"In the future, a sadistic gang leader is imprisoned and<br>volunteers for a conduct-aversion experiment, but it doesn't go as<br>planned.<br>\"],[\"A virus spreads through an office complex causing white collar<br>workers to act out their worst impulses.<br>\"],[\"A group of motorists hear about a crook's hidden stash<br>of loot, and race against each other across the country<br>to get to it.<br>\"],[\"A detective must work with an Orc to find a<br>powerful wand before evil creatures do.<br>\"],[\"A temperamental figure skater and a former hockey player try<br>to win Olympic gold as a figure skating pairs team.<br>\"],[\"A hapless chauffeur must take a comatose Secret Agent's place<br>using his special gadget-laden tuxedo.<br>\"],[\"After being betrayed and left for dead in Italy, Charlie<br>Croker and his team plan an elaborate gold heist against<br>their former ally.<br>\"],[\"A new assignment forces a top spy to team up<br>with his football hooligan brother.<br>\"],[\"Immortals Connor and Duncan MacLeod must join forces against Kell,<br>an evil immortal who has become too strong for anyone<br>to face alone.<br>\"],[\"Ethan Hunt and his IMF team, along with some familiar<br>allies, race against time after a mission gone wrong.<br>\"]],\"hovertemplate\":\"cluster_size=5 | 26<br>dim_1=%{x}<br>dim_2=%{y}<br>centroid_name=%{text}<br>description=%{customdata[0]}<extra></extra>\",\"legendgroup\":\"5 | 26\",\"marker\":{\"color\":\"#00cc96\",\"symbol\":\"circle\"},\"mode\":\"markers+text\",\"name\":\"5 | 26\",\"orientation\":\"v\",\"showlegend\":true,\"text\":[\" \",\" \",\" \",\" \",\" \",\" \",\" \",\" \",\" \",\" \",\" \",\" \",\" \",\" \",\" \",\" \",\" \",\" \",\" \",\" \",\" \",\" \",\" \",\" \",\" \",\" \"],\"x\":[1.0822902917861938,1.6997712850570679,1.5411417484283447,1.6876333951950073,1.7129486799240112,1.639290690422058,0.5383124947547913,0.9204903244972229,1.4790458679199219,0.9890568256378174,0.6387059688568115,1.5680508613586426,1.651495337486267,0.9361303448677063,0.8116058111190796,1.4503724575042725,0.8140430450439453,1.600440263748169,1.6063225269317627,0.5421009063720703,1.4299112558364868,0.3704414367675781,1.0936214923858643,1.442201852798462,0.4972766637802124,1.2793034315109253],\"xaxis\":\"x\",\"y\":[2.7710049152374268,1.9220144748687744,2.185244083404541,2.49713134765625,2.2735397815704346,2.035310983657837,2.0469934940338135,2.7959353923797607,2.7701575756073,2.1968650817871094,1.9453957080841064,2.2052392959594727,1.9356344938278198,1.499103307723999,2.0643422603607178,2.1866650581359863,1.356355905532837,1.8977795839309692,2.235736846923828,2.0245988368988037,2.743314504623413,2.2277755737304688,2.5257840156555176,2.8298282623291016,1.9985394477844238,2.6818392276763916],\"yaxis\":\"y\",\"type\":\"scatter\"},{\"customdata\":[[\"An untested American submarine captain teams with U.S. Navy Seals<br>to rescue the Russian president, who has been kidnapped by<br>a rogue general.<br>\"],[\"A gun-for-hire known only as Agent 47 hired by a<br>group known only as 'The Organization' is ensnared in a<br>political conspiracy, which finds him pursued by both Interpol and<br>the Russian military as he treks across Russia and Eastern<br>Europe.<br>\"],[\"An elite military unit comprised of special operatives known as<br>G.I. Joe, operating out of The Pit, takes on an<br>evil organization led by a notorious arms dealer.<br>\"],[\"A United States Navy destroyer escort participates in a Navy<br>\\\"invisibility\\\" experiment that inadvertently sends two sailors forty years into<br>the future.<br>\"],[\"A drama centered on two fighters in the Holger Danske<br>World War II resistance group.<br>\"],[\"When Dusty learns that his engine is damaged and he<br>may never race again, he joins a forest fire and<br>rescue unit to be trained as a firefighter, or else<br>his air strip will be shut down.<br>\"],[\"After a collision with a shipping container at sea, a<br>resourceful sailor finds himself, despite all efforts to the contrary,<br>staring his mortality in the face.<br>\"],[\"Six months after the rage virus was inflicted on the<br>population of Great Britain, the US Army helps to secure<br>a small area of London for the survivors to repopulate<br>and start again. But not everything goes according to plan.<br>\"],[\"When a fisherman leaves to fight with the Greek army<br>during World War II, his fianc\\u00e9e falls in love with<br>the local Italian commander.<br>\"],[\"During the early years of Nazi occupation of France in<br>World War II, romance blooms between Lucile Angellier (<br>\"],[\"During the Cold War, a controversial television journalist is asked<br>by the C.I.A. to persuade certain acquaintances, who are Soviet<br>Agents of the Omega network, to defect.<br>\"],[\"The heroic story of two soldiers trapped in an ambush,<br>fighting for their lives.<br>\"],[\"To avoid a potentially explosive scandal when the U.S. President<br>goes into a coma, an affable temp agency owner with<br>an uncanny resemblance is put in his place.<br>\"],[\"After the fall of Tobruk in 1942, during the Allied<br>retreat in the Libyan desert, an American tank picks-up a<br>motley group of survivors but they face advancing Germans and<br>a lack of water.<br>\"],[\"Captain Barbossa, Will Turner and Elizabeth Swann must sail off<br>the edge of the map, navigate treachery and betrayal, find<br>Jack Sparrow, and make their final alliances for one last<br>decisive battle.<br>\"],[\"When a Las Vegas performer-turned-snitch named Buddy Israel decides to<br>turn state's evidence and testify against the mob, it seems<br>that a whole lot of people would like to make<br>sure he's no longer breathing.<br>\"],[\"A Secret Service Agent is held captive in the trunk<br>of a car and endures mental and physical torture as<br>terrorists attempt to extract information for their plot against the<br>President of the United States.<br>\"],[\"The story of two outlaws and a bounty hunter in<br>1940s Manchuria and their rivalry to possess a treasure map<br>while being pursued by the Japanese army and Chinese bandits.<br>\"],[\"A military special operations team, led by a CIA case<br>officer, are on a mission in the harsh and hostile<br>terrain of Afghanistan where they find themselves in a Middle<br>Eastern \\\"Bermuda Triangle\\\" of ancient evil.<br>\"],[\"The story of admiral Aleksandr Kolchak who remained faithful to<br>his oath to the Russian Emperor and fought against the<br>Bolshevik rule after the 1917 October Revolution.<br>\"],[\"In WWI Africa, a gin-swilling riverboat captain is persuaded by<br>a strait-laced missionary to use his boat to attack an<br>enemy warship.<br>\"],[\"When straight arrow FBI agent Roy Clayton heads up the<br>investigation into a dangerous international conspiracy, all clues seem to<br>lead back to former U.S. Special Operations officer, Samir Horn.<br>\"],[\"Neerja is the story of the courageous Neerja Bhanot, who<br>sacrificed her life while protecting the lives of 359 passengers<br>on the Pan Am flight 73 in 1986. The flight<br>was hijacked by a terrorist organization.<br>\"],[\"After a failed assassination attempt, a United States Marine finds<br>himself stranded in the desert. Exposed to the elements, he<br>must survive the dangers of the desert and battle the<br>psychological and physical tolls of the treacherous conditions.<br>\"],[\"A frustrated war correspondent, unable to find the war he's<br>been asked to cover, takes the risky path of coopting<br>the identity of a dead arms dealer acquaintance.<br>\"],[\"Bosnia and Herzegovina during 1993 at the time of the<br>heaviest fighting between the two warring sides. Two soldiers from<br>opposing sides in the conflict, Nino and Ciki, become trapped<br>in no man's land, whilst a third soldier becomes a<br>living booby trap.<br>\"],[\"The story follows a group of German soldiers, from their<br>Italian R&R in the summer of 1942 to the frozen<br>steppes of Soviet Russia and ending with the battle for<br>Stalingrad.<br>\"],[\"Blacksmith Will Turner teams up with eccentric pirate \\\"Captain\\\" Jack<br>Sparrow to save his love, the governor's daughter, from Jack's<br>former pirate allies, who are now undead.<br>\"],[\"A military officer uses his intellect and fighting skills to<br>hunt and knock down a terrorist aiming to rip apart<br>Mumbai via the sleeper cells under his command.<br>\"],[\"James Bond willingly falls into an assassination plot involving a<br>naive Russian beauty in order to retrieve a Soviet encryption<br>device that was stolen by S.P.E.C.T.R.E.<br>\"]],\"hovertemplate\":\"cluster_size=9 | 30<br>dim_1=%{x}<br>dim_2=%{y}<br>centroid_name=%{text}<br>description=%{customdata[0]}<extra></extra>\",\"legendgroup\":\"9 | 30\",\"marker\":{\"color\":\"#ab63fa\",\"symbol\":\"circle\"},\"mode\":\"markers+text\",\"name\":\"9 | 30\",\"orientation\":\"v\",\"showlegend\":true,\"text\":[\" \",\" \",\" \",\" \",\" \",\" \",\" \",\" \",\" \",\" \",\" \",\" \",\" \",\" \",\" \",\" \",\" \",\" \",\" \",\" \",\" \",\" \",\" \",\" \",\" \",\" \",\" \",\" \",\" \",\" \"],\"x\":[-1.0252639055252075,-0.6524239182472229,-0.7016704678535461,-1.2583999633789062,-1.8057053089141846,-0.6474371552467346,-1.0220129489898682,0.7665624618530273,-1.8057633638381958,-1.850797176361084,-0.24947811663150787,-1.8388701677322388,-0.4572654068470001,-1.7518188953399658,-0.7987191677093506,-0.3569541573524475,-0.5714524984359741,-1.7686196565628052,-0.6234175562858582,-1.6649610996246338,-1.3410621881484985,-0.4990699589252472,-1.8548258543014526,-0.8863207101821899,-0.16863128542900085,-1.7807217836380005,-1.7247883081436157,-0.5758318901062012,-0.5833596587181091,-0.7118704319000244],\"xaxis\":\"x\",\"y\":[3.1060588359832764,2.8399901390075684,2.9150240421295166,3.0863287448883057,3.0935733318328857,3.076852798461914,3.3309342861175537,4.787596702575684,3.0827832221984863,3.016602039337158,2.9611001014709473,3.1015939712524414,2.9149858951568604,3.128599166870117,3.6025121212005615,2.8125500679016113,2.8716392517089844,3.16841197013855,2.8973207473754883,3.018233060836792,3.100644111633301,2.9378325939178467,3.0572283267974854,3.007903814315796,3.046090841293335,3.094794988632202,3.0541470050811768,3.4825897216796875,2.884899854660034,3.0486080646514893],\"yaxis\":\"y\",\"type\":\"scatter\"},{\"customdata\":[[\"A historical drama that illustrates Russian author Leo Tolstoy's (Christopher<br>Plummer's) struggle to balance fame and wealth with his commitment<br>to a life devoid of material things.<br>\"],[\"An Asian cross-cultural trilogy of horror films from accomplished indie<br>directors.<br>\"],[\"Legendary explorer Thor Heyerdahl's epic 4,300-mile crossing of the Pacific<br>on a balsawood raft in 1947, in an effort to<br>prove that it was possible for South Americans to settle<br>in Polynesia in pre-Columbian times.<br>\"],[\"Nat Turner, a literate slave and preacher in the antebellum<br>South, orchestrates an uprising.<br>\"],[\"Eighteenth-century Spanish Jesuits try to protect a remote South American<br>tribe in danger of falling under the rule of pro-slavery<br>Portugal.<br>\"],[\"A retelling of the Orpheus and Eurydice myth, set during<br>the time of the Carnaval in Rio de Janeiro.<br>\"],[\"Four friends reunite to relive their moments of glory as<br>a rock band.<br>\"],[\"A collection of four Japanese folk tales with supernatural themes.<br>\"],[\"When four lifelong friends travel to New Orleans for the<br>annual Essence Festival, sisterhoods are rekindled, wild sides are rediscovered,<br>and there's enough dancing, drinking, brawling and romancing to make<br>the Big Easy blush.<br>\"],[\"Jim and his girlfriend Kelly are visiting the infamous Willow<br>Creek, the alleged home of the original Bigfoot legend -<br>the tale of huge ape like creatures that roam the<br>forests of North ...<br>\"],[\"The life of Cuban poet and novelist, Reinaldo Arenas.<br>\"],[\"A demystified take on the tale of King Arthur and<br>the Knights of the Round Table.<br>\"],[\"A story of slavery, set in the southern U.S. in<br>the 1930s.<br>\"],[\"A collection of animated interpretations of great works of Western<br>classical music.<br>\"],[\"The story of the legendary outlaw is portrayed with the<br>characters as humanoid animals.<br>\"],[\"Three actors learn that their respective performances in the film<br>\\\"Home for Purim,\\\" a drama set in the mid-1940s American<br>South, are generating award-season buzz.<br>\"],[\"Four independent stories set in modern China about random acts<br>of violence.<br>\"],[\"The hilarious adventures of two best friends, Apachi Indian chief<br>Abahachi and cowboy Ranger, in the Wild West.<br>\"],[\"The story of Sir<br>\"]],\"hovertemplate\":\"cluster_size=14 | 19<br>dim_1=%{x}<br>dim_2=%{y}<br>centroid_name=%{text}<br>description=%{customdata[0]}<extra></extra>\",\"legendgroup\":\"14 | 19\",\"marker\":{\"color\":\"#FFA15A\",\"symbol\":\"circle\"},\"mode\":\"markers+text\",\"name\":\"14 | 19\",\"orientation\":\"v\",\"showlegend\":true,\"text\":[\" \",\" \",\" \",\" \",\" \",\" \",\" \",\" \",\" \",\" \",\" \",\" \",\" \",\" \",\" \",\" \",\" \",\" \",\" \"],\"x\":[8.797718048095703,8.808382987976074,8.886598587036133,8.919939994812012,8.896780967712402,8.90234088897705,8.874551773071289,8.858075141906738,8.806622505187988,4.172202110290527,8.981630325317383,8.907153129577637,8.884370803833008,8.829957962036133,8.77012825012207,8.868398666381836,8.880606651306152,-1.916865348815918,8.987984657287598],\"xaxis\":\"x\",\"y\":[4.590493202209473,5.4549736976623535,5.551309585571289,5.038050651550293,5.4746317863464355,4.745743274688721,4.537834644317627,5.544673919677734,4.564028263092041,5.7674641609191895,4.691175937652588,4.842708110809326,5.508533954620361,5.480063438415527,5.631556987762451,5.488437175750732,5.53496789932251,3.1668474674224854,4.7985310554504395],\"yaxis\":\"y\",\"type\":\"scatter\"},{\"customdata\":[[\"Antoine has always been fascinated with a hairdresser's delicate touch,<br>the beguiling perfume and the figure of a woman with<br>an opulent bosom, moreover, he knew that he would marry<br>one, fulfilling his dream of a perfect and idealised love.<br>\"],[\"The relationships of two couples become complicated and deceitful when<br>the man from one couple meets the woman of the<br>other.<br>\"],[\"A hot-tempered farm laborer convinces the woman he loves to<br>marry their rich but dying boss so that they can<br>have a claim to his fortune.<br>\"],[\"Johnny and a couple pals kidnap Jake's 15-year-old brother, Zach,<br>then assigns his buddy Frankie to be Zach's minder. They<br>develop a brotherly friendship. Zach parties with his captors as<br>things begin to spin out of control.<br>\"],[\"When tradition prevents her from marrying the man she loves,<br>a young woman discovers she has a unique talent for<br>cooking.<br>\"],[\"A shallow man falls in love with a 300-pound woman<br>because of her inner beauty.<br>\"],[\"A Dutch matron establishes and, for several generations, oversees a<br>close-knit, matriarchal community where feminism and liberalism thrive.<br>\"],[\"Friendless Peter Klaven goes on a series of man-dates to<br>find a Best Man for his wedding. But, when his<br>insta-bond with his new B.F.F. puts a strain on his<br>relationship with his fianc\\u00e9e, can the trio learn to live<br>happily ever after?<br>\"],[\"An American intern at U.K. Vogue helps her friends find<br>love.<br>\"],[\"A modern-day witch likes her neighbor but despises his fianc\\u00e9e,<br>so she enchants him to love her instead, only to<br>fall in love with him for real.<br>\"],[\"Two female friends become sexual rivals at maturity.<br>\"],[\"A look at the relationship between Mike Wazowski (Billy Crystal)<br>and James P. \\\"Sully\\\" Sullivan (John Goodman) during their days<br>at Monsters University, when they weren't necessarily the best of<br>friends.<br>\"],[\"A married man who daydreams about being with other women<br>finds his will and morals tested after he's visited by<br>the ex-mistress of his old friend.<br>\"],[\"A look at the lives and relationships among girls at<br>an elite boarding school.<br>\"],[\"A pair of buddies conspire to save their best friend<br>from marrying the wrong woman.<br>\"],[\"Three inseparable childhood friends are just out of college. Nothing<br>comes between them - until they each fall in love,<br>and their wildly different approaches to relationships creates tension.<br>\"],[\"Two friends try sharing an apartment, but their ideas of<br>housekeeping and lifestyles are as different as night and day.<br>\"],[\"During their college years, Anjali was in love with her<br>best-friend Rahul, but he had eyes only for Tina. Years<br>later, Rahul and the now-deceased Tina's eight-year-old daughter attempts to<br>reunite her father and Anjali.<br>\"],[\"Eliza (Lacey Chabert) and Debbie (Danielle Harris) are two sisters<br>who don't always get along. But their relationship is put<br>to the test when Debbie's life is in danger, and<br>Eliza might have to give up her power to talk<br>to animals.<br>\"],[\"A resurrected Egyptian mummy stalks a beautiful woman he believes<br>to be the reincarnation of his lover and bride.<br>\"],[\"The friendship between two life-long girlfriends is put to the<br>test when one starts a family and the other falls<br>ill.<br>\"],[\"A privileged woman and a reckless man fall in love<br>despite their different social classes.<br>\"],[\"To satisfy his nagging parents, a gay landlord and a<br>female tenant agree to a marriage of convenience, but his<br>parents arrive to visit and things get out of hand.<br>\"],[\"British retirees travel to India to take up residence in<br>what they believe is a newly restored hotel. Less luxurious<br>than advertised, the Marigold Hotel nevertheless slowly begins to charm<br>in unexpected ways.<br>\"],[\"A poor yet passionate young man falls in love with<br>a rich young woman, giving her a sense of freedom,<br>but they are soon separated because of their social differences.<br>\"],[\"An upper-class widow falls in love with a much younger,<br>down-to-earth nurseryman, much to the disapproval of her children and<br>criticism of her country club peers.<br>\"],[\"Jenny's parents and siblings are always trying to set her<br>up with a man when she visits them. What they<br>don't know is that she's already met the right person,<br>her \\\"roommate\\\" Kitty, 5 years ago and she wants to<br>marry her and start a family.<br>\"],[\"A performer and gambler travels to New York City to<br>raise the $25,000 he needs to marry his fianc\\u00e9e, only<br>to become entangled with a beautiful aspiring dancer.<br>\"],[\"Lieutenant Frank Drebin discovers that his ex-girlfriend's new beau is<br>involved in a plot to kidnap a scientist who advocates<br>solar energy.<br>\"],[\"Set in medieval Rajasthan, Queen Padmavati is married to a<br>noble king and they live in a prosperous fortress with<br>their subjects until an ambitious Sultan hears of Padmavati's beauty<br>and forms an obsessive love for the Queen of Mewar.<br>\"],[\"On a Caribbean cruise, Jenny is marooned on a beach<br>with her rock and roll idol. Deliriously in love with<br>the idea of time alone with him, she manages to<br>hide the fact that they're a stone's throw away from<br>their resort.<br>\"],[\"Murphy is an American living in Paris who enters a<br>highly sexually and emotionally charged relationship with the unstable Electra.<br>Unaware of the effect it will have on their relationship,<br>they invite their pretty neighbor into their bed.<br>\"],[\"Teresa, a fifty-year-old Austrian mother, travels to the paradise of<br>the beaches of Kenya, seeking out love from African boys.<br>But she must confront the hard truth that on the<br>beaches of Kenya, love is a business.<br>\"],[\"Robbie, a singer, and Julia, a waitress, are both engaged,<br>but to the wrong people. Fortune intervenes to help them<br>discover each other.<br>\"],[\"When attending their son's college graduation, a couple reignite the<br>spark in their relationship. But the complicated fact is they're<br>divorced and he's remarried.<br>\"],[\"Wallace, who is burned out from a string of failed<br>relationships, forms an instant bond with Chantry, who lives with<br>her longtime boyfriend. Together, they puzzle out what it means<br>if your best friend is also the love of your<br>life.<br>\"],[\"When a woman's long-time friend reveals he's engaged, she realizes<br>she loves him herself and sets out to get him,<br>with only days before the wedding.<br>\"],[\"Two weeks shy of his wedding, a socially awkward guy<br>enters into a charade by hiring the owner of a<br>company that provides best men for grooms in need.<br>\"],[\"The love lives of two brothers, Mickey and Francis, interconnect<br>as Francis cheats on his wife with Mickey's ex-girlfriend, while<br>Mickey impulsively marries a stranger.<br>\"],[\"Kundan, the son of a Hindu pundit, discovers that his<br>childhood sweetheart Zoya loves city-bred Akram and wants to marry<br>him. However, he persistently seeks to win her heart.<br>\"]],\"hovertemplate\":\"cluster_size=17 | 40<br>dim_1=%{x}<br>dim_2=%{y}<br>centroid_name=%{text}<br>description=%{customdata[0]}<extra></extra>\",\"legendgroup\":\"17 | 40\",\"marker\":{\"color\":\"#19d3f3\",\"symbol\":\"circle\"},\"mode\":\"markers+text\",\"name\":\"17 | 40\",\"orientation\":\"v\",\"showlegend\":true,\"text\":[\" \",\" \",\" \",\" \",\" \",\" \",\" \",\" \",\" \",\" \",\" \",\" \",\" \",\" \",\" \",\" \",\" \",\" \",\" \",\" \",\" \",\" \",\" \",\" \",\" \",\" \",\" \",\" \",\" \",\" \",\" \",\" \",\" \",\" \",\" \",\" \",\" \",\" \",\" \",\" \"],\"x\":[11.864662170410156,12.040728569030762,12.112682342529297,11.526113510131836,12.103300094604492,11.848038673400879,11.780526161193848,11.909229278564453,11.1738920211792,12.010026931762695,12.077783584594727,11.692839622497559,12.238980293273926,11.821310997009277,12.187762260437012,11.868598937988281,12.213615417480469,11.853187561035156,11.543802261352539,11.972115516662598,12.086078643798828,11.94514274597168,11.703356742858887,12.001323699951172,11.97359561920166,11.936971664428711,11.687325477600098,11.652990341186523,11.71993350982666,11.974113464355469,11.138016700744629,11.554837226867676,11.754496574401855,11.330875396728516,11.914491653442383,11.737544059753418,12.095458984375,11.781535148620605,11.792905807495117,11.937399864196777],\"xaxis\":\"x\",\"y\":[2.8419833183288574,4.067394733428955,3.127875328063965,4.418546199798584,3.187135934829712,2.7992186546325684,2.7979822158813477,4.324414253234863,4.066305160522461,3.02240252494812,4.178477764129639,4.484190464019775,3.5201597213745117,4.605205535888672,3.7015459537506104,4.464547157287598,3.955793857574463,3.156283378601074,4.282383441925049,2.9076461791992188,4.097219467163086,2.9369304180145264,3.8732409477233887,3.012122392654419,2.932445764541626,2.9203529357910156,4.087253570556641,4.055459976196289,4.243853569030762,2.9547064304351807,4.126597881317139,4.168837070465088,3.231523036956787,4.189428329467773,4.349465370178223,4.312615871429443,3.6427783966064453,4.112174987792969,4.174942970275879,3.157634735107422],\"yaxis\":\"y\",\"type\":\"scatter\"},{\"customdata\":[[\"Enzo, a lonely and misanthropic small time crook, uses the<br>superpowers gained after falling in the Tiber river to chase<br>down a crazy gangster called \\\"The gypsy\\\".<br>\"],[\"After being tricked and cast out of Bagdad by the<br>evil Jaffar, King Ahmad joins forces with a thief named<br>Abu to reclaim his throne, the city, and the Princess<br>he loves.<br>\"],[\"Upon arriving in a small town where she has inherited<br>a rundown mansion, a famous horror hostess battles an evil<br>uncle, and townspeople who want her burned at the stake.<br>\"],[\"When the head of a statue sacred to a village<br>is stolen, a young martial artist goes to the big<br>city and finds himself taking on the underworld to retrieve<br>it.<br>\"],[\"Sherlock Holmes and Dr Watson investigate the legend of a<br>supernatural hound, a beast that may be stalking a young<br>heir on the fog-shrouded moorland that makes up his estate.<br>\"],[\"The Knight Arn is sent on a last mission against<br>Saladin. He has to win this battle, before he can<br>go home to Sweden, and finally marry his Cecilia and<br>start a family. But the peace back home is threatened<br>by the Danes.<br>\"],[\"The ancient war between humans and a race of giants<br>is reignited when Jack, a young farmhand fighting for a<br>kingdom and the love of a princess, opens a gateway<br>between the two worlds.<br>\"],[\"An intelligent son of a former entrepreneur takes revenge on<br>a powerful and rich businessman who is as smart as<br>he is.<br>\"],[\"The young warrior Son Goku sets out on a quest,<br>racing against time and the vengeful King Piccolo, to collect<br>a set of seven magical orbs that will grant their<br>wielder unlimited power.<br>\"],[\"Lured by gold, two greedy peasants unknowingly escort a princess<br>and her general across enemy lines.<br>\"],[\"After having escaped the Maze, the Gladers now face a<br>new set of challenges on the open roads of a<br>desolate landscape filled with unimaginable obstacles.<br>\"],[\"At the end of the ice age, an evil queen<br>and her son are set on conquering the world using<br>magic and warriors. The lone survivor of a crushed village<br>fights back as does the king of Fire Keep.<br>\"],[\"Is he the village idiot or a genius in disguise?<br>17 year old Noi drifts through life on a remote<br>fjord in the north of Iceland. In winter, the fjord<br>is cut off from the outside world, ...<br>\"],[\"After a threat from the tiger Shere Khan forces him<br>to flee the jungle, a man-cub named Mowgli embarks on<br>a journey of self discovery with the help of panther<br>Bagheera and free-spirited bear Baloo.<br>\"],[\"Kids, left home alone, accidentally unleash a horde of malevolent<br>demons from a mysterious hole in their suburban backyard.<br>\"],[\"A boy inadvertently breaks three important rules concerning his new<br>pet and unleashes a horde of malevolently mischievous monsters on<br>a small town.<br>\"],[\"Exiled into the dangerous forest by her wicked stepmother, a<br>princess is rescued by seven dwarf miners who make her<br>part of their household.<br>\"],[\"A governess uses magic to rein in the behavior of<br>seven ne'er-do-well children in her charge.<br>\"],[\"Four young men who belong to a New England supernatural<br>legacy are forced to battle a fifth power long thought<br>to have died out. Meanwhile, jealousy and suspicion threaten to<br>tear them apart.<br>\"],[\"In Medieval Japan, an elderly warlord retires, handing over his<br>empire to his three sons. However, he vastly underestimates how<br>the new-found power will corrupt them and cause them to<br>turn on each other...and him.<br>\"],[\"Ethics, being human and the soul come to the fore<br>when a 7-year old finds a bag of Pounds just<br>days before the currency is switched to Euros and learns<br>what we are really made of.<br>\"],[\"A suburban family moves to a new neighborhood with their<br>large, yet lovable Great Dane, who has a tendency to<br>wreak havoc in his own oblivious way.<br>\"],[\"After the Bergens invade Troll Village, Poppy, the happiest Troll<br>ever born, and the curmudgeonly Branch set off on a<br>journey to rescue her friends.<br>\"],[\"It's a jungle out there for Blu, Jewel and their<br>three kids after they're hurtled from Rio de Janeiro to<br>the wilds of the Amazon. As Blu tries to fit<br>in, he goes beak-to-beak with the vengeful Nigel, and meets<br>his father-in-law.<br>\"],[\"The authority of a man, who runs a parallel government<br>in Mumbai, is challenged. His son rises to face his<br>enemies.<br>\"],[\"After being exiled from the most advanced town in post<br>apocalyptic Australia, a drifter travels with a group of abandoned<br>children to rebel against the town's queen.<br>\"],[\"Forced for some time to be a fighting slave, a<br>pagan warrior escapes his captors with a boy and joins<br>a group of Crusaders on their quest to the Holy<br>Land.<br>\"]],\"hovertemplate\":\"cluster_size=4 | 27<br>dim_1=%{x}<br>dim_2=%{y}<br>centroid_name=%{text}<br>description=%{customdata[0]}<extra></extra>\",\"legendgroup\":\"4 | 27\",\"marker\":{\"color\":\"#FF6692\",\"symbol\":\"circle\"},\"mode\":\"markers+text\",\"name\":\"4 | 27\",\"orientation\":\"v\",\"showlegend\":true,\"text\":[\" \",\" \",\" \",\" \",\" \",\" \",\" \",\" \",\" \",\" \",\" \",\" \",\" \",\" \",\" \",\" \",\" \",\" \",\" \",\" \",\" \",\" \",\" \",\" \",\" \",\" \",\" \"],\"x\":[3.8969292640686035,2.933561086654663,2.8946194648742676,2.715132236480713,3.4607162475585938,3.2487616539001465,2.8107099533081055,3.7928049564361572,2.937817096710205,2.6432528495788574,3.03839373588562,2.922908067703247,3.9602787494659424,2.9068963527679443,2.87648868560791,3.193234920501709,3.0274252891540527,3.1070139408111572,3.4980196952819824,3.513322114944458,3.167562484741211,5.92451286315918,2.9242520332336426,4.035708904266357,3.6997945308685303,2.894242286682129,2.821475028991699],\"xaxis\":\"x\",\"y\":[5.861608982086182,5.662813663482666,5.112529277801514,5.052093505859375,5.882638454437256,5.240015029907227,5.700662612915039,5.856755256652832,5.507205486297607,5.664897918701172,5.7544264793396,5.580967903137207,5.7865891456604,5.70676326751709,5.03483247756958,5.355782985687256,5.598769664764404,5.199544906616211,5.758342266082764,5.7715606689453125,5.1704206466674805,4.06397008895874,5.6818528175354,5.806370735168457,5.802123546600342,5.586491584777832,5.285377502441406],\"yaxis\":\"y\",\"type\":\"scatter\"},{\"customdata\":[[\"Private investigator Matthew Scudder is hired by a drug kingpin<br>to find out who kidnapped and murdered his wife.<br>\"],[\"A biker returns from Thailand to set things straight with<br>his girlfriend. One gang leader wants him for delivery of<br>2 motorbikes filled with crystal meth and another gang leader<br>wants him for murdering his brother.<br>\"],[\"After his family is murdered by a notorious and ruthless<br>bandit, a former police officer enlists the services of two<br>outlaws to capture the bandit.<br>\"],[\"Desperation drives four inner-city women to bank robbery in Los<br>Angeles, then they start mistrusting each other.<br>\"],[\"An unlikely partnership between a Highway Patrol Officer, two criminals<br>and a station secretary is formed to defend a defunct<br>Los Angeles precinct office against a siege by a bloodthirsty<br>street gang.<br>\"],[\"A police officer assigned alarm dispatch duty enters a race<br>against time when he answers an emergency call from a<br>kidnapped woman.<br>\"],[\"A big-city newspaper columnist is forced to enter a drug<br>and alcohol rehab center after ruining her sister's wedding and<br>crashing a stolen limousine.<br>\"],[\"In 1970, drug-fueled Los Angeles private investigator Larry \\\"Doc\\\" Sportello<br>investigates the disappearance of a former girlfriend.<br>\"],[\"A convicted arsonist looks to manipulate a parole officer into<br>a plan to secure his parole by placing his beautiful<br>wife in the lawman's path.<br>\"],[\"The accidental shooting of a boy in New York leads<br>to an investigation by the Deputy Mayor, and unexpectedly far-reaching<br>consequences.<br>\"],[\"The original characters from The Cannonball Run (1981) race across<br>the country once more in various cars and trucks.<br>\"],[\"A devious sexpot steals her husband's drug money and hides<br>out in a small town where she meets the perfect<br>dupe for her next scheme.<br>\"],[\"The evil Brand X joins a supermarket that becomes a<br>city after closing time.<br>\"],[\"Orin Boyd, a tough cop in an inner-city precinct discovers<br>a web of dirty cops and corruption.<br>\"],[\"After murdering an undercover DEA agent, two corrupt cops scramble<br>to cover up what they've done.<br>\"],[\"Architect/vigilante Paul Kersey arrives back in New York City and<br>is forcibly recruited by a crooked police chief to fight<br>street crime caused by a large gang terrorizing the neighborhoods.<br>\"],[\"A story between a mole in the police department and<br>an undercover cop. Their objectives are the same: to find<br>out who is the mole, and who is the cop.<br>\"],[\"In prison four long-sentence inmates planning an elaborate escape cautiously<br>induct a new inmate to join in their scheme which<br>leads to distrust and uncertainty.<br>\"],[\"The story of the early days of California wine making<br>featuring the now infamous, blind Paris wine tasting of 1976<br>that has come to be known as \\\"Judgment of Paris\\\".<br>\"],[\"A Queens couple who specialize in robbing mafia social clubs<br>stumble upon a score bigger than they could ever imagine,<br>becoming targets of both the mob and the FBI in<br>the process.<br>\"],[\"In Los Angeles, a fallen soldier who has joined the<br>ranks of the living dead reunites with his best friend<br>in order to deal with the city's drug dealers and<br>killers - a perfect way to collect the blood that<br>one of them so desperately needs.<br>\"]],\"hovertemplate\":\"cluster_size=13 | 21<br>dim_1=%{x}<br>dim_2=%{y}<br>centroid_name=%{text}<br>description=%{customdata[0]}<extra></extra>\",\"legendgroup\":\"13 | 21\",\"marker\":{\"color\":\"#B6E880\",\"symbol\":\"circle\"},\"mode\":\"markers+text\",\"name\":\"13 | 21\",\"orientation\":\"v\",\"showlegend\":true,\"text\":[\" \",\" \",\" \",\" \",\" \",\" \",\" \",\" \",\" \",\" \",\" \",\" \",\" \",\" \",\" \",\" \",\" \",\" \",\" \",\" \",\" \"],\"x\":[1.988707423210144,3.166318655014038,2.441084384918213,3.066248893737793,2.78178334236145,3.036090850830078,3.6048197746276855,1.64620041847229,3.6234896183013916,2.8711564540863037,1.531782627105713,3.636516571044922,3.518928289413452,2.5225789546966553,2.380919933319092,2.88204026222229,2.2768936157226562,3.2611563205718994,1.6340126991271973,2.535801649093628,3.1119043827056885],\"xaxis\":\"x\",\"y\":[0.5473575592041016,1.2737140655517578,0.7348232269287109,1.2147996425628662,1.222992181777954,1.1499520540237427,1.2474868297576904,0.6384835839271545,1.2193883657455444,1.2397241592407227,0.7853807806968689,1.2467583417892456,1.263157606124878,1.0779911279678345,0.8695605993270874,1.164880633354187,0.8575627207756042,1.2290475368499756,0.6199111342430115,1.1340514421463013,1.3120423555374146],\"yaxis\":\"y\",\"type\":\"scatter\"},{\"customdata\":[[\"A father who can't keep his promises, dies in a<br>car accident. One year later, he returns as a snowman,<br>who has the final chance to put things right with<br>his son, before he is gone forever.<br>\"],[\"Pulp novelist Holly Martins travels to shadowy, postwar Vienna, only<br>to find himself investigating the mysterious death of an old<br>friend, Harry Lime.<br>\"],[\"Six years after their Guantanamo Bay adventure, stoner buds Harold<br>Lee and Kumar Patel cause a holiday fracas by inadvertently<br>burning down Harold's father-in-law's prize Christmas tree.<br>\"],[\"Two childhood best friends, one a superficial womanizer and the<br>other a barely functioning bipolar, embark on a road trip<br>back to their hometown after one of them learns his<br>estranged father has died.<br>\"],[\"Because of an unusual disorder that has aged him four<br>times faster than a typical human being, a boy looks<br>like a 40-year-old man as he starts fifth grade at<br>public school after being homeschooled.<br>\"],[\"At Adams College, a group of bullied outcasts and misfits<br>resolve to fight back for their peace and self-respect.<br>\"],[\"A childless couple bury a box in their backyard, containing<br>all of their wishes for an infant. Soon, a child<br>is born, though Timothy Green is not all that he<br>appears.<br>\"],[\"In an alternate present-day version of Oakland, telemarketer Cassius Green<br>discovers a magical key to professional success, propelling him into<br>a universe of greed.<br>\"],[\"A young boy whose parents have just divorced finds an<br>unlikely friend and mentor in the misanthropic, bawdy, hedonistic war<br>veteran who lives next door.<br>\"],[\"Sultan is a classic underdog tale about a wrestler's journey,<br>looking for a comeback by defeating all odds.<br>\"],[\"A disaffected soldier returns to his hometown to get even<br>with the thugs who brutalized his mentally-challenged brother years ago.<br>\"],[\"Ben, a young Irish boy, and his little sister Saoirse,<br>a girl who can turn into a seal, go on<br>an adventure to free the fairies and save the spirit<br>world.<br>\"],[\"Twin boys move to a new home with their mother<br>after she has face changing cosmetic surgery, but under her<br>bandages is someone the children don't recognize.<br>\"],[\"The story of Oscar Grant III, a 22-year-old Bay Area<br>resident, who crosses paths with friends, enemies, family, and strangers<br>on the last day of 2008.<br>\"],[\"A rebellious girl is sent to a Southern beach town<br>for the summer to stay with her father. Through their<br>mutual love of music, the estranged duo learn to reconnect.<br>\"],[\"A hopeless man stranded on a deserted island befriends a<br>dead body and together they go on a surreal journey<br>to get home.<br>\"],[\"A news team trails a man as he travels into<br>the world of Eden Parish to find his missing sister,<br>where it becomes apparent that this paradise may not be<br>as it seems.<br>\"],[\"A retired military investigator works with a police detective to<br>uncover the truth behind his son's disappearance following his return<br>from a tour of duty in Iraq.<br>\"],[\"Young writer Sal Paradise has his life shaken by the<br>arrival of free-spirited Dean Moriarty and his girl, Marylou. As<br>they travel across the country, they encounter a mix of<br>people who each impact their journey indelibly.<br>\"],[\"Street dancer Thomas Uncles is from the wrong side of<br>the tracks, but his bond with the beautiful Megan White<br>might help the duo realize their dreams as they enter<br>in the mother of all dance battles.<br>\"],[\"At the snobby Crawford Academy, Virginia's group of friends start<br>to go missing years after horrible events that happened to<br>her as a child around her birthday.<br>\"],[\"A young man comforts his older brother's wife and children<br>after he goes missing in Afghanistan.<br>\"],[\"A scatterbrained socialite hires a vagrant as a family butler<br>- but there's more to Godfrey than meets the eye.<br>\"],[\"In small-town Alaska, a news reporter recruits his ex-girlfriend -<br>a Greenpeace volunteer - on a campaign to save a<br>family of gray whales trapped by rapidly forming ice in<br>the Arctic Circle.<br>\"],[\"A quietly troubled young man returns home for his mother's<br>funeral after being estranged from his family for a decade.<br>\"],[\"Three childhood friends set aside their personal issues and reunite<br>for a girls' weekend on a remote island off the<br>coast of Maine. One wrong move turns their weekend getaway<br>into a deadly fight for survival.<br>\"],[\"A young swordsman comes to Paris and faces villains, romance,<br>adventure and intrigue with three Musketeer friends.<br>\"],[\"A man who lost his family in the September 11<br>attack on New York City runs into his old college<br>roommate. Rekindling the friendship is the one thing that appears<br>able to help the man recover from his grief.<br>\"],[\"Seeking to offer his son the satisfying summer camp experience<br>that eluded him as a child, the operator of a<br>neighborhood daycare center opens his own camp, only to face<br>financial hardship and stiff competition from a rival camp.<br>\"],[\"Up-and-coming sports reporter rescues a homeless man (\\\"Champ\\\") only to<br>discover that he is, in fact, a boxing legend believed<br>to have passed away. What begins as an opportunity to<br>resurrect Champ's story and escape the shadow of his father's<br>success becomes a personal journey as the ambitious reporter reexamines<br>his own life and his relationship with his family.<br>\"]],\"hovertemplate\":\"cluster_size=2 | 30<br>dim_1=%{x}<br>dim_2=%{y}<br>centroid_name=%{text}<br>description=%{customdata[0]}<extra></extra>\",\"legendgroup\":\"2 | 30\",\"marker\":{\"color\":\"#FF97FF\",\"symbol\":\"circle\"},\"mode\":\"markers+text\",\"name\":\"2 | 30\",\"orientation\":\"v\",\"showlegend\":true,\"text\":[\" \",\" \",\" \",\" \",\" \",\" \",\" \",\" \",\" \",\" \",\" \",\" \",\" \",\" \",\" \",\" \",\" \",\" \",\" \",\" \",\" \",\" \",\" \",\" \",\" \",\" \",\" \",\" \",\" \",\" \"],\"x\":[6.921838760375977,6.492112159729004,6.810514450073242,6.765373706817627,5.9619598388671875,6.643200397491455,6.253898620605469,6.281203269958496,6.1993818283081055,6.62074613571167,5.878932952880859,0.038374584168195724,6.4494709968566895,6.659790992736816,7.481549263000488,-0.014235157519578934,-0.061913613229990005,5.936970233917236,0.02681819163262844,6.757438659667969,6.738320827484131,5.971769332885742,7.447301864624023,6.907316207885742,5.924776554107666,6.613429069519043,6.4949049949646,6.552957534790039,5.944459915161133,6.593250274658203],\"xaxis\":\"x\",\"y\":[3.863706350326538,4.360877990722656,3.8979012966156006,3.878067970275879,4.147736072540283,4.081687927246094,3.9793527126312256,4.1542558670043945,4.042964935302734,4.443342685699463,3.3218894004821777,5.318659782409668,3.88017201423645,4.078210353851318,3.5078933238983154,5.217094898223877,5.280367374420166,3.124087333679199,5.3111772537231445,3.7719168663024902,3.966575860977173,3.394656181335449,3.1959033012390137,3.172518491744995,3.29355525970459,4.1139235496521,4.1862897872924805,4.034696578979492,4.0137939453125,4.135920524597168],\"yaxis\":\"y\",\"type\":\"scatter\"},{\"customdata\":[[\"A mother desperate to reconnect with her troubled daughter becomes<br>embroiled in the urban legend of a demonic witch.<br>\"],[\"A mattress salesman finds his plan to adopt a Chinese<br>baby augmented by the arrival of a young woman, who<br>comes into his workplace, falls asleep on one of the<br>beds, and starts to affect his life upon waking up.<br>\"],[\"Having renounced her ignominious past, a former streetwalker reunites with<br>her son. However, an extortion scheme endangers her aspirations for<br>a decent bourgeois life. Can she protect him from the<br>same snares that wounded her youth?<br>\"],[\"When a young female doctor notices an unnatural amount of<br>comas occurring in her hospital she uncovers a horrible conspiracy.<br>\"],[\"After losing her unborn child, Madeline Matheson insists on carrying<br>the baby to term. Following the delivery, the child miraculously<br>returns to life with an appetite for human blood. Madeline<br>is faced with a mother's ultimate decision.<br>\"],[\"A young single mother and textile worker agrees to help<br>unionize her mill despite the problems and dangers involved.<br>\"],[\"A thirteen-year-old girl's relationship with her mother is put to<br>the test as she discovers drugs, sex, and petty crime<br>in the company of her cool but troubled best friend.<br>\"],[\"Determined to have a normal family life once his mother<br>gets out of prison, a Scottish teenager from a tough<br>background sets out to raise the money for a home.<br>\"],[\"An action-comedy about a simple cook from Chandni Chowk mistaken<br>for the reincarnation of an ancient peasant warrior Liu Shengh<br>by residents of an oppressed Chinese village.<br>\"],[\"Checco is born on the privileged side of life in<br>an Italian small town, with a guaranteed job as a<br>public servant. When a new reformist government vows to cut<br>down on bureaucracy, Checco is forced to accept worsening conditions.<br>\"],[\"The allure of easy money sends Mary Mason, a medical<br>student, into the world of underground surgeries which ends up<br>leaving more marks on her than her so called \\\"freakish\\\"<br>clients.<br>\"],[\"When a headstrong chef takes charge of her equally stubborn<br>8-year-old niece, the tensions between them mount... until an Italian<br>sous-chef arrives to lighten the mood.<br>\"],[\"An English auctioneer proposes to the daughter of a Mafia<br>kingpin, only to realize that certain \\\"favors\\\" would be asked<br>of him.<br>\"],[\"Self-proclaimed stuntman Rod Kimble is preparing for the jump of<br>his life - to clear fifteen buses to raise money<br>for his abusive stepfather Frank's life-saving heart operation.<br>\"],[\"In a building site in present-day Tehran, Lateef, a 17-year-old<br>Turkish worker is irresistibly drawn to Rahmat, a young Afghan<br>worker. The revelation of Rahmat's secret changes both their lives.<br>\"],[\"Viridiana, a young nun about to take her final vows,<br>pays a visit to her widowed uncle at the request<br>of her Mother Superior.<br>\"],[\"A young woman pretends to be pregnant in order to<br>avoid being fired from her job. When that gets her<br>special treatment by everyone involved in her life, she tries<br>to keep up the lie for nine months.<br>\"],[\"A stripper and single mother gets dragged into a dangerous<br>situation after a congressman takes a fancy to her.<br>\"],[\"Inspired by a true crime, a man begins to experience<br>mystifying events that lead him to slay his mother with<br>a sword.<br>\"],[\"In order to protect a beautiful woman and her son<br>from a robber, a male FBI agent disguises himself as<br>a large grandmother.<br>\"],[\"After her death, a mother returns to her home town<br>in order to fix the situations she couldn't resolve during<br>her life.<br>\"],[\"When a sudden illness and an unexpected reunion threaten dutiful<br>housewife Elena's potential inheritance, she must hatch a desperate plan<br>...<br>\"],[\"When a debt puts a young man's life in danger,<br>he turns to putting a hit out on his evil<br>mother in order to collect the insurance.<br>\"],[\"When a mother disapproves of her son's lover, she hires<br>an underwear model and former bullfighter to seduce her away.<br>\"],[\"Henry Durand is a young federal agent who is given<br>a difficult assignment: spy on his mother and her boyfriend<br>who is suspected of leading a gang of art thieves.<br>\"],[\"Thirteen-year-old fledgling writer Briony Tallis irrevocably changes the course of<br>several lives when she accuses her older sister's lover of<br>a crime he did not commit.<br>\"],[\"A woman receives an eye transplant that allows her to<br>see into the supernatural world.<br>\"],[\"Faisi wants to go to UK to become a professional<br>chef but circumstances force him to assist his grandfather in<br>a small restaurant in Kozhikode city, changing his outlook on<br>life forever.<br>\"],[\"After being drugged and raped at a party, a young<br>woman contracts what she thinks is an STD; but, it's<br>actually something much worse.<br>\"],[\"A single mother and waitress, a misanthropic author, and a<br>gay artist form an unlikely friendship after the artist is<br>assaulted in a robbery.<br>\"],[\"Adriana, 13, is kidnapped in Mexico City by Russian sex<br>traffickers. Her criminal 17 y.o. brother starts looking for her.<br>Across the border in Texas, he gets help from a<br>cop.<br>\"],[\"The life of an uptight tax lawyer turns chaotic when<br>he is asked to escort a young woman newly released<br>from prison, who persuades him to help prove her innocence.<br>\"]],\"hovertemplate\":\"cluster_size=16 | 32<br>dim_1=%{x}<br>dim_2=%{y}<br>centroid_name=%{text}<br>description=%{customdata[0]}<extra></extra>\",\"legendgroup\":\"16 | 32\",\"marker\":{\"color\":\"#FECB52\",\"symbol\":\"circle\"},\"mode\":\"markers+text\",\"name\":\"16 | 32\",\"orientation\":\"v\",\"showlegend\":true,\"text\":[\" \",\" \",\" \",\" \",\" \",\" \",\" \",\" \",\" \",\" \",\" \",\" \",\" \",\" \",\" \",\" \",\" \",\" \",\" \",\" \",\" \",\" \",\" \",\" \",\" \",\" \",\" \",\" \",\" \",\" \",\" \",\" \"],\"x\":[5.3748860359191895,6.064798355102539,5.9790120124816895,5.755616664886475,5.91580057144165,5.061078071594238,4.839409828186035,5.39150333404541,5.29288387298584,5.318247318267822,5.736684799194336,5.0787177085876465,5.491611480712891,5.277435302734375,5.185254096984863,5.484194755554199,5.878085613250732,5.045476913452148,5.270071983337402,4.754720687866211,5.808351993560791,5.891584873199463,5.344893455505371,4.992195129394531,4.701276779174805,5.173642635345459,5.792935371398926,5.337071895599365,5.101499080657959,4.874239444732666,4.724136829376221,5.427255153656006],\"xaxis\":\"x\",\"y\":[2.6691789627075195,1.789011001586914,2.8150734901428223,1.6679770946502686,3.054196357727051,2.1965456008911133,2.0232739448547363,3.3870441913604736,2.772861957550049,2.776376485824585,1.83833646774292,2.301342487335205,3.3493151664733887,3.842498302459717,2.257308006286621,2.9684700965881348,1.7725809812545776,2.1824705600738525,2.6453306674957275,2.0253055095672607,3.041543960571289,1.8151952028274536,2.5975990295410156,2.183668375015259,2.0587265491485596,2.1738762855529785,1.7160316705703735,3.111778974533081,2.067296028137207,2.108349084854126,1.964369297027588,2.0922577381134033],\"yaxis\":\"y\",\"type\":\"scatter\"},{\"customdata\":[[\"Marie is a vampire with a thirst for bad guys.<br>When she fails to properly dispose of one of her<br>victims, a violent mob boss, she bites off more than<br>she can chew and faces a new, immortal danger.<br>\"],[\"A retired spy is called back into action, and to<br>bond with her new step-children, she invites them along for<br>the adventure to stop the evil Timekeeper from taking over<br>the world.<br>\"],[\"Chucky and Tiffany are resurrected by their innocent gender confused<br>Daughter, Glenda, and hit Hollywood, where a movie depicting the<br>killer dolls' murder spree is underway.<br>\"],[\"A simple yet proud farmer in the year 1922 conspires<br>to murder his wife for financial gain, convincing his teenage<br>son to assist. But their actions have unintended consequences.<br>\"],[\"After killing a man in self-defense, a young woman is<br>blackmailed by a witness to the killing.<br>\"],[\"A mysterious creature, known as Ink, steals a child's soul<br>in hopes of using it as a bargaining chip to<br>join the Incubi - the group of supernatural beings responsible<br>for creating nightmares.<br>\"],[\"In a desert dystopia, a young woman is kidnapped by<br>cannibals.<br>\"],[\"After a teenager has a terrifying vision of him and<br>his friends dying in a plane crash, he prevents the<br>accident only to have Death hunt them down, one by<br>one.<br>\"],[\"Damien the Antichrist, now about to turn thirteen years old,<br>finally learns of his destiny under the guidance of an<br>unholy disciple of Satan. Meanwhile dark forces begin to eliminate<br>all those who suspect the child's true identity.<br>\"],[\"A young soldier seeks to put an end to the<br>evils caused by a vicious witch-hunter when the latter terrorizes<br>his fianc\\u00e9e and kills her uncle.<br>\"],[\"The tragic death of a beautiful young girl starts a<br>tense and atmospheric game of cat and mouse between hunter<br>John Moon and the hardened backwater criminals out for his<br>blood.<br>\"],[\"The monstrous spirit of a slain child murderer seeks revenge<br>by invading the dreams of teenagers whose parents were responsible<br>for his untimely death.<br>\"],[\"A young couple is trapped in a remote town where<br>a dangerous religious cult of children believes that everyone over<br>age 18 must be killed.<br>\"],[\"A 14-year-old video enthusiast is so caught up in film<br>fantasy that he can no longer relate to the real<br>world, to such an extent that he commits murder and<br>records an on-camera confession for his parents.<br>\"],[\"Katniss Everdeen voluntarily takes her younger sister's place in the<br>Hunger Games: a televised competition in which two teenagers from<br>each of the twelve Districts of Panem are chosen at<br>random to fight to the death.<br>\"],[\"After a tragic accident, a man conjures up a towering,<br>vengeful demon called Pumpkinhead to destroy a group of unsuspecting<br>teenagers.<br>\"],[\"A priest with a haunted past and a novice on<br>the threshold of her final vows are sent by the<br>Vatican to investigate the death of a young nun in<br>Romania and confront a malevolent force in the form of<br>a demonic nun.<br>\"],[\"As Nell Sweetzer tries to build a new life after<br>the events of the first movie, the evil force that<br>once possessed her returns with an even more horrific plan.<br>\"],[\"In 15th-century France, a gypsy girl is framed for murder<br>by the infatuated Chief Justice, and only the deformed bellringer<br>of Notre Dame Cathedral can save her.<br>\"],[\"Elektra the warrior survives a near-death experience, becomes an assassin-for-hire,<br>and tries to protect her two latest targets, a single<br>father and his young daughter, from a group of supernatural<br>assassins.<br>\"]],\"hovertemplate\":\"cluster_size=15 | 20<br>dim_1=%{x}<br>dim_2=%{y}<br>centroid_name=%{text}<br>description=%{customdata[0]}<extra></extra>\",\"legendgroup\":\"15 | 20\",\"marker\":{\"color\":\"#636efa\",\"symbol\":\"circle\"},\"mode\":\"markers+text\",\"name\":\"15 | 20\",\"orientation\":\"v\",\"showlegend\":true,\"text\":[\" \",\" \",\" \",\" \",\" \",\" \",\" \",\" \",\" \",\" \",\" \",\" \",\" \",\" \",\" \",\" \",\" \",\" \",\" \",\" \"],\"x\":[3.781219720840454,3.158608913421631,3.8830678462982178,6.313617706298828,3.874858856201172,3.1590254306793213,6.60427713394165,3.431752920150757,2.9602890014648438,3.645667552947998,3.694514036178589,3.517674446105957,3.1130192279815674,3.6883649826049805,3.6535747051239014,3.148024320602417,3.7071785926818848,3.630941867828369,3.9558067321777344,3.640172243118286],\"xaxis\":\"x\",\"y\":[4.1801981925964355,4.8642706871032715,4.090704441070557,2.653930902481079,4.042059898376465,4.755282402038574,2.464463472366333,4.308382987976074,4.861756324768066,4.258687973022461,4.253468036651611,4.326035022735596,4.5024895668029785,4.214863300323486,4.288022041320801,4.4493818283081055,4.256234645843506,4.282470226287842,4.035497188568115,4.318612575531006],\"yaxis\":\"y\",\"type\":\"scatter\"},{\"customdata\":[[\"A film star helps a young singer and actress find<br>fame, even as age and alcoholism send his own career<br>on a downward spiral.<br>\"],[\"On the set of a playwright's new project, a love<br>triangle forms between his wife, her ex-lover, and the call<br>girl-turned-actress cast in the production.<br>\"],[\"The life of TV star<br>\"],[\"A simple Italian postman learns to love poetry while delivering<br>mail to a famous poet, and then uses this to<br>woo local beauty Beatrice.<br>\"],[\"The story of two North Carolina teens, Landon Carter and<br>Jamie Sullivan, who are thrown together after Landon gets into<br>trouble and is made to do community service.<br>\"],[\"A comedian tries to make it as a serious actor<br>when his reality television star fianc\\u00e9e talks him into broadcasting<br>their wedding on her television show.<br>\"],[\"Laura Henderson (Dame Judi Dench) buys an old London theater<br>and opens it up as the Windmill, a performance hall<br>which goes down in history for, amongst other things, its<br>all-nude revues.<br>\"],[\"Take two rival television reporters: one handsome, one talented, both<br>male. Add one Producer, female. Mix well, and watch the<br>sparks fly.<br>\"],[\"Retreating from life after a tragedy, a man questions the<br>universe by writing to Love, Time, and Death. Receiving unexpected<br>answers, he begins to see how these things interlock and<br>how even loss can reveal moments of meaning and beauty.<br>\"],[\"A filmmaker recalls his childhood when falling in love with<br>the pictures at the cinema of his home village and<br>forms a deep friendship with the cinema's projectionist.<br>\"],[\"Quentin Tarantino and Robert Rodriguez's homage to exploitation double features<br>in the 60s and 70s with two back-to-back cult films<br>that include previews of coming attractions between them.<br>\"],[\"A love story between a man and woman. And between<br>a mother and her son. A mystical and fantastical odyssey<br>on love.<br>\"],[\"Three stories of never-ending love.<br>\"],[\"A medical school dropout and a housewife/mom try to make<br>it as stand-up comedians. They become friends and help each<br>other out at an NYC comedy club.<br>\"],[\"Colette is pushed by her husband to write novels under<br>his name. Upon their success, she fights to make her<br>talents known, challenging gender norms.<br>\"],[\"An underachieving voice coach finds herself competing in the movie<br>trailer voice-over profession against her arrogant father and his prot\\u00e9g\\u00e9.<br>\"],[\"A dramatic retelling of the post-Watergate television interviews between British<br>talk-show host<br>\"],[\"The story of Calamity Jane, her saloon, and her romance<br>with Wild Bill Hickok.<br>\"],[\"A Chicago playwright uses self-hypnosis to travel back in time<br>and meet the actress whose vintage portrait hangs in a<br>grand hotel.<br>\"],[\"This movie chronicles how Chetan met his wife and the<br>difficulties they faced due to their cultural differences.<br>\"],[\"The story of the five-day interview between Rolling Stone reporter<br>David Lipsky and acclaimed novelist David Foster Wallace, which took<br>place right after the 1996 publication of Wallace's groundbreaking epic<br>novel, 'Infinite Jest.'<br>\"],[\"Two intersecting love triangles. Obsession and betrayal set against the<br>music scene in Austin, Texas.<br>\"],[\"A drama exploring the romantic past and emotional present of<br>Ann Lord (Vanessa Redgrave) and her daughters, Constance Haverford (Natasha<br>Richardson) and Nina Mars (Toni Collette). As Ann lays dying,<br>she remembers, and is moved to convey to her daughters,<br>the defining moments in her life fifty years ago, when<br>she was a young woman. Harris Arden (Patrick Wilson) is<br>the man Ann loves in the 1950s ...<br>\"],[\"A female theatre dresser creates a stir and sparks a<br>revolution in seventeenth century London theatre by playing Desdemona in<br>Othello. But what will become of the male actor she<br>once worked for and eventually replaced?<br>\"],[\"A Shakespearean actor takes poetic revenge on the critics who<br>denied him recognition.<br>\"],[\"The inspiring and unknown true story behind MercyMe's beloved, chart<br>topping song that brings ultimate hope to so many is<br>a gripping reminder of the power of true forgiveness.<br>\"],[\"Set in the 1930s, a former veterinary student takes a<br>job in a travelling circus and falls in love with<br>the ringmaster's wife.<br>\"],[\"A sex comedy centered on a serial womanizer and his<br>jilted lover.<br>\"],[\"After being discharged from the army, Antoine Doinel centers a<br>screwball comedy where he applies for different jobs and tries<br>to make sense of his relationships with women.<br>\"],[\"The life and career of wildly controversial rock 'n' roll<br>star<br>\"],[\"Bride-to-be Finn Dodd hears tales of romance and sorrow from<br>her elders as they construct a quilt.<br>\"],[\"Suffering from writer's block and eagerly awaiting his writing award,<br>Harry Block remembers events from his past and scenes from<br>his best-selling books as characters, real and fictional, come back<br>to haunt him.<br>\"]],\"hovertemplate\":\"cluster_size=0 | 32<br>dim_1=%{x}<br>dim_2=%{y}<br>centroid_name=%{text}<br>description=%{customdata[0]}<extra></extra>\",\"legendgroup\":\"0 | 32\",\"marker\":{\"color\":\"#EF553B\",\"symbol\":\"circle\"},\"mode\":\"markers+text\",\"name\":\"0 | 32\",\"orientation\":\"v\",\"showlegend\":true,\"text\":[\" \",\" \",\" \",\" \",\" \",\" \",\" \",\" \",\" \",\" \",\" \",\" \",\" \",\" \",\" \",\" \",\" \",\" \",\" \",\" \",\" \",\" \",\" \",\" \",\" \",\" \",\" \",\" \",\" \",\" \",\" \",\" \"],\"x\":[9.321621894836426,10.332250595092773,9.416448593139648,11.649141311645508,10.812507629394531,10.26274299621582,9.9077787399292,9.418699264526367,10.869773864746094,10.511625289916992,9.59762191772461,10.775688171386719,10.69955825805664,10.465344429016113,9.643636703491211,9.150186538696289,10.14490032196045,10.366581916809082,9.685174942016602,9.810657501220703,10.720120429992676,10.585174560546875,10.557207107543945,10.069475173950195,9.686539649963379,10.94063949584961,10.273362159729004,10.180614471435547,10.216501235961914,9.336675643920898,10.626957893371582,10.884359359741211],\"xaxis\":\"x\",\"y\":[3.8303871154785156,3.0210111141204834,4.357100486755371,2.7975733280181885,3.8756537437438965,3.3203542232513428,3.1700336933135986,2.6405880451202393,2.7858870029449463,2.8372976779937744,3.2950363159179688,2.6450555324554443,2.6672375202178955,3.648876667022705,3.031818151473999,3.517820119857788,3.299654483795166,2.869840383529663,3.2804698944091797,3.1150567531585693,2.6085336208343506,2.7494418621063232,2.7084498405456543,3.1431479454040527,3.2273857593536377,2.782134532928467,3.0506625175476074,3.2030675411224365,3.160953998565674,4.328125,2.756969928741455,2.8107542991638184],\"yaxis\":\"y\",\"type\":\"scatter\"},{\"customdata\":[[\"A young Parisian woman meets a middle-aged American businessman who<br>demands their clandestine relationship be based only on sex.<br>\"],[\"In a dystopian near future, single people, according to the<br>laws of The City, are taken to The Hotel, where<br>they are obliged to find a romantic partner in forty-five<br>days or are transformed into beasts and sent off into<br>The Woods.<br>\"],[\"The antisocial son of an alcoholic father and a bipolar<br>mother grows up in 1960s Ireland.<br>\"],[\"After a botched money delivery, Lola has 20 minutes to<br>come up with 100,000 Deutschmarks.<br>\"],[\"Natalie, head of her curriculum activities in high school and<br>riding on a tennis scholarship for college, gets Keith as<br>her Chemistry lab partner. As Natalie can be uptight, Keith<br>proves to be the opposite, even while hiding a secret.<br>\"],[\"A young woman with a mysterious past lands in Southport,<br>North Carolina where her bond with a widower forces her<br>to confront the dark secret that haunts her.<br>\"],[\"Larry Gigli is assigned by a crime boss to kidnap<br>the brother of a prominent district attorney. A beautiful woman<br>known only as Ricki is sent to stay with him<br>to make sure he doesn't mess up the job.<br>\"],[\"Identical twin gangsters Ronald and Reginald Kray terrorize London during<br>the 1960s.<br>\"],[\"A waitress, desperate to fulfill her dreams as a restaurant<br>owner, is set on a journey to turn a frog<br>prince back into a human being, but she has to<br>face the same problem after she kisses him.<br>\"],[\"Showgirls Lorelei Lee and Dorothy Shaw travel to Paris, pursued<br>by a private detective hired by the suspicious father of<br>Lorelei's fianc\\u00e9, as well as a rich, enamored old man<br>and many other doting admirers.<br>\"],[\"A young couple living in a Connecticut suburb during the<br>mid-1950s struggle to come to terms with their personal problems<br>while trying to raise their two children.<br>\"],[\"An aspiring teenage cartoonist and his friends come to the<br>aid of a singer trying to save her family property<br>from developers.<br>\"],[\"Richie and Eddie, a perverted loser and his alcoholic partner<br>in crime, run the worst hotel in Britain: the Guest<br>House Paradiso.<br>\"],[\"An old Jewish woman and her African-American chauffeur in the<br>American South have a relationship that grows and improves over<br>the years.<br>\"],[\"Alcoholic playboy Kyle Hadley marries the woman secretly loved by<br>his poor but hard-working best friend, who in turn is<br>pursued by Kyle's nymphomaniac sister.<br>\"],[\"In 1950s Connecticut, a housewife faces a marital crisis and<br>mounting racial tensions in the outside world.<br>\"],[\"The relationships of four couples unravel after the discovery of<br>a young woman's body in Lantana bush in suburban Sydney.<br>\"],[\"Set in the Little Saigon district outside of Sydney, a<br>woman (Blanchett) trying to escape her past becomes embroiled in<br>a drug deal.<br>\"],[\"Cady Heron is a hit with The Plastics, the A-list<br>girl clique at her new school, until she makes the<br>mistake of falling for Aaron Samuels, the ex-boyfriend of alpha<br>Plastic Regina George.<br>\"]],\"hovertemplate\":\"cluster_size=19 | 19<br>dim_1=%{x}<br>dim_2=%{y}<br>centroid_name=%{text}<br>description=%{customdata[0]}<extra></extra>\",\"legendgroup\":\"19 | 19\",\"marker\":{\"color\":\"#00cc96\",\"symbol\":\"circle\"},\"mode\":\"markers+text\",\"name\":\"19 | 19\",\"orientation\":\"v\",\"showlegend\":true,\"text\":[\" \",\" \",\" \",\" \",\" \",\" \",\" \",\" \",\" \",\" \",\" \",\" \",\" \",\" \",\" \",\" \",\" \",\" \",\" \"],\"x\":[8.699434280395508,8.869482040405273,8.884905815124512,9.330304145812988,8.49829387664795,8.670388221740723,4.64622163772583,9.40732192993164,8.957359313964844,9.3726806640625,8.671516418457031,8.861291885375977,9.357646942138672,8.863816261291504,8.494236946105957,8.836437225341797,8.793781280517578,3.8024532794952393,8.520393371582031],\"xaxis\":\"x\",\"y\":[2.6249501705169678,2.6585826873779297,3.2410225868225098,2.972851514816284,2.8506247997283936,2.7868943214416504,1.8577228784561157,3.3427481651306152,2.7246384620666504,2.990013360977173,3.1625428199768066,3.4602293968200684,3.2326507568359375,2.787163257598877,2.8388705253601074,2.88051176071167,2.62963604927063,1.2885255813598633,2.8441474437713623],\"yaxis\":\"y\",\"type\":\"scatter\"},{\"customdata\":[[\"To save their farm, the resident animals go bounty hunting<br>for a notorious outlaw.<br>\"],[\"The military attempts to contain a manmade combat virus that<br>causes death and permanent insanity in those infected, as it<br>overtakes a small Pennsylvania town.<br>\"],[\"Mr. Church reunites the Expendables for what should be an<br>easy paycheck, but when one of their men is murdered<br>on the job, their quest for revenge puts them deep<br>in enemy territory and up against an unexpected threat.<br>\"],[\"A group of archaeologists become trapped in the past when<br>they go there to retrieve a friend. The group must<br>survive in fourteenth century France before they can escape back<br>to the twenty-first century.<br>\"],[\"A group of animals who have spent all their life<br>in a New York zoo end up in the jungles<br>of Madagascar, and must adjust to living in the wild.<br>\"],[\"A ragtag group of Pennsylvanians barricade themselves in an old<br>farmhouse to remain safe from a bloodthirsty, flesh-eating breed of<br>monsters who are ravaging the East Coast of the United<br>States.<br>\"],[\"Tarzan, having acclimated to life in London, is called back<br>to his former home in the jungle to investigate the<br>activities at a mining encampment.<br>\"],[\"In a city of anthropomorphic animals, a rookie bunny cop<br>and a cynical con artist fox must work together to<br>uncover a conspiracy.<br>\"],[\"A new theme park, built on the original site of<br>Jurassic Park, creates a genetically modified hybrid dinosaur, the Indominus<br>Rex, which escapes containment and goes on a killing spree.<br>\"],[\"A bounty hunting scam joins two men in an uneasy<br>alliance against a third in a race to find a<br>fortune in gold buried in a remote cemetery.<br>\"],[\"2 firemen in a burning building get a treasure map.<br>Stolen gold church items are hidden in a closed down<br>factory in St. Louis. Once there, they're trapped in by<br>a black gang considering it their territory. Lots of shooting.<br>\"],[\"A strange prehistoric beast lurks in the depths of the<br>Amazonian jungle. A group of scientists try to capture the<br>animal and bring it back to civilization for study.<br>\"],[\"Amid the Civil War in 17th-century England, a group of<br>deserters flee from battle through an overgrown field. Captured by<br>an alchemist, the men are forced to help him search<br>to find a hidden treasure that he believes is buried<br>in the field.<br>\"],[\"A gun-fighting stranger comes to the small settlement of Lago<br>and is hired to bring the townsfolk together in an<br>attempt to hold off three outlaws who are on their<br>way.<br>\"],[\"The turtles find themselves transported back in time to ancient<br>Japan.<br>\"],[\"Bloodthirsty creatures await a pack of divers who become trapped<br>in an underwater cave network.<br>\"],[\"When a kingpin threatens New York City, a group of<br>mutated turtle warriors must emerge from the shadows to protect<br>their home.<br>\"],[\"In a small town in Massachusetts, a group of friends,<br>fascinated by the internet lore of the Slender Man, attempt<br>to prove that he doesn't actually exist - until one<br>of them mysteriously goes missing.<br>\"]],\"hovertemplate\":\"cluster_size=11 | 18<br>dim_1=%{x}<br>dim_2=%{y}<br>centroid_name=%{text}<br>description=%{customdata[0]}<extra></extra>\",\"legendgroup\":\"11 | 18\",\"marker\":{\"color\":\"#ab63fa\",\"symbol\":\"circle\"},\"mode\":\"markers+text\",\"name\":\"11 | 18\",\"orientation\":\"v\",\"showlegend\":true,\"text\":[\" \",\" \",\" \",\" \",\" \",\" \",\" \",\" \",\" \",\" \",\" \",\" \",\" \",\" \",\" \",\" \",\" \",\" \"],\"x\":[1.7825796604156494,0.9400602579116821,2.1434824466705322,1.836194634437561,1.8045282363891602,1.8618968725204468,1.872996211051941,1.771928071975708,1.8043864965438843,1.6183712482452393,1.638004183769226,1.803847312927246,1.5892280340194702,2.091010808944702,1.8539843559265137,1.6498746871948242,1.82041335105896,1.2540898323059082],\"xaxis\":\"x\",\"y\":[6.117102146148682,4.7867913246154785,5.046960353851318,6.093439102172852,6.1303486824035645,6.024849891662598,6.101767063140869,6.096929550170898,6.115482807159424,5.0781097412109375,5.104738235473633,6.117208003997803,5.114279747009277,5.275918006896973,6.161590099334717,5.120190620422363,6.108450889587402,5.007456302642822],\"yaxis\":\"y\",\"type\":\"scatter\"},{\"customdata\":[[\"A psychopathic criminal with a mother complex makes a daring<br>break from prison and leads his old gang in a<br>chemical plant payroll heist.<br>\"],[\"Young hero Thomas embarks on a mission to find a<br>cure for a deadly disease known as \\\"The Flare\\\".<br>\"],[\"A group of youngsters kidnap a respected Mafia figure.<br>\"],[\"After returning to the criminal underworld to repay a debt,<br>John Wick discovers that a large bounty has been put<br>on his life.<br>\"],[\"A young man turns from drug addiction and petty crime<br>to a life redeemed by a discovery of compassion.<br>\"],[\"A Catholic school principal questions a priest's ambiguous relationship with<br>a troubled young student.<br>\"],[\"Baran the Bandit, released from prison after 35 years, searches<br>for vengeance and his lover.<br>\"],[\"Julian, a drug-smuggler thriving in Bangkok's criminal underworld, sees his<br>life get even more complicated when his mother compels him<br>to find and kill whoever is responsible for his brother's<br>recent death.<br>\"],[\"The story of a bullied fifteen-year-old boy in a small<br>town as he struggles to adjust to his difficult life.<br>\"],[\"A former summer camp caretaker, horribly burned from a prank<br>gone wrong, lurks around an upstate New York summer camp<br>bent on killing the teenagers responsible for his disfigurement.<br>\"],[\"A veteran pot dealer creates a fake family as part<br>of his plan to move a huge shipment of weed<br>into the U.S. from Mexico.<br>\"],[\"A priest tries to stop a gangster from corrupting a<br>group of street kids.<br>\"],[\"After a botched bank robbery lands his younger brother in<br>prison, Connie Nikas embarks on a twisted odyssey through New<br>York City's underworld to get his brother Nick out of<br>jail.<br>\"],[\"A former neo-nazi skinhead tries to prevent his younger brother<br>from going down the same wrong path that he did.<br>\"],[\"A small-town sheriff in the American West enlists the help<br>of a cripple, a drunk, and a young gunfighter in<br>his efforts to hold in jail the brother of the<br>local bad guy.<br>\"]],\"hovertemplate\":\"cluster_size=3 | 15<br>dim_1=%{x}<br>dim_2=%{y}<br>centroid_name=%{text}<br>description=%{customdata[0]}<extra></extra>\",\"legendgroup\":\"3 | 15\",\"marker\":{\"color\":\"#FFA15A\",\"symbol\":\"circle\"},\"mode\":\"markers+text\",\"name\":\"3 | 15\",\"orientation\":\"v\",\"showlegend\":true,\"text\":[\" \",\" \",\" \",\" \",\" \",\" \",\" \",\" \",\" \",\" \",\" \",\" \",\" \",\" \",\" \"],\"x\":[4.195272445678711,3.509204387664795,3.2569892406463623,4.0049967765808105,3.8831191062927246,3.3154666423797607,3.996358633041382,4.118070125579834,5.27584981918335,3.406480550765991,4.060792446136475,3.26594614982605,3.9359333515167236,3.4797286987304688,3.8261871337890625],\"xaxis\":\"x\",\"y\":[2.2130565643310547,2.7468984127044678,2.7642483711242676,2.2339348793029785,2.410043478012085,2.8777036666870117,2.2785804271698,2.216524124145508,3.922978639602661,3.062359571456909,2.2752268314361572,2.8283262252807617,2.3199589252471924,3.0044872760772705,2.540961503982544],\"yaxis\":\"y\",\"type\":\"scatter\"},{\"customdata\":[[\"A serial killer pins his crimes on two college students<br>who gave him a ride.<br>\"],[\"Mark marries Marnie although she is a habitual thief and<br>has serious psychological problems, and tries to help her confront<br>and resolve them.<br>\"],[\"An associate burns down a wax museum with the owner<br>inside, but he survives only to become vengeful and murderous.<br>\"],[\"A high school senior finds herself immersed in an online<br>game of truth or dare, where her every move starts<br>to become manipulated by an anonymous community of \\\"watchers.\\\"<br>\"],[\"Hypnotist Dr. Caligari uses a somnambulist, Cesare, to commit murders.<br>\"],[\"A group of students go the location of the infamous<br>Dyatlov pass incident to make a documentary, but things take<br>a turn for the worse as the secret of what<br>happened there is revealed.<br>\"],[\"Two friends, attempting to start-up their own photo studio, come<br>across shady dealings, corruption and murder, and must fight to<br>bring the guilty to light.<br>\"],[\"A young videographer answers an online ad for a one-day<br>job in a remote town to record the last messages<br>of a dying man. When he notices the man's odd<br>behavior, he starts to question his intentions.<br>\"],[\"Two strangers, who awaken in a room with no recollection<br>of how they got there, soon discover they're pawns in<br>a deadly game perpetrated by a notorious serial killer.<br>\"],[\"Nine strangers are kidnapped and forced to figure out the<br>connection they have to each other as one has to<br>die every ten minutes.<br>\"],[\"A psychiatrist with intense acrophobia (fear of heights) goes to<br>work for a mental institution run by doctors who appear<br>to be crazier than their patients, and have secrets that<br>they are willing to commit murder to keep.<br>\"],[\"A college student suspects a series of bizarre deaths are<br>connected to certain urban legends.<br>\"],[\"Fifteen years ago, a group of men's lives were forever<br>changed by a strange occurrence. Now, the same group of<br>men will spend a night together ... in terror.<br>\"],[\"Consequences force an innocent man to get involved in crime<br>after making an error.<br>\"],[\"An imprisoned I.R.A. fighter is freed to help stop a<br>brutal, seemingly \\\"faceless\\\" assassin from completing his next job.<br>\"],[\"A famous fashion photographer develops a disturbing ability to see<br>through the eyes of a killer.<br>\"],[\"A graduate history student is unwittingly caught in the middle<br>of an international conspiracy involving stolen diamonds, an exiled Nazi<br>war criminal, and a rogue government agent.<br>\"],[\"A criminal mastermind uses hypnosis to rule the rackets after<br>death.<br>\"],[\"A masked serial killer turns a horror-themed amusement park into<br>his own personal playground, terrorizing a group of friends while<br>the rest of the patrons believe that it is all<br>part of the show.<br>\"],[\"This movie focuses on the attempts of a psychiatrist to<br>prevent one of his patients from committing suicide while trying<br>to maintain his own grip on reality.<br>\"],[\"A girl group find themselves in the middle of a<br>conspiracy to deliver subliminal messages through popular music.<br>\"],[\"A law student uncovers a conspiracy, putting herself and others<br>in danger.<br>\"],[\"Based on the true events of the only case in<br>US History where a spirit caused the death of a<br>man.<br>\"],[\"Two female journalists and a photographer travel to Europe to<br>investigate a series of mysterious disappearances, only to find themselves<br>embroiled in a struggle against a kind of evil they<br>never expected.<br>\"],[\"The story follows Jack, a highly intelligent serial killer, over<br>the course of twelve years, and depicts the murders that<br>really develop his inner madman.<br>\"],[\"A psychiatrist comes to the aid of a compulsive gambler<br>and is led by a smooth-talking grifter into the shadowy<br>but compelling world of stings, scams, and con men.<br>\"],[\"Serial killer Jason Voorhees' supernatural origins are revealed.<br>\"],[\"A film about Mark David Chapman in the days leading<br>up to the infamous murder of Beatle John Lennon.<br>\"],[\"Searching for a missing student, two private investigators break into<br>his house and find collection of VHS tapes. Viewing the<br>horrific contents of each cassette, they realize there may be<br>dark motives behind the student's disappearance.<br>\"],[\"\\\"Documentary\\\" about a man who can look and act like<br>whoever he's around, and meets various famous people.<br>\"],[\"Inspector Jacques Clouseau investigates the murder of Mr. Benjamin Ballon's<br>driver at a country estate.<br>\"],[\"A team of parapsychologists try to figure out a strange<br>phenomenon occurring in an apartment building.<br>\"],[\"When a murder occurs on the train on which he's<br>travelling, celebrated detective Hercule Poirot is recruited to solve the<br>case.<br>\"],[\"In the late 1960s/early 1970s, a San Francisco cartoonist becomes<br>an amateur detective obsessed with tracking down the Zodiac Killer,<br>an unidentified individual who terrorizes Northern California with a killing<br>spree.<br>\"],[\"After an encounter with a neck-biter, a publishing executive thinks<br>that he's turning into a vampire.<br>\"],[\"An ex-con gets on a series of apparently unrelated killings.<br>He gets tracked by a veteran cop with secrets of<br>his own and an egocentric hit man.<br>\"],[\"Documents<br>\"],[\"Two strangers become dangerously close after witnessing a deadly accident.<br>\"],[\"Two years after the first series of murders, as Sidney<br>acclimates to college life, someone donning the Ghostface costume begins<br>a new string of killings.<br>\"]],\"hovertemplate\":\"cluster_size=18 | 39<br>dim_1=%{x}<br>dim_2=%{y}<br>centroid_name=%{text}<br>description=%{customdata[0]}<extra></extra>\",\"legendgroup\":\"18 | 39\",\"marker\":{\"color\":\"#19d3f3\",\"symbol\":\"circle\"},\"mode\":\"markers+text\",\"name\":\"18 | 39\",\"orientation\":\"v\",\"showlegend\":true,\"text\":[\" \",\" \",\" \",\" \",\" \",\" \",\" \",\" \",\" \",\" \",\" \",\" \",\" \",\" \",\" \",\" \",\" \",\" \",\" \",\" \",\" \",\" \",\" \",\" \",\" \",\" \",\" \",\" \",\" \",\" \",\" \",\" \",\" \",\" \",\" \",\" \",\" \",\" \",\" \"],\"x\":[2.07330322265625,0.925090491771698,2.023984670639038,2.313720941543579,1.9349881410598755,2.381998062133789,2.7775909900665283,3.188920736312866,2.262263059616089,2.2643752098083496,0.9557968974113464,2.388791561126709,3.056654930114746,2.3323678970336914,0.9788956046104431,1.8799176216125488,2.1902878284454346,2.0214977264404297,0.9314389228820801,1.8925576210021973,2.302255630493164,2.2239949703216553,2.7368829250335693,3.0636143684387207,2.0397448539733887,0.8288084268569946,1.9955335855484009,1.836997151374817,2.317033052444458,1.4540654420852661,1.9764947891235352,1.886457085609436,2.0086145401000977,1.6380035877227783,3.5396578311920166,1.8314049243927002,1.5596418380737305,2.3140876293182373,2.179518461227417],\"xaxis\":\"x\",\"y\":[0.1562197357416153,0.8811694979667664,0.8120608925819397,-0.5789100527763367,0.3114035725593567,-0.590621829032898,-0.4543880224227905,-0.4319867789745331,-0.2085685431957245,-0.17508630454540253,0.8790206909179688,-0.3221359848976135,-0.4509027600288391,0.7987213134765625,1.1044608354568481,0.37569212913513184,-0.503363311290741,0.2356186956167221,0.9303412437438965,-0.2659893333911896,-0.5387300252914429,-0.4982258379459381,-0.4267411530017853,-0.4664181172847748,0.15320052206516266,1.113769769668579,0.22930972278118134,0.5034783482551575,-0.4194481074810028,0.7161296606063843,0.42687538266181946,-0.31039777398109436,0.45007556676864624,0.6392202377319336,-0.3403398096561432,0.5345325469970703,0.6847444176673889,-0.2805274426937103,-0.07228602468967438],\"yaxis\":\"y\",\"type\":\"scatter\"},{\"customdata\":[[\"A losing coach with an underdog football team faces their<br>giants of fear and failure on and off the field<br>to surprising results.<br>\"],[\"Working class New York bus driver Ralph Kramden is always<br>coming up with get-rich-quick schemes for him and his best<br>friend, Ed Norton, who's always around to help him get<br>in (and out of) trouble.<br>\"],[\"A man struggles to survive after he unintentionally locks himself<br>up in a high rise devoid of food, water and<br>electricity.<br>\"],[\"The extracurricular king of Rushmore Preparatory School is put on<br>academic probation.<br>\"],[\"While drying out on the West Coast, an alcoholic hitman<br>befriends a tart-tongued woman who might just come in handy<br>when it's time for him to return to Buffalo and<br>settle some old scores.<br>\"],[\"Sharpshooter Matt Quigley is hired from Wyoming by an Australian<br>rancher paying a very high price. But when Quigley arrives<br>Down Under, all is not as it seems.<br>\"],[\"A proud strip club owner is forced to come to<br>terms with himself as a man, when his gambling addiction<br>gets him in hot water with the mob, who offer<br>him only one alternative.<br>\"],[\"Harold Hill poses as a boys' band leader to con<br>naive Iowa townsfolk.<br>\"],[\"Tommy is an unemployed mechanic who spends most of his<br>time in a bar (Trees Lounge) in a small blue<br>collar town. He seems to always be thinking, \\\"If only<br>X then I could stop drinking\\\".<br>\"],[\"A greedy landowner and his backward nephew conspire to block<br>the only water source for an adjoining property in order<br>to bankrupt the owner and force him to sell.<br>\"],[\"Upper-class Tony hires servant Hugo Barrett, who turns out to<br>have a hidden agenda.<br>\"],[\"A Texas baseball coach makes the major league after agreeing<br>to try out if his high school team made the<br>playoffs.<br>\"],[\"Based on H.G. Bissinger's book, which profiled the economically depressed<br>town of Odessa, Texas and their heroic high school football<br>team, The Permian High Panthers.<br>\"],[\"Big and Little Enos are opening a sea food restaurant.<br>They bet Sheriff Buford T. Justice that he cannot drive<br>from Miami to the Enos ranch in Texas in a<br>given amount of time. If Buford loses he has to<br>give up his badge.<br>\"],[\"Dunson leads a cattle drive, the culmination of over 14<br>years of work, to its destination in Missouri. But his<br>tyrannical behavior along the way causes a mutiny, led by<br>his adopted son.<br>\"],[\"A waterboy for a college football team discovers he has<br>a unique tackling ability and becomes a member of the<br>team.<br>\"],[\"In this allegorical story, a revolution led by pupil Mick<br>Travis takes place at an old established private school in<br>England.<br>\"],[\"A young, English working-class boy spends his free time caring<br>for and training his pet falcon.<br>\"],[\"Jimmy Dolan is a college basketball coach who wants a<br>big promotion. To get it, he needs to make a<br>dramatic find. He ends up deep in Africa, hoping to<br>recruit Saleh, a huge basketball ...<br>\"],[\"A high school wrestler in Spokane, Washington has trouble focusing<br>on his training regimen when a beautiful young drifter takes<br>up temporary residence at his home.<br>\"]],\"hovertemplate\":\"cluster_size=10 | 20<br>dim_1=%{x}<br>dim_2=%{y}<br>centroid_name=%{text}<br>description=%{customdata[0]}<extra></extra>\",\"legendgroup\":\"10 | 20\",\"marker\":{\"color\":\"#FF6692\",\"symbol\":\"circle\"},\"mode\":\"markers+text\",\"name\":\"10 | 20\",\"orientation\":\"v\",\"showlegend\":true,\"text\":[\" \",\" \",\" \",\" \",\" \",\" \",\" \",\" \",\" \",\" \",\" \",\" \",\" \",\" \",\" \",\" \",\" \",\" \",\" \",\" \"],\"x\":[1.560476541519165,5.177399158477783,3.8348090648651123,1.7919421195983887,5.1195969581604,1.9409855604171753,1.7185664176940918,1.5148690938949585,1.6262104511260986,3.8624305725097656,1.4830254316329956,1.6589479446411133,1.7262146472930908,1.7327640056610107,5.158735275268555,1.5753165483474731,1.7814267873764038,5.343771457672119,1.751410961151123,5.284176349639893],\"xaxis\":\"x\",\"y\":[2.9820098876953125,3.9635307788848877,5.827389240264893,3.1841917037963867,4.034856796264648,3.235438823699951,3.125955104827881,2.979149341583252,3.045851707458496,5.743496894836426,2.934826612472534,3.0923914909362793,3.168776512145996,3.1282761096954346,4.000514030456543,3.0138700008392334,3.1709084510803223,3.9732820987701416,3.1448709964752197,3.891209125518799],\"yaxis\":\"y\",\"type\":\"scatter\"},{\"customdata\":[[\"Astronaut Scorch Supernova finds himself caught in a trap when<br>he responds to an SOS from a notoriously dangerous alien<br>planet.<br>\"],[\"A young boy named Milo gains a deeper appreciation for<br>his mom after Martians come to Earth to take her<br>away.<br>\"],[\"An artificial man, who was incompletely constructed and has scissors<br>for hands, leads a solitary life. Then one day, a<br>suburban lady meets him and introduces him to her world.<br>\"],[\"A highly advanced robotic boy longs to become \\\"real\\\" so<br>that he can regain the love of his human mother.<br>\"],[\"A genetic engineering student tries to bring back the skills<br>of a legend of the past and use his skills<br>to save India from a deadly virus attack by China.<br>\"],[\"When the galaxy comes under the threat of a nefarious<br>space captain, a mechanic and his newfound robot ally join<br>an elite squad of combatants to save the universe.<br>\"],[\"After a space merchant vessel receives an unknown transmission as<br>a distress call, one of the crew is attacked by<br>a mysterious life form and they soon realize that its<br>life cycle has merely begun.<br>\"],[\"An unsuspecting, disenchanted man finds himself working as a spy<br>in the dangerous, high-stakes world of corporate espionage. Quickly getting<br>way over-his-head, he teams up with a mysterious femme fatale.<br>\"],[\"Orphaned high school student Rick Riker is bitten by a<br>radioactive dragonfly, develops super powers (except for the ability to<br>fly), and becomes a hero.<br>\"],[\"Two Russians push the wrong button on a strange device<br>and end up on the telepathic planet Pluke with its<br>strange societal norms.<br>\"],[\"James Bond investigates the mid-air theft of a space shuttle,<br>and discovers a plot to commit global genocide.<br>\"],[\"Bank clerk Stanley Ipkiss is transformed into a manic superhero<br>when he wears a mysterious mask.<br>\"],[\"A simpleton inventor becomes a superhero with a bulletproof costume<br>and a low budget.<br>\"],[\"A friendship with a top-secret robot turns a lonely girl's<br>life into a thrilling adventure as they take on bullies,<br>evil bots and a scheming madman.<br>\"],[\"Two young brothers are drawn into an intergalactic adventure when<br>their house is hurled through the depths of space by<br>the magical board game they are playing.<br>\"],[\"A seemingly normal young boy turns out to be a<br>top secret, military-created robot with superhuman abilities.<br>\"],[\"Blair, a fighter pilot, joins an interstellar war to fight<br>the evil Kilrathi who are trying to destroy the universe.<br>\"],[\"Strange lights descend on the city of Los Angeles, drawing<br>people outside like moths to a flame where an extraterrestrial<br>force threatens to swallow the entire human population off the<br>face of the Earth.<br>\"],[\"The first human born on Mars travels to Earth for<br>the first time, experiencing the wonders of the planet through<br>fresh eyes. He embarks on an adventure with a street-smart<br>girl to discover how he came to be.<br>\"],[\"Set in the near-future, technology controls nearly all aspects of<br>life. But when the world of Grey, a self-labeled technophobe,<br>is turned upside down, his only hope for revenge is<br>an experimental computer chip implant.<br>\"],[\"A rescue crew investigates a spaceship that disappeared into a<br>black hole and has now returned...with someone or something new<br>on-board.<br>\"],[\"Jean-Baptiste Grenouille, born with a superior olfactory sense, creates the<br>world's finest perfume. His work, however, takes a dark turn<br>as he searches for the ultimate scent.<br>\"],[\"With their 400-day mission simulation nearing completion, 4 astronauts begin<br>to feel something's amiss.<br>\"],[\"A man spends a summer day swimming as many pools<br>as he can all over a quiet suburban town.<br>\"],[\"For generations, the people of the City of Ember have<br>flourished in an amazing world of glittering lights. But Ember's<br>once powerful generator is failing and the great lamps that<br>illuminate the city are starting to flicker.<br>\"],[\"An alien trying to escape from NASA is befriended by<br>a wheelchair-bound boy.<br>\"],[\"After discovering that an asteroid the size of Texas is<br>going to impact Earth in less than a month, NASA<br>recruits a misfit team of deep-core drillers to save the<br>planet.<br>\"],[\"The idealist William Wilberforce (Ioan Gruffudd) maneuvers his way through<br>Parliament, endeavoring to end the British transatlantic slave trade.<br>\"],[\"Roy Neary, an electric lineman, watches how his quiet and<br>ordinary daily life turns upside down after a close encounter<br>with a UFO.<br>\"]],\"hovertemplate\":\"cluster_size=12 | 29<br>dim_1=%{x}<br>dim_2=%{y}<br>centroid_name=%{text}<br>description=%{customdata[0]}<extra></extra>\",\"legendgroup\":\"12 | 29\",\"marker\":{\"color\":\"#B6E880\",\"symbol\":\"circle\"},\"mode\":\"markers+text\",\"name\":\"12 | 29\",\"orientation\":\"v\",\"showlegend\":true,\"text\":[\" \",\" \",\" \",\" \",\" \",\" \",\" \",\" \",\" \",\" \",\" \",\" \",\" \",\" \",\" \",\" \",\" \",\" \",\" \",\" \",\" \",\" \",\" \",\" \",\" \",\" \",\" \",\" \",\" \"],\"x\":[-1.322094202041626,-0.20158518850803375,-0.48137983679771423,-0.4431327283382416,-0.4866681396961212,-1.148869514465332,-1.3815287351608276,-0.3999054729938507,-0.7209481596946716,-1.3198683261871338,-1.3170794248580933,-0.6536805629730225,-0.7386044859886169,-0.44545963406562805,-0.4160020351409912,-0.5549206137657166,-1.274533987045288,0.7471795678138733,-0.21030697226524353,-0.610477864742279,-1.2726216316223145,-0.8263698816299438,-1.3227624893188477,-0.23021739721298218,0.8484017848968506,-1.1957528591156006,-1.2027318477630615,-0.9769828915596008,-0.9569060802459717],\"xaxis\":\"x\",\"y\":[4.760012149810791,5.265100955963135,4.966598033905029,5.111417770385742,4.811133861541748,4.871735572814941,4.655422210693359,3.224621295928955,4.704275608062744,4.76266622543335,4.640082359313965,4.197999477386475,4.600132465362549,5.007824897766113,5.024325370788574,4.929036617279053,4.767651557922363,4.939958095550537,5.187600135803223,4.832571506500244,4.819949150085449,4.8806962966918945,4.797236442565918,4.934506416320801,5.011679649353027,4.8693318367004395,4.769981861114502,4.758723258972168,4.867053508758545],\"yaxis\":\"y\",\"type\":\"scatter\"},{\"customdata\":[[\"A struggling dentist's life is turned upside down when a<br>famous gangster moves in next door, and his wife convinces<br>him to inform a notorious mob boss about the gangster's<br>whereabouts.<br>\"],[\"Domestic and professional tensions mount when a husband and wife<br>work as opposing lawyers in a case involving a woman<br>who shot her husband.<br>\"],[\"A young woman fakes her own death in an attempt<br>to escape her nightmarish marriage, but discovers it is impossible<br>to elude her controlling husband.<br>\"],[\"Two women are arrested for smuggling while vacationing in Thailand.<br>\"],[\"A realtor and his wife and children are summoned to<br>a mansion, which they soon discover is haunted, and while<br>they attempt to escape, he learns an important lesson about<br>the family he has neglected.<br>\"],[\"A psychiatrist, living in Vienna, enters a torrid relationship with<br>a married woman. When she ends up in the hospital<br>from an overdose, an inspector becomes set on discovering the<br>demise of their affair.<br>\"],[\"A bounty hunter learns that his next target is his<br>ex-wife, a reporter working on a murder cover-up. Soon after<br>their reunion, the always-at-odds duo find themselves on a run-for-their-lives<br>adventure.<br>\"],[\"5 years after a mom's 6 y.o. girl is murdered,<br>she gets a phone call from someone claiming to be<br>the daughter. An ex cop and a reporter help. A<br>secret group called The Nameless may be behind it all.<br>\"],[\"An unstable escaped convict terrorizes a woman who is alone<br>with her two children.<br>\"],[\"Two business executives--one an avowed misogynist, the other recently emotionally<br>wounded by his love interest--set out to exact revenge on<br>the female gender by seeking out the most innocent, uncorrupted<br>girl they can find and ruining her life.<br>\"],[\"Laura Palmer's harrowing final days are chronicled one year after<br>the murder of Teresa Banks, a resident of Twin Peaks'<br>neighboring town.<br>\"],[\"A reporter and her ex-husband investigate a cursed video tape<br>that is rumored to kill the viewer seven days after<br>watching it.<br>\"],[\"A woman subject to mental, physical and sexual abuse on<br>a remote island seeks a way out.<br>\"],[\"The story of a girl who is willing to do<br>anything to become Valedictorian, even if it means murdering the<br>teacher that stands in her way.<br>\"],[\"The wife and mistress of the sadistic dean of an<br>exclusive prep school conspire to murder him.<br>\"],[\"A woman advertising for a new roommate finds that something<br>very strange is going on with the tenant who decides<br>to move in.<br>\"],[\"The lives of four people intersect in Mumbai: a washer-man<br>who wants to become an actor, a banker-turned-photographer, a painter<br>looking for inspiration, and a newly-married immigrant who journals her<br>experiences on home video.<br>\"],[\"A woman's survivor's guilt from a Columbine-like event twenty years<br>ago causes her present-day idyllic life to fall apart.<br>\"],[\"A cover-up spanning four U.S. Presidents pushes the country's first<br>female newspaper publisher and her editor to join an unprecedented<br>battle between press and government.<br>\"],[\"While both participating in a production of \\\"Death of a<br>Salesman,\\\" a teacher's wife is assaulted in her new home,<br>which leaves him determined to find the perpetrator over his<br>wife's traumatized objections.<br>\"],[\"Julie Kohler is prevented from suicide by her mother. She<br>leaves the town. She will track down, charm and kill<br>five men who do not know her. What is her<br>goal? What is her purpose?<br>\"],[\"A well meaning crack shot husband is pressured by his<br>beautiful marksman wife to go on an interstate robbery spree,<br>where he finds out just how depraved and deadly she<br>really is.<br>\"],[\"After her humiliated husband kills himself, an embittered pregnant widow<br>loses her child, and embarks on a mission of vengeance<br>against a woman and her family.<br>\"]],\"hovertemplate\":\"cluster_size=6 | 23<br>dim_1=%{x}<br>dim_2=%{y}<br>centroid_name=%{text}<br>description=%{customdata[0]}<extra></extra>\",\"legendgroup\":\"6 | 23\",\"marker\":{\"color\":\"#FF97FF\",\"symbol\":\"circle\"},\"mode\":\"markers+text\",\"name\":\"6 | 23\",\"orientation\":\"v\",\"showlegend\":true,\"text\":[\" \",\" \",\" \",\" \",\" \",\" \",\" \",\" \",\" \",\" \",\" \",\" \",\" \",\" \",\" \",\" \",\" \",\" \",\" \",\" \",\" \",\" \",\" \"],\"x\":[5.872899055480957,5.973371982574463,6.082127571105957,5.9223408699035645,6.627120018005371,6.074599266052246,3.6072654724121094,4.044893264770508,6.258022308349609,6.415712356567383,3.7476108074188232,3.8551855087280273,6.057966709136963,6.005475997924805,5.9512810707092285,5.898914337158203,8.884758949279785,6.36413049697876,9.07371997833252,6.010485649108887,6.107640743255615,5.925053119659424,6.030808925628662],\"xaxis\":\"x\",\"y\":[0.640291154384613,0.5389009118080139,0.6048667430877686,0.7425389289855957,1.5628899335861206,1.149335265159607,-0.3694040775299072,3.922362804412842,0.7712507247924805,1.0816068649291992,-0.3197813034057617,-0.2850112318992615,0.8723339438438416,0.4547310769557953,0.45586955547332764,1.575845718383789,2.4121463298797607,1.0325523614883423,2.3674120903015137,0.5117093324661255,0.5834650993347168,0.5693755745887756,0.5609394311904907],\"yaxis\":\"y\",\"type\":\"scatter\"},{\"customdata\":[[\"A dying gunfighter spends his last days looking for a<br>way to die with a minimum of pain and a<br>maximum of dignity.<br>\"],[\"When his peaceful life is threatened by a high-tech assassin,<br>former black-ops agent Frank Moses reassembles his old team in<br>a last-ditch effort to survive and uncover his assailants.<br>\"],[\"A hunter squares off against a killer whale seeking vengeance<br>for the death of its mate.<br>\"],[\"A soldier fighting aliens gets to relive the same day<br>over and over again, the day restarting every time he<br>dies.<br>\"],[\"Based on the real-life event, when a gold and copper<br>mine collapses, it traps 33 miners underground for 69 days.<br>\"],[\"A suicidally disillusioned liberal politician puts a contract out on<br>himself and takes the opportunity to be bluntly honest with<br>his voters by affecting the rhythms and speech of hip-hop<br>music and culture.<br>\"],[\"An idyllic science fiction future has one major drawback: life<br>must end at the age of thirty.<br>\"],[\"A comet wipes out most of life on Earth, leaving<br>two Valley Girls fighting against cannibal zombies and a sinister<br>group of scientists.<br>\"],[\"The unburied dead return to life and seek human victims.<br>\"],[\"At the end of the Civil War, a colonel hunts<br>down a man with whom he has a grudge.<br>\"],[\"An Iranian man drives his truck in search of someone<br>who will quietly bury him under a cherry tree after<br>he commits suicide.<br>\"],[\"Events over the course of one traumatic night in Paris<br>unfold in reverse-chronological order as the beautiful Alex is brutally<br>raped and beaten by a stranger in the underpass.<br>\"],[\"A bike stuntman recalls his previous life as a warrior,<br>and pursues his love's reincarnation. A sinister figure from their<br>shared past threatens to separate them forever.<br>\"],[\"In a desolate war zone where screams of the innocent<br>echo, seven Maroon Berets will dance with death on the<br>very line between disaster and valor.<br>\"]],\"hovertemplate\":\"cluster_size=1 | 14<br>dim_1=%{x}<br>dim_2=%{y}<br>centroid_name=%{text}<br>description=%{customdata[0]}<extra></extra>\",\"legendgroup\":\"1 | 14\",\"marker\":{\"color\":\"#FECB52\",\"symbol\":\"circle\"},\"mode\":\"markers+text\",\"name\":\"1 | 14\",\"orientation\":\"v\",\"showlegend\":true,\"text\":[\" \",\" \",\" \",\" \",\" \",\" \",\" \",\" \",\" \",\" \",\" \",\" \",\" \",\" \"],\"x\":[0.790664553642273,0.7660427689552307,0.9731521606445312,0.7667325139045715,0.9999477863311768,1.1643657684326172,0.9631989598274231,1.1803499460220337,0.8427698016166687,0.7090288996696472,0.840972363948822,3.083510398864746,0.8403351902961731,1.213197946548462],\"xaxis\":\"x\",\"y\":[4.333107948303223,3.985766649246216,4.337677478790283,4.48096227645874,4.638869285583496,4.185307502746582,4.361762046813965,4.537667274475098,4.511514663696289,4.118132591247559,4.361131191253662,-0.4079856872558594,4.343578338623047,4.49144983291626],\"yaxis\":\"y\",\"type\":\"scatter\"},{\"customdata\":[[null],[null],[null],[null],[null],[null],[null],[null],[null],[null],[null],[null],[null],[null],[null],[null],[null],[null],[null],[null]],\"hovertemplate\":\"cluster_size=centroids<br>dim_1=%{x}<br>dim_2=%{y}<br>centroid_name=%{text}<br>description=%{customdata[0]}<extra></extra>\",\"legendgroup\":\"centroids\",\"marker\":{\"color\":\"#636efa\",\"symbol\":\"circle\"},\"mode\":\"markers+text\",\"name\":\"centroids\",\"orientation\":\"v\",\"showlegend\":true,\"text\":[\"0 - true story | young woman\",\"1 - civil war\",\"10 - football team | high school | good friend\",\"11 - treasure map | civil war | new york\",\"12 - young boy | los angeles | high school\",\"13 - los angeles | gang leader | new york\",\"14 - good friend\",\"15 - new life | young woman\",\"16 - single mother | young woman | fbi agent\",\"17 - old daughter | beautiful woman | old friend\",\"18 - serial killer | international conspiracy | jacques clouseau\",\"19 - beautiful woman | young woman | high school\",\"2 - young man | summer camp | young boy\",\"3 - summer camp | new york | young man\",\"4 - small town\",\"5 - hong kong | gang leader | jacques clouseau\",\"6 - young woman\",\"7 - high school | york city | old friend\",\"8 - old daughter | new life | new york\",\"9 - war ii | world war | jack sparrow\"],\"x\":[10.216236114501953,1.0810191631317139,2.782153844833374,1.7298264503479004,-0.7074416875839233,2.7389731407165527,8.058767318725586,3.828082799911499,5.355143070220947,11.838939666748047,2.06428861618042,8.396735191345215,5.643063545227051,3.835359811782837,3.290586471557617,1.1931540966033936,5.947451591491699,10.744738578796387,7.00980281829834,-1.0070316791534424],\"xaxis\":\"x\",\"y\":[3.1417617797851562,4.019924163818359,3.5820398330688477,5.644534111022949,4.792045593261719,1.0499554872512817,5.07431697845459,4.170340538024902,2.414537191390991,3.7122268676757812,0.11797378212213516,2.7986488342285156,4.038973331451416,2.646352529525757,5.499459743499756,2.2250819206237793,0.9320098757743835,4.423893451690674,2.492509603500366,3.1175808906555176],\"yaxis\":\"y\",\"type\":\"scatter\"}],                        {\"template\":{\"data\":{\"bar\":[{\"error_x\":{\"color\":\"#2a3f5f\"},\"error_y\":{\"color\":\"#2a3f5f\"},\"marker\":{\"line\":{\"color\":\"#E5ECF6\",\"width\":0.5},\"pattern\":{\"fillmode\":\"overlay\",\"size\":10,\"solidity\":0.2}},\"type\":\"bar\"}],\"barpolar\":[{\"marker\":{\"line\":{\"color\":\"#E5ECF6\",\"width\":0.5},\"pattern\":{\"fillmode\":\"overlay\",\"size\":10,\"solidity\":0.2}},\"type\":\"barpolar\"}],\"carpet\":[{\"aaxis\":{\"endlinecolor\":\"#2a3f5f\",\"gridcolor\":\"white\",\"linecolor\":\"white\",\"minorgridcolor\":\"white\",\"startlinecolor\":\"#2a3f5f\"},\"baxis\":{\"endlinecolor\":\"#2a3f5f\",\"gridcolor\":\"white\",\"linecolor\":\"white\",\"minorgridcolor\":\"white\",\"startlinecolor\":\"#2a3f5f\"},\"type\":\"carpet\"}],\"choropleth\":[{\"colorbar\":{\"outlinewidth\":0,\"ticks\":\"\"},\"type\":\"choropleth\"}],\"contour\":[{\"colorbar\":{\"outlinewidth\":0,\"ticks\":\"\"},\"colorscale\":[[0.0,\"#0d0887\"],[0.1111111111111111,\"#46039f\"],[0.2222222222222222,\"#7201a8\"],[0.3333333333333333,\"#9c179e\"],[0.4444444444444444,\"#bd3786\"],[0.5555555555555556,\"#d8576b\"],[0.6666666666666666,\"#ed7953\"],[0.7777777777777778,\"#fb9f3a\"],[0.8888888888888888,\"#fdca26\"],[1.0,\"#f0f921\"]],\"type\":\"contour\"}],\"contourcarpet\":[{\"colorbar\":{\"outlinewidth\":0,\"ticks\":\"\"},\"type\":\"contourcarpet\"}],\"heatmap\":[{\"colorbar\":{\"outlinewidth\":0,\"ticks\":\"\"},\"colorscale\":[[0.0,\"#0d0887\"],[0.1111111111111111,\"#46039f\"],[0.2222222222222222,\"#7201a8\"],[0.3333333333333333,\"#9c179e\"],[0.4444444444444444,\"#bd3786\"],[0.5555555555555556,\"#d8576b\"],[0.6666666666666666,\"#ed7953\"],[0.7777777777777778,\"#fb9f3a\"],[0.8888888888888888,\"#fdca26\"],[1.0,\"#f0f921\"]],\"type\":\"heatmap\"}],\"heatmapgl\":[{\"colorbar\":{\"outlinewidth\":0,\"ticks\":\"\"},\"colorscale\":[[0.0,\"#0d0887\"],[0.1111111111111111,\"#46039f\"],[0.2222222222222222,\"#7201a8\"],[0.3333333333333333,\"#9c179e\"],[0.4444444444444444,\"#bd3786\"],[0.5555555555555556,\"#d8576b\"],[0.6666666666666666,\"#ed7953\"],[0.7777777777777778,\"#fb9f3a\"],[0.8888888888888888,\"#fdca26\"],[1.0,\"#f0f921\"]],\"type\":\"heatmapgl\"}],\"histogram\":[{\"marker\":{\"pattern\":{\"fillmode\":\"overlay\",\"size\":10,\"solidity\":0.2}},\"type\":\"histogram\"}],\"histogram2d\":[{\"colorbar\":{\"outlinewidth\":0,\"ticks\":\"\"},\"colorscale\":[[0.0,\"#0d0887\"],[0.1111111111111111,\"#46039f\"],[0.2222222222222222,\"#7201a8\"],[0.3333333333333333,\"#9c179e\"],[0.4444444444444444,\"#bd3786\"],[0.5555555555555556,\"#d8576b\"],[0.6666666666666666,\"#ed7953\"],[0.7777777777777778,\"#fb9f3a\"],[0.8888888888888888,\"#fdca26\"],[1.0,\"#f0f921\"]],\"type\":\"histogram2d\"}],\"histogram2dcontour\":[{\"colorbar\":{\"outlinewidth\":0,\"ticks\":\"\"},\"colorscale\":[[0.0,\"#0d0887\"],[0.1111111111111111,\"#46039f\"],[0.2222222222222222,\"#7201a8\"],[0.3333333333333333,\"#9c179e\"],[0.4444444444444444,\"#bd3786\"],[0.5555555555555556,\"#d8576b\"],[0.6666666666666666,\"#ed7953\"],[0.7777777777777778,\"#fb9f3a\"],[0.8888888888888888,\"#fdca26\"],[1.0,\"#f0f921\"]],\"type\":\"histogram2dcontour\"}],\"mesh3d\":[{\"colorbar\":{\"outlinewidth\":0,\"ticks\":\"\"},\"type\":\"mesh3d\"}],\"parcoords\":[{\"line\":{\"colorbar\":{\"outlinewidth\":0,\"ticks\":\"\"}},\"type\":\"parcoords\"}],\"pie\":[{\"automargin\":true,\"type\":\"pie\"}],\"scatter\":[{\"marker\":{\"colorbar\":{\"outlinewidth\":0,\"ticks\":\"\"}},\"type\":\"scatter\"}],\"scatter3d\":[{\"line\":{\"colorbar\":{\"outlinewidth\":0,\"ticks\":\"\"}},\"marker\":{\"colorbar\":{\"outlinewidth\":0,\"ticks\":\"\"}},\"type\":\"scatter3d\"}],\"scattercarpet\":[{\"marker\":{\"colorbar\":{\"outlinewidth\":0,\"ticks\":\"\"}},\"type\":\"scattercarpet\"}],\"scattergeo\":[{\"marker\":{\"colorbar\":{\"outlinewidth\":0,\"ticks\":\"\"}},\"type\":\"scattergeo\"}],\"scattergl\":[{\"marker\":{\"colorbar\":{\"outlinewidth\":0,\"ticks\":\"\"}},\"type\":\"scattergl\"}],\"scattermapbox\":[{\"marker\":{\"colorbar\":{\"outlinewidth\":0,\"ticks\":\"\"}},\"type\":\"scattermapbox\"}],\"scatterpolar\":[{\"marker\":{\"colorbar\":{\"outlinewidth\":0,\"ticks\":\"\"}},\"type\":\"scatterpolar\"}],\"scatterpolargl\":[{\"marker\":{\"colorbar\":{\"outlinewidth\":0,\"ticks\":\"\"}},\"type\":\"scatterpolargl\"}],\"scatterternary\":[{\"marker\":{\"colorbar\":{\"outlinewidth\":0,\"ticks\":\"\"}},\"type\":\"scatterternary\"}],\"surface\":[{\"colorbar\":{\"outlinewidth\":0,\"ticks\":\"\"},\"colorscale\":[[0.0,\"#0d0887\"],[0.1111111111111111,\"#46039f\"],[0.2222222222222222,\"#7201a8\"],[0.3333333333333333,\"#9c179e\"],[0.4444444444444444,\"#bd3786\"],[0.5555555555555556,\"#d8576b\"],[0.6666666666666666,\"#ed7953\"],[0.7777777777777778,\"#fb9f3a\"],[0.8888888888888888,\"#fdca26\"],[1.0,\"#f0f921\"]],\"type\":\"surface\"}],\"table\":[{\"cells\":{\"fill\":{\"color\":\"#EBF0F8\"},\"line\":{\"color\":\"white\"}},\"header\":{\"fill\":{\"color\":\"#C8D4E3\"},\"line\":{\"color\":\"white\"}},\"type\":\"table\"}]},\"layout\":{\"annotationdefaults\":{\"arrowcolor\":\"#2a3f5f\",\"arrowhead\":0,\"arrowwidth\":1},\"autotypenumbers\":\"strict\",\"coloraxis\":{\"colorbar\":{\"outlinewidth\":0,\"ticks\":\"\"}},\"colorscale\":{\"diverging\":[[0,\"#8e0152\"],[0.1,\"#c51b7d\"],[0.2,\"#de77ae\"],[0.3,\"#f1b6da\"],[0.4,\"#fde0ef\"],[0.5,\"#f7f7f7\"],[0.6,\"#e6f5d0\"],[0.7,\"#b8e186\"],[0.8,\"#7fbc41\"],[0.9,\"#4d9221\"],[1,\"#276419\"]],\"sequential\":[[0.0,\"#0d0887\"],[0.1111111111111111,\"#46039f\"],[0.2222222222222222,\"#7201a8\"],[0.3333333333333333,\"#9c179e\"],[0.4444444444444444,\"#bd3786\"],[0.5555555555555556,\"#d8576b\"],[0.6666666666666666,\"#ed7953\"],[0.7777777777777778,\"#fb9f3a\"],[0.8888888888888888,\"#fdca26\"],[1.0,\"#f0f921\"]],\"sequentialminus\":[[0.0,\"#0d0887\"],[0.1111111111111111,\"#46039f\"],[0.2222222222222222,\"#7201a8\"],[0.3333333333333333,\"#9c179e\"],[0.4444444444444444,\"#bd3786\"],[0.5555555555555556,\"#d8576b\"],[0.6666666666666666,\"#ed7953\"],[0.7777777777777778,\"#fb9f3a\"],[0.8888888888888888,\"#fdca26\"],[1.0,\"#f0f921\"]]},\"colorway\":[\"#636efa\",\"#EF553B\",\"#00cc96\",\"#ab63fa\",\"#FFA15A\",\"#19d3f3\",\"#FF6692\",\"#B6E880\",\"#FF97FF\",\"#FECB52\"],\"font\":{\"color\":\"#2a3f5f\"},\"geo\":{\"bgcolor\":\"white\",\"lakecolor\":\"white\",\"landcolor\":\"#E5ECF6\",\"showlakes\":true,\"showland\":true,\"subunitcolor\":\"white\"},\"hoverlabel\":{\"align\":\"left\"},\"hovermode\":\"closest\",\"mapbox\":{\"style\":\"light\"},\"paper_bgcolor\":\"white\",\"plot_bgcolor\":\"#E5ECF6\",\"polar\":{\"angularaxis\":{\"gridcolor\":\"white\",\"linecolor\":\"white\",\"ticks\":\"\"},\"bgcolor\":\"#E5ECF6\",\"radialaxis\":{\"gridcolor\":\"white\",\"linecolor\":\"white\",\"ticks\":\"\"}},\"scene\":{\"xaxis\":{\"backgroundcolor\":\"#E5ECF6\",\"gridcolor\":\"white\",\"gridwidth\":2,\"linecolor\":\"white\",\"showbackground\":true,\"ticks\":\"\",\"zerolinecolor\":\"white\"},\"yaxis\":{\"backgroundcolor\":\"#E5ECF6\",\"gridcolor\":\"white\",\"gridwidth\":2,\"linecolor\":\"white\",\"showbackground\":true,\"ticks\":\"\",\"zerolinecolor\":\"white\"},\"zaxis\":{\"backgroundcolor\":\"#E5ECF6\",\"gridcolor\":\"white\",\"gridwidth\":2,\"linecolor\":\"white\",\"showbackground\":true,\"ticks\":\"\",\"zerolinecolor\":\"white\"}},\"shapedefaults\":{\"line\":{\"color\":\"#2a3f5f\"}},\"ternary\":{\"aaxis\":{\"gridcolor\":\"white\",\"linecolor\":\"white\",\"ticks\":\"\"},\"baxis\":{\"gridcolor\":\"white\",\"linecolor\":\"white\",\"ticks\":\"\"},\"bgcolor\":\"#E5ECF6\",\"caxis\":{\"gridcolor\":\"white\",\"linecolor\":\"white\",\"ticks\":\"\"}},\"title\":{\"x\":0.05},\"xaxis\":{\"automargin\":true,\"gridcolor\":\"white\",\"linecolor\":\"white\",\"ticks\":\"\",\"title\":{\"standoff\":15},\"zerolinecolor\":\"white\",\"zerolinewidth\":2},\"yaxis\":{\"automargin\":true,\"gridcolor\":\"white\",\"linecolor\":\"white\",\"ticks\":\"\",\"title\":{\"standoff\":15},\"zerolinecolor\":\"white\",\"zerolinewidth\":2}}},\"xaxis\":{\"anchor\":\"y\",\"domain\":[0.0,1.0],\"title\":{\"text\":\"dim_1\"}},\"yaxis\":{\"anchor\":\"x\",\"domain\":[0.0,1.0],\"title\":{\"text\":\"dim_2\"}},\"legend\":{\"title\":{\"text\":\"cluster_size\"},\"tracegroupgap\":0},\"margin\":{\"t\":60},\"height\":1000,\"width\":1000},                        {\"responsive\": true}                    ).then(function(){\n",
       "                            \n",
       "var gd = document.getElementById('7325ebf7-804b-40bb-83ff-5380eb9467dd');\n",
       "var x = new MutationObserver(function (mutations, observer) {{\n",
       "        var display = window.getComputedStyle(gd).display;\n",
       "        if (!display || display === 'none') {{\n",
       "            console.log([gd, 'removed!']);\n",
       "            Plotly.purge(gd);\n",
       "            observer.disconnect();\n",
       "        }}\n",
       "}});\n",
       "\n",
       "// Listen for the removal of the full notebook cells\n",
       "var notebookContainer = gd.closest('#notebook-container');\n",
       "if (notebookContainer) {{\n",
       "    x.observe(notebookContainer, {childList: true});\n",
       "}}\n",
       "\n",
       "// Listen for the clearing of the current output cell\n",
       "var outputEl = gd.closest('.output');\n",
       "if (outputEl) {{\n",
       "    x.observe(outputEl, {childList: true});\n",
       "}}\n",
       "\n",
       "                        })                };                });            </script>        </div>"
      ]
     },
     "metadata": {},
     "output_type": "display_data"
    }
   ],
   "source": [
    "fig = model.visualize_clusters(width=1000, height=1000)\n",
    "fig.show()"
   ]
  },
  {
   "cell_type": "code",
   "execution_count": null,
   "id": "49ad86ac-716c-4bf9-9aa3-f50bb8e45c00",
   "metadata": {},
   "outputs": [],
   "source": []
  }
 ],
 "metadata": {
  "kernelspec": {
   "display_name": "Python 3 (ipykernel)",
   "language": "python",
   "name": "python3"
  },
  "language_info": {
   "codemirror_mode": {
    "name": "ipython",
    "version": 3
   },
   "file_extension": ".py",
   "mimetype": "text/x-python",
   "name": "python",
   "nbconvert_exporter": "python",
   "pygments_lexer": "ipython3",
   "version": "3.9.7"
  }
 },
 "nbformat": 4,
 "nbformat_minor": 5
}
