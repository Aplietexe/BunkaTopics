{
 "cells": [
  {
   "cell_type": "code",
   "execution_count": 12,
   "id": "db1cef9a-c83b-4cd6-a641-383674812c84",
   "metadata": {},
   "outputs": [],
   "source": [
    "import requests\n",
    "from pydantic import BaseModel\n",
    "import json"
   ]
  },
  {
   "cell_type": "code",
   "execution_count": 13,
   "id": "6905330c-f22d-4bad-9d59-089764de9f5f",
   "metadata": {},
   "outputs": [],
   "source": [
    "from datasets import load_dataset\n",
    "import random\n",
    "\n",
    "dataset = load_dataset(\"rguo123/trump_tweets\")[\"train\"]\n",
    "full_docs = dataset[\"content\"]\n",
    "full_docs = random.sample(full_docs, 500)\n",
    "full_docs = [x for x in full_docs if len(x)>50]"
   ]
  },
  {
   "cell_type": "code",
   "execution_count": 14,
   "id": "fe26b3ff-b50c-411a-865f-d27f2c4e05a7",
   "metadata": {},
   "outputs": [],
   "source": [
    "# Define the URL of your FastAPI endpoint\n",
    "url = \"http://localhost:8000/process_bourdieu_query/\""
   ]
  },
  {
   "cell_type": "code",
   "execution_count": 17,
   "id": "93567eae-f56d-4ed0-b60a-c0cbef512e73",
   "metadata": {},
   "outputs": [],
   "source": [
    "# Define your BourdieuQuery as a Python dictionary\n",
    "bourdieu_query = {\n",
    "    \"x_left_words\": [\"war\"],\n",
    "    \"x_right_words\": [\"peace\"],\n",
    "    \"y_top_words\": [\"men\"],\n",
    "    \"y_bottom_words\": [\"women\"],\n",
    "    \"radius_size\": 0.5\n",
    "}"
   ]
  },
  {
   "cell_type": "code",
   "execution_count": 18,
   "id": "40306afe-3a78-4b9e-b236-7f23c0e5c899",
   "metadata": {},
   "outputs": [],
   "source": [
    "# Make the POST request with the BourdieuQuery and full_docs\n",
    "response = requests.post(url, data=json.dumps({\"query\": bourdieu_query, \"full_docs\": full_docs}))"
   ]
  },
  {
   "cell_type": "code",
   "execution_count": null,
   "id": "737c46e1-8d2f-4326-bd7a-23e18f33abb9",
   "metadata": {},
   "outputs": [],
   "source": []
  },
  {
   "cell_type": "code",
   "execution_count": null,
   "id": "2503ad17-098e-4edd-861c-48d166928474",
   "metadata": {},
   "outputs": [],
   "source": []
  },
  {
   "cell_type": "code",
   "execution_count": 25,
   "id": "cc9793d2-8375-42f0-aa00-5ee9429a6591",
   "metadata": {},
   "outputs": [],
   "source": [
    "# Check the response\n",
    "if response.status_code == 200:\n",
    "    data = response.json()\n",
    "    bourdieu_docs = data[\"bourdieu_docs\"]\n",
    "    bourdieu_topics = data[\"bourdieu_topics\"]"
   ]
  },
  {
   "cell_type": "code",
   "execution_count": null,
   "id": "278c80c3-1154-4479-984d-778a9946c420",
   "metadata": {},
   "outputs": [],
   "source": []
  }
 ],
 "metadata": {
  "kernelspec": {
   "display_name": "Python 3 (ipykernel)",
   "language": "python",
   "name": "python3"
  },
  "language_info": {
   "codemirror_mode": {
    "name": "ipython",
    "version": 3
   },
   "file_extension": ".py",
   "mimetype": "text/x-python",
   "name": "python",
   "nbconvert_exporter": "python",
   "pygments_lexer": "ipython3",
   "version": "3.10.13"
  }
 },
 "nbformat": 4,
 "nbformat_minor": 5
}
