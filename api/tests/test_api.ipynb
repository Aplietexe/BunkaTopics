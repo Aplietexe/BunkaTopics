{
 "cells": [
  {
   "cell_type": "code",
   "execution_count": 1,
   "id": "db1cef9a-c83b-4cd6-a641-383674812c84",
   "metadata": {},
   "outputs": [],
   "source": [
    "import requests\n",
    "from pydantic import BaseModel\n",
    "import json"
   ]
  },
  {
   "cell_type": "code",
   "execution_count": 2,
   "id": "6905330c-f22d-4bad-9d59-089764de9f5f",
   "metadata": {},
   "outputs": [],
   "source": [
    "from datasets import load_dataset\n",
    "import random\n",
    "\n",
    "dataset = load_dataset(\"rguo123/trump_tweets\")[\"train\"]\n",
    "full_docs = dataset[\"content\"]\n",
    "full_docs = random.sample(full_docs, 500)\n",
    "full_docs = [x for x in full_docs if len(x)>50]\n",
    "full_docs = [str(x) for x in full_docs]"
   ]
  },
  {
   "cell_type": "code",
   "execution_count": 3,
   "id": "b99bd94e-c98b-484d-8908-f36d2f0c31f1",
   "metadata": {},
   "outputs": [],
   "source": [
    "import pandas as pd\n",
    "test= pd.DataFrame(full_docs)\n",
    "#test.columns = ['text']\n",
    "#test.to_csv('csv_test.csv')"
   ]
  },
  {
   "cell_type": "code",
   "execution_count": null,
   "id": "372141dd-e37f-4b8f-813a-b4e70ffafb14",
   "metadata": {
    "tags": []
   },
   "outputs": [],
   "source": []
  },
  {
   "cell_type": "code",
   "execution_count": 5,
   "id": "485762c4-c8ec-477a-8edb-2651b7f267aa",
   "metadata": {},
   "outputs": [],
   "source": [
    "url_topics = \"http://localhost:8000/topics/\"\n",
    "params = {'n_clusters':10}\n",
    "response = requests.post(url_topics, data=json.dumps({\"params\": params, \"full_docs\": full_docs}))"
   ]
  },
  {
   "cell_type": "code",
   "execution_count": null,
   "id": "e75d4093-f45e-40d8-a1f6-f86a31061378",
   "metadata": {},
   "outputs": [],
   "source": []
  },
  {
   "cell_type": "code",
   "execution_count": 6,
   "id": "ec1f05ff-9e4b-4182-afbc-86fc8d58eae2",
   "metadata": {},
   "outputs": [
    {
     "name": "stdout",
     "output_type": "stream",
     "text": [
      "API Succesfull!\n"
     ]
    }
   ],
   "source": [
    "# Check the response\n",
    "if response.status_code == 200:\n",
    "    print('API Succesfull!')\n",
    "    data = response.json()\n",
    "    docs = data[\"docs\"]\n",
    "    topics = data[\"topics\"]"
   ]
  },
  {
   "cell_type": "code",
   "execution_count": null,
   "id": "3051fc74-c779-451b-b48e-eb0dd4e80e3e",
   "metadata": {
    "tags": []
   },
   "outputs": [],
   "source": []
  },
  {
   "cell_type": "code",
   "execution_count": 135,
   "id": "65cc34ed-7de8-44a3-8fbd-086c3cc992f5",
   "metadata": {},
   "outputs": [],
   "source": [
    "# Define your BourdieuQuery as a Python dictionary\n",
    "bourdieu_query = {\n",
    "    \"x_left_words\": [\"war\"],\n",
    "    \"x_right_words\": [\"peace\"],\n",
    "    \"y_top_words\": [\"men\"],\n",
    "    \"y_bottom_words\": [\"women\"],\n",
    "    \"radius_size\": 0.5\n",
    "}"
   ]
  },
  {
   "cell_type": "code",
   "execution_count": 88,
   "id": "fe26b3ff-b50c-411a-865f-d27f2c4e05a7",
   "metadata": {},
   "outputs": [],
   "source": [
    "# Define the URL of your FastAPI endpoint\n",
    "url_bourdieu = \"http://localhost:8000/process_bourdieu_query/\"\n",
    "\n",
    "response = requests.post(url_bourdieu, data=json.dumps({\"query\": bourdieu_query, \"full_docs\": full_docs}))\n",
    "# Check the response\n",
    "if response.status_code == 200:\n",
    "    data = response.json()\n",
    "    bourdieu_docs = data[\"bourdieu_docs\"]\n",
    "    bourdieu_topics = data[\"bourdieu_topics\"]"
   ]
  },
  {
   "cell_type": "code",
   "execution_count": null,
   "id": "b73a87f4-4110-4312-964c-986c4b37db98",
   "metadata": {},
   "outputs": [],
   "source": []
  }
 ],
 "metadata": {
  "kernelspec": {
   "display_name": "Python 3 (ipykernel)",
   "language": "python",
   "name": "python3"
  },
  "language_info": {
   "codemirror_mode": {
    "name": "ipython",
    "version": 3
   },
   "file_extension": ".py",
   "mimetype": "text/x-python",
   "name": "python",
   "nbconvert_exporter": "python",
   "pygments_lexer": "ipython3",
   "version": "3.10.13"
  }
 },
 "nbformat": 4,
 "nbformat_minor": 5
}
