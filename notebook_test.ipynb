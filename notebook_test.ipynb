{
 "cells": [
  {
   "cell_type": "code",
   "execution_count": 7,
   "id": "6489ccd2-8908-4698-9b3e-b2fa3ac2a312",
   "metadata": {},
   "outputs": [
    {
     "name": "stderr",
     "output_type": "stream",
     "text": [
      "2022-10-21 09:51:16,627 - Extracting Terms...\n",
      "100%|██████████████████████████████████████████████████████████| 2990/2990 [00:20<00:00, 143.51it/s]\n",
      "2022-10-21 09:51:37,655 - Extracting Docs Embeddings...\n",
      "100%|███████████████████████████████████████████████████████████| 2990/2990 [00:44<00:00, 67.11it/s]\n"
     ]
    },
    {
     "name": "stdout",
     "output_type": "stream",
     "text": [
      "UMAP(random_state=42, verbose=True)\n",
      "Fri Oct 21 09:52:23 2022 Construct fuzzy simplicial set\n",
      "Fri Oct 21 09:52:25 2022 Finding Nearest Neighbors\n",
      "Fri Oct 21 09:52:25 2022 Finished Nearest Neighbor Search\n",
      "Fri Oct 21 09:52:25 2022 Construct embedding\n"
     ]
    },
    {
     "data": {
      "application/vnd.jupyter.widget-view+json": {
       "model_id": "1e51ade03cb24d10870e62aa7b8ce252",
       "version_major": 2,
       "version_minor": 0
      },
      "text/plain": [
       "Epochs completed:   0%|            0/500 [00:00]"
      ]
     },
     "metadata": {},
     "output_type": "display_data"
    },
    {
     "name": "stdout",
     "output_type": "stream",
     "text": [
      "Fri Oct 21 09:52:28 2022 Finished embedding\n"
     ]
    }
   ],
   "source": [
    "from bunkatopics import BunkaTopics\n",
    "import pandas as pd\n",
    "\n",
    "\n",
    "data = pd.read_csv(\"data/imdb.csv\", index_col=[0])\n",
    "data = data.sample(3000, random_state=42)\n",
    "\n",
    "\n",
    "model = BunkaTopics(\n",
    "    data,  # dataFrame\n",
    "    text_var=\"description\",  # Text Columns\n",
    "    index_var=\"imdb\",  # Index Column (Mandatory)\n",
    "    extract_terms=True,  # extract Terms ?\n",
    "    terms_embeddings=False,  # extract terms Embeddings?\n",
    "    docs_embeddings=True,  # extract Docs Embeddings?\n",
    "    embeddings_model=\"distiluse-base-multilingual-cased-v1\",  # Chose an embeddings Model\n",
    "    multiprocessing=True,  # Multiprocessing of Embeddings\n",
    "    language=\"en\",  # Chose between English \"en\" and French \"fr\"\n",
    "    sample_size_terms=len(data),\n",
    "    terms_limit=10000,  # Top Terms to Output\n",
    "    terms_ents=True,  # Extract entities\n",
    "    terms_ngrams=(1, 2),  # Chose Ngrams to extract\n",
    "    terms_ncs=True,  # Extract Noun Chunks\n",
    "    terms_include_pos=[\"NOUN\", \"PROPN\", \"ADJ\"],  # Include Part-of-Speech\n",
    "    terms_include_types=[\"PERSON\", \"ORG\"],\n",
    "    reduction = 2\n",
    ")  # Include Entity Types\n",
    "\n",
    "# Extract the topics\n"
   ]
  },
  {
   "cell_type": "code",
   "execution_count": null,
   "id": "faf340c2-2596-42e6-8bb0-0fe38dcd35a8",
   "metadata": {},
   "outputs": [],
   "source": []
  },
  {
   "cell_type": "code",
   "execution_count": 2,
   "id": "3237af4b-09e6-48e5-8d5b-2fe3b53a6838",
   "metadata": {},
   "outputs": [],
   "source": [
    "#model.docs_embeddings = pd.read_csv('test/docs_embeddings.csv', index_col = [0])\n",
    "#model.docs_embeddings.columns = model.docs_embeddings.columns.astype(int)"
   ]
  },
  {
   "cell_type": "code",
   "execution_count": 8,
   "id": "d71f5792-c664-488f-ab1d-5aacef925a82",
   "metadata": {},
   "outputs": [],
   "source": [
    "topics = model.get_clusters(\n",
    "    topic_number=30,  # Number of Topics\n",
    "    top_terms_included=100,  # Compute the specific terms from the top n terms\n",
    "    top_terms=3,  # Most specific Terms to describe the topics\n",
    "    term_type=\"lemma\",  # Use \"lemma\" of \"text\"\n",
    "    ngrams=[1, 1],\n",
    "    clusterer = 'kmeans'\n",
    ")  # N-grams for Topic Representation\n"
   ]
  },
  {
   "cell_type": "code",
   "execution_count": 9,
   "id": "f9489b58-33f1-4af1-b7c8-187aa841010f",
   "metadata": {},
   "outputs": [
    {
     "name": "stdout",
     "output_type": "stream",
     "text": [
      "UMAP(random_state=42, verbose=True)\n",
      "Fri Oct 21 09:52:29 2022 Construct fuzzy simplicial set\n",
      "Fri Oct 21 09:52:31 2022 Finding Nearest Neighbors\n",
      "Fri Oct 21 09:52:31 2022 Finished Nearest Neighbor Search\n",
      "Fri Oct 21 09:52:31 2022 Construct embedding\n"
     ]
    },
    {
     "data": {
      "application/vnd.jupyter.widget-view+json": {
       "model_id": "95f8d7308bf242859e27b090c80bb989",
       "version_major": 2,
       "version_minor": 0
      },
      "text/plain": [
       "Epochs completed:   0%|            0/500 [00:00]"
      ]
     },
     "metadata": {},
     "output_type": "display_data"
    },
    {
     "name": "stdout",
     "output_type": "stream",
     "text": [
      "Fri Oct 21 09:52:34 2022 Finished embedding\n"
     ]
    }
   ],
   "source": [
    "# Visualize the clusters. It is adviced to choose less that 5 terms - top_terms = 5 - to avoid overchanging the Figure\n",
    "\n",
    "fig = model.visualize_clusters(scatter_size = \"votes\",\n",
    "                               search=None, \n",
    "                               width=1200, \n",
    "                               height=1200, \n",
    "                               fit_clusters=False, \n",
    "                               density_plot=True)"
   ]
  },
  {
   "cell_type": "code",
   "execution_count": 11,
   "id": "892411ff-5420-41cd-a23a-e6a76db89fae",
   "metadata": {},
   "outputs": [
    {
     "data": {
      "text/plain": [
       "'/Users/charlesdedampierre/Desktop/bunka/research/src/bunka_research/figures/imdb.html'"
      ]
     },
     "execution_count": 11,
     "metadata": {},
     "output_type": "execute_result"
    }
   ],
   "source": [
    "import plotly\n",
    "#plotly.offline.plot(fig)\n",
    "plotly.offline.plot(fig, filename='/Users/charlesdedampierre/Desktop/bunka/research/src/bunka_research/figures/imdb.html')"
   ]
  },
  {
   "cell_type": "code",
   "execution_count": null,
   "id": "6ed7e645-a9fb-465f-8a2d-6222205bcdae",
   "metadata": {},
   "outputs": [],
   "source": []
  },
  {
   "cell_type": "code",
   "execution_count": null,
   "id": "96186ae3-acb7-41af-a0e0-37e05c9e7d87",
   "metadata": {},
   "outputs": [],
   "source": []
  },
  {
   "cell_type": "code",
   "execution_count": null,
   "id": "59b32388-95fd-4cdd-ae8d-92aa98918b1f",
   "metadata": {},
   "outputs": [],
   "source": []
  },
  {
   "cell_type": "code",
   "execution_count": null,
   "id": "5343a274-572d-4aa2-a5ae-e07a3fc653c9",
   "metadata": {},
   "outputs": [],
   "source": []
  },
  {
   "cell_type": "code",
   "execution_count": null,
   "id": "84eb7c8c-ddad-41bf-a908-c382eb434441",
   "metadata": {},
   "outputs": [],
   "source": []
  },
  {
   "cell_type": "code",
   "execution_count": 6,
   "id": "dc856f3f-5772-4633-93f8-e7763582eb27",
   "metadata": {},
   "outputs": [
    {
     "ename": "NameError",
     "evalue": "name 'df_centroid' is not defined",
     "output_type": "error",
     "traceback": [
      "\u001b[0;31m---------------------------------------------------------------------------\u001b[0m",
      "\u001b[0;31mNameError\u001b[0m                                 Traceback (most recent call last)",
      "Cell \u001b[0;32mIn [6], line 1\u001b[0m\n\u001b[0;32m----> 1\u001b[0m df_centroid \u001b[38;5;241m=\u001b[39m \u001b[43mdf_centroid\u001b[49m\u001b[38;5;241m.\u001b[39mrename(\n\u001b[1;32m      2\u001b[0m             columns\u001b[38;5;241m=\u001b[39m{x: \u001b[38;5;124mf\u001b[39m\u001b[38;5;124m\"\u001b[39m\u001b[38;5;132;01m{\u001b[39;00mx\u001b[38;5;132;01m}\u001b[39;00m\u001b[38;5;124m\"\u001b[39m \u001b[38;5;28;01mfor\u001b[39;00m x \u001b[38;5;129;01min\u001b[39;00m \u001b[38;5;28mrange\u001b[39m(\u001b[38;5;28mlen\u001b[39m(\u001b[38;5;28mself\u001b[39m\u001b[38;5;241m.\u001b[39mreduction))}\n\u001b[1;32m      3\u001b[0m         )\n",
      "\u001b[0;31mNameError\u001b[0m: name 'df_centroid' is not defined"
     ]
    }
   ],
   "source": [
    "df_centroid = df_centroid.rename(\n",
    "            columns={x: f\"{x}\" for x in range(len(self.reduction))}\n",
    "        )"
   ]
  },
  {
   "cell_type": "code",
   "execution_count": null,
   "id": "a811dfae-3f4f-4a55-8bd7-3aad867f7e75",
   "metadata": {},
   "outputs": [],
   "source": [
    "model.docs_embeddings.rename(\n",
    "            columns={x: f\"hi_{x}\" for x in range(5)}\n",
    "        )"
   ]
  },
  {
   "cell_type": "code",
   "execution_count": null,
   "id": "f295c409-c05f-4f89-b883-0970cff93af6",
   "metadata": {},
   "outputs": [],
   "source": [
    "res = model.get_centroid_documents(top_elements=5)\n",
    "res['centroid_docs'].iloc[0].split(' || ')[2]"
   ]
  },
  {
   "cell_type": "code",
   "execution_count": null,
   "id": "06c2addd-7833-41e9-b861-d5495e608fcd",
   "metadata": {},
   "outputs": [],
   "source": [
    "\n"
   ]
  },
  {
   "cell_type": "code",
   "execution_count": null,
   "id": "1e22f23e-5827-4bd7-bebd-393413c492a7",
   "metadata": {},
   "outputs": [],
   "source": []
  },
  {
   "cell_type": "code",
   "execution_count": null,
   "id": "3903c2c3-deb3-4bb6-ac46-e3cfcf038068",
   "metadata": {},
   "outputs": [],
   "source": [
    "#model.df_fig.columns"
   ]
  },
  {
   "cell_type": "code",
   "execution_count": null,
   "id": "d307cb04-fa48-4b9c-8d40-501dfc3b701b",
   "metadata": {},
   "outputs": [],
   "source": []
  },
  {
   "cell_type": "code",
   "execution_count": null,
   "id": "89a1f77b-1057-493e-b3cc-5156ac78fb25",
   "metadata": {},
   "outputs": [],
   "source": []
  },
  {
   "cell_type": "code",
   "execution_count": null,
   "id": "4d67b9d2-f747-48ff-a8cb-df3cc9622936",
   "metadata": {},
   "outputs": [],
   "source": []
  },
  {
   "cell_type": "code",
   "execution_count": null,
   "id": "126bb0d8-a085-4995-8be1-1124aa0b8aa2",
   "metadata": {},
   "outputs": [],
   "source": []
  },
  {
   "cell_type": "code",
   "execution_count": null,
   "id": "578ddfa9-86f6-4117-9c14-a607137e0fab",
   "metadata": {},
   "outputs": [],
   "source": []
  },
  {
   "cell_type": "code",
   "execution_count": null,
   "id": "ab3be338-3357-4840-9594-e647bdc6232d",
   "metadata": {},
   "outputs": [],
   "source": [
    "centroids_emb = model.df_fig[[\"dim_1\", \"dim_2\", \"cluster_name_number\"]]\n",
    "centroids_emb = (\n",
    "    centroids_emb.groupby(\"cluster_name_number\").mean().reset_index()\n",
    ")\n",
    "centroids_emb.columns = [\"centroid_name\", \"dim_1\", \"dim_2\"]"
   ]
  },
  {
   "cell_type": "code",
   "execution_count": null,
   "id": "0cf88253-9083-4efc-a768-41f3c1a9a1e5",
   "metadata": {},
   "outputs": [],
   "source": [
    "df_fig_centroids = pd.concat([model.df_fig, centroids_emb])\n",
    "df_fig_centroids"
   ]
  },
  {
   "cell_type": "code",
   "execution_count": null,
   "id": "ce87af77-a0a9-4799-b576-af37cd304a01",
   "metadata": {},
   "outputs": [],
   "source": []
  },
  {
   "cell_type": "code",
   "execution_count": null,
   "id": "8a752f1e-c107-4bb0-8070-9cd0936c420f",
   "metadata": {},
   "outputs": [],
   "source": [
    "import plotly.express as px"
   ]
  },
  {
   "cell_type": "code",
   "execution_count": null,
   "id": "eb59c459-643b-4dcb-a737-c09a5a96fbae",
   "metadata": {},
   "outputs": [],
   "source": []
  },
  {
   "cell_type": "code",
   "execution_count": null,
   "id": "e0c3e54b-3b84-44b9-93fa-5d9038aee0a4",
   "metadata": {},
   "outputs": [],
   "source": [
    "fig = px.scatter(\n",
    "                model.df_fig,\n",
    "                x=\"dim_1\",\n",
    "                y=\"dim_2\",\n",
    "                size = model.df_fig['votes'],\n",
    "                width=1000,\n",
    "                height=1000,\n",
    "            )"
   ]
  },
  {
   "cell_type": "code",
   "execution_count": null,
   "id": "a1d98b7e-830b-4502-9778-6281ae3c9b24",
   "metadata": {},
   "outputs": [],
   "source": []
  },
  {
   "cell_type": "code",
   "execution_count": null,
   "id": "b3c41d18-be94-4287-9ca8-3dbd2f1eb695",
   "metadata": {},
   "outputs": [],
   "source": []
  },
  {
   "cell_type": "code",
   "execution_count": null,
   "id": "ad327f9b-4f37-46a9-b141-f1fbad485177",
   "metadata": {},
   "outputs": [],
   "source": []
  },
  {
   "cell_type": "code",
   "execution_count": null,
   "id": "0c073dd6-3b53-4451-ac1c-294f00f16a1f",
   "metadata": {},
   "outputs": [],
   "source": []
  },
  {
   "cell_type": "code",
   "execution_count": null,
   "id": "25b24002-76ba-4fb0-8d08-5d1ba631147b",
   "metadata": {},
   "outputs": [],
   "source": []
  },
  {
   "cell_type": "code",
   "execution_count": null,
   "id": "2a3fdd1c-a0bb-4db2-87fd-cff0c5541e98",
   "metadata": {},
   "outputs": [],
   "source": [
    "# Visualize the clusters. It is adviced to choose less that 5 terms - top_terms = 5 - to avoid overchanging the Figure\n",
    "\n",
    "fig = model.visualize_clusters(search=None, width=1000, height=1000, fit_clusters=False, density_plot=True)\n",
    "fig.show()"
   ]
  },
  {
   "cell_type": "code",
   "execution_count": null,
   "id": "1a0229f1-ff02-4c0a-8f2d-7bbf5089cefe",
   "metadata": {},
   "outputs": [],
   "source": [
    "fig = model.visualize_clusters(search=None, width=1000, height=1000, fit_clusters=False, density_plot=False)\n",
    "fig.show()"
   ]
  },
  {
   "cell_type": "code",
   "execution_count": null,
   "id": "36aa72a5-8713-4b76-8a32-e65b143ab8d2",
   "metadata": {},
   "outputs": [],
   "source": [
    "fig = model.visualize_clusters(search=None, width=1000, height=1000, fit_clusters=True, density_plot=True)\n",
    "fig.show()"
   ]
  },
  {
   "cell_type": "code",
   "execution_count": null,
   "id": "1ee24dbc-3a41-4adc-ade7-6d9af09bc775",
   "metadata": {},
   "outputs": [],
   "source": [
    "fig = model.visualize_clusters(search=None, width=1000, height=1000, fit_clusters=False, density_plot=True)\n",
    "fig.show()"
   ]
  },
  {
   "cell_type": "code",
   "execution_count": null,
   "id": "2b02932c-bd33-4c12-a960-50cb79124d50",
   "metadata": {},
   "outputs": [],
   "source": []
  }
 ],
 "metadata": {
  "kernelspec": {
   "display_name": "Python 3 (ipykernel)",
   "language": "python",
   "name": "python3"
  },
  "language_info": {
   "codemirror_mode": {
    "name": "ipython",
    "version": 3
   },
   "file_extension": ".py",
   "mimetype": "text/x-python",
   "name": "python",
   "nbconvert_exporter": "python",
   "pygments_lexer": "ipython3",
   "version": "3.10.7"
  }
 },
 "nbformat": 4,
 "nbformat_minor": 5
}
