{
 "cells": [
  {
   "cell_type": "code",
   "execution_count": 2,
   "id": "6489ccd2-8908-4698-9b3e-b2fa3ac2a312",
   "metadata": {},
   "outputs": [
    {
     "name": "stderr",
     "output_type": "stream",
     "text": [
      "2022-10-23 14:53:28,536 - Extracting Terms...\n",
      "100%|████████████████████████████████████████████████████████| 995/995 [00:06<00:00, 149.97it/s]\n",
      "2022-10-23 14:53:35,241 - Extracting Docs Embeddings...\n",
      "100%|█████████████████████████████████████████████████████████| 995/995 [00:26<00:00, 38.26it/s]\n"
     ]
    },
    {
     "name": "stdout",
     "output_type": "stream",
     "text": [
      "UMAP(random_state=42, verbose=True)\n",
      "Sun Oct 23 14:54:01 2022 Construct fuzzy simplicial set\n",
      "Sun Oct 23 14:54:02 2022 Finding Nearest Neighbors\n",
      "Sun Oct 23 14:54:02 2022 Finished Nearest Neighbor Search\n",
      "Sun Oct 23 14:54:02 2022 Construct embedding\n"
     ]
    },
    {
     "data": {
      "application/vnd.jupyter.widget-view+json": {
       "model_id": "18a8aae7a7b24971969d390a48d36ef7",
       "version_major": 2,
       "version_minor": 0
      },
      "text/plain": [
       "Epochs completed:   0%|            0/500 [00:00]"
      ]
     },
     "metadata": {},
     "output_type": "display_data"
    },
    {
     "name": "stdout",
     "output_type": "stream",
     "text": [
      "Sun Oct 23 14:54:03 2022 Finished embedding\n"
     ]
    }
   ],
   "source": [
    "from bunkatopics import BunkaTopics\n",
    "import pandas as pd\n",
    "\n",
    "\n",
    "data = pd.read_csv(\"data/imdb.csv\", index_col=[0])\n",
    "data = data.sample(1000, random_state=42)\n",
    "\n",
    "\n",
    "model = BunkaTopics(\n",
    "    data,  # dataFrame\n",
    "    text_var=\"description\",  # Text Columns\n",
    "    index_var=\"imdb\",  # Index Column (Mandatory)\n",
    "    extract_terms=True,  # extract Terms ?\n",
    "    terms_embeddings=False,  # extract terms Embeddings?\n",
    "    docs_embeddings=True,  # extract Docs Embeddings?\n",
    "    embeddings_model=\"distiluse-base-multilingual-cased-v1\",  # Chose an embeddings Model\n",
    "    multiprocessing=True,  # Multiprocessing of Embeddings\n",
    "    language=\"en\",  # Chose between English \"en\" and French \"fr\"\n",
    "    sample_size_terms=len(data),\n",
    "    terms_limit=10000,  # Top Terms to Output\n",
    "    terms_ents=True,  # Extract entities\n",
    "    terms_ngrams=(1, 2),  # Chose Ngrams to extract\n",
    "    terms_ncs=True,  # Extract Noun Chunks\n",
    "    terms_include_pos=[\"NOUN\", \"PROPN\", \"ADJ\"],  # Include Part-of-Speech\n",
    "    terms_include_types=[\"PERSON\", \"ORG\"],\n",
    "    reduction = 2\n",
    ")  # Include Entity Types"
   ]
  },
  {
   "cell_type": "code",
   "execution_count": null,
   "id": "3237af4b-09e6-48e5-8d5b-2fe3b53a6838",
   "metadata": {},
   "outputs": [],
   "source": []
  },
  {
   "cell_type": "code",
   "execution_count": 3,
   "id": "d71f5792-c664-488f-ab1d-5aacef925a82",
   "metadata": {},
   "outputs": [],
   "source": [
    "topics = model.get_clusters(\n",
    "    topic_number=30,  # Number of Topics\n",
    "    top_terms_included=100,  # Compute the specific terms from the top n terms\n",
    "    top_terms=3,  # Most specific Terms to describe the topics\n",
    "    term_type=\"lemma\",  # Use \"lemma\" of \"text\"\n",
    "    ngrams=[1, 1],\n",
    "    clusterer = 'kmeans'\n",
    ")  # N-grams for Topic Representation\n"
   ]
  },
  {
   "cell_type": "code",
   "execution_count": 4,
   "id": "f9489b58-33f1-4af1-b7c8-187aa841010f",
   "metadata": {
    "tags": []
   },
   "outputs": [
    {
     "name": "stdout",
     "output_type": "stream",
     "text": [
      "UMAP(random_state=42, verbose=True)\n",
      "Sun Oct 23 14:54:03 2022 Construct fuzzy simplicial set\n",
      "Sun Oct 23 14:54:04 2022 Finding Nearest Neighbors\n",
      "Sun Oct 23 14:54:04 2022 Finished Nearest Neighbor Search\n",
      "Sun Oct 23 14:54:04 2022 Construct embedding\n"
     ]
    },
    {
     "data": {
      "application/vnd.jupyter.widget-view+json": {
       "model_id": "db1d7a1cfcf94b2db9c129d39d074d4b",
       "version_major": 2,
       "version_minor": 0
      },
      "text/plain": [
       "Epochs completed:   0%|            0/500 [00:00]"
      ]
     },
     "metadata": {},
     "output_type": "display_data"
    },
    {
     "name": "stdout",
     "output_type": "stream",
     "text": [
      "Sun Oct 23 14:54:05 2022 Finished embedding\n"
     ]
    },
    {
     "data": {
      "text/plain": [
       "'temp-plot.html'"
      ]
     },
     "execution_count": 4,
     "metadata": {},
     "output_type": "execute_result"
    }
   ],
   "source": [
    "# Visualize the clusters. It is adviced to choose less that 5 terms - top_terms = 5 - to avoid overchanging the Figure\n",
    "\n",
    "fig = model.visualize_clusters(scatter_size = \"avg_vote\",\n",
    "                               search=None, \n",
    "                               width=1200, \n",
    "                               height=1200, \n",
    "                               fit_clusters=False, \n",
    "                               density_plot=True)\n",
    "\n",
    "import plotly\n",
    "#plotly.offline.plot(fig)\n",
    "plotly.offline.plot(fig)"
   ]
  },
  {
   "cell_type": "code",
   "execution_count": null,
   "id": "df38eb9b-688d-4661-8add-6dd762eb5c45",
   "metadata": {},
   "outputs": [],
   "source": []
  },
  {
   "cell_type": "markdown",
   "id": "3d9a1ec4-0c3c-45d4-bcef-45f85faf71ee",
   "metadata": {},
   "source": [
    "#### Get Folding"
   ]
  },
  {
   "cell_type": "code",
   "execution_count": 5,
   "id": "41e02eb4-a94f-4836-9f19-4f52ff8aae3e",
   "metadata": {},
   "outputs": [
    {
     "data": {
      "application/vnd.jupyter.widget-view+json": {
       "model_id": "b21dbb73411b4b669c1636cb8334c424",
       "version_major": 2,
       "version_minor": 0
      },
      "text/plain": [
       "  0%|          | 0/995 [00:00<?, ?it/s]"
      ]
     },
     "metadata": {},
     "output_type": "display_data"
    },
    {
     "data": {
      "application/vnd.jupyter.widget-view+json": {
       "model_id": "76376d51240041c08009ebc44d9c6a6d",
       "version_major": 2,
       "version_minor": 0
      },
      "text/plain": [
       "  0%|          | 0/995 [00:00<?, ?it/s]"
      ]
     },
     "metadata": {},
     "output_type": "display_data"
    },
    {
     "name": "stderr",
     "output_type": "stream",
     "text": [
      "/opt/homebrew/lib/python3.10/site-packages/sklearn/metrics/_classification.py:1334: UndefinedMetricWarning:\n",
      "\n",
      "Precision and F-score are ill-defined and being set to 0.0 in labels with no predicted samples. Use `zero_division` parameter to control this behavior.\n",
      "\n",
      "/opt/homebrew/lib/python3.10/site-packages/sklearn/metrics/_classification.py:1334: UndefinedMetricWarning:\n",
      "\n",
      "Precision and F-score are ill-defined and being set to 0.0 in labels with no predicted samples. Use `zero_division` parameter to control this behavior.\n",
      "\n",
      "/opt/homebrew/lib/python3.10/site-packages/sklearn/metrics/_classification.py:1334: UndefinedMetricWarning:\n",
      "\n",
      "Precision and F-score are ill-defined and being set to 0.0 in labels with no predicted samples. Use `zero_division` parameter to control this behavior.\n",
      "\n"
     ]
    }
   ],
   "source": [
    "cat_1_name = \"negative\"\n",
    "cat_2_name = \"positive\"\n",
    "\n",
    "cat_1 = pd.DataFrame({'category':cat_1_name, 'term':['hate', 'violence', 'pain', 'negative']})\n",
    "cat_2 = pd.DataFrame({'category':cat_2_name, 'term':['good', 'positive', \"love\"]})\n",
    "\n",
    "dictionnary = pd.concat([cat_1, cat_2]).reset_index(drop=True)\n",
    "\n",
    "df_folding, met = model.get_folding( dictionnary)"
   ]
  },
  {
   "cell_type": "code",
   "execution_count": null,
   "id": "71a69e8a-e8f8-42e0-9e61-6d9433606f89",
   "metadata": {},
   "outputs": [],
   "source": [
    "df_folding.label.value_counts()\n",
    "\n",
    "import numpy as np\n",
    "test = df_folding.copy()\n",
    "\n",
    "for cat in set(test.label):\n",
    "    # Take the top 5% of the dataset for cat_1\n",
    "    test[cat][int(len(test)/20):] = 0\n",
    "    #test[cat][:int(len(test)/20)] = np.exp(test[cat])\n",
    "    #test[f'{cat}_exp'] = np.exp(test[cat])\n",
    "\n",
    "\n",
    "\n",
    "fold_dim = 'positive'\n",
    "import plotly.express as px\n",
    "fig = px.scatter(\n",
    "                test,\n",
    "                x=0,\n",
    "                y=1,\n",
    "                #color = f'{fold_dim}_exp',\n",
    "                color = fold_dim,\n",
    "                color_continuous_scale = px.colors.sequential.Blues, \n",
    "                hover_data=[\"description\", fold_dim],\n",
    "                width=1000,\n",
    "                height=1000,\n",
    "            )\n",
    "\n",
    "import plotly\n",
    "plotly.offline.plot(fig, filename='file.html')"
   ]
  },
  {
   "cell_type": "code",
   "execution_count": null,
   "id": "6ae09676-b08a-43e7-9537-7cdd751c15fb",
   "metadata": {},
   "outputs": [],
   "source": []
  },
  {
   "cell_type": "markdown",
   "id": "af16a8ff-8bf3-4769-8013-0bb5a6f6d462",
   "metadata": {},
   "source": [
    "#### Get centroid documents"
   ]
  },
  {
   "cell_type": "code",
   "execution_count": null,
   "id": "f295c409-c05f-4f89-b883-0970cff93af6",
   "metadata": {},
   "outputs": [],
   "source": [
    "res = model.get_centroid_documents(top_elements=5)\n",
    "res['centroid_docs'].iloc[0].split(' || ')[2]"
   ]
  },
  {
   "cell_type": "code",
   "execution_count": null,
   "id": "3903c2c3-deb3-4bb6-ac46-e3cfcf038068",
   "metadata": {},
   "outputs": [],
   "source": []
  }
 ],
 "metadata": {
  "kernelspec": {
   "display_name": "Python 3 (ipykernel)",
   "language": "python",
   "name": "python3"
  },
  "language_info": {
   "codemirror_mode": {
    "name": "ipython",
    "version": 3
   },
   "file_extension": ".py",
   "mimetype": "text/x-python",
   "name": "python",
   "nbconvert_exporter": "python",
   "pygments_lexer": "ipython3",
   "version": "3.10.7"
  }
 },
 "nbformat": 4,
 "nbformat_minor": 5
}
