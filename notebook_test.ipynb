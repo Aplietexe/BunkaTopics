{
 "cells": [
  {
   "cell_type": "code",
   "execution_count": 2,
   "id": "6489ccd2-8908-4698-9b3e-b2fa3ac2a312",
   "metadata": {},
   "outputs": [
    {
     "name": "stderr",
     "output_type": "stream",
     "text": [
      "/Users/charlesdedampierre/Desktop/BUNKA Project/BunkaTopics/.venv/lib/python3.8/site-packages/huggingface_hub/snapshot_download.py:6: FutureWarning: snapshot_download.py has been made private and will no longer be available from version 0.11. Please use `from huggingface_hub import snapshot_download` to import the only public function in this module. Other members of the file may be changed without a deprecation notice.\n",
      "  warnings.warn(\n",
      "/Users/charlesdedampierre/Desktop/BUNKA Project/BunkaTopics/.venv/lib/python3.8/site-packages/huggingface_hub/file_download.py:588: FutureWarning: `cached_download` is the legacy way to download files from the HF hub, please consider upgrading to `hf_hub_download`\n",
      "  warnings.warn(\n",
      "2022-12-05 14:02:03,935 - Extracting Terms...\n",
      "2022-12-05 14:02:04,235 - loaded 'en_core_web_sm' spaCy language pipeline\n",
      "100%|██████████████████████████████████████████████████████████████████████████| 995/995 [00:07<00:00, 130.85it/s]\n",
      "2022-12-05 14:02:11,975 - Extracting Docs Embeddings...\n",
      "100%|███████████████████████████████████████████████████████████████████████████| 995/995 [00:34<00:00, 28.90it/s]\n",
      "/Users/charlesdedampierre/Desktop/BUNKA Project/BunkaTopics/.venv/lib/python3.8/site-packages/huggingface_hub/snapshot_download.py:6: FutureWarning: snapshot_download.py has been made private and will no longer be available from version 0.11. Please use `from huggingface_hub import snapshot_download` to import the only public function in this module. Other members of the file may be changed without a deprecation notice.\n",
      "  warnings.warn(\n",
      "/Users/charlesdedampierre/Desktop/BUNKA Project/BunkaTopics/.venv/lib/python3.8/site-packages/huggingface_hub/file_download.py:588: FutureWarning: `cached_download` is the legacy way to download files from the HF hub, please consider upgrading to `hf_hub_download`\n",
      "  warnings.warn(\n",
      "/Users/charlesdedampierre/Desktop/BUNKA Project/BunkaTopics/.venv/lib/python3.8/site-packages/huggingface_hub/snapshot_download.py:6: FutureWarning: snapshot_download.py has been made private and will no longer be available from version 0.11. Please use `from huggingface_hub import snapshot_download` to import the only public function in this module. Other members of the file may be changed without a deprecation notice.\n",
      "  warnings.warn(\n",
      "/Users/charlesdedampierre/Desktop/BUNKA Project/BunkaTopics/.venv/lib/python3.8/site-packages/huggingface_hub/file_download.py:588: FutureWarning: `cached_download` is the legacy way to download files from the HF hub, please consider upgrading to `hf_hub_download`\n",
      "  warnings.warn(\n",
      "/Users/charlesdedampierre/Desktop/BUNKA Project/BunkaTopics/.venv/lib/python3.8/site-packages/huggingface_hub/snapshot_download.py:6: FutureWarning: snapshot_download.py has been made private and will no longer be available from version 0.11. Please use `from huggingface_hub import snapshot_download` to import the only public function in this module. Other members of the file may be changed without a deprecation notice.\n",
      "  warnings.warn(\n",
      "/Users/charlesdedampierre/Desktop/BUNKA Project/BunkaTopics/.venv/lib/python3.8/site-packages/huggingface_hub/file_download.py:588: FutureWarning: `cached_download` is the legacy way to download files from the HF hub, please consider upgrading to `hf_hub_download`\n",
      "  warnings.warn(\n",
      "/Users/charlesdedampierre/Desktop/BUNKA Project/BunkaTopics/.venv/lib/python3.8/site-packages/huggingface_hub/snapshot_download.py:6: FutureWarning: snapshot_download.py has been made private and will no longer be available from version 0.11. Please use `from huggingface_hub import snapshot_download` to import the only public function in this module. Other members of the file may be changed without a deprecation notice.\n",
      "  warnings.warn(\n",
      "/Users/charlesdedampierre/Desktop/BUNKA Project/BunkaTopics/.venv/lib/python3.8/site-packages/huggingface_hub/file_download.py:588: FutureWarning: `cached_download` is the legacy way to download files from the HF hub, please consider upgrading to `hf_hub_download`\n",
      "  warnings.warn(\n",
      "/Users/charlesdedampierre/Desktop/BUNKA Project/BunkaTopics/.venv/lib/python3.8/site-packages/huggingface_hub/snapshot_download.py:6: FutureWarning: snapshot_download.py has been made private and will no longer be available from version 0.11. Please use `from huggingface_hub import snapshot_download` to import the only public function in this module. Other members of the file may be changed without a deprecation notice.\n",
      "  warnings.warn(\n",
      "/Users/charlesdedampierre/Desktop/BUNKA Project/BunkaTopics/.venv/lib/python3.8/site-packages/huggingface_hub/file_download.py:588: FutureWarning: `cached_download` is the legacy way to download files from the HF hub, please consider upgrading to `hf_hub_download`\n",
      "  warnings.warn(\n",
      "/Users/charlesdedampierre/Desktop/BUNKA Project/BunkaTopics/.venv/lib/python3.8/site-packages/huggingface_hub/snapshot_download.py:6: FutureWarning: snapshot_download.py has been made private and will no longer be available from version 0.11. Please use `from huggingface_hub import snapshot_download` to import the only public function in this module. Other members of the file may be changed without a deprecation notice.\n",
      "  warnings.warn(\n",
      "/Users/charlesdedampierre/Desktop/BUNKA Project/BunkaTopics/.venv/lib/python3.8/site-packages/huggingface_hub/file_download.py:588: FutureWarning: `cached_download` is the legacy way to download files from the HF hub, please consider upgrading to `hf_hub_download`\n",
      "  warnings.warn(\n"
     ]
    },
    {
     "name": "stdout",
     "output_type": "stream",
     "text": [
      "UMAP(random_state=42, verbose=True)\n",
      "Mon Dec  5 14:02:47 2022 Construct fuzzy simplicial set\n"
     ]
    },
    {
     "name": "stderr",
     "output_type": "stream",
     "text": [
      "OMP: Info #276: omp_set_nested routine deprecated, please use omp_set_max_active_levels instead.\n"
     ]
    },
    {
     "name": "stdout",
     "output_type": "stream",
     "text": [
      "Mon Dec  5 14:02:47 2022 Finding Nearest Neighbors\n",
      "Mon Dec  5 14:02:48 2022 Finished Nearest Neighbor Search\n",
      "Mon Dec  5 14:02:49 2022 Construct embedding\n"
     ]
    },
    {
     "data": {
      "application/json": {
       "ascii": false,
       "bar_format": "{desc}: {percentage:3.0f}%| {bar} {n_fmt}/{total_fmt} [{elapsed}]",
       "colour": null,
       "elapsed": 0.022341012954711914,
       "initial": 0,
       "n": 0,
       "ncols": null,
       "nrows": 23,
       "postfix": null,
       "prefix": "Epochs completed",
       "rate": null,
       "total": 500,
       "unit": "it",
       "unit_divisor": 1000,
       "unit_scale": false
      },
      "application/vnd.jupyter.widget-view+json": {
       "model_id": "4fe5a37862124c92a1d125e239413e49",
       "version_major": 2,
       "version_minor": 0
      },
      "text/plain": [
       "Epochs completed:   0%|            0/500 [00:00]"
      ]
     },
     "metadata": {},
     "output_type": "display_data"
    },
    {
     "name": "stdout",
     "output_type": "stream",
     "text": [
      "Mon Dec  5 14:02:50 2022 Finished embedding\n"
     ]
    }
   ],
   "source": [
    "from bunkatopics import BunkaTopics\n",
    "import pandas as pd\n",
    "pd.options.mode.chained_assignment = None\n",
    "\n",
    "import warnings\n",
    "warnings.simplefilter(action='ignore', category=FutureWarning)\n",
    "\n",
    "\n",
    "data = pd.read_csv(\"data/imdb.csv\", index_col=[0])\n",
    "data = data.sample(1000, random_state=42)\n",
    "\n",
    "\n",
    "model = BunkaTopics(\n",
    "    data,  # dataFrame\n",
    "    text_var=\"description\",  # Text Columns\n",
    "    index_var=\"imdb\",  # Index Column (Mandatory)\n",
    "    extract_terms=True,  # extract Terms ?\n",
    "    terms_embeddings=False,  # extract terms Embeddings?\n",
    "    docs_embeddings=True,  # extract Docs Embeddings?\n",
    "    embeddings_model=\"distiluse-base-multilingual-cased-v1\",  # Chose an embeddings Model\n",
    "    multiprocessing=True,  # Multiprocessing of Embeddings\n",
    "    language=\"en\",  # Chose between English \"en\" and French \"fr\"\n",
    "    sample_size_terms=len(data),\n",
    "    terms_limit=10000,  # Top Terms to Output\n",
    "    terms_ents=True,  # Extract entities\n",
    "    terms_ngrams=(1, 2),  # Chose Ngrams to extract\n",
    "    terms_ncs=True,  # Extract Noun Chunks\n",
    "    terms_include_pos=[\"NOUN\", \"PROPN\", \"ADJ\"],  # Include Part-of-Speech\n",
    "    terms_include_types=[\"PERSON\", \"ORG\"],\n",
    "    reduction = 2\n",
    ")  # Include Entity Types"
   ]
  },
  {
   "cell_type": "code",
   "execution_count": null,
   "id": "3237af4b-09e6-48e5-8d5b-2fe3b53a6838",
   "metadata": {},
   "outputs": [],
   "source": []
  },
  {
   "cell_type": "markdown",
   "id": "4a1d8d65-9eee-45fa-8618-60c36a27370b",
   "metadata": {},
   "source": [
    "#### Get the top topics of the dataset"
   ]
  },
  {
   "cell_type": "code",
   "execution_count": 8,
   "id": "d71f5792-c664-488f-ab1d-5aacef925a82",
   "metadata": {},
   "outputs": [],
   "source": [
    "topics = model.get_clusters(\n",
    "    topic_number=20,  # Number of Topics\n",
    "    top_terms_included=1000,  # Compute the specific terms from the top n terms\n",
    "    top_terms=3,  # Most specific Terms to describe the topics\n",
    "    term_type=\"lemma\",  # Use \"lemma\" of \"text\"\n",
    "    ngrams=[2, 2],\n",
    "    clusterer = 'kmeans'\n",
    ")  # N-grams for Topic Representation\n"
   ]
  },
  {
   "cell_type": "code",
   "execution_count": 13,
   "id": "f9489b58-33f1-4af1-b7c8-187aa841010f",
   "metadata": {
    "tags": []
   },
   "outputs": [
    {
     "name": "stdout",
     "output_type": "stream",
     "text": [
      "UMAP(random_state=42, verbose=True)\n",
      "Mon Dec  5 13:35:21 2022 Construct fuzzy simplicial set\n",
      "Mon Dec  5 13:35:22 2022 Finding Nearest Neighbors\n",
      "Mon Dec  5 13:35:22 2022 Finished Nearest Neighbor Search\n",
      "Mon Dec  5 13:35:22 2022 Construct embedding\n"
     ]
    },
    {
     "name": "stderr",
     "output_type": "stream",
     "text": [
      "Epochs completed: 100%| ██████████████████████████████████████████████████████████████████████████ 500/500 [00:01]\n"
     ]
    },
    {
     "name": "stdout",
     "output_type": "stream",
     "text": [
      "Mon Dec  5 13:35:23 2022 Finished embedding\n"
     ]
    },
    {
     "data": {
      "text/plain": [
       "'temp-plot.html'"
      ]
     },
     "execution_count": 13,
     "metadata": {},
     "output_type": "execute_result"
    }
   ],
   "source": [
    "# Visualize the clusters. It is adviced to choose less that 5 terms - top_terms = 5 - to avoid overchanging the Figure\n",
    "\n",
    "fig = model.visualize_clusters(scatter_size = \"avg_vote\",\n",
    "                               search=None, \n",
    "                               width=1200, \n",
    "                               height=1200, \n",
    "                               fit_clusters=False, \n",
    "                               density_plot=True)\n",
    "\n",
    "import plotly\n",
    "#plotly.offline.plot(fig)\n",
    "plotly.offline.plot(fig)"
   ]
  },
  {
   "cell_type": "markdown",
   "id": "17e3b566-a908-4950-8cba-803fd93554a1",
   "metadata": {},
   "source": [
    "#### Extract the top documents of the cluster"
   ]
  },
  {
   "cell_type": "code",
   "execution_count": 9,
   "id": "76bee054-c75c-46e9-bbe3-16d9c4dc7336",
   "metadata": {},
   "outputs": [],
   "source": [
    "top_documents = model.get_specific_documents_per_cluster(\n",
    "                                               top_n = 2, \n",
    "                                               top_type = 'terms_based')"
   ]
  },
  {
   "cell_type": "code",
   "execution_count": 10,
   "id": "3b82da5b-05f6-4b72-b2d5-4bebccdfa7e4",
   "metadata": {},
   "outputs": [],
   "source": [
    "df_top_documents = pd.merge(top_documents, model.data[[model.text_var]].reset_index(), on = model.index_var)"
   ]
  },
  {
   "cell_type": "code",
   "execution_count": 11,
   "id": "a7c3f16d-121d-4c73-b3e4-7ca7b318a100",
   "metadata": {},
   "outputs": [],
   "source": [
    "top_documents_pop = model.get_specific_documents_per_cluster(\n",
    "                                               top_n = 10, \n",
    "                                               top_type = 'pop_based', \n",
    "                                               pop_var = 'avg_vote')\n",
    "\n",
    "df_top_documents_var =  pd.merge(top_documents_pop, model.data[[model.text_var]].reset_index(), on = model.index_var)"
   ]
  },
  {
   "cell_type": "code",
   "execution_count": null,
   "id": "df38eb9b-688d-4661-8add-6dd762eb5c45",
   "metadata": {},
   "outputs": [],
   "source": []
  },
  {
   "cell_type": "markdown",
   "id": "3d9a1ec4-0c3c-45d4-bcef-45f85faf71ee",
   "metadata": {},
   "source": [
    "#### Get Folding"
   ]
  },
  {
   "cell_type": "code",
   "execution_count": 12,
   "id": "41e02eb4-a94f-4836-9f19-4f52ff8aae3e",
   "metadata": {},
   "outputs": [
    {
     "data": {
      "application/json": {
       "ascii": false,
       "bar_format": null,
       "colour": null,
       "elapsed": 0.012064933776855469,
       "initial": 0,
       "n": 0,
       "ncols": null,
       "nrows": 23,
       "postfix": null,
       "prefix": "",
       "rate": null,
       "total": 995,
       "unit": "it",
       "unit_divisor": 1000,
       "unit_scale": false
      },
      "application/vnd.jupyter.widget-view+json": {
       "model_id": "07da5bdbfcda47a691d2cdc2255d66e0",
       "version_major": 2,
       "version_minor": 0
      },
      "text/plain": [
       "  0%|          | 0/995 [00:00<?, ?it/s]"
      ]
     },
     "metadata": {},
     "output_type": "display_data"
    },
    {
     "data": {
      "application/json": {
       "ascii": false,
       "bar_format": null,
       "colour": null,
       "elapsed": 0.00934600830078125,
       "initial": 0,
       "n": 0,
       "ncols": null,
       "nrows": 23,
       "postfix": null,
       "prefix": "",
       "rate": null,
       "total": 995,
       "unit": "it",
       "unit_divisor": 1000,
       "unit_scale": false
      },
      "application/vnd.jupyter.widget-view+json": {
       "model_id": "b57569e7e0fa41f586735210cc3f4507",
       "version_major": 2,
       "version_minor": 0
      },
      "text/plain": [
       "  0%|          | 0/995 [00:00<?, ?it/s]"
      ]
     },
     "metadata": {},
     "output_type": "display_data"
    },
    {
     "name": "stderr",
     "output_type": "stream",
     "text": [
      "/Users/charlesdedampierre/Desktop/BUNKA Project/BunkaTopics/.venv/lib/python3.8/site-packages/sklearn/metrics/_classification.py:1334: UndefinedMetricWarning: Precision and F-score are ill-defined and being set to 0.0 in labels with no predicted samples. Use `zero_division` parameter to control this behavior.\n",
      "  _warn_prf(average, modifier, msg_start, len(result))\n",
      "/Users/charlesdedampierre/Desktop/BUNKA Project/BunkaTopics/.venv/lib/python3.8/site-packages/sklearn/metrics/_classification.py:1334: UndefinedMetricWarning: Precision and F-score are ill-defined and being set to 0.0 in labels with no predicted samples. Use `zero_division` parameter to control this behavior.\n",
      "  _warn_prf(average, modifier, msg_start, len(result))\n",
      "/Users/charlesdedampierre/Desktop/BUNKA Project/BunkaTopics/.venv/lib/python3.8/site-packages/sklearn/metrics/_classification.py:1334: UndefinedMetricWarning: Precision and F-score are ill-defined and being set to 0.0 in labels with no predicted samples. Use `zero_division` parameter to control this behavior.\n",
      "  _warn_prf(average, modifier, msg_start, len(result))\n"
     ]
    }
   ],
   "source": [
    "cat_1_name = \"negative\"\n",
    "cat_2_name = \"positive\"\n",
    "\n",
    "cat_1 = pd.DataFrame({'category':cat_1_name, 'term':['hate', 'violence', 'pain', 'negative']})\n",
    "cat_2 = pd.DataFrame({'category':cat_2_name, 'term':['good', 'positive', \"love\"]})\n",
    "\n",
    "dictionnary = pd.concat([cat_1, cat_2]).reset_index(drop=True)\n",
    "\n",
    "df_folding, met = model.get_folding( dictionnary)"
   ]
  },
  {
   "cell_type": "code",
   "execution_count": 14,
   "id": "e893737c-f8ff-4022-9d2c-65b8f5222762",
   "metadata": {},
   "outputs": [
    {
     "data": {
      "text/html": [
       "<div>\n",
       "<style scoped>\n",
       "    .dataframe tbody tr th:only-of-type {\n",
       "        vertical-align: middle;\n",
       "    }\n",
       "\n",
       "    .dataframe tbody tr th {\n",
       "        vertical-align: top;\n",
       "    }\n",
       "\n",
       "    .dataframe thead th {\n",
       "        text-align: right;\n",
       "    }\n",
       "</style>\n",
       "<table border=\"1\" class=\"dataframe\">\n",
       "  <thead>\n",
       "    <tr style=\"text-align: right;\">\n",
       "      <th></th>\n",
       "      <th>negative</th>\n",
       "      <th>positive</th>\n",
       "      <th>label</th>\n",
       "      <th>description</th>\n",
       "      <th>0</th>\n",
       "      <th>1</th>\n",
       "    </tr>\n",
       "  </thead>\n",
       "  <tbody>\n",
       "    <tr>\n",
       "      <th>tt0205177</th>\n",
       "      <td>0.010818</td>\n",
       "      <td>0.989182</td>\n",
       "      <td>positive</td>\n",
       "      <td>Two inseparable, hormonal, English BFF teen bo...</td>\n",
       "      <td>17.148676</td>\n",
       "      <td>9.993646</td>\n",
       "    </tr>\n",
       "    <tr>\n",
       "      <th>tt2316801</th>\n",
       "      <td>0.051308</td>\n",
       "      <td>0.948692</td>\n",
       "      <td>positive</td>\n",
       "      <td>An unexpected romance blooms after the the you...</td>\n",
       "      <td>18.261145</td>\n",
       "      <td>9.824251</td>\n",
       "    </tr>\n",
       "    <tr>\n",
       "      <th>tt0465234</th>\n",
       "      <td>0.055398</td>\n",
       "      <td>0.944602</td>\n",
       "      <td>positive</td>\n",
       "      <td>Benjamin Gates must follow a clue left in</td>\n",
       "      <td>19.186310</td>\n",
       "      <td>6.952009</td>\n",
       "    </tr>\n",
       "    <tr>\n",
       "      <th>tt1846589</th>\n",
       "      <td>0.021137</td>\n",
       "      <td>0.978863</td>\n",
       "      <td>positive</td>\n",
       "      <td>An untested American submarine captain teams w...</td>\n",
       "      <td>17.330006</td>\n",
       "      <td>6.018647</td>\n",
       "    </tr>\n",
       "    <tr>\n",
       "      <th>tt0824758</th>\n",
       "      <td>0.195865</td>\n",
       "      <td>0.804135</td>\n",
       "      <td>positive</td>\n",
       "      <td>A historical drama that illustrates Russian au...</td>\n",
       "      <td>15.752570</td>\n",
       "      <td>8.627524</td>\n",
       "    </tr>\n",
       "    <tr>\n",
       "      <th>...</th>\n",
       "      <td>...</td>\n",
       "      <td>...</td>\n",
       "      <td>...</td>\n",
       "      <td>...</td>\n",
       "      <td>...</td>\n",
       "      <td>...</td>\n",
       "    </tr>\n",
       "    <tr>\n",
       "      <th>tt3286052</th>\n",
       "      <td>0.051308</td>\n",
       "      <td>0.948692</td>\n",
       "      <td>positive</td>\n",
       "      <td>Two girls must battle a mysterious evil force ...</td>\n",
       "      <td>18.292288</td>\n",
       "      <td>9.831059</td>\n",
       "    </tr>\n",
       "    <tr>\n",
       "      <th>tt0476958</th>\n",
       "      <td>0.064698</td>\n",
       "      <td>0.935302</td>\n",
       "      <td>positive</td>\n",
       "      <td>Three women are stalked by a killer with a gru...</td>\n",
       "      <td>18.814739</td>\n",
       "      <td>10.211515</td>\n",
       "    </tr>\n",
       "    <tr>\n",
       "      <th>tt1527788</th>\n",
       "      <td>0.043843</td>\n",
       "      <td>0.956157</td>\n",
       "      <td>positive</td>\n",
       "      <td>A quiet pawnshop keeper with a violent past ta...</td>\n",
       "      <td>18.458761</td>\n",
       "      <td>9.095775</td>\n",
       "    </tr>\n",
       "    <tr>\n",
       "      <th>tt0289043</th>\n",
       "      <td>0.021137</td>\n",
       "      <td>0.978863</td>\n",
       "      <td>positive</td>\n",
       "      <td>Four weeks after a mysterious, incurable virus...</td>\n",
       "      <td>17.441000</td>\n",
       "      <td>7.976808</td>\n",
       "    </tr>\n",
       "    <tr>\n",
       "      <th>tt0120655</th>\n",
       "      <td>0.628110</td>\n",
       "      <td>0.371890</td>\n",
       "      <td>negative</td>\n",
       "      <td>An abortion clinic worker with a special herit...</td>\n",
       "      <td>18.417030</td>\n",
       "      <td>10.917532</td>\n",
       "    </tr>\n",
       "  </tbody>\n",
       "</table>\n",
       "<p>995 rows × 6 columns</p>\n",
       "</div>"
      ],
      "text/plain": [
       "           negative  positive     label  \\\n",
       "tt0205177  0.010818  0.989182  positive   \n",
       "tt2316801  0.051308  0.948692  positive   \n",
       "tt0465234  0.055398  0.944602  positive   \n",
       "tt1846589  0.021137  0.978863  positive   \n",
       "tt0824758  0.195865  0.804135  positive   \n",
       "...             ...       ...       ...   \n",
       "tt3286052  0.051308  0.948692  positive   \n",
       "tt0476958  0.064698  0.935302  positive   \n",
       "tt1527788  0.043843  0.956157  positive   \n",
       "tt0289043  0.021137  0.978863  positive   \n",
       "tt0120655  0.628110  0.371890  negative   \n",
       "\n",
       "                                                 description          0  \\\n",
       "tt0205177  Two inseparable, hormonal, English BFF teen bo...  17.148676   \n",
       "tt2316801  An unexpected romance blooms after the the you...  18.261145   \n",
       "tt0465234          Benjamin Gates must follow a clue left in  19.186310   \n",
       "tt1846589  An untested American submarine captain teams w...  17.330006   \n",
       "tt0824758  A historical drama that illustrates Russian au...  15.752570   \n",
       "...                                                      ...        ...   \n",
       "tt3286052  Two girls must battle a mysterious evil force ...  18.292288   \n",
       "tt0476958  Three women are stalked by a killer with a gru...  18.814739   \n",
       "tt1527788  A quiet pawnshop keeper with a violent past ta...  18.458761   \n",
       "tt0289043  Four weeks after a mysterious, incurable virus...  17.441000   \n",
       "tt0120655  An abortion clinic worker with a special herit...  18.417030   \n",
       "\n",
       "                   1  \n",
       "tt0205177   9.993646  \n",
       "tt2316801   9.824251  \n",
       "tt0465234   6.952009  \n",
       "tt1846589   6.018647  \n",
       "tt0824758   8.627524  \n",
       "...              ...  \n",
       "tt3286052   9.831059  \n",
       "tt0476958  10.211515  \n",
       "tt1527788   9.095775  \n",
       "tt0289043   7.976808  \n",
       "tt0120655  10.917532  \n",
       "\n",
       "[995 rows x 6 columns]"
      ]
     },
     "execution_count": 14,
     "metadata": {},
     "output_type": "execute_result"
    }
   ],
   "source": [
    "df_folding"
   ]
  },
  {
   "cell_type": "code",
   "execution_count": null,
   "id": "0a002808-56cf-4ad2-b7db-789604f15141",
   "metadata": {},
   "outputs": [],
   "source": []
  },
  {
   "cell_type": "code",
   "execution_count": 15,
   "id": "71a69e8a-e8f8-42e0-9e61-6d9433606f89",
   "metadata": {},
   "outputs": [
    {
     "data": {
      "text/plain": [
       "'file.html'"
      ]
     },
     "execution_count": 15,
     "metadata": {},
     "output_type": "execute_result"
    }
   ],
   "source": [
    "df_folding.label.value_counts()\n",
    "\n",
    "import numpy as np\n",
    "test = df_folding.copy()\n",
    "\n",
    "for cat in set(test.label):\n",
    "    # Take the top 5% of the dataset for cat_1\n",
    "    test[cat][int(len(test)/20):] = 0\n",
    "    #test[cat][:int(len(test)/20)] = np.exp(test[cat])\n",
    "    #test[f'{cat}_exp'] = np.exp(test[cat])\n",
    "\n",
    "\n",
    "\n",
    "fold_dim = 'positive'\n",
    "import plotly.express as px\n",
    "fig = px.scatter(\n",
    "                test,\n",
    "                x=0,\n",
    "                y=1,\n",
    "                #color = f'{fold_dim}_exp',\n",
    "                color = fold_dim,\n",
    "                color_continuous_scale = px.colors.sequential.Blues, \n",
    "                hover_data=[\"description\", fold_dim],\n",
    "                width=1000,\n",
    "                height=1000,\n",
    "            )\n",
    "\n",
    "import plotly\n",
    "plotly.offline.plot(fig, filename='file.html')"
   ]
  },
  {
   "cell_type": "code",
   "execution_count": null,
   "id": "6ae09676-b08a-43e7-9537-7cdd751c15fb",
   "metadata": {},
   "outputs": [],
   "source": []
  },
  {
   "cell_type": "markdown",
   "id": "af16a8ff-8bf3-4769-8013-0bb5a6f6d462",
   "metadata": {},
   "source": [
    "#### Get centroid documents"
   ]
  },
  {
   "cell_type": "code",
   "execution_count": 16,
   "id": "f295c409-c05f-4f89-b883-0970cff93af6",
   "metadata": {},
   "outputs": [
    {
     "data": {
      "text/plain": [
       "'A New York philosophy grad student turns into a vampire after getting bitten by one, and then tries to come to terms with her new lifestyle and frequent craving for human blood.'"
      ]
     },
     "execution_count": 16,
     "metadata": {},
     "output_type": "execute_result"
    }
   ],
   "source": [
    "res = model.get_centroid_documents(top_elements=5)\n",
    "res['centroid_docs'].iloc[0].split(' || ')[2]"
   ]
  },
  {
   "cell_type": "code",
   "execution_count": null,
   "id": "3903c2c3-deb3-4bb6-ac46-e3cfcf038068",
   "metadata": {},
   "outputs": [],
   "source": []
  },
  {
   "cell_type": "code",
   "execution_count": null,
   "id": "dd2180d0-2ea9-49e6-9b9a-394f291b15fa",
   "metadata": {},
   "outputs": [],
   "source": []
  }
 ],
 "metadata": {
  "kernelspec": {
   "display_name": "Python 3 (ipykernel)",
   "language": "python",
   "name": "python3"
  },
  "language_info": {
   "codemirror_mode": {
    "name": "ipython",
    "version": 3
   },
   "file_extension": ".py",
   "mimetype": "text/x-python",
   "name": "python",
   "nbconvert_exporter": "python",
   "pygments_lexer": "ipython3",
   "version": "3.8.14"
  }
 },
 "nbformat": 4,
 "nbformat_minor": 5
}
