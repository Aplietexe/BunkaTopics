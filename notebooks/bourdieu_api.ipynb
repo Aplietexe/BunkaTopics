{
 "cells": [
  {
   "cell_type": "code",
   "execution_count": 1,
   "id": "ad612386-af6e-4c11-ae54-23ced1a7c80d",
   "metadata": {},
   "outputs": [
    {
     "data": {
      "text/plain": [
       "True"
      ]
     },
     "execution_count": 1,
     "metadata": {},
     "output_type": "execute_result"
    }
   ],
   "source": [
    "import sys\n",
    "\n",
    "sys.path.append(\"../\")\n",
    "\n",
    "from bunkatopics import Bunka\n",
    "from bunkatopics.functions.clean_text import clean_tweet\n",
    "from langchain.embeddings import HuggingFaceEmbeddings\n",
    "import random\n",
    "from datasets import load_dataset\n",
    "import os\n",
    "from dotenv import load_dotenv\n",
    "\n",
    "load_dotenv()"
   ]
  },
  {
   "cell_type": "code",
   "execution_count": 2,
   "id": "1b62615c-2118-4d0b-9bb3-3fc69e03efce",
   "metadata": {},
   "outputs": [],
   "source": [
    "dataset = load_dataset(\"rguo123/trump_tweets\")[\"train\"]\n",
    "full_docs = dataset[\"content\"]\n",
    "full_docs = [clean_tweet(x) for x in full_docs]\n",
    "full_docs = [x for x in full_docs if len(x)>50]\n",
    "full_docs = random.sample(full_docs, 500)"
   ]
  },
  {
   "cell_type": "code",
   "execution_count": null,
   "id": "0bbabce8-1550-4b77-b17d-8f0bbb7269ff",
   "metadata": {},
   "outputs": [],
   "source": []
  },
  {
   "cell_type": "code",
   "execution_count": 3,
   "id": "fbc48905-382e-4a92-a600-13cc6321b33c",
   "metadata": {
    "scrolled": true
   },
   "outputs": [
    {
     "name": "stderr",
     "output_type": "stream",
     "text": [
      "\u001b[1mINFO      \u001b[0m|\u001b[33m2023-10-20 15:49:37\u001b[0m|\u001b[35m{}\u001b[0m|\u001b[34mfit\u001b[0m|\u001b[1mExtracting Terms\u001b[0m\n",
      "/Users/charlesdedampierre/Desktop/bunka_related_projects/BunkaTopics/.venv/lib/python3.10/site-packages/spacy/util.py:910: UserWarning: [W095] Model 'en_core_web_sm' (3.5.0) was trained with spaCy v3.5.0 and may not be 100% compatible with the current version (3.6.1). If you see errors or degraded performance, download a newer compatible model or retrain your custom model with the current spaCy version. For more details and available updates, run: python -m spacy validate\n",
      "  warnings.warn(warn_msg)\n",
      "100%|███████████████████████████████████████████████████████████████████████| 500/500 [00:03<00:00, 137.58it/s]\n",
      "\u001b[1mINFO      \u001b[0m|\u001b[33m2023-10-20 15:49:41\u001b[0m|\u001b[35m{}\u001b[0m|\u001b[34mfit\u001b[0m|\u001b[1mEmbedding Documents, this may take few minutes\u001b[0m\n",
      "\u001b[1mINFO      \u001b[0m|\u001b[33m2023-10-20 15:49:43\u001b[0m|\u001b[35m{}\u001b[0m|\u001b[34mfit\u001b[0m|\u001b[1mReducing Dimensions\u001b[0m\n",
      "/Users/charlesdedampierre/Desktop/bunka_related_projects/BunkaTopics/.venv/lib/python3.10/site-packages/umap/umap_.py:1943: UserWarning: n_jobs value -1 overridden to 1 by setting random_state. Use no seed for parallelism.\n",
      "  warn(f\"n_jobs value {self.n_jobs} overridden to 1 by setting random_state. Use no seed for parallelism.\")\n",
      "OMP: Info #276: omp_set_nested routine deprecated, please use omp_set_max_active_levels instead.\n"
     ]
    }
   ],
   "source": [
    "embedding_model = HuggingFaceEmbeddings(model_name=\"all-MiniLM-L6-v2\")\n",
    "bunka = Bunka(embedding_model=embedding_model)\n",
    "bunka.fit(full_docs)\n",
    "\n",
    "from langchain.llms import OpenAI\n",
    "open_ai_generative_model = OpenAI(openai_api_key = os.getenv('OPEN_AI_KEY'))"
   ]
  },
  {
   "cell_type": "code",
   "execution_count": 8,
   "id": "8bf55d2b-f3f5-4824-ab88-152cfdc9cd50",
   "metadata": {},
   "outputs": [
    {
     "data": {
      "text/html": [
       "<div>\n",
       "<style scoped>\n",
       "    .dataframe tbody tr th:only-of-type {\n",
       "        vertical-align: middle;\n",
       "    }\n",
       "\n",
       "    .dataframe tbody tr th {\n",
       "        vertical-align: top;\n",
       "    }\n",
       "\n",
       "    .dataframe thead th {\n",
       "        text-align: right;\n",
       "    }\n",
       "</style>\n",
       "<table border=\"1\" class=\"dataframe\">\n",
       "  <thead>\n",
       "    <tr style=\"text-align: right;\">\n",
       "      <th></th>\n",
       "      <th>topic_id</th>\n",
       "      <th>name</th>\n",
       "      <th>lemma_name</th>\n",
       "      <th>term_id</th>\n",
       "      <th>x_centroid</th>\n",
       "      <th>y_centroid</th>\n",
       "      <th>size</th>\n",
       "      <th>top_doc_id</th>\n",
       "      <th>top_term_id</th>\n",
       "      <th>convex_hull</th>\n",
       "    </tr>\n",
       "  </thead>\n",
       "  <tbody>\n",
       "    <tr>\n",
       "      <th>0</th>\n",
       "      <td>bt-0</td>\n",
       "      <td>obama | isis | gun | crisis | amendment | atta...</td>\n",
       "      <td>None</td>\n",
       "      <td>[obama, isis, gun, crisis, amendment, attack, ...</td>\n",
       "      <td>5.965318</td>\n",
       "      <td>10.763996</td>\n",
       "      <td>35</td>\n",
       "      <td>None</td>\n",
       "      <td>None</td>\n",
       "      <td>{'x_coordinates': [6.418291091918946, 6.341728...</td>\n",
       "    </tr>\n",
       "    <tr>\n",
       "      <th>1</th>\n",
       "      <td>bt-1</td>\n",
       "      <td>com | congratulations | honor | responders | b...</td>\n",
       "      <td>None</td>\n",
       "      <td>[com, congratulations, honor, responders, beha...</td>\n",
       "      <td>1.709127</td>\n",
       "      <td>12.277600</td>\n",
       "      <td>58</td>\n",
       "      <td>None</td>\n",
       "      <td>None</td>\n",
       "      <td>{'x_coordinates': [2.4104378223419194, 2.50622...</td>\n",
       "    </tr>\n",
       "    <tr>\n",
       "      <th>2</th>\n",
       "      <td>bt-2</td>\n",
       "      <td>polling numbers | rating | players | approval ...</td>\n",
       "      <td>None</td>\n",
       "      <td>[polling numbers, rating, polling, players, ap...</td>\n",
       "      <td>3.650295</td>\n",
       "      <td>11.655439</td>\n",
       "      <td>51</td>\n",
       "      <td>None</td>\n",
       "      <td>None</td>\n",
       "      <td>{'x_coordinates': [2.9228248596191397, 2.82947...</td>\n",
       "    </tr>\n",
       "    <tr>\n",
       "      <th>3</th>\n",
       "      <td>bt-3</td>\n",
       "      <td>interview | apprentice | fox news | greta | ra...</td>\n",
       "      <td>None</td>\n",
       "      <td>[interview, apprentice, fox news, greta, ratin...</td>\n",
       "      <td>2.255587</td>\n",
       "      <td>10.058100</td>\n",
       "      <td>47</td>\n",
       "      <td>None</td>\n",
       "      <td>None</td>\n",
       "      <td>{'x_coordinates': [3.1541836261749268, 3.21928...</td>\n",
       "    </tr>\n",
       "    <tr>\n",
       "      <th>4</th>\n",
       "      <td>bt-4</td>\n",
       "      <td>bernie | hillary | sanders | left | dems | nan...</td>\n",
       "      <td>None</td>\n",
       "      <td>[bernie, hillary, sanders, left, dems, nancy, ...</td>\n",
       "      <td>4.151965</td>\n",
       "      <td>10.213035</td>\n",
       "      <td>49</td>\n",
       "      <td>None</td>\n",
       "      <td>None</td>\n",
       "      <td>{'x_coordinates': [3.2601904869079594, 3.26089...</td>\n",
       "    </tr>\n",
       "    <tr>\n",
       "      <th>5</th>\n",
       "      <td>bt-5</td>\n",
       "      <td>entrepreneurs | focus | thinking | albert eins...</td>\n",
       "      <td>None</td>\n",
       "      <td>[entrepreneurs, focus, thinking, albert einste...</td>\n",
       "      <td>2.199245</td>\n",
       "      <td>13.907952</td>\n",
       "      <td>36</td>\n",
       "      <td>None</td>\n",
       "      <td>None</td>\n",
       "      <td>{'x_coordinates': [1.7714384794235234, 1.71803...</td>\n",
       "    </tr>\n",
       "    <tr>\n",
       "      <th>6</th>\n",
       "      <td>bt-6</td>\n",
       "      <td>fbi | investigation | media | hunt | informati...</td>\n",
       "      <td>None</td>\n",
       "      <td>[fbi, investigation, media, hunt, information,...</td>\n",
       "      <td>5.127883</td>\n",
       "      <td>9.236988</td>\n",
       "      <td>58</td>\n",
       "      <td>None</td>\n",
       "      <td>None</td>\n",
       "      <td>{'x_coordinates': [6.030297279357909, 6.018218...</td>\n",
       "    </tr>\n",
       "    <tr>\n",
       "      <th>7</th>\n",
       "      <td>bt-7</td>\n",
       "      <td>border | trade | healthcare | wall | deal | co...</td>\n",
       "      <td>None</td>\n",
       "      <td>[border, trade, healthcare, wall, deal, countr...</td>\n",
       "      <td>5.535605</td>\n",
       "      <td>12.203128</td>\n",
       "      <td>61</td>\n",
       "      <td>None</td>\n",
       "      <td>None</td>\n",
       "      <td>{'x_coordinates': [4.8024611473083505, 4.89842...</td>\n",
       "    </tr>\n",
       "    <tr>\n",
       "      <th>8</th>\n",
       "      <td>bt-8</td>\n",
       "      <td>golf | pm | hotel | tomorrow | property | tick...</td>\n",
       "      <td>None</td>\n",
       "      <td>[golf, pm, hotel, tomorrow, property, tickets,...</td>\n",
       "      <td>1.003837</td>\n",
       "      <td>11.188904</td>\n",
       "      <td>45</td>\n",
       "      <td>None</td>\n",
       "      <td>None</td>\n",
       "      <td>{'x_coordinates': [0.6654875278472899, 0.57090...</td>\n",
       "    </tr>\n",
       "    <tr>\n",
       "      <th>9</th>\n",
       "      <td>bt-9</td>\n",
       "      <td>president | trump | country | track | potus | ...</td>\n",
       "      <td>None</td>\n",
       "      <td>[president, trump, country, track, potus, pres...</td>\n",
       "      <td>3.487471</td>\n",
       "      <td>13.183104</td>\n",
       "      <td>60</td>\n",
       "      <td>None</td>\n",
       "      <td>None</td>\n",
       "      <td>{'x_coordinates': [4.440550804138184, 4.464235...</td>\n",
       "    </tr>\n",
       "  </tbody>\n",
       "</table>\n",
       "</div>"
      ],
      "text/plain": [
       "  topic_id                                               name lemma_name  \\\n",
       "0     bt-0  obama | isis | gun | crisis | amendment | atta...       None   \n",
       "1     bt-1  com | congratulations | honor | responders | b...       None   \n",
       "2     bt-2  polling numbers | rating | players | approval ...       None   \n",
       "3     bt-3  interview | apprentice | fox news | greta | ra...       None   \n",
       "4     bt-4  bernie | hillary | sanders | left | dems | nan...       None   \n",
       "5     bt-5  entrepreneurs | focus | thinking | albert eins...       None   \n",
       "6     bt-6  fbi | investigation | media | hunt | informati...       None   \n",
       "7     bt-7  border | trade | healthcare | wall | deal | co...       None   \n",
       "8     bt-8  golf | pm | hotel | tomorrow | property | tick...       None   \n",
       "9     bt-9  president | trump | country | track | potus | ...       None   \n",
       "\n",
       "                                             term_id  x_centroid  y_centroid  \\\n",
       "0  [obama, isis, gun, crisis, amendment, attack, ...    5.965318   10.763996   \n",
       "1  [com, congratulations, honor, responders, beha...    1.709127   12.277600   \n",
       "2  [polling numbers, rating, polling, players, ap...    3.650295   11.655439   \n",
       "3  [interview, apprentice, fox news, greta, ratin...    2.255587   10.058100   \n",
       "4  [bernie, hillary, sanders, left, dems, nancy, ...    4.151965   10.213035   \n",
       "5  [entrepreneurs, focus, thinking, albert einste...    2.199245   13.907952   \n",
       "6  [fbi, investigation, media, hunt, information,...    5.127883    9.236988   \n",
       "7  [border, trade, healthcare, wall, deal, countr...    5.535605   12.203128   \n",
       "8  [golf, pm, hotel, tomorrow, property, tickets,...    1.003837   11.188904   \n",
       "9  [president, trump, country, track, potus, pres...    3.487471   13.183104   \n",
       "\n",
       "   size top_doc_id top_term_id  \\\n",
       "0    35       None        None   \n",
       "1    58       None        None   \n",
       "2    51       None        None   \n",
       "3    47       None        None   \n",
       "4    49       None        None   \n",
       "5    36       None        None   \n",
       "6    58       None        None   \n",
       "7    61       None        None   \n",
       "8    45       None        None   \n",
       "9    60       None        None   \n",
       "\n",
       "                                         convex_hull  \n",
       "0  {'x_coordinates': [6.418291091918946, 6.341728...  \n",
       "1  {'x_coordinates': [2.4104378223419194, 2.50622...  \n",
       "2  {'x_coordinates': [2.9228248596191397, 2.82947...  \n",
       "3  {'x_coordinates': [3.1541836261749268, 3.21928...  \n",
       "4  {'x_coordinates': [3.2601904869079594, 3.26089...  \n",
       "5  {'x_coordinates': [1.7714384794235234, 1.71803...  \n",
       "6  {'x_coordinates': [6.030297279357909, 6.018218...  \n",
       "7  {'x_coordinates': [4.8024611473083505, 4.89842...  \n",
       "8  {'x_coordinates': [0.6654875278472899, 0.57090...  \n",
       "9  {'x_coordinates': [4.440550804138184, 4.464235...  "
      ]
     },
     "execution_count": 8,
     "metadata": {},
     "output_type": "execute_result"
    }
   ],
   "source": [
    "df_topics = bunka.get_topics(n_clusters=10)"
   ]
  },
  {
   "cell_type": "code",
   "execution_count": 13,
   "id": "5239d3f5-5f53-40ee-a9f0-e2f0f71f07d5",
   "metadata": {},
   "outputs": [
    {
     "data": {
      "text/plain": [
       "Topic(topic_id='bt-0', name='obama | isis | gun | crisis | amendment | attack | army general | dishonesty | detail | answers | arms | dollars fighting | desperation | facts | facility', lemma_name=None, x_centroid=5.965317549024309, y_centroid=10.76399552481515, size=35, top_doc_id=None, top_term_id=None)"
      ]
     },
     "execution_count": 13,
     "metadata": {},
     "output_type": "execute_result"
    }
   ],
   "source": [
    "bunka.topics[0]"
   ]
  },
  {
   "cell_type": "code",
   "execution_count": null,
   "id": "62467440-bff5-4aa3-91e9-c0e322086710",
   "metadata": {},
   "outputs": [],
   "source": []
  },
  {
   "cell_type": "code",
   "execution_count": 9,
   "id": "ac9a79da-58eb-47b5-9082-6239d2976083",
   "metadata": {},
   "outputs": [
    {
     "name": "stderr",
     "output_type": "stream",
     "text": [
      "Creating new labels for clusters: 100%|████████████████████████████████████████| 10/10 [00:04<00:00,  2.31it/s]\n"
     ]
    }
   ],
   "source": [
    "from pydantic import BaseModel\n",
    "import typing as t \n",
    "from bunkatopics.functions.bourdieu_api import bourdieu_api\n",
    "from bunkatopics.datamodel import TopicParam, TopicGenParam\n",
    "\n",
    "\n",
    "class BourdieuQuery(BaseModel):\n",
    "    x_left_words: t.List[str] = [\"war\"]\n",
    "    x_right_words: t.List[str] = [\"peace\"]\n",
    "    y_top_words: t.List[str] = [\"men\"]\n",
    "    y_bottom_words: t.List[str] = [\"women\"]\n",
    "    radius_size: float = 0.5\n",
    "\n",
    "res = bourdieu_api(\n",
    "            bunka.embedding_model,\n",
    "            bunka.docs,\n",
    "            bunka.terms,\n",
    "            bourdieu_query = BourdieuQuery(),\n",
    "            topic_param = TopicParam(n_clusters = 10),\n",
    "            generative_ai_name=True,\n",
    "            topic_gen_param= TopicGenParam(generative_model = open_ai_generative_model))\n",
    "\n",
    "bourdieu_docs = res[0]\n",
    "bourdieu_topics = res[1]"
   ]
  },
  {
   "cell_type": "code",
   "execution_count": 10,
   "id": "f128fc0c-875b-47e0-a7d3-14fc0839c0e8",
   "metadata": {},
   "outputs": [],
   "source": [
    "from bunkatopics.visualisation.new_bourdieu_visu import visualize_bourdieu"
   ]
  },
  {
   "cell_type": "code",
   "execution_count": 11,
   "id": "aaed711d-e241-4699-8155-b99e17199854",
   "metadata": {},
   "outputs": [],
   "source": [
    "fig = visualize_bourdieu(\n",
    "    bourdieu_docs,\n",
    "    bourdieu_topics,\n",
    "    display_percent=True,\n",
    "    convex_hull=True,\n",
    "    clustering=True,\n",
    "    width=800,\n",
    "    height=800,\n",
    "    label_size_ratio_clusters=100,\n",
    "    label_size_ratio_label=50,\n",
    "    label_size_ratio_percent=20,\n",
    "    manual_axis_name = None)"
   ]
  },
  {
   "cell_type": "code",
   "execution_count": 12,
   "id": "b941512b-fd35-48da-a359-072ea8354f46",
   "metadata": {},
   "outputs": [
    {
     "data": {
      "application/vnd.plotly.v1+json": {
       "config": {
        "plotlyServerURL": "https://plot.ly"
       },
       "data": [
        {
         "autocontour": true,
         "colorscale": [
          [
           0,
           "rgb(16, 31, 63)"
          ],
          [
           0.09090909090909091,
           "rgb(38, 62, 144)"
          ],
          [
           0.18181818181818182,
           "rgb(30, 110, 161)"
          ],
          [
           0.2727272727272727,
           "rgb(60, 154, 171)"
          ],
          [
           0.36363636363636365,
           "rgb(140, 193, 186)"
          ],
          [
           0.45454545454545453,
           "rgb(217, 229, 218)"
          ],
          [
           0.5454545454545454,
           "rgb(239, 226, 156)"
          ],
          [
           0.6363636363636364,
           "rgb(195, 182, 59)"
          ],
          [
           0.7272727272727273,
           "rgb(115, 152, 5)"
          ],
          [
           0.8181818181818182,
           "rgb(34, 120, 36)"
          ],
          [
           0.9090909090909091,
           "rgb(18, 78, 43)"
          ],
          [
           1,
           "rgb(23, 35, 18)"
          ]
         ],
         "contours": {
          "end": 24,
          "size": 2,
          "start": 2
         },
         "showscale": false,
         "type": "histogram2dcontour",
         "x": [
          0.08365053981279558,
          0.07317735456624519,
          0.1797352296908954,
          0.10208328379346325,
          0.05074791573970583,
          -0.14591243744696963,
          0.03229138967004122,
          0.05502216335568763,
          0.028552760715291024,
          0.025704180504235626,
          -0.009738019733210174,
          0.10367875557706321,
          0.13281189987769987,
          0.15513495088169413,
          0.06404114838649692,
          0.037463567224860245,
          -0.14408091255111122,
          -0.19387187174163834,
          -0.08604809009283292,
          0.07118210545763501,
          0.0053723819392616085,
          -0.023719218666661657,
          0.10713876403318379,
          0.16587962887469176,
          0.10361676960248187,
          0.09570424184041182,
          0.1719938775652807,
          0.12342783593401754,
          -0.013960776141130962,
          -0.06344952188144298,
          -0.12436859035002147,
          0.006454277731290026,
          -0.1695785042780661,
          -0.08652344238235173,
          0.15953942457395937,
          0.057168073341137604,
          0.025765122189843535,
          -0.047591681407435756,
          0.13925056978985667,
          -0.10438001262451724,
          -0.055485320086730384,
          0.14732180506131703,
          -0.11925936304306262,
          -0.06278884501178042,
          -0.0428545749824193,
          -0.15508429412406666,
          0.08413041154365694,
          0.08808773808135667,
          0.07385171745132546,
          -0.018688519064247126,
          0.004361009590027443,
          0.16582055692137224,
          0.024165296185880463,
          0.04592232351530598,
          0.11167111193495279,
          0.05944030793103984,
          -0.11731371571797294,
          -0.10224452940578788,
          0.07057516055181941,
          -0.036146269782448615,
          -0.00370202160510303,
          -0.07233548518018905,
          -0.01960552633904771,
          0.14858184891893472,
          0.015529491734633256,
          -0.11107287881399575,
          -0.0012760485927281184,
          0.10737156056975661,
          0.15772668560805617,
          -0.020026820733627167,
          -0.007822312753365618,
          -0.01922078413903011,
          0.002851131036483219,
          -0.10617562392030422,
          0.03018446923053401,
          0.06896417475091046,
          -0.05266096147951783,
          0.13381718432568027,
          -0.0499772879524262,
          -0.05350979039959788,
          0.02770689467417161,
          0.1150665778397887,
          0.07365217871753965,
          0.09795184294039436,
          -0.015523501555184591,
          0.019619118980890648,
          -0.11941268386755788,
          -0.1010748444416575,
          -0.10627450510021727,
          -0.15729619816920956,
          -0.024387487986964863,
          0.08177247435237078,
          -0.034593734327359106,
          -0.007498850024384879,
          -0.05781103919807298,
          -0.1267381243299032,
          -0.08686774085452095,
          0.13821634907509955,
          0.08906893886327702,
          -0.07073209457873195,
          -0.01818969579245245,
          0.07533990477130147,
          0.01922160774730138,
          -0.1366086278529018,
          0.012197723597152488,
          0.009288076484772263,
          0.010123146346396442,
          0.02136498695977288,
          -0.11742201266414964,
          0.10620541972263065,
          0.07981256953243648,
          -0.0019950423880649715,
          -0.06555666613531574,
          0.054199082428675605,
          0.09870394501726279,
          -0.036762916036452306,
          -0.0026380308492363266,
          0.09776043916761111,
          -0.1991752025651542,
          -0.06898793153562668,
          0.04036873689874732,
          0.022419380574180997,
          -0.01745788669988689,
          -0.0557258515132867,
          0.038025092385697935,
          0.12997871148467363,
          0.06567462547924872,
          -0.0659382236423736,
          -0.10177302554481162,
          0.010192585327027343,
          -0.1203164207793238,
          0.0677981859393087,
          -0.09666770408527525,
          -0.008515485512320752,
          -0.015918649713477034,
          0.10283422396403388,
          -0.11824491836284681,
          -0.09935529091125009,
          0.167653325440623,
          0.07782477541036102,
          0.14612008052458092,
          -0.07978249820484495,
          0.11625146439185327,
          -0.03681873973158226,
          0.09037112102496542,
          -0.053740865203506585,
          0.10730522158695643,
          -0.1292312786120054,
          -0.02574328147010673,
          0.07820154811522477,
          -0.006338804352543382,
          0.09470538247820175,
          0.051968343160237546,
          0.11959386083300616,
          0.19036098011045924,
          -0.04781308556568825,
          -0.09901738399748365,
          -0.04946692392725911,
          0.08723213624230634,
          -0.012214290889439997,
          0.08195247356283458,
          0.10817371059539932,
          0.025125051780987465,
          -0.025204826454106606,
          0.11785291383910532,
          0.06250220180618848,
          -0.0018676654513163117,
          -0.19038873884489188,
          0.10150351950873276,
          -0.11487072758485778,
          0.12794789327994516,
          -0.06926213794845124,
          0.06098555217546048,
          -0.07578278213157849,
          -0.16643820935878487,
          0.02780543275578086,
          0.054944633748194305,
          0.15174548166672255,
          -0.11684648397704403,
          -0.05828489693243953,
          -0.009342275219754073,
          0.01186698596723382,
          0.031112208634858998,
          -0.0942394944218605,
          -0.10061047157663776,
          -0.08499835732439036,
          -0.14953260344956962,
          -0.041975124420503426,
          -0.08847901528723662,
          -0.059951181579961134,
          0.1865761341600419,
          -0.013769041369492224,
          -0.08736219069736842,
          0.02485806874138627,
          0.01887123474332456,
          0.03509877749237275,
          -0.10555373410319628,
          0.04352125521981097,
          -0.10667134993794028,
          -0.04865091183350763,
          -0.09236538244720842,
          0.09657342160859929,
          0.04209437156711096,
          -0.011182684627622282,
          -0.10546027272189551,
          0.032329681120846526,
          0.12811473090399172,
          -0.039239633548062716,
          0.09712273924234216,
          0.10875578091764106,
          0.11829839621447776,
          0.0962094740280418,
          0.09840341149605342,
          0.10703251852109824,
          -0.03681111323725585,
          -0.012846759348621367,
          -0.1288117559862806,
          0.13979990390362013,
          0.08465784399756031,
          -0.08113901115828973,
          -0.06136268504284419,
          -0.005271273167367793,
          0.09627034941374193,
          -0.004196042532336849,
          0.12441064332321335,
          0.014932727780168114,
          -0.11172253359035011,
          0.05626397899933573,
          -0.0442111858619349,
          -0.10413633783306633,
          -0.0615128929355127
         ],
         "y": [
          0.1517658766819391,
          0.07558267475221864,
          0.019095317844051794,
          0.11943230726340552,
          -0.16614982512297896,
          0.07566870370194767,
          -0.22889002702123995,
          0.08690538604423304,
          0.09638721194021092,
          0.09328595870548857,
          0.13328303989269008,
          0.011640023794304968,
          0.052859099914316546,
          0.10265379983194535,
          0.12629098020722204,
          0.19363283372835108,
          0.02264825613943621,
          0.005955327482629287,
          0.0419348615673783,
          0.09079656062944738,
          0.12080054757083543,
          0.15091778133677758,
          0.10232724619864489,
          0.010386100684924059,
          0.07649113692170845,
          0.05508659071464524,
          0.031005874346722126,
          0.1607961615226884,
          0.15903465271836992,
          0.10924325048324826,
          0.11234116208449832,
          0.15319943935825112,
          0.06783866317076866,
          0.14426537031928918,
          0.028481059891781443,
          0.10233024310186618,
          0.10506296772692945,
          0.19598087930623126,
          0.0467999973579285,
          0.04873840564952575,
          0.18397225205161905,
          -0.010179290024739114,
          -0.07056618418521962,
          0.12994835400208282,
          0.16316702458903,
          0.19004134246863613,
          0.05920382174895846,
          0.0720313563369292,
          0.11078230482328634,
          0.10923264923294465,
          0.09947440459300093,
          0.022593851901311177,
          0.14193201889983553,
          0.1948513301250336,
          0.053534726728659485,
          -0.2156368200828545,
          0.0202804786421521,
          -0.12271506081376622,
          0.06956337816114219,
          0.18926936011187312,
          -0.2209836607879366,
          0.06778608085247315,
          -0.2533773764161493,
          0.03582274954539633,
          0.11243888416487179,
          0.08823230786174663,
          -0.13376203301795278,
          0.0031681657744088865,
          0.06518417627359874,
          0.13470756749583473,
          -0.17753001229832951,
          0.11381549964576648,
          0.10320437965953246,
          -0.008828050578624574,
          0.09505115064478936,
          0.11255756462618721,
          -0.10802073317624555,
          0.013347975931404788,
          0.08979593403679619,
          0.14621074527410577,
          0.10486706628048392,
          0.05851631432244802,
          0.06739948578732265,
          0.035111373778825686,
          -0.09399774629060284,
          0.11866051367289186,
          0.03521493879442664,
          -0.11734812704282109,
          0.025386765040117196,
          0.04946880345334402,
          0.17380429577536105,
          0.05009274499840697,
          -0.1658130379096494,
          0.17113174318066754,
          0.0795214766562952,
          0.06274666620042757,
          0.06639176427864556,
          -0.0036439274644330553,
          -0.05464950881158731,
          0.08916473199357491,
          0.16620072787693474,
          0.07014242202175572,
          0.09835913637844262,
          0.011796832993369186,
          0.11825256768885753,
          0.09693599555875276,
          0.10307290741522421,
          0.14695408637234245,
          -0.0069690995462020535,
          0.12290342529440507,
          0.1576662548237052,
          0.12798973543987174,
          0.07151905803505604,
          -0.13187727102840208,
          0.006750261504024865,
          0.10447264985136279,
          0.1235180773261321,
          0.14044029086341475,
          0.04494934543796424,
          0.1641829402700139,
          0.12129168389262657,
          0.10309380826192238,
          0.1346357925794987,
          0.10858077718473463,
          0.12258577762412956,
          0.0025599732722537266,
          0.1319827599930511,
          0.08889576797825385,
          0.14584687345840328,
          0.12706668337517013,
          -0.010873878878148925,
          0.09772612895743438,
          -0.13885565058407767,
          -0.1060161683375645,
          -0.12524943676899974,
          0.036493953809072374,
          0.03200557280137995,
          0.05348686258299245,
          0.06986178853010828,
          -0.22283574603273276,
          -0.016686224175700495,
          -0.15541647695581534,
          0.03703677722004023,
          0.09387220712860067,
          0.11004503169453438,
          -0.2962758784697113,
          -0.008971497272293983,
          0.07036005658027894,
          0.11455950609788086,
          0.16140215345364683,
          -0.1677010676187192,
          0.09142864441033811,
          0.10211639004712939,
          0.0100437283465408,
          0.07963469281774119,
          0.091295907346788,
          0.045986664281422056,
          0.12391942679630774,
          0.08043003807846859,
          -0.18004343536692097,
          0.06072258874876063,
          -0.025123476500848178,
          0.10853971752640196,
          -0.26740633190184815,
          -0.041653947160315244,
          0.1090975727556619,
          0.17292448943767424,
          0.07799209667569802,
          0.01996218474034325,
          0.08417105184300719,
          0.024987190259737543,
          0.10917277176729367,
          -0.1443959786626468,
          0.17011563481590622,
          -0.029684662034764976,
          0.1714236034394097,
          0.1438048871547876,
          0.01048736268708883,
          -0.004567984344436282,
          0.08039326464102745,
          0.09491613639353202,
          0.10269366389891252,
          0.09915687649489466,
          -0.04939781341991545,
          -0.008777886519864874,
          0.0713204658560338,
          -0.06663970708195953,
          0.20128429777840814,
          0.16293870743666544,
          -0.1773864137418453,
          -0.02025197441761147,
          0.1695234604472393,
          0.06643074760665756,
          -0.22764352246333638,
          0.1551539486090679,
          0.10032803641603946,
          0.1808587181784212,
          0.14171434000877253,
          -0.04858269635099797,
          0.09194562415596683,
          0.06142270839048927,
          0.0018477970525973076,
          0.1511560100956889,
          0.09494989937867146,
          0.1321780374002534,
          0.17439996839754857,
          0.08897733924864448,
          0.13282352914797044,
          0.012523019629777976,
          0.004760465826037591,
          0.030465151797680588,
          0.09719091437333316,
          0.14392385137807967,
          0.003356599767078486,
          0.1635854760541981,
          0.0982954984127101,
          0.07320658548056992,
          0.022304925042531003,
          0.08354310800513709,
          0.08855503827177334,
          -0.10227683736493445,
          0.14415947045864108,
          0.043475170437143544,
          0.21516693742302706,
          0.10416024699777068,
          0.13046097322892802,
          0.013501821962502637,
          -0.1097863384622783,
          0.14392258970527758,
          0.026962680830049445,
          0.08085044198919768
         ]
        },
        {
         "customdata": [
          [
           "cruz really seems out of his element in new hampshire<br>it is such a different battlefield then iowa and the<br>south<br>"
          ],
          [
           "i am right about amazon costing the united states post<br>office massive amounts of money for being their delivery boy<br>amazon should pay these costs plus and not have them<br>bourne by the american taxpayer many billions of dollars p<br>o leaders don t have a clue or do they<br>"
          ],
          [
           "and add to that the fact that the u s<br>pays close to the entire cost of nato protecting many<br>of these same countries that rip us off on trade<br>they pay only a fraction of the cost and laugh<br>the european union had a 151 billion surplus should pay<br>much more for military<br>"
          ],
          [
           "the dealmaker is cunning secretive focused and never settles for<br>less than he wants the america we deserve<br>"
          ],
          [
           "statement from white house sarah sanders com me73hsi6rl<br>"
          ],
          [
           "last week s boardroom was truly epic and the dust<br>hasn t settled yet<br>"
          ],
          [
           "dianne is the person leading our nation on collusion with<br>russia only done by dems will she now investigate herself<br>"
          ],
          [
           "rapidly failing magazine hits me for my strong stance against<br>obama s brilliant 5 killers for 1 deserter trade amazing<br>"
          ],
          [
           "why in the world didn t barack obama fire this<br>guy comey asks mark levin<br>"
          ],
          [
           "wrong built world s best golf course that is doing<br>great<br>"
          ],
          [
           "nevada poll donald trump 33 ted cruz 20 marco rubio<br>11 via great news<br>"
          ],
          [
           "we defeated 100 of the isis caliphate and no longer<br>have any troops in the area under attack by turkey<br>in syria we did our job perfectly now turkey is<br>attacking the kurds who have been fighting each other for<br>200 years<br>"
          ],
          [
           "the supercommittee is a disaster the republicans made a crucial<br>mistake agreeing to this debt deal they hat cont<br>"
          ],
          [
           "how do you impeach a president who has created the<br>greatest economy in the history of our country entirely rebuilt<br>our military into the most powerful it has ever been<br>cut record taxes regulations fixed the va gotten choice for<br>our vets after 45 years so much more<br>"
          ],
          [
           "what s wrong with everyone mr trump will kick ass<br>as president economy will flourish thanks and true<br>"
          ],
          [
           "geraldo looks happy they lost bc he wasn t project<br>manager<br>"
          ],
          [
           "praying that you have a productive day give god thanks<br>he gave you the ability to succeed thank you<br>"
          ],
          [
           "thank you for the nice words this morning well delivered<br>and totally logical<br>"
          ],
          [
           "getting ready for the big news conference in dubai it<br>should all be happening in the u s but it<br>isn t sad<br>"
          ],
          [
           "your all time favorite president got tired of waiting for<br>china to help out and start buying from our farmers<br>the greatest anywhere in the world<br>"
          ],
          [
           "just had a long and very good conversation by phone<br>with president xi of china he is strong sharp and<br>powerfully focused on leading the counterattack on the coronavirus he<br>feels they are doing very well even building hospitals in<br>a matter of only days nothing is easy but<br>"
          ],
          [
           "after watching all about the horror story that is a<br>rod i realized again that it is time to let<br>pete rose into the baseball hall of fame<br>"
          ],
          [
           "via by trump says u s brand has lost its<br>luster<br>"
          ],
          [
           "we had repeal replace done and the saving to our<br>country of one trillion dollars except for one person but<br>it is getting done anyway individual mandate is gone and<br>great less expensive plans will be announced this month drug<br>prices coming down right to try<br>"
          ],
          [
           "failure for all of s talk of engaging the world<br>u s favorability has dropped around the world<br>"
          ],
          [
           "fox calls virginia for trump if it holds it s<br>a big win for trump and a big setback for<br>rubio who needed to win the state<br>"
          ],
          [
           "obama and republicans are hollowing out our military now want<br>to cut troop levels lowest level in over 20 years<br>"
          ],
          [
           "president obama is losing on so many fronts in fact<br>all fronts that i am concerned he will do something<br>totally irrational he can t lead<br>"
          ],
          [
           "mr whitaker is very highly thought of by senator ambassador<br>leonard leo of federalist society and many more i feel<br>certain he will make an outstanding acting attorney general<br>"
          ],
          [
           "mr speaker bring the balanced budget amendment to the floor<br>for a vote let s get the ball rolling<br>"
          ],
          [
           "the most important thing in communication is hearing what isn<br>t said peter drucker<br>"
          ],
          [
           "i have spread out my son s shots over the<br>past 5 years he is fully vaccinated and ready for<br>kindergarten in september great<br>"
          ],
          [
           "just watched your als ice bucket challenge big respect to<br>you thank you<br>"
          ],
          [
           "a rod s appeal will go nowhere he will get<br>a long suspension good for the and sends strong message<br>to players<br>"
          ],
          [
           "so far you ve had tariffs imposed on 300 billion<br>dollars worth of chinese products but you can t tell<br>me that it has hurt our economy it really hasn<br>t led to any kind of serious rise in prices<br>at the consumer level and we are taking in billions<br>"
          ],
          [
           "trump is right we are dealing with zealots animals and<br>amateurs wake up no deal walk and walk fast<br>"
          ],
          [
           "great book just out by very successful businessman always known<br>as somebody who knows how to win capitalist comeback will<br>be a big hit<br>"
          ],
          [
           "irrelevant clown sweats and shakes nervously on as he talks<br>bull about me has zero cred made fool of himself<br>in 12<br>"
          ],
          [
           "speaking of our very stupid war with iraq it is<br>totally disintegrating and iran with russia will walk in and<br>take it over lots of oil<br>"
          ],
          [
           "you scored a 10 on thanks for keeping it real<br>"
          ],
          [
           "is playing great tennis in this us open i am<br>pulling for him today<br>"
          ],
          [
           "by self funding my campaign i am not controlled by<br>my donors special interests or lobbyists i am only working<br>for the people of the u s<br>"
          ],
          [
           "who will be the next find out this saturday at<br>8pm et on missteenusa com<br>"
          ],
          [
           "think weiner will move to a state that doesn t<br>know him he should move better for him to make<br>a new start<br>"
          ],
          [
           "so sad that elijah cummings has been able to do<br>so little for the people of baltimore statistically baltimore ranks<br>last in almost every major category cummings has done nothing<br>but milk baltimore dry but the public is getting wise<br>to the bad job that he is doing<br>"
          ],
          [
           "that man is a pillar of strength and will be<br>perfect as our next president<br>"
          ],
          [
           "florida power light did a fantastic job of providing service<br>energy during the big storm in palm beach<br>"
          ],
          [
           "why would the uschamber be upset by the fact that<br>i want to negotiate better and stronger trade deals or<br>that i want penalties for cheaters<br>"
          ],
          [
           "that was really exciting made all of my points make<br>america great again<br>"
          ],
          [
           "it would be very frightening to have president who has<br>actually accomplished something during their life<br>"
          ],
          [
           "via by mboyle1 exclusive donald trump confirmed to speak at<br>"
          ],
          [
           "we re singlehandedly transferring hundreds of billions of dollars a<br>year<br>"
          ],
          [
           "playing trump ferry point this morning looking forward to it<br>have a great time<br>"
          ],
          [
           "he knows he won t have to spend much has<br>offered to match any donation dollar for dollar<br>"
          ],
          [
           "for the first time in history police organizations national security<br>organizations were used to spy on a campaign there was<br>no basis for it the media largely drove that claims<br>were made that could have affected the election of the<br>president a g bill barr<br>"
          ],
          [
           "my 10 yr old daughter watches over disney channel<br>"
          ],
          [
           "so excited for thank you for creating such an amazing<br>show enjoy it thanks<br>"
          ],
          [
           "important will hold a hearing on oct 1w usmc sgt<br>tahmooressi s mother wife<br>"
          ],
          [
           "watching the returns at 9 45pm com hfujerzbod bei trump<br>tower<br>"
          ],
          [
           "i hope everyone read the brilliant article in american spectator<br>about leightweight a g eric schneiderman he should be run<br>out of office<br>"
          ],
          [
           "hillary is the most corrupt person to ever run for<br>the presidency of the united states com xa3yo8yzcq<br>"
          ],
          [
           "on behalf of our entire nation congratulations to the incredible<br>west point class of 2020 com mxbxmrdbbp<br>"
          ],
          [
           "heading over to the miss usa pageant the young women<br>participating are amazing and accomplished competition is very tough enjoy<br>the show<br>"
          ],
          [
           "as i have said for a long time dealing with<br>china is a very expensive thing to do we just<br>made a great trade deal the ink was barely dry<br>and the world was hit by the plague from china<br>100 trade deals wouldn t make up the difference and<br>all those innocent lives lost<br>"
          ],
          [
           "daca has been made increasingly difficult by the fact that<br>cryin chuck schumer took such a beating over the shutdown<br>that he is unable to act on immigration<br>"
          ],
          [
           "mariano rivera is greatest closer of all time a leader<br>in the club house an exceptional man one of the<br>best in history<br>"
          ],
          [
           "see sanders backed hillary on e mails at the debate<br>hurting himself and then she threw him under the bus<br>but failed disloyal person<br>"
          ],
          [
           "of additional goods sent to us by china remain untaxed<br>but will be shortly at a rate of 25 the<br>tariffs paid to the usa have had little impact on<br>product cost mostly borne by china the trade deal with<br>china continues but too slowly as they attempt to renegotiate<br>no<br>"
          ],
          [
           "defund it or own it if you fund it you<br>re for it<br>"
          ],
          [
           "ted cruz does not have the right temperment to be<br>president look at the way he totally panicked in firing<br>his director of comm bad<br>"
          ],
          [
           "look at the way crooked hillary is handling the e<br>mail case and the total mess she is in she<br>is unfit to be president bad judgement<br>"
          ],
          [
           "don trump is gods gift to america thanks bob<br>"
          ],
          [
           "after watching the roast of you i can confirm you<br>are ready to be president it was fun thanks<br>"
          ],
          [
           "pls hlp sign rt ned 10k signatures stacey7 has cancer<br>very ill in hosp http<br>"
          ],
          [
           "vote for a no bs president and let s make<br>america the greatest country again<br>"
          ],
          [
           "we are becoming a third world country because of jerks<br>like him great<br>"
          ],
          [
           "nancy pelosi and fake tears chuck schumer held a rally<br>at the steps of the supreme court and mic did<br>not work a mess just like dem party<br>"
          ],
          [
           "the debt is our nation s greatest threat is out<br>of touch<br>"
          ],
          [
           "isis would already be on ice if was the president<br>we need you sir<br>"
          ],
          [
           "trump has no problem telling it how it is isn<br>t that what everyone has been wanting from a president<br>"
          ],
          [
           "senator of the great state of alaska really let the<br>republicans and our country down yesterday too bad<br>"
          ],
          [
           "how long do you think the united states will take<br>to recover from our current administration a long time unless<br>i become pres<br>"
          ],
          [
           "it was a 3 day train ride to vietnam not<br>3 hours<br>"
          ],
          [
           "our southern border is under siege congress must act now<br>to change our weak and ineffective immigration laws must build<br>a wall mexico which has a massive crime problem is<br>doing little to help<br>"
          ],
          [
           "i d rather have on my side than a few<br>whiney housewives<br>"
          ],
          [
           "once again the bush appointed supreme court justice john roberts<br>has let us down jeb pushed him hard remember<br>"
          ],
          [
           "so nice when media properly polices media thank you<br>"
          ],
          [
           "remembering your generosity to so many after thank you marlena<br>"
          ],
          [
           "there are a lot of criminals in the caravan we<br>will stop them catch and detain judicial activism by people<br>who know nothing about security and the safety of our<br>citizens is putting our country in great danger not good<br>"
          ],
          [
           "thanks to leader mcconnell for agreeing to bring a senate<br>vote on criminal justice this week these historic changes will<br>make communities safer and save tremendous taxpayers dollars it brings<br>much needed hope to many families during the holiday season<br>"
          ],
          [
           "has not responded not a word his lawyers must have<br>told him to shut up<br>"
          ],
          [
           "stay on message is the chant i always do trade<br>jobs military vets 2nd a repeal ocare borders etc but<br>media misrepresents<br>"
          ],
          [
           "a vicious accuser of justice kavanaugh has just admitted that<br>she was lying her story was totally made up or<br>fake can you imagine if he didn t become a<br>justice of the supreme court because of her disgusting false<br>statements what about the others where are the dems on<br>this<br>"
          ],
          [
           "spoke with governor of north carolina today he is doing<br>a tremendous job under tough circumstances<br>"
          ],
          [
           "so many incredible friends said thanks for tt help i<br>say thanks to you<br>"
          ],
          [
           "together we will show the world that the forces of<br>destruction and extremism are no match for the blessings of<br>prosperity and peace com al6in83ewk<br>"
          ],
          [
           "i am very pleased to welcome the opioid memorial to<br>the president s park in april i encourage all to<br>visit and remember those who we have lost to this<br>deadly epidemic we will keep fighting until we defeat the<br>opioid crisis<br>"
          ],
          [
           "the republicans must use the debt ceiling as leverage to<br>make a great deal<br>"
          ],
          [
           "i cannot believe the republicans are extending the debt ceiling<br>i am a republican i am embarrassed<br>"
          ],
          [
           "my understanding is tim cook lies awake most nights worrying<br>about what you think about their latest iphone true<br>"
          ],
          [
           "donald trump sends 25 000 to recently released sgt andrew<br>tahmooressi thank you<br>"
          ],
          [
           "donald trump is the only candidate that is incorruptible and<br>he will get rid off all of the incompetence ruining<br>our country<br>"
          ],
          [
           "a market is never saturated with a good product but<br>it is very quickly saturated with a bad one henry<br>ford<br>"
          ],
          [
           "we re not talking about religion we re talking about<br>security<br>"
          ],
          [
           "mr trump we had the honor of visiting your beautiful<br>tower in chicago you own a grand building sir thank<br>"
          ],
          [
           "so true don and this was a big lie look<br>what happened to friends of trump for less can t<br>let this pass<br>"
          ],
          [
           "tim kaine has been praising the trans pacific partnership and<br>has been pushing hard to get it approved job killer<br>"
          ],
          [
           "after sitting in awful traffic no parking lots full we<br>gave up on car show today trump called it<br>"
          ],
          [
           "i m looking forward to staying tonight i have heard<br>wonderful things great enjoy<br>"
          ],
          [
           "trump for president george will doesn t know business or<br>what this young generation cares about<br>"
          ],
          [
           "if mitt romney were in the private sector he suffered<br>the horrendous loss of 2012 do you think he d<br>rehire himself for 2016 i don t<br>"
          ],
          [
           "you had a great interview with donald today i started<br>watching your show due to donald trump<br>"
          ],
          [
           "cleveland just made a very wise decision congrats<br>"
          ],
          [
           "the impeachment witch hunt should be over with the statement<br>made last night by the president and foreign minister of<br>ukraine nervous nancy pelosi who should be home cleaning up<br>the dangerous disgusting slum she is making of her district<br>in san francisco where even the<br>"
          ],
          [
           "i will be on fox friends tomorrow morning at 7<br>will be discussing basic stupidity and incompetence of which our<br>leaders have plenty<br>"
          ],
          [
           "a great review of my aberdeen course by prestigious some<br>say greatest ever built<br>"
          ],
          [
           "cnn tried to destroy donald trump with vaccine autism question<br>but he gave this amazing response<br>"
          ],
          [
           "with gas prices rising and the economy failing seeks to<br>have his epa raise energy prices by 109b<br>"
          ],
          [
           "i had the honor of going in to this awesome<br>building today even the restrooms are first class thanks<br>"
          ],
          [
           "he is a professional and true gentleman is one of<br>my favorite contestants from<br>"
          ],
          [
           "damn you really like getting fired up to squash you<br>like a bug huh he doesn t have the strength<br>"
          ],
          [
           "and the fraudulent and dishonest statements he made on wednesday<br>no way it s time to stop this corrupt and<br>illegally brought witch hunt time to start looking at the<br>other side where real crimes were committed republicans have been<br>abused long enough must end now<br>"
          ],
          [
           "every time trump is gracious enough to do a msm<br>interview he gets ambushed with nonsensical questions why is that<br>"
          ],
          [
           "i have arrived in scotland and will be at trump<br>turnberry for two days of meetings calls and hopefully some<br>golf my primary form of exercise the weather is beautiful<br>and this place is incredible tomorrow i go to helsinki<br>for a monday meeting with vladimir putin<br>"
          ],
          [
           "the problem is that we have a president who is<br>more concerned with pursuing some sort of bizarre ideological cont<br>"
          ],
          [
           "tens of millions of dollars in airstrikes had no impact<br>because key leaders fled after hearing on news reports the<br>strikes were coming dumb<br>"
          ],
          [
           "make our country great again trump for president<br>"
          ],
          [
           "not only do you have a great name you d<br>win and do a great job hug for me<br>"
          ],
          [
           "speaks the truth and is as successful as he is<br>must be doing something right i guess so thanks<br>"
          ],
          [
           "now has decided there are 5 million palestinian refugees he<br>always goes against s interest<br>"
          ],
          [
           "congratulations to dana rohrabacher on his big california win we<br>are proud of you dana<br>"
          ],
          [
           "for those on tv defending my use of the word<br>schlonged bc is giving it false meaning tell them it<br>means beaten badly dishonest<br>"
          ],
          [
           "i am really happy that hillary made her speech right<br>under trump world tower<br>"
          ],
          [
           "is so off on iowa which i am leading big<br>in new poll i will win iowa also i beat<br>hillary easily<br>"
          ],
          [
           "today melania and i were honored to join thousands of<br>leaders from across the country for the 2019 prescription drug<br>abuse and heroin summit in atlanta georgia<br>"
          ],
          [
           "my latest piece on winning the foreign policy race<br>"
          ],
          [
           "i appreciate the gop candidates who remain strong on border<br>security they know i am right a nation without borders<br>cannot survive<br>"
          ],
          [
           "it was an honor to join you this morning thank<br>you<br>"
          ],
          [
           "general says that the armed forces will be severely weakened<br>if the large scale rape and sexual abuse problem is<br>not brought under control<br>"
          ],
          [
           "crooked s camp incited violence at my rallies these incidents<br>weren t spontaneous like she claimed in benghazi<br>"
          ],
          [
           "america s debt crisis is our country s greatest challenge<br>spending must be curbed for our long term fiscal future<br>"
          ],
          [
           "congratulations to state representative karen whitsett of michigan so glad<br>you are getting better<br>"
          ],
          [
           "as i have long stated we are so tied in<br>with china and asia that their markets are now taking<br>the u s market down get smart u s a<br>"
          ],
          [
           "the kentucky derby decision was not a good one it<br>was a rough tumble race on a wet and sloppy<br>track actually a beautiful thing to watch only in these<br>days of political correctness could such an overturn occur the<br>best horse did not win the kentucky derby not even<br>close<br>"
          ],
          [
           "why does waste airtime by putting failed campaign strategist stuart<br>stevens who lost big for romney on the show<br>"
          ],
          [
           "wow wow wow your mother was a stunning drop dead<br>gorgeous woman just like true<br>"
          ],
          [
           "many syrian rebels are radical jihadis not our friends supporting<br>them doesn t serve our national interest stay out of<br>syria<br>"
          ],
          [
           "we need a big change i believe you have the<br>best chance and ability to do so thank you<br>"
          ],
          [
           "if dopey mark cuban of failed benefactor fame wants to<br>sit in the front row perhaps i will put gennifer<br>flowers right alongside of him<br>"
          ],
          [
           "can t say obama doesn t know how to throw<br>a polite war general patton would not be happy right<br>now<br>"
          ],
          [
           "hillary wants to rip the guns out of america s<br>hands no guns no protection get on join to stop<br>her<br>"
          ],
          [
           "trump wants low taxes strong defense and jobs trump is<br>good at creating jobs<br>"
          ],
          [
           "the story in the new york times regarding jim webb<br>being considered as the next secretary of defense is fake<br>news i m sure he is a fine man but<br>i don t know jim and never met him patrick<br>shanahan who is acting secretary of defense is doing a<br>great job<br>"
          ],
          [
           "no collusion no obstruction total exoneration democrat witch hunt<br>"
          ],
          [
           "repeatedly canceled the bin laden operation in january march 11<br>wasn t a tough decision<br>"
          ],
          [
           "great article in the donald trump opens 100m golf course<br>"
          ],
          [
           "thank you to chairman kim jong un for keeping your<br>word starting the process of sending home the remains of<br>our great and beloved missing fallen i am not at<br>all surprised that you took this kind action also thank<br>you for your nice letter l look forward to seeing<br>you soon<br>"
          ],
          [
           "congratulations to bernie marcus herman cain on the all employers<br>need to check this out<br>"
          ],
          [
           "via donald trump starts 250million overhaul on golf resort<br>"
          ],
          [
           "you date girls young enough to be your daughter that<br>s perverted dated no that s talent<br>"
          ],
          [
           "i am at camp david working on many things including<br>iran we have a great economy tariffs have been very<br>helpful both with respect to the huge dollars coming in<br>on helping to make good trade deals the dow heading<br>to best june in 80 years stock market best june<br>in 50 years<br>"
          ],
          [
           "historic change obama has spent over 44m of our money<br>on travel expenses the most for any president<br>"
          ],
          [
           "obama should play golf with republicans opponents rather than his<br>small group of friends that way maybe the terrible gridlock<br>would end<br>"
          ],
          [
           "agree about rosie sad because she is very talented actually<br>she has got no talent at all zero<br>"
          ],
          [
           "consumer prices rose in june due to opec opec continues<br>to rip off hard working american families daily<br>"
          ],
          [
           "the donald owes nothing to lobbyists he could restore our<br>republic true<br>"
          ],
          [
           "has made a truly great comeback he is number one<br>again give him credit comebacks are tough to do way<br>to go tiger<br>"
          ],
          [
           "i would rather take a political risk in pursuit of<br>peace than to risk peace in pursuit of politics com<br>xdlrjwlpih<br>"
          ],
          [
           "the oscars were a great night for mexico why not<br>they are ripping off the us more than almost any<br>other nation<br>"
          ],
          [
           "will be interviewed on at 7 20 great crowd in<br>las vegas yesterday<br>"
          ],
          [
           "i am reading that the great border wall will cost<br>more than the government originally thought but i have not<br>gotten involved in the<br>"
          ],
          [
           "congratulations to on his successful cold case posse investigation which<br>claims s birth certificate is fake<br>"
          ],
          [
           "the media is unrelenting they will only go with and<br>report a story in a negative light i called brexit<br>hillary was wrong watch november<br>"
          ],
          [
           "my warmest condolences to the family and many friends of<br>congressman elijah cummings i got to see first hand the<br>strength passion and wisdom of this highly respected political leader<br>his work and voice on so many fronts will be<br>very hard if not impossible to replace<br>"
          ],
          [
           "thank you for your support twitter com richrdhernandez status 746791839861252096<br>"
          ],
          [
           "great sportscaster al michaels a friend of mine played golf<br>with me on saturday morning at trump national la he<br>was in perfect shape<br>"
          ],
          [
           "sound horrible and me sound guilty he was desperate and<br>he got caught adam schiff therefore lied to congress and<br>attempted to defraud the american public he has been doing<br>this for two years i am calling for him to<br>immediately resign from congress based on this fraud<br>"
          ],
          [
           "much of the money i have raised for our veterans<br>has already been distributed with the rest to go shortly<br>to various other veteran groups<br>"
          ],
          [
           "i m puerto rican and i agree with this we<br>need to stop trying to be so politically correct<br>"
          ],
          [
           "johnkasich the voters have spoken we want you agreed to<br>support nominee get on board or leave<br>"
          ],
          [
           "live from new york donald trump will soon be hosting<br>snl frazier enjoy the show and best wishes<br>"
          ],
          [
           "how the hell is bruce ohr still employed at the<br>justice department disgraceful witch hunt<br>"
          ],
          [
           "this texan will be voting trump march 1st cruz is<br>a fake texan<br>"
          ],
          [
           "birthdays are special and a retweet from would make it<br>even more special happy birthday<br>"
          ],
          [
           "so sad to see the terror attack in paris at<br>some point countries will have to open their eyes see<br>what is really going on this kind of sickness hatred<br>is not compatible with a loving peaceful successful country changes<br>to our thought process on terror must be made<br>"
          ],
          [
           "are we going to hear more buseyisms tonight on yes<br>big time<br>"
          ],
          [
           "your las vegas hotel is beautiful too thank you<br>"
          ],
          [
           "i ll be turning the table on larry king this<br>saturday night i ll be interviewing him in honor of<br>the 25th anniversary of his show<br>"
          ],
          [
           "he was on howard stern last week awesome interview thank<br>you<br>"
          ],
          [
           "congratulations and on the birth of carolina dorothy trump so<br>proud<br>"
          ],
          [
           "the stock market and us dollar are both plunging today<br>welcome to s second term<br>"
          ],
          [
           "guy in front asked for picture said he was the<br>biggest fan never saw the guy in back<br>"
          ],
          [
           "has just agreed that the debate will be two hours<br>fantastic news for all especially the millions of people who<br>will be watching<br>"
          ],
          [
           "tina brown could finally be over is a total failure<br>she just got fired great<br>"
          ],
          [
           "donald trump by will forever be one of my favs<br>i understand why<br>"
          ],
          [
           "so funny to watch little donny deutsch on tv with<br>his own failing show when i did the apprentice donny<br>would call me along with others and beg to be<br>on that very successful show he had the tv bug<br>i would let him come on though he erin had<br>very little<br>"
          ],
          [
           "secondly he is fulfilling every promise he made and that<br>is making his opponents apoplectic they re trying to get<br>him out of office and they re not going to<br>succeed pastor robert jeffress author of choosing the extraordinary life<br>thank you pastor<br>"
          ],
          [
           "we need your help donald make us great again<br>"
          ],
          [
           "the rooms are like condos perfect for families very accommodating<br>staff thanks<br>"
          ],
          [
           "i will be interviewed sunday morning on and prior to<br>the super bowl on at 3 30 p m enjoy<br>"
          ],
          [
           "i am pleased to announce that effective 4 9 18<br>will be my new national security advisor i am very<br>thankful for the service of general h r mcmaster who<br>has done an outstanding job will always remain my friend<br>there will be an official contact handover on 4 9<br>"
          ],
          [
           "with proper thinking and leadership we can have a much<br>better plan than obamacare something that works for the people<br>and costs much less<br>"
          ],
          [
           "i agree america is disheartened i truly believe can turn<br>this country around he is the only 1 who can<br>"
          ],
          [
           "i d say is a legend i work too long<br>and hard to think about it but thanks<br>"
          ],
          [
           "i will be on with chris wallace this morning enjoy<br>"
          ],
          [
           "i think you try and make fun of because you<br>re jealous try and compare your career to his<br>"
          ],
          [
           "the debates especially the second and third plus speeches and<br>intensity of the large rallies plus our great supporters gave<br>us the win<br>"
          ],
          [
           "marco rubio would keep barack obama s executive order on<br>amnesty intact see article cannot be president<br>"
          ],
          [
           "hope opec will increase output substantially need to keep prices<br>down<br>"
          ],
          [
           "you are witnessing the single greatest witch hunt in american<br>political history led by some very bad and conflicted people<br>"
          ],
          [
           "russia took crimea during the so called obama years who<br>wouldn t know this and why does obama get a<br>free pass<br>"
          ],
          [
           "i agree mr trump i am a veteran and can<br>t stand what is happening<br>"
          ],
          [
           "it was great being with governor henry mcmaster last night<br>in south carolina henry is tough on crime and borders<br>loves our military and our vets and has created many<br>jobs and a great economy go out and vote for<br>henry today he will never let you down<br>"
          ],
          [
           "what i am saying is that we never should have<br>been in iraq in the first place bush was terrible<br>obama is worse make america great again<br>"
          ],
          [
           "uncomfortable looking nbc reporter willie geist calls me to ask<br>for favors and then mockingly smiles when he is told<br>of my high poll numbers<br>"
          ],
          [
           "were all set to have a big victory until dan<br>bishop won north carolina 09 now you will hear them<br>barely talk about or cover the race fake news never<br>wins<br>"
          ],
          [
           "icymi s described my monday speech as one of my<br>best and most riveting<br>"
          ],
          [
           "i believe in free markets but allowing a merger of<br>us air american airlines is totally ridiculous will control most<br>of us market<br>"
          ],
          [
           "jim mattis calls woodward book fiction product of someone s<br>rich imagination via<br>"
          ],
          [
           "yesterday i was in washington d c visiting the old<br>post office renovation it will be magnificent<br>"
          ],
          [
           "so many people are asking why isn t the a<br>g or special council looking at the many hillary clinton<br>or comey crimes 33 000 e mails deleted<br>"
          ],
          [
           "gov kasich of ohio just stated on a morning show<br>that he doesn t watch politics or anything on television<br>he only watches the<br>"
          ],
          [
           "despite the fact that the mueller report was composed by<br>trump haters and angry democrats who had unlimited funds and<br>human resources the end result was no collusion no obstruction<br>amazing<br>"
          ],
          [
           "lightweight attorney general eric schneiderman will be next to lose<br>he goes after a school with a 98 approval rating<br>leaves biggies alone<br>"
          ],
          [
           "glad to hear clint eastwood endorsed he understands that america<br>needs a big boost to be strong again<br>"
          ],
          [
           "if donald trump runs for potus 2016 he d have<br>my vote<br>"
          ],
          [
           "our prayers are with the families of the victims and<br>the congregation of yesterday s church attack it was over<br>in 6 seconds thanks to the brave parishioners who acted<br>to protect 242 fellow worshippers lives were saved by these<br>heroes and texas laws allowing them to carry arms<br>"
          ],
          [
           "why doesn t the failing write the real story on<br>the clintons and women the media is totally dishonest<br>"
          ],
          [
           "96 approval rating in the republican party thank you we<br>will win against a tired exhausted man sleepy joe biden<br>in november<br>"
          ],
          [
           "the police in london say i m right major article<br>in daily mail we can t wear uniform in our<br>own cars<br>"
          ],
          [
           "sir i ve always respected you i was born raised<br>in buffalo would love you as owner of the<br>"
          ]
         ],
         "hovertemplate": "x=%{x}<br>y=%{y}<br>Text=%{customdata[0]}<extra></extra>",
         "legendgroup": "",
         "marker": {
          "color": "#1F77B4",
          "opacity": 0.3,
          "symbol": "circle"
         },
         "mode": "markers",
         "name": "",
         "orientation": "v",
         "showlegend": false,
         "type": "scatter",
         "x": [
          0.08365053981279558,
          0.07317735456624519,
          0.1797352296908954,
          0.10208328379346325,
          0.05074791573970583,
          -0.14591243744696963,
          0.03229138967004122,
          0.05502216335568763,
          0.028552760715291024,
          0.025704180504235626,
          -0.009738019733210174,
          0.10367875557706321,
          0.13281189987769987,
          0.15513495088169413,
          0.06404114838649692,
          0.037463567224860245,
          -0.14408091255111122,
          -0.19387187174163834,
          -0.08604809009283292,
          0.07118210545763501,
          0.0053723819392616085,
          -0.023719218666661657,
          0.10713876403318379,
          0.16587962887469176,
          0.10361676960248187,
          0.09570424184041182,
          0.1719938775652807,
          0.12342783593401754,
          -0.013960776141130962,
          -0.06344952188144298,
          -0.12436859035002147,
          0.006454277731290026,
          -0.1695785042780661,
          -0.08652344238235173,
          0.15953942457395937,
          0.057168073341137604,
          0.025765122189843535,
          -0.047591681407435756,
          0.13925056978985667,
          -0.10438001262451724,
          -0.055485320086730384,
          0.14732180506131703,
          -0.11925936304306262,
          -0.06278884501178042,
          -0.0428545749824193,
          -0.15508429412406666,
          0.08413041154365694,
          0.08808773808135667,
          0.07385171745132546,
          -0.018688519064247126,
          0.004361009590027443,
          0.16582055692137224,
          0.024165296185880463,
          0.04592232351530598,
          0.11167111193495279,
          0.05944030793103984,
          -0.11731371571797294,
          -0.10224452940578788,
          0.07057516055181941,
          -0.036146269782448615,
          -0.00370202160510303,
          -0.07233548518018905,
          -0.01960552633904771,
          0.14858184891893472,
          0.015529491734633256,
          -0.11107287881399575,
          -0.0012760485927281184,
          0.10737156056975661,
          0.15772668560805617,
          -0.020026820733627167,
          -0.007822312753365618,
          -0.01922078413903011,
          0.002851131036483219,
          -0.10617562392030422,
          0.03018446923053401,
          0.06896417475091046,
          -0.05266096147951783,
          0.13381718432568027,
          -0.0499772879524262,
          -0.05350979039959788,
          0.02770689467417161,
          0.1150665778397887,
          0.07365217871753965,
          0.09795184294039436,
          -0.015523501555184591,
          0.019619118980890648,
          -0.11941268386755788,
          -0.1010748444416575,
          -0.10627450510021727,
          -0.15729619816920956,
          -0.024387487986964863,
          0.08177247435237078,
          -0.034593734327359106,
          -0.007498850024384879,
          -0.05781103919807298,
          -0.1267381243299032,
          -0.08686774085452095,
          0.13821634907509955,
          0.08906893886327702,
          -0.07073209457873195,
          -0.01818969579245245,
          0.07533990477130147,
          0.01922160774730138,
          -0.1366086278529018,
          0.012197723597152488,
          0.009288076484772263,
          0.010123146346396442,
          0.02136498695977288,
          -0.11742201266414964,
          0.10620541972263065,
          0.07981256953243648,
          -0.0019950423880649715,
          -0.06555666613531574,
          0.054199082428675605,
          0.09870394501726279,
          -0.036762916036452306,
          -0.0026380308492363266,
          0.09776043916761111,
          -0.1991752025651542,
          -0.06898793153562668,
          0.04036873689874732,
          0.022419380574180997,
          -0.01745788669988689,
          -0.0557258515132867,
          0.038025092385697935,
          0.12997871148467363,
          0.06567462547924872,
          -0.0659382236423736,
          -0.10177302554481162,
          0.010192585327027343,
          -0.1203164207793238,
          0.0677981859393087,
          -0.09666770408527525,
          -0.008515485512320752,
          -0.015918649713477034,
          0.10283422396403388,
          -0.11824491836284681,
          -0.09935529091125009,
          0.167653325440623,
          0.07782477541036102,
          0.14612008052458092,
          -0.07978249820484495,
          0.11625146439185327,
          -0.03681873973158226,
          0.09037112102496542,
          -0.053740865203506585,
          0.10730522158695643,
          -0.1292312786120054,
          -0.02574328147010673,
          0.07820154811522477,
          -0.006338804352543382,
          0.09470538247820175,
          0.051968343160237546,
          0.11959386083300616,
          0.19036098011045924,
          -0.04781308556568825,
          -0.09901738399748365,
          -0.04946692392725911,
          0.08723213624230634,
          -0.012214290889439997,
          0.08195247356283458,
          0.10817371059539932,
          0.025125051780987465,
          -0.025204826454106606,
          0.11785291383910532,
          0.06250220180618848,
          -0.0018676654513163117,
          -0.19038873884489188,
          0.10150351950873276,
          -0.11487072758485778,
          0.12794789327994516,
          -0.06926213794845124,
          0.06098555217546048,
          -0.07578278213157849,
          -0.16643820935878487,
          0.02780543275578086,
          0.054944633748194305,
          0.15174548166672255,
          -0.11684648397704403,
          -0.05828489693243953,
          -0.009342275219754073,
          0.01186698596723382,
          0.031112208634858998,
          -0.0942394944218605,
          -0.10061047157663776,
          -0.08499835732439036,
          -0.14953260344956962,
          -0.041975124420503426,
          -0.08847901528723662,
          -0.059951181579961134,
          0.1865761341600419,
          -0.013769041369492224,
          -0.08736219069736842,
          0.02485806874138627,
          0.01887123474332456,
          0.03509877749237275,
          -0.10555373410319628,
          0.04352125521981097,
          -0.10667134993794028,
          -0.04865091183350763,
          -0.09236538244720842,
          0.09657342160859929,
          0.04209437156711096,
          -0.011182684627622282,
          -0.10546027272189551,
          0.032329681120846526,
          0.12811473090399172,
          -0.039239633548062716,
          0.09712273924234216,
          0.10875578091764106,
          0.11829839621447776,
          0.0962094740280418,
          0.09840341149605342,
          0.10703251852109824,
          -0.03681111323725585,
          -0.012846759348621367,
          -0.1288117559862806,
          0.13979990390362013,
          0.08465784399756031,
          -0.08113901115828973,
          -0.06136268504284419,
          -0.005271273167367793,
          0.09627034941374193,
          -0.004196042532336849,
          0.12441064332321335,
          0.014932727780168114,
          -0.11172253359035011,
          0.05626397899933573,
          -0.0442111858619349,
          -0.10413633783306633,
          -0.0615128929355127
         ],
         "xaxis": "x",
         "y": [
          0.1517658766819391,
          0.07558267475221864,
          0.019095317844051794,
          0.11943230726340552,
          -0.16614982512297896,
          0.07566870370194767,
          -0.22889002702123995,
          0.08690538604423304,
          0.09638721194021092,
          0.09328595870548857,
          0.13328303989269008,
          0.011640023794304968,
          0.052859099914316546,
          0.10265379983194535,
          0.12629098020722204,
          0.19363283372835108,
          0.02264825613943621,
          0.005955327482629287,
          0.0419348615673783,
          0.09079656062944738,
          0.12080054757083543,
          0.15091778133677758,
          0.10232724619864489,
          0.010386100684924059,
          0.07649113692170845,
          0.05508659071464524,
          0.031005874346722126,
          0.1607961615226884,
          0.15903465271836992,
          0.10924325048324826,
          0.11234116208449832,
          0.15319943935825112,
          0.06783866317076866,
          0.14426537031928918,
          0.028481059891781443,
          0.10233024310186618,
          0.10506296772692945,
          0.19598087930623126,
          0.0467999973579285,
          0.04873840564952575,
          0.18397225205161905,
          -0.010179290024739114,
          -0.07056618418521962,
          0.12994835400208282,
          0.16316702458903,
          0.19004134246863613,
          0.05920382174895846,
          0.0720313563369292,
          0.11078230482328634,
          0.10923264923294465,
          0.09947440459300093,
          0.022593851901311177,
          0.14193201889983553,
          0.1948513301250336,
          0.053534726728659485,
          -0.2156368200828545,
          0.0202804786421521,
          -0.12271506081376622,
          0.06956337816114219,
          0.18926936011187312,
          -0.2209836607879366,
          0.06778608085247315,
          -0.2533773764161493,
          0.03582274954539633,
          0.11243888416487179,
          0.08823230786174663,
          -0.13376203301795278,
          0.0031681657744088865,
          0.06518417627359874,
          0.13470756749583473,
          -0.17753001229832951,
          0.11381549964576648,
          0.10320437965953246,
          -0.008828050578624574,
          0.09505115064478936,
          0.11255756462618721,
          -0.10802073317624555,
          0.013347975931404788,
          0.08979593403679619,
          0.14621074527410577,
          0.10486706628048392,
          0.05851631432244802,
          0.06739948578732265,
          0.035111373778825686,
          -0.09399774629060284,
          0.11866051367289186,
          0.03521493879442664,
          -0.11734812704282109,
          0.025386765040117196,
          0.04946880345334402,
          0.17380429577536105,
          0.05009274499840697,
          -0.1658130379096494,
          0.17113174318066754,
          0.0795214766562952,
          0.06274666620042757,
          0.06639176427864556,
          -0.0036439274644330553,
          -0.05464950881158731,
          0.08916473199357491,
          0.16620072787693474,
          0.07014242202175572,
          0.09835913637844262,
          0.011796832993369186,
          0.11825256768885753,
          0.09693599555875276,
          0.10307290741522421,
          0.14695408637234245,
          -0.0069690995462020535,
          0.12290342529440507,
          0.1576662548237052,
          0.12798973543987174,
          0.07151905803505604,
          -0.13187727102840208,
          0.006750261504024865,
          0.10447264985136279,
          0.1235180773261321,
          0.14044029086341475,
          0.04494934543796424,
          0.1641829402700139,
          0.12129168389262657,
          0.10309380826192238,
          0.1346357925794987,
          0.10858077718473463,
          0.12258577762412956,
          0.0025599732722537266,
          0.1319827599930511,
          0.08889576797825385,
          0.14584687345840328,
          0.12706668337517013,
          -0.010873878878148925,
          0.09772612895743438,
          -0.13885565058407767,
          -0.1060161683375645,
          -0.12524943676899974,
          0.036493953809072374,
          0.03200557280137995,
          0.05348686258299245,
          0.06986178853010828,
          -0.22283574603273276,
          -0.016686224175700495,
          -0.15541647695581534,
          0.03703677722004023,
          0.09387220712860067,
          0.11004503169453438,
          -0.2962758784697113,
          -0.008971497272293983,
          0.07036005658027894,
          0.11455950609788086,
          0.16140215345364683,
          -0.1677010676187192,
          0.09142864441033811,
          0.10211639004712939,
          0.0100437283465408,
          0.07963469281774119,
          0.091295907346788,
          0.045986664281422056,
          0.12391942679630774,
          0.08043003807846859,
          -0.18004343536692097,
          0.06072258874876063,
          -0.025123476500848178,
          0.10853971752640196,
          -0.26740633190184815,
          -0.041653947160315244,
          0.1090975727556619,
          0.17292448943767424,
          0.07799209667569802,
          0.01996218474034325,
          0.08417105184300719,
          0.024987190259737543,
          0.10917277176729367,
          -0.1443959786626468,
          0.17011563481590622,
          -0.029684662034764976,
          0.1714236034394097,
          0.1438048871547876,
          0.01048736268708883,
          -0.004567984344436282,
          0.08039326464102745,
          0.09491613639353202,
          0.10269366389891252,
          0.09915687649489466,
          -0.04939781341991545,
          -0.008777886519864874,
          0.0713204658560338,
          -0.06663970708195953,
          0.20128429777840814,
          0.16293870743666544,
          -0.1773864137418453,
          -0.02025197441761147,
          0.1695234604472393,
          0.06643074760665756,
          -0.22764352246333638,
          0.1551539486090679,
          0.10032803641603946,
          0.1808587181784212,
          0.14171434000877253,
          -0.04858269635099797,
          0.09194562415596683,
          0.06142270839048927,
          0.0018477970525973076,
          0.1511560100956889,
          0.09494989937867146,
          0.1321780374002534,
          0.17439996839754857,
          0.08897733924864448,
          0.13282352914797044,
          0.012523019629777976,
          0.004760465826037591,
          0.030465151797680588,
          0.09719091437333316,
          0.14392385137807967,
          0.003356599767078486,
          0.1635854760541981,
          0.0982954984127101,
          0.07320658548056992,
          0.022304925042531003,
          0.08354310800513709,
          0.08855503827177334,
          -0.10227683736493445,
          0.14415947045864108,
          0.043475170437143544,
          0.21516693742302706,
          0.10416024699777068,
          0.13046097322892802,
          0.013501821962502637,
          -0.1097863384622783,
          0.14392258970527758,
          0.026962680830049445,
          0.08085044198919768
         ],
         "yaxis": "y"
        },
        {
         "line": {
          "color": "grey"
         },
         "mode": "lines",
         "name": "Convex Hull",
         "showlegend": false,
         "type": "scatter",
         "x": [
          0.054944633748194305,
          0.05633502725148252,
          0.05740820421121485,
          0.05803861855715373,
          0.05810072421906166,
          0.05746897512670106,
          0.056017825209834456,
          0.05362172839822428,
          0.05015513862163298,
          0.04549262430524024,
          0.03977230011127469,
          0.033914565538842825,
          0.028378208992597062,
          0.023156941945253275,
          0.018233319301168404,
          0.013589895964699414,
          0.009209226840203194,
          0.0050738668320367015,
          0.0011663708445568723,
          -0.002530706217879379,
          -0.00603480945091511,
          -0.009363383950193385,
          -0.012533874811357293,
          -0.015563727130049857,
          -0.018470386001914193,
          -0.021263834197323753,
          -0.023732612533484267,
          -0.025412007023053407,
          -0.02582344282172917,
          -0.024571378194038603,
          -0.021791600721196687,
          -0.01782925099140611,
          -0.013029976096256038,
          -0.007728149990070048,
          -0.002115470811010697,
          0.0037142511944415956,
          0.00966912083792742,
          0.015657242931087438,
          0.02158672228556225,
          0.027357328253953584,
          0.032232593403480635,
          0.035855816297877534,
          0.03909695351575111,
          0.042072744908318443,
          0.04479371552586354,
          0.04727039041867031,
          0.04951329463702281,
          0.05153295323120497,
          0.053339891251500814,
          0.05494463374819432
         ],
         "y": [
          0.1438048871547876,
          0.1509972237169453,
          0.1585475782254676,
          0.16613985784117388,
          0.17345796972488361,
          0.18018582103741612,
          0.186007318939591,
          0.19060637059222751,
          0.19366688315614514,
          0.19487289385882736,
          0.19420782815408236,
          0.19255245066607465,
          0.19038699251486213,
          0.1877558254574167,
          0.18469286557242276,
          0.18123202893856516,
          0.17740723163452823,
          0.17325238973899673,
          0.16880141933065512,
          0.16408823648818807,
          0.1591467572902801,
          0.15401089781561586,
          0.14871457414287984,
          0.14329170235075664,
          0.1377761985179309,
          0.1322018711195975,
          0.12659933553415403,
          0.1209955553156994,
          0.11541729415079459,
          0.10991473517715082,
          0.10468792272823901,
          0.0999959490593701,
          0.09609804928490838,
          0.09323613947644911,
          0.09143294130530791,
          0.09056079021555298,
          0.09048907952673822,
          0.09108720255841742,
          0.09222455263014444,
          0.09378470492811614,
          0.09673379304241174,
          0.10139452915774955,
          0.1061243475824867,
          0.11081311222296283,
          0.11556298944629317,
          0.12047614561959273,
          0.12565474710997684,
          0.13120096028456055,
          0.1372169515104591,
          0.14380488715478762
         ]
        },
        {
         "line": {
          "color": "grey"
         },
         "mode": "lines",
         "name": "Convex Hull",
         "showlegend": false,
         "type": "scatter",
         "x": [
          -0.1022445294057879,
          -0.10161149600030864,
          -0.09950546533124381,
          -0.09658078870253275,
          -0.09337328638648751,
          -0.08998271032619987,
          -0.08640855695201992,
          -0.08265032269429792,
          -0.07870750398338404,
          -0.07457959724962844,
          -0.0702660989233813,
          -0.06576650543499281,
          -0.06108031321481317,
          -0.056208020634952116,
          -0.05115842782273394,
          -0.04594443815791374,
          -0.040578984139460664,
          -0.035074998266343846,
          -0.029466621000813185,
          -0.02389802696584652,
          -0.018548966832743843,
          -0.01359920916677554,
          -0.009228522533212035,
          -0.0056166754973237506,
          -0.0029434366243810918,
          -0.001388574479654473,
          -0.0010838339424036,
          -0.0018739471544164325,
          -0.0034974806698572737,
          -0.0056928299026296845,
          -0.00819839026663725,
          -0.010816108988737005,
          -0.01371689482941766,
          -0.017198386061118117,
          -0.021384180135423835,
          -0.0262022304334645,
          -0.03157009905983502,
          -0.03740534811913037,
          -0.043625539715945405,
          -0.050148235954875074,
          -0.056890998940514304,
          -0.06377055007862367,
          -0.07065828608171688,
          -0.07735814472902083,
          -0.08366857561812273,
          -0.0893880283466097,
          -0.094314952512069,
          -0.09824779771208782,
          -0.10098501354425338,
          -0.10224452940578792
         ],
         "y": [
          -0.12271506081376625,
          -0.12825810412852107,
          -0.13360376152636963,
          -0.1390096696733195,
          -0.14465148706710987,
          -0.15040327959822267,
          -0.15606977466256555,
          -0.16145569965604634,
          -0.16636578197457266,
          -0.17060474901405231,
          -0.173977328170393,
          -0.17628824683950245,
          -0.17734223241728841,
          -0.17698204648776153,
          -0.17536558923095688,
          -0.17280652225045892,
          -0.169619612529137,
          -0.16611962704986039,
          -0.16257484949180007,
          -0.15901239227017128,
          -0.15538139273786694,
          -0.15163094902803703,
          -0.14771015927383171,
          -0.143568121608401,
          -0.13915393416489502,
          -0.1344166950764638,
          -0.129320373854375,
          -0.12391781854667748,
          -0.11829475324088666,
          -0.11253695502110662,
          -0.10673020097144144,
          -0.10103993780735382,
          -0.09609414868510867,
          -0.09266959211521436,
          -0.09103595225781176,
          -0.09089322484048297,
          -0.09191114763293995,
          -0.09375945840489484,
          -0.09610789492605959,
          -0.09862619496614627,
          -0.10098409629486693,
          -0.10285589137880465,
          -0.10416143058241793,
          -0.10518603996705836,
          -0.1062447791951247,
          -0.10765270792901582,
          -0.10972488583113055,
          -0.11277637256386769,
          -0.11712222778962608,
          -0.12271506081376626
         ]
        },
        {
         "line": {
          "color": "grey"
         },
         "mode": "lines",
         "name": "Convex Hull",
         "showlegend": false,
         "type": "scatter",
         "x": [
          0.1473218050613171,
          0.14760530851939146,
          0.14734574294540875,
          0.14657401091652175,
          0.14532101500988304,
          0.14361765780264518,
          0.14149484187196085,
          0.13898346979498266,
          0.13611444414886334,
          0.13291866751075543,
          0.1294270424578116,
          0.12567047156718442,
          0.12167985741602663,
          0.11748610258149082,
          0.1131212447845147,
          0.10865230667449809,
          0.10418707900865924,
          0.09983565281621208,
          0.09570807556919828,
          0.09189126572595302,
          0.08841103591272646,
          0.08528322403501945,
          0.08252366799833286,
          0.08014820570816751,
          0.07817267507002436,
          0.0766129139894042,
          0.07548476037180796,
          0.07480405212273647,
          0.07458662714769058,
          0.07484832335217122,
          0.07560497864167923,
          0.07687243092171543,
          0.07866651809778077,
          0.08100307807537607,
          0.0838979487600022,
          0.08736696805716007,
          0.09142212854792577,
          0.09600840745763585,
          0.10101387094844348,
          0.10632477765230038,
          0.11182738620115819,
          0.1174079552269686,
          0.12294636624951108,
          0.1282900699912587,
          0.13327623344093914,
          0.13774201943842124,
          0.14152459082357371,
          0.14446111043626558,
          0.14638938943308857,
          0.1473218050613171
         ],
         "y": [
          -0.010179290024739118,
          -0.004013941991809668,
          0.002604954847003084,
          0.009514266635574588,
          0.016550859517780313,
          0.023551599637495712,
          0.030353353138596245,
          0.03679298616495737,
          0.04270736486045455,
          0.04793335536896327,
          0.05230782383435893,
          0.055667636400517036,
          0.05784965921131305,
          0.058690758410622414,
          0.05803331210849622,
          0.05588957622682327,
          0.05246976613041367,
          0.04799526671308435,
          0.04268741109856569,
          0.036740042310107315,
          0.030274375740342904,
          0.023399771279585767,
          0.01622558881814926,
          0.008861188246346694,
          0.001415929454491401,
          -0.006000827667103256,
          -0.013279723228124006,
          -0.020311397338257493,
          -0.026986490107190352,
          -0.03319564164460931,
          -0.038829492060201025,
          -0.04377868146365211,
          -0.047933849964649326,
          -0.051185637672879265,
          -0.05342468469802864,
          -0.054541631149784116,
          -0.054437832016147936,
          -0.053201378514038646,
          -0.051078942788658176,
          -0.04832223361255711,
          -0.045182959758285936,
          -0.04191282999839514,
          -0.03871473944687083,
          -0.03554334140794147,
          -0.032274572259699284,
          -0.028784336622762627,
          -0.024948539117749823,
          -0.02064308436527919,
          -0.015744068994776046,
          -0.010179290024739121
         ]
        },
        {
         "line": {
          "color": "grey"
         },
         "mode": "lines",
         "name": "Convex Hull",
         "showlegend": false,
         "type": "scatter",
         "x": [
          -0.19038873884489182,
          -0.19408321871882753,
          -0.1970281223722364,
          -0.19908458860402573,
          -0.20011375621310268,
          -0.19997676399837472,
          -0.19853679956662057,
          -0.19577674238392234,
          -0.19186315679750018,
          -0.18697819517730724,
          -0.18130400989329631,
          -0.17502275331542055,
          -0.1683165778136329,
          -0.16136763575788635,
          -0.15435807951813393,
          -0.1474700614643285,
          -0.14088024953611458,
          -0.13463478277391397,
          -0.12864678655109024,
          -0.12282340480173395,
          -0.11707178782613838,
          -0.11139559444380137,
          -0.10613878140370732,
          -0.10115720889252332,
          -0.09590147040763107,
          -0.09095993802990313,
          -0.08696886310136263,
          -0.08451578061791833,
          -0.08368283100154583,
          -0.08425287318783424,
          -0.08600485408723745,
          -0.08872305669287808,
          -0.09225878538834839,
          -0.09650907765717294,
          -0.10137185348475396,
          -0.10674503285649375,
          -0.1125266124249169,
          -0.1186242598339007,
          -0.12496464111487895,
          -0.13147663552689928,
          -0.13808912232900927,
          -0.14473098078025656,
          -0.15133109013968873,
          -0.15781832966635356,
          -0.16412157861929844,
          -0.17016971625757107,
          -0.17589162184021917,
          -0.18121617462629022,
          -0.18607225387483192,
          -0.19038873884489188
         ],
         "y": [
          0.07799209667569801,
          0.0724847646518104,
          0.06647296545320729,
          0.0602547901541304,
          0.054128329828821466,
          0.048391675551522226,
          0.043340342887612925,
          0.0391193855419146,
          0.035642951215000766,
          0.03280559226556906,
          0.03050186105231712,
          0.02862630993394259,
          0.02707349126914309,
          0.025737957416616282,
          0.024514260735059787,
          0.023296953583171236,
          0.021989459997329885,
          0.020706349065794414,
          0.019777354317793847,
          0.019541884927668292,
          0.020339342119239677,
          0.022388601149399202,
          0.025483526925161027,
          0.029022584133531728,
          0.032465990153055097,
          0.036153777596461996,
          0.04045964520311843,
          0.045709921443215396,
          0.051739504724627246,
          0.058092281388437673,
          0.06430833384340676,
          0.06995152474836512,
          0.07488439755934902,
          0.07917330527216623,
          0.08288853375185509,
          0.08610036886345401,
          0.08887884343621089,
          0.09126207170292003,
          0.09322546472111995,
          0.09473712890743995,
          0.09576517067850934,
          0.0962776964509575,
          0.09624281264141375,
          0.09562862566650744,
          0.09440324194286784,
          0.09253476788712436,
          0.08999130991590631,
          0.08674097444584301,
          0.08275186789356381,
          0.07799209667569802
         ]
        },
        {
         "line": {
          "color": "grey"
         },
         "mode": "lines",
         "name": "Convex Hull",
         "showlegend": false,
         "type": "scatter",
         "x": [
          -0.0537408652035066,
          -0.04975178286328718,
          -0.04407966360334779,
          -0.036956781819305624,
          -0.028615411906777785,
          -0.019287828261381364,
          -0.009206305278733513,
          0.0013968826455486364,
          0.012289461115847996,
          0.023239155736547425,
          0.03401369211202978,
          0.044380795846677985,
          0.05410819254487486,
          0.06296360781100331,
          0.07071476724944621,
          0.07712939646458647,
          0.08201067098161792,
          0.0853686758026942,
          0.0872883523402873,
          0.08785474489047926,
          0.08715289774935213,
          0.08526785521298792,
          0.08228466157746869,
          0.07828836113887648,
          0.0733639981932933,
          0.06759661703680118,
          0.061071261965482224,
          0.05387370823843176,
          0.046137154738697846,
          0.03807043411833637,
          0.029889140287576322,
          0.021808867156646573,
          0.014045208635776024,
          0.006813758635193582,
          0.00033011106512815836,
          -0.0051901401641913465,
          -0.009652104066205555,
          -0.013954631591035188,
          -0.01883303715662636,
          -0.024136477355524447,
          -0.029652193465125463,
          -0.03516742676282541,
          -0.04046941852602031,
          -0.04534541003210611,
          -0.04958264255847885,
          -0.05296835738253451,
          -0.05528979578166912,
          -0.056334199033278666,
          -0.055888808414759183,
          -0.05374086520350659
         ],
         "y": [
          -0.2962758784697114,
          -0.3002257909445139,
          -0.30269543822103073,
          -0.3037381815368288,
          -0.30340738212947516,
          -0.30175640123653646,
          -0.29883860009557967,
          -0.2947073399441717,
          -0.28941598201987945,
          -0.2830178875602697,
          -0.27556641780290947,
          -0.2671149339853656,
          -0.257716797345205,
          -0.24742536911999444,
          -0.23629401054730098,
          -0.2243760828646914,
          -0.21175311648571282,
          -0.19867105599847493,
          -0.18543532830719028,
          -0.1723514420693295,
          -0.15972490594236302,
          -0.14786122858376122,
          -0.13706591865099474,
          -0.12764448480153395,
          -0.11990243569284936,
          -0.11414527998241147,
          -0.11067852632769076,
          -0.10980375379673431,
          -0.11156759644982882,
          -0.11561008821383673,
          -0.12153491511822861,
          -0.128945763192475,
          -0.13744631846604638,
          -0.1466402669684134,
          -0.15613129472904647,
          -0.16552308777741634,
          -0.1745234275930116,
          -0.18369913370904623,
          -0.19355968680159322,
          -0.20396203633690435,
          -0.21471750750783272,
          -0.2256374255072313,
          -0.23653311552795317,
          -0.24721590276285127,
          -0.2574971124047787,
          -0.26718806964658837,
          -0.27610009968113347,
          -0.28404452770126704,
          -0.29083267889984205,
          -0.2962758784697113
         ]
        },
        {
         "line": {
          "color": "grey"
         },
         "mode": "lines",
         "name": "Convex Hull",
         "showlegend": false,
         "type": "scatter",
         "x": [
          -0.1550842941240666,
          -0.15455569812746006,
          -0.15239737363838005,
          -0.1487752283276423,
          -0.1438551698660628,
          -0.13780310592445724,
          -0.1307849441736416,
          -0.12296659228443156,
          -0.11451395792764302,
          -0.10559294877409181,
          -0.09636947249459375,
          -0.0870094367599647,
          -0.07767874924102047,
          -0.06854331760857686,
          -0.05976904953344972,
          -0.05152185268645493,
          -0.04396763473840826,
          -0.0372699615418284,
          -0.031423765341585475,
          -0.026144997424017873,
          -0.021123429012867245,
          -0.016048831331875204,
          -0.010656320356351542,
          -0.0053466104405181835,
          -0.0010244028145395653,
          0.0016858379080758328,
          0.0027678086907963213,
          0.0022809044038603044,
          0.0002845199175061671,
          -0.003161949898027684,
          -0.007991696485186271,
          -0.014075595987638878,
          -0.021253352564481416,
          -0.029364438813620615,
          -0.03824832733296321,
          -0.04774449072041587,
          -0.05769240157388528,
          -0.06793153249127822,
          -0.07830135607050134,
          -0.08864134490946132,
          -0.09879097160606495,
          -0.10858970875821891,
          -0.11787702896382983,
          -0.12649240482080454,
          -0.1342753089270497,
          -0.1410652138804719,
          -0.14670159227897805,
          -0.15102391672047477,
          -0.1538716598028687,
          -0.15508429412406666
         ],
         "y": [
          0.19004134246863616,
          0.18371597037512,
          0.17729325449876623,
          0.17086848583622716,
          0.16453695538415553,
          0.15839395413920374,
          0.15253477309802435,
          0.1470547032572698,
          0.14204903561359267,
          0.1376130611636455,
          0.13384207090408073,
          0.13083135583155092,
          0.1286762069427086,
          0.12747191523420623,
          0.12731377170269634,
          0.12829706734483148,
          0.13051709315726415,
          0.1340666320798322,
          0.13885786266074993,
          0.14450417848482694,
          0.1505909346317141,
          0.15670348618106233,
          0.16246963460384647,
          0.1681402358211974,
          0.17443744814395482,
          0.18174768333963603,
          0.18973560319235003,
          0.19797603322389712,
          0.20604379895607772,
          0.2135137259106919,
          0.2199952659943529,
          0.22538892108961497,
          0.22974078502095255,
          0.23309803314305666,
          0.2355078408106179,
          0.23701738337832715,
          0.2376738362008752,
          0.2375243746329527,
          0.23661617402925064,
          0.2349964097444597,
          0.2327122571332707,
          0.2298108915503744,
          0.2263394883504616,
          0.22234522288822306,
          0.21787527051834965,
          0.21297680659553206,
          0.20769700647446113,
          0.20208304550982767,
          0.19618209905632245,
          0.19004134246863622
         ]
        },
        {
         "line": {
          "color": "grey"
         },
         "mode": "lines",
         "name": "Convex Hull",
         "showlegend": false,
         "type": "scatter",
         "x": [
          0.07820154811522478,
          0.0727626154576449,
          0.0679697056074308,
          0.06381361717863514,
          0.06028514878531049,
          0.057375099041509434,
          0.055074266561284585,
          0.053373449958688535,
          0.05226344784777386,
          0.05173505884259317,
          0.051779081557199055,
          0.05238542240294053,
          0.05352927742439455,
          0.05517378423071882,
          0.057292029870271405,
          0.05988944629646524,
          0.06297779451225152,
          0.06656883552058142,
          0.07067433032440612,
          0.0753060399266768,
          0.08047572533034468,
          0.08616466155607094,
          0.092101276603582,
          0.09789272015348395,
          0.10330699787994176,
          0.10833075939070552,
          0.11296615733372423,
          0.11721534435694696,
          0.12108047310832278,
          0.12456369623580067,
          0.1276671663873297,
          0.13038796602008373,
          0.13269066797857307,
          0.13452701211861454,
          0.13584870690716966,
          0.13660746081119998,
          0.136754982297667,
          0.13624297983353234,
          0.13502316188575744,
          0.1330472369213039,
          0.13026691340713323,
          0.12663389981020695,
          0.12210080614093306,
          0.11670838071507078,
          0.11065830114597777,
          0.10416938048974467,
          0.09746043180246217,
          0.09075026814022091,
          0.08425770255911158,
          0.07820154811522478
         ],
         "y": [
          0.1614021534536469,
          0.1577825430588402,
          0.15340366605456457,
          0.14837963694923328,
          0.14282457025125947,
          0.1368525804690563,
          0.13057778211103704,
          0.12411428968561486,
          0.11757621770120294,
          0.11107768066621446,
          0.10473279308906262,
          0.09864019370397253,
          0.09264336138803024,
          0.08637660860401265,
          0.07963312182526316,
          0.07272411512928492,
          0.0660621670082647,
          0.060059855954389244,
          0.0551297604598453,
          0.05168445901681962,
          0.05013653011749898,
          0.05080002532974502,
          0.053171825921294505,
          0.05635357330174388,
          0.0598269648482227,
          0.0635913362258146,
          0.06768272646042862,
          0.07213717457797385,
          0.07699071960435935,
          0.08227940056549415,
          0.0880392564872873,
          0.09428988046577882,
          0.10094541575623434,
          0.10787837987606819,
          0.11496118852819978,
          0.12206625741554857,
          0.12906600224103393,
          0.13583283870757532,
          0.1422391825180921,
          0.14815744937550376,
          0.1534600549827297,
          0.15801941504268924,
          0.16170841777527548,
          0.1644461464511629,
          0.16623603060846606,
          0.1670904808139686,
          0.1670219076344543,
          0.16604272163670675,
          0.16416533338750972,
          0.1614021534536469
         ]
        },
        {
         "line": {
          "color": "grey"
         },
         "mode": "lines",
         "name": "Convex Hull",
         "showlegend": false,
         "type": "scatter",
         "x": [
          -0.1017730255448116,
          -0.10640759743235621,
          -0.11068905966795743,
          -0.11453540632789265,
          -0.11786463148843931,
          -0.12059472922587477,
          -0.12264369361647653,
          -0.12392951873652192,
          -0.12437019866228839,
          -0.12390784675554849,
          -0.12259660769431738,
          -0.12052312971838298,
          -0.11777406452938916,
          -0.11443606382897971,
          -0.11059577931879853,
          -0.1063398627004895,
          -0.10175496567569643,
          -0.09692773994606325,
          -0.09194483721323383,
          -0.08689290917885199,
          -0.08186019689547021,
          -0.07695651793660593,
          -0.07230723943999978,
          -0.0679277540564015,
          -0.06341324754658305,
          -0.05860201167649915,
          -0.05371523326021756,
          -0.04899362893923345,
          -0.044677915355042,
          -0.041008809149138375,
          -0.038227026963017705,
          -0.03657263472589536,
          -0.036167875875381075,
          -0.03688137254694563,
          -0.03854671465163616,
          -0.04099125761909735,
          -0.04404120882201102,
          -0.04752277563305903,
          -0.05126518162465143,
          -0.05517611661084549,
          -0.05924714806700207,
          -0.06347394346134777,
          -0.06785217026210912,
          -0.0723774959375127,
          -0.07704558795578513,
          -0.08185211378515293,
          -0.08679273759186674,
          -0.09183836210407842,
          -0.09687557312845815,
          -0.1017730255448116
         ],
         "y": [
          0.14584687345840322,
          0.14422918738551158,
          0.14146471372336555,
          0.13776414441464452,
          0.1333381714020279,
          0.12839748662819497,
          0.12315278203582526,
          0.11781474956759805,
          0.11259408116619278,
          0.10766823485100399,
          0.10306030087749542,
          0.0987485828975372,
          0.09471137979291377,
          0.09092699044540957,
          0.08737371373680901,
          0.08402984854889654,
          0.08087369376345664,
          0.0778835482622737,
          0.0750377109271322,
          0.07231448063981656,
          0.06973439913006467,
          0.06789148355684871,
          0.06779303855263026,
          0.06994128511714635,
          0.0728564518114369,
          0.07555472654160479,
          0.0781386093242952,
          0.08076600827859752,
          0.08359483152360112,
          0.0867829871783953,
          0.0904883833620695,
          0.09486776477431313,
          0.0998672193057576,
          0.10497948683495481,
          0.10977011772648161,
          0.11419443208898185,
          0.11827952470483949,
          0.12205249035643864,
          0.12554005671390775,
          0.128759401045696,
          0.1317174915756933,
          0.1344207975032673,
          0.13687578802778577,
          0.13908893234861636,
          0.14106669966512678,
          0.1428155591766847,
          0.144341970199774,
          0.14557828054274763,
          0.1462044756839913,
          0.14584687345840322
         ]
        },
        {
         "line": {
          "color": "grey"
         },
         "mode": "lines",
         "name": "Convex Hull",
         "showlegend": false,
         "type": "scatter",
         "x": [
          0.18657613416004187,
          0.19012579517783657,
          0.19334188222139623,
          0.1962068336587334,
          0.19870308785786076,
          0.20081308318679097,
          0.2025192580135367,
          0.2038040507061105,
          0.20464989963252506,
          0.20503924316079294,
          0.20495451965892686,
          0.20437816749493937,
          0.20329262503684314,
          0.20168033065265084,
          0.199523722710375,
          0.1968052395780283,
          0.1935073196236234,
          0.18961256874801147,
          0.18514969222745672,
          0.18025600766999694,
          0.17508446464535227,
          0.1697880127232425,
          0.16451960147338762,
          0.15943218046550758,
          0.15467867357797702,
          0.1503779711778902,
          0.14654785639619236,
          0.14318742279962487,
          0.14029576395492913,
          0.13787197342884652,
          0.13591514478811856,
          0.13442437159948653,
          0.13339874742969196,
          0.13283736584547615,
          0.13275042359594139,
          0.13320497077426813,
          0.13428620594131563,
          0.13607933557076424,
          0.13866956613629441,
          0.14212487794392306,
          0.14629566250076992,
          0.15088323631778375,
          0.1556090255438656,
          0.1603557180066399,
          0.1650749599225923,
          0.1697186576591518,
          0.17423871758374745,
          0.17858704606380832,
          0.18271554946676347,
          0.18657613416004187
         ],
         "y": [
          -0.020251974417611472,
          -0.02025169085422939,
          -0.018869391525910495,
          -0.01623286039314507,
          -0.012469881416423424,
          -0.007708238556235856,
          -0.002075715773072676,
          0.004299902972575849,
          0.011290833720219386,
          0.018769292509367645,
          0.02660749537953033,
          0.034677658370217156,
          0.04285199752093779,
          0.05100272887120199,
          0.05900206846051939,
          0.06672223232839972,
          0.0740354365143527,
          0.08081389664361675,
          0.0869297143479817,
          0.09225472268522417,
          0.09666071605877453,
          0.10001948887206306,
          0.10220283552852014,
          0.10308255043157608,
          0.10253048308937714,
          0.10049148062659412,
          0.097127252518406,
          0.09263959501298191,
          0.08723030435849101,
          0.08110117680310246,
          0.07445400859498537,
          0.06749059598230889,
          0.060412735213242176,
          0.05342222253595437,
          0.04670194514184844,
          0.04033796725071455,
          0.03438544569071394,
          0.028899523814232705,
          0.02393534497365706,
          0.019527317844782146,
          0.015447945294572558,
          0.011290292610271426,
          0.006705278780491315,
          0.0017736879953543965,
          -0.00323987747772557,
          -0.00807012190318683,
          -0.012451749545467733,
          -0.016119464669006624,
          -0.018807971538241753,
          -0.020251974417611472
         ]
        },
        {
         "line": {
          "color": "grey"
         },
         "mode": "lines",
         "name": "Convex Hull",
         "showlegend": false,
         "type": "scatter",
         "x": [
          -0.1938718717416383,
          -0.19582794096474163,
          -0.19665288765130579,
          -0.196433106371825,
          -0.19525499169679358,
          -0.1932049381967057,
          -0.1903693404420557,
          -0.1868345930033377,
          -0.18268709045104606,
          -0.17801322735567496,
          -0.17289939828771864,
          -0.1674319978176714,
          -0.16169742051602742,
          -0.15578206095328098,
          -0.1497723136999263,
          -0.14374291826047558,
          -0.13771608135532934,
          -0.13169921559979975,
          -0.12569973278152186,
          -0.11972504468813078,
          -0.11381487979786872,
          -0.10817252412571689,
          -0.10305288517981846,
          -0.0987108901605833,
          -0.09540146626842114,
          -0.09336854659087658,
          -0.09261762882848719,
          -0.09292352626514706,
          -0.09405160879671645,
          -0.0957672463190556,
          -0.09783580872802476,
          -0.1000226659194842,
          -0.10212970282978306,
          -0.10430285742710031,
          -0.10687699088806238,
          -0.11018891350273094,
          -0.11455305074715119,
          -0.11997075429530143,
          -0.12621308812424753,
          -0.13304577970007103,
          -0.14023624547200225,
          -0.14759070617553913,
          -0.15495416333247425,
          -0.1621733027477536,
          -0.1690948102263234,
          -0.17556537157312943,
          -0.1814316725931179,
          -0.18654039909123482,
          -0.19073823687242628,
          -0.1938718717416383
         ],
         "y": [
          0.0059553274826292905,
          0.0027895517196116007,
          -0.0012254512929394054,
          -0.00595469833104051,
          -0.011263206170708518,
          -0.017015991587960216,
          -0.02307807135881238,
          -0.029314462259281814,
          -0.035590181065385314,
          -0.04177024455313965,
          -0.047719669498561615,
          -0.05330347267766801,
          -0.058386670866475615,
          -0.06283428084100122,
          -0.06651131937726162,
          -0.06929795974978362,
          -0.07114268999556247,
          -0.07201323672407958,
          -0.07187732762114556,
          -0.0707026903725709,
          -0.06848211200341639,
          -0.06533520699919917,
          -0.0614216187124227,
          -0.056901005765569425,
          -0.05193302678112175,
          -0.046673714623498286,
          -0.04120046834302595,
          -0.03551460937521149,
          -0.029614344812391606,
          -0.023497881746902854,
          -0.017163427271081944,
          -0.010609188477265453,
          -0.0038734438521128914,
          0.002627966309710477,
          0.008271878476838468,
          0.01243299017208964,
          0.014539084397754344,
          0.01476039718166331,
          0.013813290724418082,
          0.012426782736917868,
          0.011311084500296699,
          0.010744330702828167,
          0.010572841106593867,
          0.010624181377249953,
          0.010725917180452583,
          0.01070561418185791,
          0.010390838047122089,
          0.00960915444190128,
          0.008188129031851636,
          0.005955327482629287
         ]
        }
       ],
       "layout": {
        "annotations": [
         {
          "font": {
           "color": "white",
           "size": 16
          },
          "showarrow": false,
          "text": "men",
          "x": 0,
          "xanchor": "right",
          "xref": "x",
          "y": 0.21516693742302706,
          "yanchor": "top",
          "yref": "y"
         },
         {
          "font": {
           "color": "white",
           "size": 16
          },
          "showarrow": false,
          "text": "women",
          "x": 0,
          "xanchor": "left",
          "xref": "x",
          "y": -0.2962758784697113,
          "yanchor": "bottom",
          "yref": "y"
         },
         {
          "font": {
           "color": "white",
           "size": 16
          },
          "showarrow": false,
          "text": "war",
          "x": 0.19036098011045924,
          "xanchor": "right",
          "xref": "x",
          "y": 0,
          "yanchor": "top",
          "yref": "y"
         },
         {
          "font": {
           "color": "white",
           "size": 16
          },
          "showarrow": false,
          "text": "peace",
          "x": -0.1991752025651542,
          "xanchor": "left",
          "xref": "x",
          "y": 0,
          "yanchor": "bottom",
          "yref": "y"
         },
         {
          "bgcolor": "white",
          "bordercolor": "#c7c7c7",
          "borderpad": 1.6,
          "borderwidth": 0.8,
          "font": {
           "color": "red",
           "family": "Courier New, monospace",
           "size": 8
          },
          "opacity": 1,
          "text": "Donald Trump and Bugs<br>",
          "x": 0.014487050977036349,
          "y": 0.12333383154918696
         },
         {
          "bgcolor": "white",
          "bordercolor": "#c7c7c7",
          "borderpad": 1.6,
          "borderwidth": 0.8,
          "font": {
           "color": "red",
           "family": "Courier New, monospace",
           "size": 8
          },
          "opacity": 1,
          "text": "Political Email Scandal<br>",
          "x": -0.05246431866174653,
          "y": -0.1289048101670229
         },
         {
          "bgcolor": "white",
          "bordercolor": "#c7c7c7",
          "borderpad": 1.6,
          "borderwidth": 0.8,
          "font": {
           "color": "red",
           "family": "Courier New, monospace",
           "size": 8
          },
          "opacity": 1,
          "text": "Obama, Debt, and Obstruction<br>",
          "x": 0.11324934142810691,
          "y": 0.009564345483940874
         },
         {
          "bgcolor": "white",
          "bordercolor": "#c7c7c7",
          "borderpad": 1.6,
          "borderwidth": 0.8,
          "font": {
           "color": "red",
           "family": "Courier New, monospace",
           "size": 8
          },
          "opacity": 1,
          "text": "Peace and Security<br>",
          "x": -0.12338847876909949,
          "y": 0.053979347261322835
         },
         {
          "bgcolor": "white",
          "bordercolor": "#c7c7c7",
          "borderpad": 1.6,
          "borderwidth": 0.8,
          "font": {
           "color": "red",
           "family": "Courier New, monospace",
           "size": 8
          },
          "opacity": 1,
          "text": "Talent and Daughter Statement<br>",
          "x": 0.019198828233259538,
          "y": -0.20070221944907232
         },
         {
          "bgcolor": "white",
          "bordercolor": "#c7c7c7",
          "borderpad": 1.6,
          "borderwidth": 0.8,
          "font": {
           "color": "red",
           "family": "Courier New, monospace",
           "size": 8
          },
          "opacity": 1,
          "text": "Approval Ratings<br>",
          "x": -0.04542278313058335,
          "y": 0.1712298902447458
         },
         {
          "bgcolor": "white",
          "bordercolor": "#c7c7c7",
          "borderpad": 1.6,
          "borderwidth": 0.8,
          "font": {
           "color": "red",
           "family": "Courier New, monospace",
           "size": 8
          },
          "opacity": 1,
          "text": "Jobs, Economy, and Romney<br>",
          "x": 0.08468240528677479,
          "y": 0.10120374949070897
         },
         {
          "bgcolor": "white",
          "bordercolor": "#c7c7c7",
          "borderpad": 1.6,
          "borderwidth": 0.8,
          "font": {
           "color": "red",
           "family": "Courier New, monospace",
           "size": 8
          },
          "opacity": 1,
          "text": "Making a Decision<br>",
          "x": -0.06770218345592491,
          "y": 0.10021237705605701
         },
         {
          "bgcolor": "white",
          "bordercolor": "#c7c7c7",
          "borderpad": 1.6,
          "borderwidth": 0.8,
          "font": {
           "color": "red",
           "family": "Courier New, monospace",
           "size": 8
          },
          "opacity": 1,
          "text": "Military Spending<br>",
          "x": 0.16084069986559385,
          "y": 0.03846125481678893
         },
         {
          "bgcolor": "white",
          "bordercolor": "#c7c7c7",
          "borderpad": 1.6,
          "borderwidth": 0.8,
          "font": {
           "color": "red",
           "family": "Courier New, monospace",
           "size": 8
          },
          "opacity": 1,
          "text": "Terror Attack<br>",
          "x": -0.12613192817796673,
          "y": -0.021048767730894855
         },
         {
          "font": {
           "color": "grey",
           "family": "Courier New, monospace",
           "size": 40
          },
          "opacity": 0.4,
          "text": "12.6%",
          "x": -0.1991752025651542,
          "xanchor": "left",
          "y": -0.2962758784697113
         },
         {
          "font": {
           "color": "grey",
           "family": "Courier New, monospace",
           "size": 40
          },
          "opacity": 0.4,
          "text": "35.9%",
          "x": -0.1991752025651542,
          "xanchor": "left",
          "y": 0.21516693742302706
         },
         {
          "font": {
           "color": "grey",
           "family": "Courier New, monospace",
           "size": 40
          },
          "opacity": 0.4,
          "text": "6.9%",
          "x": 0.19036098011045924,
          "xanchor": "left",
          "y": -0.2962758784697113
         },
         {
          "font": {
           "color": "grey",
           "family": "Courier New, monospace",
           "size": 40
          },
          "opacity": 0.4,
          "text": "44.6%",
          "x": 0.19036098011045924,
          "xanchor": "left",
          "y": 0.21516693742302706
         }
        ],
        "font": {
         "size": 25
        },
        "height": 800,
        "margin": {
         "b": 16,
         "l": 16,
         "r": 16,
         "t": 16
        },
        "shapes": [
         {
          "line": {
           "color": "white",
           "width": 3
          },
          "type": "line",
          "x0": 0,
          "x1": 0,
          "y0": -0.2962758784697113,
          "y1": 0.21516693742302706
         },
         {
          "line": {
           "color": "white",
           "width": 3
          },
          "type": "line",
          "x0": -0.1991752025651542,
          "x1": 0.19036098011045924,
          "y0": 0,
          "y1": 0
         }
        ],
        "showlegend": false,
        "template": {
         "data": {
          "bar": [
           {
            "error_x": {
             "color": "#2a3f5f"
            },
            "error_y": {
             "color": "#2a3f5f"
            },
            "marker": {
             "line": {
              "color": "#E5ECF6",
              "width": 0.5
             },
             "pattern": {
              "fillmode": "overlay",
              "size": 10,
              "solidity": 0.2
             }
            },
            "type": "bar"
           }
          ],
          "barpolar": [
           {
            "marker": {
             "line": {
              "color": "#E5ECF6",
              "width": 0.5
             },
             "pattern": {
              "fillmode": "overlay",
              "size": 10,
              "solidity": 0.2
             }
            },
            "type": "barpolar"
           }
          ],
          "carpet": [
           {
            "aaxis": {
             "endlinecolor": "#2a3f5f",
             "gridcolor": "white",
             "linecolor": "white",
             "minorgridcolor": "white",
             "startlinecolor": "#2a3f5f"
            },
            "baxis": {
             "endlinecolor": "#2a3f5f",
             "gridcolor": "white",
             "linecolor": "white",
             "minorgridcolor": "white",
             "startlinecolor": "#2a3f5f"
            },
            "type": "carpet"
           }
          ],
          "choropleth": [
           {
            "colorbar": {
             "outlinewidth": 0,
             "ticks": ""
            },
            "type": "choropleth"
           }
          ],
          "contour": [
           {
            "colorbar": {
             "outlinewidth": 0,
             "ticks": ""
            },
            "colorscale": [
             [
              0,
              "#0d0887"
             ],
             [
              0.1111111111111111,
              "#46039f"
             ],
             [
              0.2222222222222222,
              "#7201a8"
             ],
             [
              0.3333333333333333,
              "#9c179e"
             ],
             [
              0.4444444444444444,
              "#bd3786"
             ],
             [
              0.5555555555555556,
              "#d8576b"
             ],
             [
              0.6666666666666666,
              "#ed7953"
             ],
             [
              0.7777777777777778,
              "#fb9f3a"
             ],
             [
              0.8888888888888888,
              "#fdca26"
             ],
             [
              1,
              "#f0f921"
             ]
            ],
            "type": "contour"
           }
          ],
          "contourcarpet": [
           {
            "colorbar": {
             "outlinewidth": 0,
             "ticks": ""
            },
            "type": "contourcarpet"
           }
          ],
          "heatmap": [
           {
            "colorbar": {
             "outlinewidth": 0,
             "ticks": ""
            },
            "colorscale": [
             [
              0,
              "#0d0887"
             ],
             [
              0.1111111111111111,
              "#46039f"
             ],
             [
              0.2222222222222222,
              "#7201a8"
             ],
             [
              0.3333333333333333,
              "#9c179e"
             ],
             [
              0.4444444444444444,
              "#bd3786"
             ],
             [
              0.5555555555555556,
              "#d8576b"
             ],
             [
              0.6666666666666666,
              "#ed7953"
             ],
             [
              0.7777777777777778,
              "#fb9f3a"
             ],
             [
              0.8888888888888888,
              "#fdca26"
             ],
             [
              1,
              "#f0f921"
             ]
            ],
            "type": "heatmap"
           }
          ],
          "heatmapgl": [
           {
            "colorbar": {
             "outlinewidth": 0,
             "ticks": ""
            },
            "colorscale": [
             [
              0,
              "#0d0887"
             ],
             [
              0.1111111111111111,
              "#46039f"
             ],
             [
              0.2222222222222222,
              "#7201a8"
             ],
             [
              0.3333333333333333,
              "#9c179e"
             ],
             [
              0.4444444444444444,
              "#bd3786"
             ],
             [
              0.5555555555555556,
              "#d8576b"
             ],
             [
              0.6666666666666666,
              "#ed7953"
             ],
             [
              0.7777777777777778,
              "#fb9f3a"
             ],
             [
              0.8888888888888888,
              "#fdca26"
             ],
             [
              1,
              "#f0f921"
             ]
            ],
            "type": "heatmapgl"
           }
          ],
          "histogram": [
           {
            "marker": {
             "pattern": {
              "fillmode": "overlay",
              "size": 10,
              "solidity": 0.2
             }
            },
            "type": "histogram"
           }
          ],
          "histogram2d": [
           {
            "colorbar": {
             "outlinewidth": 0,
             "ticks": ""
            },
            "colorscale": [
             [
              0,
              "#0d0887"
             ],
             [
              0.1111111111111111,
              "#46039f"
             ],
             [
              0.2222222222222222,
              "#7201a8"
             ],
             [
              0.3333333333333333,
              "#9c179e"
             ],
             [
              0.4444444444444444,
              "#bd3786"
             ],
             [
              0.5555555555555556,
              "#d8576b"
             ],
             [
              0.6666666666666666,
              "#ed7953"
             ],
             [
              0.7777777777777778,
              "#fb9f3a"
             ],
             [
              0.8888888888888888,
              "#fdca26"
             ],
             [
              1,
              "#f0f921"
             ]
            ],
            "type": "histogram2d"
           }
          ],
          "histogram2dcontour": [
           {
            "colorbar": {
             "outlinewidth": 0,
             "ticks": ""
            },
            "colorscale": [
             [
              0,
              "#0d0887"
             ],
             [
              0.1111111111111111,
              "#46039f"
             ],
             [
              0.2222222222222222,
              "#7201a8"
             ],
             [
              0.3333333333333333,
              "#9c179e"
             ],
             [
              0.4444444444444444,
              "#bd3786"
             ],
             [
              0.5555555555555556,
              "#d8576b"
             ],
             [
              0.6666666666666666,
              "#ed7953"
             ],
             [
              0.7777777777777778,
              "#fb9f3a"
             ],
             [
              0.8888888888888888,
              "#fdca26"
             ],
             [
              1,
              "#f0f921"
             ]
            ],
            "type": "histogram2dcontour"
           }
          ],
          "mesh3d": [
           {
            "colorbar": {
             "outlinewidth": 0,
             "ticks": ""
            },
            "type": "mesh3d"
           }
          ],
          "parcoords": [
           {
            "line": {
             "colorbar": {
              "outlinewidth": 0,
              "ticks": ""
             }
            },
            "type": "parcoords"
           }
          ],
          "pie": [
           {
            "automargin": true,
            "type": "pie"
           }
          ],
          "scatter": [
           {
            "fillpattern": {
             "fillmode": "overlay",
             "size": 10,
             "solidity": 0.2
            },
            "type": "scatter"
           }
          ],
          "scatter3d": [
           {
            "line": {
             "colorbar": {
              "outlinewidth": 0,
              "ticks": ""
             }
            },
            "marker": {
             "colorbar": {
              "outlinewidth": 0,
              "ticks": ""
             }
            },
            "type": "scatter3d"
           }
          ],
          "scattercarpet": [
           {
            "marker": {
             "colorbar": {
              "outlinewidth": 0,
              "ticks": ""
             }
            },
            "type": "scattercarpet"
           }
          ],
          "scattergeo": [
           {
            "marker": {
             "colorbar": {
              "outlinewidth": 0,
              "ticks": ""
             }
            },
            "type": "scattergeo"
           }
          ],
          "scattergl": [
           {
            "marker": {
             "colorbar": {
              "outlinewidth": 0,
              "ticks": ""
             }
            },
            "type": "scattergl"
           }
          ],
          "scattermapbox": [
           {
            "marker": {
             "colorbar": {
              "outlinewidth": 0,
              "ticks": ""
             }
            },
            "type": "scattermapbox"
           }
          ],
          "scatterpolar": [
           {
            "marker": {
             "colorbar": {
              "outlinewidth": 0,
              "ticks": ""
             }
            },
            "type": "scatterpolar"
           }
          ],
          "scatterpolargl": [
           {
            "marker": {
             "colorbar": {
              "outlinewidth": 0,
              "ticks": ""
             }
            },
            "type": "scatterpolargl"
           }
          ],
          "scatterternary": [
           {
            "marker": {
             "colorbar": {
              "outlinewidth": 0,
              "ticks": ""
             }
            },
            "type": "scatterternary"
           }
          ],
          "surface": [
           {
            "colorbar": {
             "outlinewidth": 0,
             "ticks": ""
            },
            "colorscale": [
             [
              0,
              "#0d0887"
             ],
             [
              0.1111111111111111,
              "#46039f"
             ],
             [
              0.2222222222222222,
              "#7201a8"
             ],
             [
              0.3333333333333333,
              "#9c179e"
             ],
             [
              0.4444444444444444,
              "#bd3786"
             ],
             [
              0.5555555555555556,
              "#d8576b"
             ],
             [
              0.6666666666666666,
              "#ed7953"
             ],
             [
              0.7777777777777778,
              "#fb9f3a"
             ],
             [
              0.8888888888888888,
              "#fdca26"
             ],
             [
              1,
              "#f0f921"
             ]
            ],
            "type": "surface"
           }
          ],
          "table": [
           {
            "cells": {
             "fill": {
              "color": "#EBF0F8"
             },
             "line": {
              "color": "white"
             }
            },
            "header": {
             "fill": {
              "color": "#C8D4E3"
             },
             "line": {
              "color": "white"
             }
            },
            "type": "table"
           }
          ]
         },
         "layout": {
          "annotationdefaults": {
           "arrowcolor": "#2a3f5f",
           "arrowhead": 0,
           "arrowwidth": 1
          },
          "autotypenumbers": "strict",
          "coloraxis": {
           "colorbar": {
            "outlinewidth": 0,
            "ticks": ""
           }
          },
          "colorscale": {
           "diverging": [
            [
             0,
             "#8e0152"
            ],
            [
             0.1,
             "#c51b7d"
            ],
            [
             0.2,
             "#de77ae"
            ],
            [
             0.3,
             "#f1b6da"
            ],
            [
             0.4,
             "#fde0ef"
            ],
            [
             0.5,
             "#f7f7f7"
            ],
            [
             0.6,
             "#e6f5d0"
            ],
            [
             0.7,
             "#b8e186"
            ],
            [
             0.8,
             "#7fbc41"
            ],
            [
             0.9,
             "#4d9221"
            ],
            [
             1,
             "#276419"
            ]
           ],
           "sequential": [
            [
             0,
             "#0d0887"
            ],
            [
             0.1111111111111111,
             "#46039f"
            ],
            [
             0.2222222222222222,
             "#7201a8"
            ],
            [
             0.3333333333333333,
             "#9c179e"
            ],
            [
             0.4444444444444444,
             "#bd3786"
            ],
            [
             0.5555555555555556,
             "#d8576b"
            ],
            [
             0.6666666666666666,
             "#ed7953"
            ],
            [
             0.7777777777777778,
             "#fb9f3a"
            ],
            [
             0.8888888888888888,
             "#fdca26"
            ],
            [
             1,
             "#f0f921"
            ]
           ],
           "sequentialminus": [
            [
             0,
             "#0d0887"
            ],
            [
             0.1111111111111111,
             "#46039f"
            ],
            [
             0.2222222222222222,
             "#7201a8"
            ],
            [
             0.3333333333333333,
             "#9c179e"
            ],
            [
             0.4444444444444444,
             "#bd3786"
            ],
            [
             0.5555555555555556,
             "#d8576b"
            ],
            [
             0.6666666666666666,
             "#ed7953"
            ],
            [
             0.7777777777777778,
             "#fb9f3a"
            ],
            [
             0.8888888888888888,
             "#fdca26"
            ],
            [
             1,
             "#f0f921"
            ]
           ]
          },
          "colorway": [
           "#636efa",
           "#EF553B",
           "#00cc96",
           "#ab63fa",
           "#FFA15A",
           "#19d3f3",
           "#FF6692",
           "#B6E880",
           "#FF97FF",
           "#FECB52"
          ],
          "font": {
           "color": "#2a3f5f"
          },
          "geo": {
           "bgcolor": "white",
           "lakecolor": "white",
           "landcolor": "#E5ECF6",
           "showlakes": true,
           "showland": true,
           "subunitcolor": "white"
          },
          "hoverlabel": {
           "align": "left"
          },
          "hovermode": "closest",
          "mapbox": {
           "style": "light"
          },
          "paper_bgcolor": "white",
          "plot_bgcolor": "#E5ECF6",
          "polar": {
           "angularaxis": {
            "gridcolor": "white",
            "linecolor": "white",
            "ticks": ""
           },
           "bgcolor": "#E5ECF6",
           "radialaxis": {
            "gridcolor": "white",
            "linecolor": "white",
            "ticks": ""
           }
          },
          "scene": {
           "xaxis": {
            "backgroundcolor": "#E5ECF6",
            "gridcolor": "white",
            "gridwidth": 2,
            "linecolor": "white",
            "showbackground": true,
            "ticks": "",
            "zerolinecolor": "white"
           },
           "yaxis": {
            "backgroundcolor": "#E5ECF6",
            "gridcolor": "white",
            "gridwidth": 2,
            "linecolor": "white",
            "showbackground": true,
            "ticks": "",
            "zerolinecolor": "white"
           },
           "zaxis": {
            "backgroundcolor": "#E5ECF6",
            "gridcolor": "white",
            "gridwidth": 2,
            "linecolor": "white",
            "showbackground": true,
            "ticks": "",
            "zerolinecolor": "white"
           }
          },
          "shapedefaults": {
           "line": {
            "color": "#2a3f5f"
           }
          },
          "ternary": {
           "aaxis": {
            "gridcolor": "white",
            "linecolor": "white",
            "ticks": ""
           },
           "baxis": {
            "gridcolor": "white",
            "linecolor": "white",
            "ticks": ""
           },
           "bgcolor": "#E5ECF6",
           "caxis": {
            "gridcolor": "white",
            "linecolor": "white",
            "ticks": ""
           }
          },
          "title": {
           "x": 0.05
          },
          "xaxis": {
           "automargin": true,
           "gridcolor": "white",
           "linecolor": "white",
           "ticks": "",
           "title": {
            "standoff": 15
           },
           "zerolinecolor": "white",
           "zerolinewidth": 2
          },
          "yaxis": {
           "automargin": true,
           "gridcolor": "white",
           "linecolor": "white",
           "ticks": "",
           "title": {
            "standoff": 15
           },
           "zerolinecolor": "white",
           "zerolinewidth": 2
          }
         }
        },
        "width": 800,
        "xaxis": {
         "autorange": true,
         "domain": [
          0,
          1
         ],
         "range": [
          -0.3298035919070931,
          0.3701964080929069
         ],
         "scaleanchor": "y",
         "scaleratio": 1,
         "showgrid": false,
         "showticklabels": false,
         "title": {
          "text": ""
         },
         "type": "linear",
         "zeroline": true,
         "zerolinecolor": "white",
         "zerolinewidth": 2
        },
        "yaxis": {
         "autorange": true,
         "domain": [
          0,
          1
         ],
         "range": [
          -0.35000000000000003,
          0.35000000000000003
         ],
         "scaleanchor": "x",
         "scaleratio": 1,
         "showgrid": false,
         "showticklabels": false,
         "title": {
          "text": ""
         },
         "type": "linear",
         "zeroline": true,
         "zerolinecolor": "white",
         "zerolinewidth": 2
        }
       }
      },
      "image/png": "[encoded data removed]",
      "text/html": [
       "<div>                            <div id=\"a1fbe4fb-607a-4e21-86cd-5fa09dccd117\" class=\"plotly-graph-div\" style=\"height:800px; width:800px;\"></div>            <script type=\"text/javascript\">                require([\"plotly\"], function(Plotly) {                    window.PLOTLYENV=window.PLOTLYENV || {};                                    if (document.getElementById(\"a1fbe4fb-607a-4e21-86cd-5fa09dccd117\")) {                    Plotly.newPlot(                        \"a1fbe4fb-607a-4e21-86cd-5fa09dccd117\",                        [{\"colorscale\":[[0.0,\"rgb(16, 31, 63)\"],[0.09090909090909091,\"rgb(38, 62, 144)\"],[0.18181818181818182,\"rgb(30, 110, 161)\"],[0.2727272727272727,\"rgb(60, 154, 171)\"],[0.36363636363636365,\"rgb(140, 193, 186)\"],[0.45454545454545453,\"rgb(217, 229, 218)\"],[0.5454545454545454,\"rgb(239, 226, 156)\"],[0.6363636363636364,\"rgb(195, 182, 59)\"],[0.7272727272727273,\"rgb(115, 152, 5)\"],[0.8181818181818182,\"rgb(34, 120, 36)\"],[0.9090909090909091,\"rgb(18, 78, 43)\"],[1.0,\"rgb(23, 35, 18)\"]],\"showscale\":false,\"x\":[0.08365053981279558,0.07317735456624519,0.1797352296908954,0.10208328379346325,0.05074791573970583,-0.14591243744696963,0.03229138967004122,0.05502216335568763,0.028552760715291024,0.025704180504235626,-0.009738019733210174,0.10367875557706321,0.13281189987769987,0.15513495088169413,0.06404114838649692,0.037463567224860245,-0.14408091255111122,-0.19387187174163834,-0.08604809009283292,0.07118210545763501,0.0053723819392616085,-0.023719218666661657,0.10713876403318379,0.16587962887469176,0.10361676960248187,0.09570424184041182,0.1719938775652807,0.12342783593401754,-0.013960776141130962,-0.06344952188144298,-0.12436859035002147,0.006454277731290026,-0.1695785042780661,-0.08652344238235173,0.15953942457395937,0.057168073341137604,0.025765122189843535,-0.047591681407435756,0.13925056978985667,-0.10438001262451724,-0.055485320086730384,0.14732180506131703,-0.11925936304306262,-0.06278884501178042,-0.0428545749824193,-0.15508429412406666,0.08413041154365694,0.08808773808135667,0.07385171745132546,-0.018688519064247126,0.004361009590027443,0.16582055692137224,0.024165296185880463,0.04592232351530598,0.11167111193495279,0.05944030793103984,-0.11731371571797294,-0.10224452940578788,0.07057516055181941,-0.036146269782448615,-0.00370202160510303,-0.07233548518018905,-0.01960552633904771,0.14858184891893472,0.015529491734633256,-0.11107287881399575,-0.0012760485927281184,0.10737156056975661,0.15772668560805617,-0.020026820733627167,-0.007822312753365618,-0.01922078413903011,0.002851131036483219,-0.10617562392030422,0.03018446923053401,0.06896417475091046,-0.05266096147951783,0.13381718432568027,-0.0499772879524262,-0.05350979039959788,0.02770689467417161,0.1150665778397887,0.07365217871753965,0.09795184294039436,-0.015523501555184591,0.019619118980890648,-0.11941268386755788,-0.1010748444416575,-0.10627450510021727,-0.15729619816920956,-0.024387487986964863,0.08177247435237078,-0.034593734327359106,-0.007498850024384879,-0.05781103919807298,-0.1267381243299032,-0.08686774085452095,0.13821634907509955,0.08906893886327702,-0.07073209457873195,-0.01818969579245245,0.07533990477130147,0.01922160774730138,-0.1366086278529018,0.012197723597152488,0.009288076484772263,0.010123146346396442,0.02136498695977288,-0.11742201266414964,0.10620541972263065,0.07981256953243648,-0.0019950423880649715,-0.06555666613531574,0.054199082428675605,0.09870394501726279,-0.036762916036452306,-0.0026380308492363266,0.09776043916761111,-0.1991752025651542,-0.06898793153562668,0.04036873689874732,0.022419380574180997,-0.01745788669988689,-0.0557258515132867,0.038025092385697935,0.12997871148467363,0.06567462547924872,-0.0659382236423736,-0.10177302554481162,0.010192585327027343,-0.1203164207793238,0.0677981859393087,-0.09666770408527525,-0.008515485512320752,-0.015918649713477034,0.10283422396403388,-0.11824491836284681,-0.09935529091125009,0.167653325440623,0.07782477541036102,0.14612008052458092,-0.07978249820484495,0.11625146439185327,-0.03681873973158226,0.09037112102496542,-0.053740865203506585,0.10730522158695643,-0.1292312786120054,-0.02574328147010673,0.07820154811522477,-0.006338804352543382,0.09470538247820175,0.051968343160237546,0.11959386083300616,0.19036098011045924,-0.04781308556568825,-0.09901738399748365,-0.04946692392725911,0.08723213624230634,-0.012214290889439997,0.08195247356283458,0.10817371059539932,0.025125051780987465,-0.025204826454106606,0.11785291383910532,0.06250220180618848,-0.0018676654513163117,-0.19038873884489188,0.10150351950873276,-0.11487072758485778,0.12794789327994516,-0.06926213794845124,0.06098555217546048,-0.07578278213157849,-0.16643820935878487,0.02780543275578086,0.054944633748194305,0.15174548166672255,-0.11684648397704403,-0.05828489693243953,-0.009342275219754073,0.01186698596723382,0.031112208634858998,-0.0942394944218605,-0.10061047157663776,-0.08499835732439036,-0.14953260344956962,-0.041975124420503426,-0.08847901528723662,-0.059951181579961134,0.1865761341600419,-0.013769041369492224,-0.08736219069736842,0.02485806874138627,0.01887123474332456,0.03509877749237275,-0.10555373410319628,0.04352125521981097,-0.10667134993794028,-0.04865091183350763,-0.09236538244720842,0.09657342160859929,0.04209437156711096,-0.011182684627622282,-0.10546027272189551,0.032329681120846526,0.12811473090399172,-0.039239633548062716,0.09712273924234216,0.10875578091764106,0.11829839621447776,0.0962094740280418,0.09840341149605342,0.10703251852109824,-0.03681111323725585,-0.012846759348621367,-0.1288117559862806,0.13979990390362013,0.08465784399756031,-0.08113901115828973,-0.06136268504284419,-0.005271273167367793,0.09627034941374193,-0.004196042532336849,0.12441064332321335,0.014932727780168114,-0.11172253359035011,0.05626397899933573,-0.0442111858619349,-0.10413633783306633,-0.0615128929355127],\"y\":[0.1517658766819391,0.07558267475221864,0.019095317844051794,0.11943230726340552,-0.16614982512297896,0.07566870370194767,-0.22889002702123995,0.08690538604423304,0.09638721194021092,0.09328595870548857,0.13328303989269008,0.011640023794304968,0.052859099914316546,0.10265379983194535,0.12629098020722204,0.19363283372835108,0.02264825613943621,0.005955327482629287,0.0419348615673783,0.09079656062944738,0.12080054757083543,0.15091778133677758,0.10232724619864489,0.010386100684924059,0.07649113692170845,0.05508659071464524,0.031005874346722126,0.1607961615226884,0.15903465271836992,0.10924325048324826,0.11234116208449832,0.15319943935825112,0.06783866317076866,0.14426537031928918,0.028481059891781443,0.10233024310186618,0.10506296772692945,0.19598087930623126,0.0467999973579285,0.04873840564952575,0.18397225205161905,-0.010179290024739114,-0.07056618418521962,0.12994835400208282,0.16316702458903,0.19004134246863613,0.05920382174895846,0.0720313563369292,0.11078230482328634,0.10923264923294465,0.09947440459300093,0.022593851901311177,0.14193201889983553,0.1948513301250336,0.053534726728659485,-0.2156368200828545,0.0202804786421521,-0.12271506081376622,0.06956337816114219,0.18926936011187312,-0.2209836607879366,0.06778608085247315,-0.2533773764161493,0.03582274954539633,0.11243888416487179,0.08823230786174663,-0.13376203301795278,0.0031681657744088865,0.06518417627359874,0.13470756749583473,-0.17753001229832951,0.11381549964576648,0.10320437965953246,-0.008828050578624574,0.09505115064478936,0.11255756462618721,-0.10802073317624555,0.013347975931404788,0.08979593403679619,0.14621074527410577,0.10486706628048392,0.05851631432244802,0.06739948578732265,0.035111373778825686,-0.09399774629060284,0.11866051367289186,0.03521493879442664,-0.11734812704282109,0.025386765040117196,0.04946880345334402,0.17380429577536105,0.05009274499840697,-0.1658130379096494,0.17113174318066754,0.0795214766562952,0.06274666620042757,0.06639176427864556,-0.0036439274644330553,-0.05464950881158731,0.08916473199357491,0.16620072787693474,0.07014242202175572,0.09835913637844262,0.011796832993369186,0.11825256768885753,0.09693599555875276,0.10307290741522421,0.14695408637234245,-0.0069690995462020535,0.12290342529440507,0.1576662548237052,0.12798973543987174,0.07151905803505604,-0.13187727102840208,0.006750261504024865,0.10447264985136279,0.1235180773261321,0.14044029086341475,0.04494934543796424,0.1641829402700139,0.12129168389262657,0.10309380826192238,0.1346357925794987,0.10858077718473463,0.12258577762412956,0.0025599732722537266,0.1319827599930511,0.08889576797825385,0.14584687345840328,0.12706668337517013,-0.010873878878148925,0.09772612895743438,-0.13885565058407767,-0.1060161683375645,-0.12524943676899974,0.036493953809072374,0.03200557280137995,0.05348686258299245,0.06986178853010828,-0.22283574603273276,-0.016686224175700495,-0.15541647695581534,0.03703677722004023,0.09387220712860067,0.11004503169453438,-0.2962758784697113,-0.008971497272293983,0.07036005658027894,0.11455950609788086,0.16140215345364683,-0.1677010676187192,0.09142864441033811,0.10211639004712939,0.0100437283465408,0.07963469281774119,0.091295907346788,0.045986664281422056,0.12391942679630774,0.08043003807846859,-0.18004343536692097,0.06072258874876063,-0.025123476500848178,0.10853971752640196,-0.26740633190184815,-0.041653947160315244,0.1090975727556619,0.17292448943767424,0.07799209667569802,0.01996218474034325,0.08417105184300719,0.024987190259737543,0.10917277176729367,-0.1443959786626468,0.17011563481590622,-0.029684662034764976,0.1714236034394097,0.1438048871547876,0.01048736268708883,-0.004567984344436282,0.08039326464102745,0.09491613639353202,0.10269366389891252,0.09915687649489466,-0.04939781341991545,-0.008777886519864874,0.0713204658560338,-0.06663970708195953,0.20128429777840814,0.16293870743666544,-0.1773864137418453,-0.02025197441761147,0.1695234604472393,0.06643074760665756,-0.22764352246333638,0.1551539486090679,0.10032803641603946,0.1808587181784212,0.14171434000877253,-0.04858269635099797,0.09194562415596683,0.06142270839048927,0.0018477970525973076,0.1511560100956889,0.09494989937867146,0.1321780374002534,0.17439996839754857,0.08897733924864448,0.13282352914797044,0.012523019629777976,0.004760465826037591,0.030465151797680588,0.09719091437333316,0.14392385137807967,0.003356599767078486,0.1635854760541981,0.0982954984127101,0.07320658548056992,0.022304925042531003,0.08354310800513709,0.08855503827177334,-0.10227683736493445,0.14415947045864108,0.043475170437143544,0.21516693742302706,0.10416024699777068,0.13046097322892802,0.013501821962502637,-0.1097863384622783,0.14392258970527758,0.026962680830049445,0.08085044198919768],\"type\":\"histogram2dcontour\"},{\"customdata\":[[\"cruz really seems out of his element in new hampshire\\u003cbr\\u003eit is such a different battlefield then iowa and the\\u003cbr\\u003esouth\\u003cbr\\u003e\"],[\"i am right about amazon costing the united states post\\u003cbr\\u003eoffice massive amounts of money for being their delivery boy\\u003cbr\\u003eamazon should pay these costs plus and not have them\\u003cbr\\u003ebourne by the american taxpayer many billions of dollars p\\u003cbr\\u003eo leaders don t have a clue or do they\\u003cbr\\u003e\"],[\"and add to that the fact that the u s\\u003cbr\\u003epays close to the entire cost of nato protecting many\\u003cbr\\u003eof these same countries that rip us off on trade\\u003cbr\\u003ethey pay only a fraction of the cost and laugh\\u003cbr\\u003ethe european union had a 151 billion surplus should pay\\u003cbr\\u003emuch more for military\\u003cbr\\u003e\"],[\"the dealmaker is cunning secretive focused and never settles for\\u003cbr\\u003eless than he wants the america we deserve\\u003cbr\\u003e\"],[\"statement from white house sarah sanders com me73hsi6rl\\u003cbr\\u003e\"],[\"last week s boardroom was truly epic and the dust\\u003cbr\\u003ehasn t settled yet\\u003cbr\\u003e\"],[\"dianne is the person leading our nation on collusion with\\u003cbr\\u003erussia only done by dems will she now investigate herself\\u003cbr\\u003e\"],[\"rapidly failing magazine hits me for my strong stance against\\u003cbr\\u003eobama s brilliant 5 killers for 1 deserter trade amazing\\u003cbr\\u003e\"],[\"why in the world didn t barack obama fire this\\u003cbr\\u003eguy comey asks mark levin\\u003cbr\\u003e\"],[\"wrong built world s best golf course that is doing\\u003cbr\\u003egreat\\u003cbr\\u003e\"],[\"nevada poll donald trump 33 ted cruz 20 marco rubio\\u003cbr\\u003e11 via great news\\u003cbr\\u003e\"],[\"we defeated 100 of the isis caliphate and no longer\\u003cbr\\u003ehave any troops in the area under attack by turkey\\u003cbr\\u003ein syria we did our job perfectly now turkey is\\u003cbr\\u003eattacking the kurds who have been fighting each other for\\u003cbr\\u003e200 years\\u003cbr\\u003e\"],[\"the supercommittee is a disaster the republicans made a crucial\\u003cbr\\u003emistake agreeing to this debt deal they hat cont\\u003cbr\\u003e\"],[\"how do you impeach a president who has created the\\u003cbr\\u003egreatest economy in the history of our country entirely rebuilt\\u003cbr\\u003eour military into the most powerful it has ever been\\u003cbr\\u003ecut record taxes regulations fixed the va gotten choice for\\u003cbr\\u003eour vets after 45 years so much more\\u003cbr\\u003e\"],[\"what s wrong with everyone mr trump will kick ass\\u003cbr\\u003eas president economy will flourish thanks and true\\u003cbr\\u003e\"],[\"geraldo looks happy they lost bc he wasn t project\\u003cbr\\u003emanager\\u003cbr\\u003e\"],[\"praying that you have a productive day give god thanks\\u003cbr\\u003ehe gave you the ability to succeed thank you\\u003cbr\\u003e\"],[\"thank you for the nice words this morning well delivered\\u003cbr\\u003eand totally logical\\u003cbr\\u003e\"],[\"getting ready for the big news conference in dubai it\\u003cbr\\u003eshould all be happening in the u s but it\\u003cbr\\u003eisn t sad\\u003cbr\\u003e\"],[\"your all time favorite president got tired of waiting for\\u003cbr\\u003echina to help out and start buying from our farmers\\u003cbr\\u003ethe greatest anywhere in the world\\u003cbr\\u003e\"],[\"just had a long and very good conversation by phone\\u003cbr\\u003ewith president xi of china he is strong sharp and\\u003cbr\\u003epowerfully focused on leading the counterattack on the coronavirus he\\u003cbr\\u003efeels they are doing very well even building hospitals in\\u003cbr\\u003ea matter of only days nothing is easy but\\u003cbr\\u003e\"],[\"after watching all about the horror story that is a\\u003cbr\\u003erod i realized again that it is time to let\\u003cbr\\u003epete rose into the baseball hall of fame\\u003cbr\\u003e\"],[\"via by trump says u s brand has lost its\\u003cbr\\u003eluster\\u003cbr\\u003e\"],[\"we had repeal replace done and the saving to our\\u003cbr\\u003ecountry of one trillion dollars except for one person but\\u003cbr\\u003eit is getting done anyway individual mandate is gone and\\u003cbr\\u003egreat less expensive plans will be announced this month drug\\u003cbr\\u003eprices coming down right to try\\u003cbr\\u003e\"],[\"failure for all of s talk of engaging the world\\u003cbr\\u003eu s favorability has dropped around the world\\u003cbr\\u003e\"],[\"fox calls virginia for trump if it holds it s\\u003cbr\\u003ea big win for trump and a big setback for\\u003cbr\\u003erubio who needed to win the state\\u003cbr\\u003e\"],[\"obama and republicans are hollowing out our military now want\\u003cbr\\u003eto cut troop levels lowest level in over 20 years\\u003cbr\\u003e\"],[\"president obama is losing on so many fronts in fact\\u003cbr\\u003eall fronts that i am concerned he will do something\\u003cbr\\u003etotally irrational he can t lead\\u003cbr\\u003e\"],[\"mr whitaker is very highly thought of by senator ambassador\\u003cbr\\u003eleonard leo of federalist society and many more i feel\\u003cbr\\u003ecertain he will make an outstanding acting attorney general\\u003cbr\\u003e\"],[\"mr speaker bring the balanced budget amendment to the floor\\u003cbr\\u003efor a vote let s get the ball rolling\\u003cbr\\u003e\"],[\"the most important thing in communication is hearing what isn\\u003cbr\\u003et said peter drucker\\u003cbr\\u003e\"],[\"i have spread out my son s shots over the\\u003cbr\\u003epast 5 years he is fully vaccinated and ready for\\u003cbr\\u003ekindergarten in september great\\u003cbr\\u003e\"],[\"just watched your als ice bucket challenge big respect to\\u003cbr\\u003eyou thank you\\u003cbr\\u003e\"],[\"a rod s appeal will go nowhere he will get\\u003cbr\\u003ea long suspension good for the and sends strong message\\u003cbr\\u003eto players\\u003cbr\\u003e\"],[\"so far you ve had tariffs imposed on 300 billion\\u003cbr\\u003edollars worth of chinese products but you can t tell\\u003cbr\\u003eme that it has hurt our economy it really hasn\\u003cbr\\u003et led to any kind of serious rise in prices\\u003cbr\\u003eat the consumer level and we are taking in billions\\u003cbr\\u003e\"],[\"trump is right we are dealing with zealots animals and\\u003cbr\\u003eamateurs wake up no deal walk and walk fast\\u003cbr\\u003e\"],[\"great book just out by very successful businessman always known\\u003cbr\\u003eas somebody who knows how to win capitalist comeback will\\u003cbr\\u003ebe a big hit\\u003cbr\\u003e\"],[\"irrelevant clown sweats and shakes nervously on as he talks\\u003cbr\\u003ebull about me has zero cred made fool of himself\\u003cbr\\u003ein 12\\u003cbr\\u003e\"],[\"speaking of our very stupid war with iraq it is\\u003cbr\\u003etotally disintegrating and iran with russia will walk in and\\u003cbr\\u003etake it over lots of oil\\u003cbr\\u003e\"],[\"you scored a 10 on thanks for keeping it real\\u003cbr\\u003e\"],[\"is playing great tennis in this us open i am\\u003cbr\\u003epulling for him today\\u003cbr\\u003e\"],[\"by self funding my campaign i am not controlled by\\u003cbr\\u003emy donors special interests or lobbyists i am only working\\u003cbr\\u003efor the people of the u s\\u003cbr\\u003e\"],[\"who will be the next find out this saturday at\\u003cbr\\u003e8pm et on missteenusa com\\u003cbr\\u003e\"],[\"think weiner will move to a state that doesn t\\u003cbr\\u003eknow him he should move better for him to make\\u003cbr\\u003ea new start\\u003cbr\\u003e\"],[\"so sad that elijah cummings has been able to do\\u003cbr\\u003eso little for the people of baltimore statistically baltimore ranks\\u003cbr\\u003elast in almost every major category cummings has done nothing\\u003cbr\\u003ebut milk baltimore dry but the public is getting wise\\u003cbr\\u003eto the bad job that he is doing\\u003cbr\\u003e\"],[\"that man is a pillar of strength and will be\\u003cbr\\u003eperfect as our next president\\u003cbr\\u003e\"],[\"florida power light did a fantastic job of providing service\\u003cbr\\u003eenergy during the big storm in palm beach\\u003cbr\\u003e\"],[\"why would the uschamber be upset by the fact that\\u003cbr\\u003ei want to negotiate better and stronger trade deals or\\u003cbr\\u003ethat i want penalties for cheaters\\u003cbr\\u003e\"],[\"that was really exciting made all of my points make\\u003cbr\\u003eamerica great again\\u003cbr\\u003e\"],[\"it would be very frightening to have president who has\\u003cbr\\u003eactually accomplished something during their life\\u003cbr\\u003e\"],[\"via by mboyle1 exclusive donald trump confirmed to speak at\\u003cbr\\u003e\"],[\"we re singlehandedly transferring hundreds of billions of dollars a\\u003cbr\\u003eyear\\u003cbr\\u003e\"],[\"playing trump ferry point this morning looking forward to it\\u003cbr\\u003ehave a great time\\u003cbr\\u003e\"],[\"he knows he won t have to spend much has\\u003cbr\\u003eoffered to match any donation dollar for dollar\\u003cbr\\u003e\"],[\"for the first time in history police organizations national security\\u003cbr\\u003eorganizations were used to spy on a campaign there was\\u003cbr\\u003eno basis for it the media largely drove that claims\\u003cbr\\u003ewere made that could have affected the election of the\\u003cbr\\u003epresident a g bill barr\\u003cbr\\u003e\"],[\"my 10 yr old daughter watches over disney channel\\u003cbr\\u003e\"],[\"so excited for thank you for creating such an amazing\\u003cbr\\u003eshow enjoy it thanks\\u003cbr\\u003e\"],[\"important will hold a hearing on oct 1w usmc sgt\\u003cbr\\u003etahmooressi s mother wife\\u003cbr\\u003e\"],[\"watching the returns at 9 45pm com hfujerzbod bei trump\\u003cbr\\u003etower\\u003cbr\\u003e\"],[\"i hope everyone read the brilliant article in american spectator\\u003cbr\\u003eabout leightweight a g eric schneiderman he should be run\\u003cbr\\u003eout of office\\u003cbr\\u003e\"],[\"hillary is the most corrupt person to ever run for\\u003cbr\\u003ethe presidency of the united states com xa3yo8yzcq\\u003cbr\\u003e\"],[\"on behalf of our entire nation congratulations to the incredible\\u003cbr\\u003ewest point class of 2020 com mxbxmrdbbp\\u003cbr\\u003e\"],[\"heading over to the miss usa pageant the young women\\u003cbr\\u003eparticipating are amazing and accomplished competition is very tough enjoy\\u003cbr\\u003ethe show\\u003cbr\\u003e\"],[\"as i have said for a long time dealing with\\u003cbr\\u003echina is a very expensive thing to do we just\\u003cbr\\u003emade a great trade deal the ink was barely dry\\u003cbr\\u003eand the world was hit by the plague from china\\u003cbr\\u003e100 trade deals wouldn t make up the difference and\\u003cbr\\u003eall those innocent lives lost\\u003cbr\\u003e\"],[\"daca has been made increasingly difficult by the fact that\\u003cbr\\u003ecryin chuck schumer took such a beating over the shutdown\\u003cbr\\u003ethat he is unable to act on immigration\\u003cbr\\u003e\"],[\"mariano rivera is greatest closer of all time a leader\\u003cbr\\u003ein the club house an exceptional man one of the\\u003cbr\\u003ebest in history\\u003cbr\\u003e\"],[\"see sanders backed hillary on e mails at the debate\\u003cbr\\u003ehurting himself and then she threw him under the bus\\u003cbr\\u003ebut failed disloyal person\\u003cbr\\u003e\"],[\"of additional goods sent to us by china remain untaxed\\u003cbr\\u003ebut will be shortly at a rate of 25 the\\u003cbr\\u003etariffs paid to the usa have had little impact on\\u003cbr\\u003eproduct cost mostly borne by china the trade deal with\\u003cbr\\u003echina continues but too slowly as they attempt to renegotiate\\u003cbr\\u003eno\\u003cbr\\u003e\"],[\"defund it or own it if you fund it you\\u003cbr\\u003ere for it\\u003cbr\\u003e\"],[\"ted cruz does not have the right temperment to be\\u003cbr\\u003epresident look at the way he totally panicked in firing\\u003cbr\\u003ehis director of comm bad\\u003cbr\\u003e\"],[\"look at the way crooked hillary is handling the e\\u003cbr\\u003email case and the total mess she is in she\\u003cbr\\u003eis unfit to be president bad judgement\\u003cbr\\u003e\"],[\"don trump is gods gift to america thanks bob\\u003cbr\\u003e\"],[\"after watching the roast of you i can confirm you\\u003cbr\\u003eare ready to be president it was fun thanks\\u003cbr\\u003e\"],[\"pls hlp sign rt ned 10k signatures stacey7 has cancer\\u003cbr\\u003every ill in hosp http\\u003cbr\\u003e\"],[\"vote for a no bs president and let s make\\u003cbr\\u003eamerica the greatest country again\\u003cbr\\u003e\"],[\"we are becoming a third world country because of jerks\\u003cbr\\u003elike him great\\u003cbr\\u003e\"],[\"nancy pelosi and fake tears chuck schumer held a rally\\u003cbr\\u003eat the steps of the supreme court and mic did\\u003cbr\\u003enot work a mess just like dem party\\u003cbr\\u003e\"],[\"the debt is our nation s greatest threat is out\\u003cbr\\u003eof touch\\u003cbr\\u003e\"],[\"isis would already be on ice if was the president\\u003cbr\\u003ewe need you sir\\u003cbr\\u003e\"],[\"trump has no problem telling it how it is isn\\u003cbr\\u003et that what everyone has been wanting from a president\\u003cbr\\u003e\"],[\"senator of the great state of alaska really let the\\u003cbr\\u003erepublicans and our country down yesterday too bad\\u003cbr\\u003e\"],[\"how long do you think the united states will take\\u003cbr\\u003eto recover from our current administration a long time unless\\u003cbr\\u003ei become pres\\u003cbr\\u003e\"],[\"it was a 3 day train ride to vietnam not\\u003cbr\\u003e3 hours\\u003cbr\\u003e\"],[\"our southern border is under siege congress must act now\\u003cbr\\u003eto change our weak and ineffective immigration laws must build\\u003cbr\\u003ea wall mexico which has a massive crime problem is\\u003cbr\\u003edoing little to help\\u003cbr\\u003e\"],[\"i d rather have on my side than a few\\u003cbr\\u003ewhiney housewives\\u003cbr\\u003e\"],[\"once again the bush appointed supreme court justice john roberts\\u003cbr\\u003ehas let us down jeb pushed him hard remember\\u003cbr\\u003e\"],[\"so nice when media properly polices media thank you\\u003cbr\\u003e\"],[\"remembering your generosity to so many after thank you marlena\\u003cbr\\u003e\"],[\"there are a lot of criminals in the caravan we\\u003cbr\\u003ewill stop them catch and detain judicial activism by people\\u003cbr\\u003ewho know nothing about security and the safety of our\\u003cbr\\u003ecitizens is putting our country in great danger not good\\u003cbr\\u003e\"],[\"thanks to leader mcconnell for agreeing to bring a senate\\u003cbr\\u003evote on criminal justice this week these historic changes will\\u003cbr\\u003emake communities safer and save tremendous taxpayers dollars it brings\\u003cbr\\u003emuch needed hope to many families during the holiday season\\u003cbr\\u003e\"],[\"has not responded not a word his lawyers must have\\u003cbr\\u003etold him to shut up\\u003cbr\\u003e\"],[\"stay on message is the chant i always do trade\\u003cbr\\u003ejobs military vets 2nd a repeal ocare borders etc but\\u003cbr\\u003emedia misrepresents\\u003cbr\\u003e\"],[\"a vicious accuser of justice kavanaugh has just admitted that\\u003cbr\\u003eshe was lying her story was totally made up or\\u003cbr\\u003efake can you imagine if he didn t become a\\u003cbr\\u003ejustice of the supreme court because of her disgusting false\\u003cbr\\u003estatements what about the others where are the dems on\\u003cbr\\u003ethis\\u003cbr\\u003e\"],[\"spoke with governor of north carolina today he is doing\\u003cbr\\u003ea tremendous job under tough circumstances\\u003cbr\\u003e\"],[\"so many incredible friends said thanks for tt help i\\u003cbr\\u003esay thanks to you\\u003cbr\\u003e\"],[\"together we will show the world that the forces of\\u003cbr\\u003edestruction and extremism are no match for the blessings of\\u003cbr\\u003eprosperity and peace com al6in83ewk\\u003cbr\\u003e\"],[\"i am very pleased to welcome the opioid memorial to\\u003cbr\\u003ethe president s park in april i encourage all to\\u003cbr\\u003evisit and remember those who we have lost to this\\u003cbr\\u003edeadly epidemic we will keep fighting until we defeat the\\u003cbr\\u003eopioid crisis\\u003cbr\\u003e\"],[\"the republicans must use the debt ceiling as leverage to\\u003cbr\\u003emake a great deal\\u003cbr\\u003e\"],[\"i cannot believe the republicans are extending the debt ceiling\\u003cbr\\u003ei am a republican i am embarrassed\\u003cbr\\u003e\"],[\"my understanding is tim cook lies awake most nights worrying\\u003cbr\\u003eabout what you think about their latest iphone true\\u003cbr\\u003e\"],[\"donald trump sends 25 000 to recently released sgt andrew\\u003cbr\\u003etahmooressi thank you\\u003cbr\\u003e\"],[\"donald trump is the only candidate that is incorruptible and\\u003cbr\\u003ehe will get rid off all of the incompetence ruining\\u003cbr\\u003eour country\\u003cbr\\u003e\"],[\"a market is never saturated with a good product but\\u003cbr\\u003eit is very quickly saturated with a bad one henry\\u003cbr\\u003eford\\u003cbr\\u003e\"],[\"we re not talking about religion we re talking about\\u003cbr\\u003esecurity\\u003cbr\\u003e\"],[\"mr trump we had the honor of visiting your beautiful\\u003cbr\\u003etower in chicago you own a grand building sir thank\\u003cbr\\u003e\"],[\"so true don and this was a big lie look\\u003cbr\\u003ewhat happened to friends of trump for less can t\\u003cbr\\u003elet this pass\\u003cbr\\u003e\"],[\"tim kaine has been praising the trans pacific partnership and\\u003cbr\\u003ehas been pushing hard to get it approved job killer\\u003cbr\\u003e\"],[\"after sitting in awful traffic no parking lots full we\\u003cbr\\u003egave up on car show today trump called it\\u003cbr\\u003e\"],[\"i m looking forward to staying tonight i have heard\\u003cbr\\u003ewonderful things great enjoy\\u003cbr\\u003e\"],[\"trump for president george will doesn t know business or\\u003cbr\\u003ewhat this young generation cares about\\u003cbr\\u003e\"],[\"if mitt romney were in the private sector he suffered\\u003cbr\\u003ethe horrendous loss of 2012 do you think he d\\u003cbr\\u003erehire himself for 2016 i don t\\u003cbr\\u003e\"],[\"you had a great interview with donald today i started\\u003cbr\\u003ewatching your show due to donald trump\\u003cbr\\u003e\"],[\"cleveland just made a very wise decision congrats\\u003cbr\\u003e\"],[\"the impeachment witch hunt should be over with the statement\\u003cbr\\u003emade last night by the president and foreign minister of\\u003cbr\\u003eukraine nervous nancy pelosi who should be home cleaning up\\u003cbr\\u003ethe dangerous disgusting slum she is making of her district\\u003cbr\\u003ein san francisco where even the\\u003cbr\\u003e\"],[\"i will be on fox friends tomorrow morning at 7\\u003cbr\\u003ewill be discussing basic stupidity and incompetence of which our\\u003cbr\\u003eleaders have plenty\\u003cbr\\u003e\"],[\"a great review of my aberdeen course by prestigious some\\u003cbr\\u003esay greatest ever built\\u003cbr\\u003e\"],[\"cnn tried to destroy donald trump with vaccine autism question\\u003cbr\\u003ebut he gave this amazing response\\u003cbr\\u003e\"],[\"with gas prices rising and the economy failing seeks to\\u003cbr\\u003ehave his epa raise energy prices by 109b\\u003cbr\\u003e\"],[\"i had the honor of going in to this awesome\\u003cbr\\u003ebuilding today even the restrooms are first class thanks\\u003cbr\\u003e\"],[\"he is a professional and true gentleman is one of\\u003cbr\\u003emy favorite contestants from\\u003cbr\\u003e\"],[\"damn you really like getting fired up to squash you\\u003cbr\\u003elike a bug huh he doesn t have the strength\\u003cbr\\u003e\"],[\"and the fraudulent and dishonest statements he made on wednesday\\u003cbr\\u003eno way it s time to stop this corrupt and\\u003cbr\\u003eillegally brought witch hunt time to start looking at the\\u003cbr\\u003eother side where real crimes were committed republicans have been\\u003cbr\\u003eabused long enough must end now\\u003cbr\\u003e\"],[\"every time trump is gracious enough to do a msm\\u003cbr\\u003einterview he gets ambushed with nonsensical questions why is that\\u003cbr\\u003e\"],[\"i have arrived in scotland and will be at trump\\u003cbr\\u003eturnberry for two days of meetings calls and hopefully some\\u003cbr\\u003egolf my primary form of exercise the weather is beautiful\\u003cbr\\u003eand this place is incredible tomorrow i go to helsinki\\u003cbr\\u003efor a monday meeting with vladimir putin\\u003cbr\\u003e\"],[\"the problem is that we have a president who is\\u003cbr\\u003emore concerned with pursuing some sort of bizarre ideological cont\\u003cbr\\u003e\"],[\"tens of millions of dollars in airstrikes had no impact\\u003cbr\\u003ebecause key leaders fled after hearing on news reports the\\u003cbr\\u003estrikes were coming dumb\\u003cbr\\u003e\"],[\"make our country great again trump for president\\u003cbr\\u003e\"],[\"not only do you have a great name you d\\u003cbr\\u003ewin and do a great job hug for me\\u003cbr\\u003e\"],[\"speaks the truth and is as successful as he is\\u003cbr\\u003emust be doing something right i guess so thanks\\u003cbr\\u003e\"],[\"now has decided there are 5 million palestinian refugees he\\u003cbr\\u003ealways goes against s interest\\u003cbr\\u003e\"],[\"congratulations to dana rohrabacher on his big california win we\\u003cbr\\u003eare proud of you dana\\u003cbr\\u003e\"],[\"for those on tv defending my use of the word\\u003cbr\\u003eschlonged bc is giving it false meaning tell them it\\u003cbr\\u003emeans beaten badly dishonest\\u003cbr\\u003e\"],[\"i am really happy that hillary made her speech right\\u003cbr\\u003eunder trump world tower\\u003cbr\\u003e\"],[\"is so off on iowa which i am leading big\\u003cbr\\u003ein new poll i will win iowa also i beat\\u003cbr\\u003ehillary easily\\u003cbr\\u003e\"],[\"today melania and i were honored to join thousands of\\u003cbr\\u003eleaders from across the country for the 2019 prescription drug\\u003cbr\\u003eabuse and heroin summit in atlanta georgia\\u003cbr\\u003e\"],[\"my latest piece on winning the foreign policy race\\u003cbr\\u003e\"],[\"i appreciate the gop candidates who remain strong on border\\u003cbr\\u003esecurity they know i am right a nation without borders\\u003cbr\\u003ecannot survive\\u003cbr\\u003e\"],[\"it was an honor to join you this morning thank\\u003cbr\\u003eyou\\u003cbr\\u003e\"],[\"general says that the armed forces will be severely weakened\\u003cbr\\u003eif the large scale rape and sexual abuse problem is\\u003cbr\\u003enot brought under control\\u003cbr\\u003e\"],[\"crooked s camp incited violence at my rallies these incidents\\u003cbr\\u003eweren t spontaneous like she claimed in benghazi\\u003cbr\\u003e\"],[\"america s debt crisis is our country s greatest challenge\\u003cbr\\u003espending must be curbed for our long term fiscal future\\u003cbr\\u003e\"],[\"congratulations to state representative karen whitsett of michigan so glad\\u003cbr\\u003eyou are getting better\\u003cbr\\u003e\"],[\"as i have long stated we are so tied in\\u003cbr\\u003ewith china and asia that their markets are now taking\\u003cbr\\u003ethe u s market down get smart u s a\\u003cbr\\u003e\"],[\"the kentucky derby decision was not a good one it\\u003cbr\\u003ewas a rough tumble race on a wet and sloppy\\u003cbr\\u003etrack actually a beautiful thing to watch only in these\\u003cbr\\u003edays of political correctness could such an overturn occur the\\u003cbr\\u003ebest horse did not win the kentucky derby not even\\u003cbr\\u003eclose\\u003cbr\\u003e\"],[\"why does waste airtime by putting failed campaign strategist stuart\\u003cbr\\u003estevens who lost big for romney on the show\\u003cbr\\u003e\"],[\"wow wow wow your mother was a stunning drop dead\\u003cbr\\u003egorgeous woman just like true\\u003cbr\\u003e\"],[\"many syrian rebels are radical jihadis not our friends supporting\\u003cbr\\u003ethem doesn t serve our national interest stay out of\\u003cbr\\u003esyria\\u003cbr\\u003e\"],[\"we need a big change i believe you have the\\u003cbr\\u003ebest chance and ability to do so thank you\\u003cbr\\u003e\"],[\"if dopey mark cuban of failed benefactor fame wants to\\u003cbr\\u003esit in the front row perhaps i will put gennifer\\u003cbr\\u003eflowers right alongside of him\\u003cbr\\u003e\"],[\"can t say obama doesn t know how to throw\\u003cbr\\u003ea polite war general patton would not be happy right\\u003cbr\\u003enow\\u003cbr\\u003e\"],[\"hillary wants to rip the guns out of america s\\u003cbr\\u003ehands no guns no protection get on join to stop\\u003cbr\\u003eher\\u003cbr\\u003e\"],[\"trump wants low taxes strong defense and jobs trump is\\u003cbr\\u003egood at creating jobs\\u003cbr\\u003e\"],[\"the story in the new york times regarding jim webb\\u003cbr\\u003ebeing considered as the next secretary of defense is fake\\u003cbr\\u003enews i m sure he is a fine man but\\u003cbr\\u003ei don t know jim and never met him patrick\\u003cbr\\u003eshanahan who is acting secretary of defense is doing a\\u003cbr\\u003egreat job\\u003cbr\\u003e\"],[\"no collusion no obstruction total exoneration democrat witch hunt\\u003cbr\\u003e\"],[\"repeatedly canceled the bin laden operation in january march 11\\u003cbr\\u003ewasn t a tough decision\\u003cbr\\u003e\"],[\"great article in the donald trump opens 100m golf course\\u003cbr\\u003e\"],[\"thank you to chairman kim jong un for keeping your\\u003cbr\\u003eword starting the process of sending home the remains of\\u003cbr\\u003eour great and beloved missing fallen i am not at\\u003cbr\\u003eall surprised that you took this kind action also thank\\u003cbr\\u003eyou for your nice letter l look forward to seeing\\u003cbr\\u003eyou soon\\u003cbr\\u003e\"],[\"congratulations to bernie marcus herman cain on the all employers\\u003cbr\\u003eneed to check this out\\u003cbr\\u003e\"],[\"via donald trump starts 250million overhaul on golf resort\\u003cbr\\u003e\"],[\"you date girls young enough to be your daughter that\\u003cbr\\u003es perverted dated no that s talent\\u003cbr\\u003e\"],[\"i am at camp david working on many things including\\u003cbr\\u003eiran we have a great economy tariffs have been very\\u003cbr\\u003ehelpful both with respect to the huge dollars coming in\\u003cbr\\u003eon helping to make good trade deals the dow heading\\u003cbr\\u003eto best june in 80 years stock market best june\\u003cbr\\u003ein 50 years\\u003cbr\\u003e\"],[\"historic change obama has spent over 44m of our money\\u003cbr\\u003eon travel expenses the most for any president\\u003cbr\\u003e\"],[\"obama should play golf with republicans opponents rather than his\\u003cbr\\u003esmall group of friends that way maybe the terrible gridlock\\u003cbr\\u003ewould end\\u003cbr\\u003e\"],[\"agree about rosie sad because she is very talented actually\\u003cbr\\u003eshe has got no talent at all zero\\u003cbr\\u003e\"],[\"consumer prices rose in june due to opec opec continues\\u003cbr\\u003eto rip off hard working american families daily\\u003cbr\\u003e\"],[\"the donald owes nothing to lobbyists he could restore our\\u003cbr\\u003erepublic true\\u003cbr\\u003e\"],[\"has made a truly great comeback he is number one\\u003cbr\\u003eagain give him credit comebacks are tough to do way\\u003cbr\\u003eto go tiger\\u003cbr\\u003e\"],[\"i would rather take a political risk in pursuit of\\u003cbr\\u003epeace than to risk peace in pursuit of politics com\\u003cbr\\u003exdlrjwlpih\\u003cbr\\u003e\"],[\"the oscars were a great night for mexico why not\\u003cbr\\u003ethey are ripping off the us more than almost any\\u003cbr\\u003eother nation\\u003cbr\\u003e\"],[\"will be interviewed on at 7 20 great crowd in\\u003cbr\\u003elas vegas yesterday\\u003cbr\\u003e\"],[\"i am reading that the great border wall will cost\\u003cbr\\u003emore than the government originally thought but i have not\\u003cbr\\u003egotten involved in the\\u003cbr\\u003e\"],[\"congratulations to on his successful cold case posse investigation which\\u003cbr\\u003eclaims s birth certificate is fake\\u003cbr\\u003e\"],[\"the media is unrelenting they will only go with and\\u003cbr\\u003ereport a story in a negative light i called brexit\\u003cbr\\u003ehillary was wrong watch november\\u003cbr\\u003e\"],[\"my warmest condolences to the family and many friends of\\u003cbr\\u003econgressman elijah cummings i got to see first hand the\\u003cbr\\u003estrength passion and wisdom of this highly respected political leader\\u003cbr\\u003ehis work and voice on so many fronts will be\\u003cbr\\u003every hard if not impossible to replace\\u003cbr\\u003e\"],[\"thank you for your support twitter com richrdhernandez status 746791839861252096\\u003cbr\\u003e\"],[\"great sportscaster al michaels a friend of mine played golf\\u003cbr\\u003ewith me on saturday morning at trump national la he\\u003cbr\\u003ewas in perfect shape\\u003cbr\\u003e\"],[\"sound horrible and me sound guilty he was desperate and\\u003cbr\\u003ehe got caught adam schiff therefore lied to congress and\\u003cbr\\u003eattempted to defraud the american public he has been doing\\u003cbr\\u003ethis for two years i am calling for him to\\u003cbr\\u003eimmediately resign from congress based on this fraud\\u003cbr\\u003e\"],[\"much of the money i have raised for our veterans\\u003cbr\\u003ehas already been distributed with the rest to go shortly\\u003cbr\\u003eto various other veteran groups\\u003cbr\\u003e\"],[\"i m puerto rican and i agree with this we\\u003cbr\\u003eneed to stop trying to be so politically correct\\u003cbr\\u003e\"],[\"johnkasich the voters have spoken we want you agreed to\\u003cbr\\u003esupport nominee get on board or leave\\u003cbr\\u003e\"],[\"live from new york donald trump will soon be hosting\\u003cbr\\u003esnl frazier enjoy the show and best wishes\\u003cbr\\u003e\"],[\"how the hell is bruce ohr still employed at the\\u003cbr\\u003ejustice department disgraceful witch hunt\\u003cbr\\u003e\"],[\"this texan will be voting trump march 1st cruz is\\u003cbr\\u003ea fake texan\\u003cbr\\u003e\"],[\"birthdays are special and a retweet from would make it\\u003cbr\\u003eeven more special happy birthday\\u003cbr\\u003e\"],[\"so sad to see the terror attack in paris at\\u003cbr\\u003esome point countries will have to open their eyes see\\u003cbr\\u003ewhat is really going on this kind of sickness hatred\\u003cbr\\u003eis not compatible with a loving peaceful successful country changes\\u003cbr\\u003eto our thought process on terror must be made\\u003cbr\\u003e\"],[\"are we going to hear more buseyisms tonight on yes\\u003cbr\\u003ebig time\\u003cbr\\u003e\"],[\"your las vegas hotel is beautiful too thank you\\u003cbr\\u003e\"],[\"i ll be turning the table on larry king this\\u003cbr\\u003esaturday night i ll be interviewing him in honor of\\u003cbr\\u003ethe 25th anniversary of his show\\u003cbr\\u003e\"],[\"he was on howard stern last week awesome interview thank\\u003cbr\\u003eyou\\u003cbr\\u003e\"],[\"congratulations and on the birth of carolina dorothy trump so\\u003cbr\\u003eproud\\u003cbr\\u003e\"],[\"the stock market and us dollar are both plunging today\\u003cbr\\u003ewelcome to s second term\\u003cbr\\u003e\"],[\"guy in front asked for picture said he was the\\u003cbr\\u003ebiggest fan never saw the guy in back\\u003cbr\\u003e\"],[\"has just agreed that the debate will be two hours\\u003cbr\\u003efantastic news for all especially the millions of people who\\u003cbr\\u003ewill be watching\\u003cbr\\u003e\"],[\"tina brown could finally be over is a total failure\\u003cbr\\u003eshe just got fired great\\u003cbr\\u003e\"],[\"donald trump by will forever be one of my favs\\u003cbr\\u003ei understand why\\u003cbr\\u003e\"],[\"so funny to watch little donny deutsch on tv with\\u003cbr\\u003ehis own failing show when i did the apprentice donny\\u003cbr\\u003ewould call me along with others and beg to be\\u003cbr\\u003eon that very successful show he had the tv bug\\u003cbr\\u003ei would let him come on though he erin had\\u003cbr\\u003every little\\u003cbr\\u003e\"],[\"secondly he is fulfilling every promise he made and that\\u003cbr\\u003eis making his opponents apoplectic they re trying to get\\u003cbr\\u003ehim out of office and they re not going to\\u003cbr\\u003esucceed pastor robert jeffress author of choosing the extraordinary life\\u003cbr\\u003ethank you pastor\\u003cbr\\u003e\"],[\"we need your help donald make us great again\\u003cbr\\u003e\"],[\"the rooms are like condos perfect for families very accommodating\\u003cbr\\u003estaff thanks\\u003cbr\\u003e\"],[\"i will be interviewed sunday morning on and prior to\\u003cbr\\u003ethe super bowl on at 3 30 p m enjoy\\u003cbr\\u003e\"],[\"i am pleased to announce that effective 4 9 18\\u003cbr\\u003ewill be my new national security advisor i am very\\u003cbr\\u003ethankful for the service of general h r mcmaster who\\u003cbr\\u003ehas done an outstanding job will always remain my friend\\u003cbr\\u003ethere will be an official contact handover on 4 9\\u003cbr\\u003e\"],[\"with proper thinking and leadership we can have a much\\u003cbr\\u003ebetter plan than obamacare something that works for the people\\u003cbr\\u003eand costs much less\\u003cbr\\u003e\"],[\"i agree america is disheartened i truly believe can turn\\u003cbr\\u003ethis country around he is the only 1 who can\\u003cbr\\u003e\"],[\"i d say is a legend i work too long\\u003cbr\\u003eand hard to think about it but thanks\\u003cbr\\u003e\"],[\"i will be on with chris wallace this morning enjoy\\u003cbr\\u003e\"],[\"i think you try and make fun of because you\\u003cbr\\u003ere jealous try and compare your career to his\\u003cbr\\u003e\"],[\"the debates especially the second and third plus speeches and\\u003cbr\\u003eintensity of the large rallies plus our great supporters gave\\u003cbr\\u003eus the win\\u003cbr\\u003e\"],[\"marco rubio would keep barack obama s executive order on\\u003cbr\\u003eamnesty intact see article cannot be president\\u003cbr\\u003e\"],[\"hope opec will increase output substantially need to keep prices\\u003cbr\\u003edown\\u003cbr\\u003e\"],[\"you are witnessing the single greatest witch hunt in american\\u003cbr\\u003epolitical history led by some very bad and conflicted people\\u003cbr\\u003e\"],[\"russia took crimea during the so called obama years who\\u003cbr\\u003ewouldn t know this and why does obama get a\\u003cbr\\u003efree pass\\u003cbr\\u003e\"],[\"i agree mr trump i am a veteran and can\\u003cbr\\u003et stand what is happening\\u003cbr\\u003e\"],[\"it was great being with governor henry mcmaster last night\\u003cbr\\u003ein south carolina henry is tough on crime and borders\\u003cbr\\u003eloves our military and our vets and has created many\\u003cbr\\u003ejobs and a great economy go out and vote for\\u003cbr\\u003ehenry today he will never let you down\\u003cbr\\u003e\"],[\"what i am saying is that we never should have\\u003cbr\\u003ebeen in iraq in the first place bush was terrible\\u003cbr\\u003eobama is worse make america great again\\u003cbr\\u003e\"],[\"uncomfortable looking nbc reporter willie geist calls me to ask\\u003cbr\\u003efor favors and then mockingly smiles when he is told\\u003cbr\\u003eof my high poll numbers\\u003cbr\\u003e\"],[\"were all set to have a big victory until dan\\u003cbr\\u003ebishop won north carolina 09 now you will hear them\\u003cbr\\u003ebarely talk about or cover the race fake news never\\u003cbr\\u003ewins\\u003cbr\\u003e\"],[\"icymi s described my monday speech as one of my\\u003cbr\\u003ebest and most riveting\\u003cbr\\u003e\"],[\"i believe in free markets but allowing a merger of\\u003cbr\\u003eus air american airlines is totally ridiculous will control most\\u003cbr\\u003eof us market\\u003cbr\\u003e\"],[\"jim mattis calls woodward book fiction product of someone s\\u003cbr\\u003erich imagination via\\u003cbr\\u003e\"],[\"yesterday i was in washington d c visiting the old\\u003cbr\\u003epost office renovation it will be magnificent\\u003cbr\\u003e\"],[\"so many people are asking why isn t the a\\u003cbr\\u003eg or special council looking at the many hillary clinton\\u003cbr\\u003eor comey crimes 33 000 e mails deleted\\u003cbr\\u003e\"],[\"gov kasich of ohio just stated on a morning show\\u003cbr\\u003ethat he doesn t watch politics or anything on television\\u003cbr\\u003ehe only watches the\\u003cbr\\u003e\"],[\"despite the fact that the mueller report was composed by\\u003cbr\\u003etrump haters and angry democrats who had unlimited funds and\\u003cbr\\u003ehuman resources the end result was no collusion no obstruction\\u003cbr\\u003eamazing\\u003cbr\\u003e\"],[\"lightweight attorney general eric schneiderman will be next to lose\\u003cbr\\u003ehe goes after a school with a 98 approval rating\\u003cbr\\u003eleaves biggies alone\\u003cbr\\u003e\"],[\"glad to hear clint eastwood endorsed he understands that america\\u003cbr\\u003eneeds a big boost to be strong again\\u003cbr\\u003e\"],[\"if donald trump runs for potus 2016 he d have\\u003cbr\\u003emy vote\\u003cbr\\u003e\"],[\"our prayers are with the families of the victims and\\u003cbr\\u003ethe congregation of yesterday s church attack it was over\\u003cbr\\u003ein 6 seconds thanks to the brave parishioners who acted\\u003cbr\\u003eto protect 242 fellow worshippers lives were saved by these\\u003cbr\\u003eheroes and texas laws allowing them to carry arms\\u003cbr\\u003e\"],[\"why doesn t the failing write the real story on\\u003cbr\\u003ethe clintons and women the media is totally dishonest\\u003cbr\\u003e\"],[\"96 approval rating in the republican party thank you we\\u003cbr\\u003ewill win against a tired exhausted man sleepy joe biden\\u003cbr\\u003ein november\\u003cbr\\u003e\"],[\"the police in london say i m right major article\\u003cbr\\u003ein daily mail we can t wear uniform in our\\u003cbr\\u003eown cars\\u003cbr\\u003e\"],[\"sir i ve always respected you i was born raised\\u003cbr\\u003ein buffalo would love you as owner of the\\u003cbr\\u003e\"]],\"hovertemplate\":\"x=%{x}\\u003cbr\\u003ey=%{y}\\u003cbr\\u003eText=%{customdata[0]}\\u003cextra\\u003e\\u003c\\u002fextra\\u003e\",\"legendgroup\":\"\",\"marker\":{\"color\":\"#1F77B4\",\"opacity\":0.3,\"symbol\":\"circle\"},\"mode\":\"markers\",\"name\":\"\",\"orientation\":\"v\",\"showlegend\":false,\"x\":[0.08365053981279558,0.07317735456624519,0.1797352296908954,0.10208328379346325,0.05074791573970583,-0.14591243744696963,0.03229138967004122,0.05502216335568763,0.028552760715291024,0.025704180504235626,-0.009738019733210174,0.10367875557706321,0.13281189987769987,0.15513495088169413,0.06404114838649692,0.037463567224860245,-0.14408091255111122,-0.19387187174163834,-0.08604809009283292,0.07118210545763501,0.0053723819392616085,-0.023719218666661657,0.10713876403318379,0.16587962887469176,0.10361676960248187,0.09570424184041182,0.1719938775652807,0.12342783593401754,-0.013960776141130962,-0.06344952188144298,-0.12436859035002147,0.006454277731290026,-0.1695785042780661,-0.08652344238235173,0.15953942457395937,0.057168073341137604,0.025765122189843535,-0.047591681407435756,0.13925056978985667,-0.10438001262451724,-0.055485320086730384,0.14732180506131703,-0.11925936304306262,-0.06278884501178042,-0.0428545749824193,-0.15508429412406666,0.08413041154365694,0.08808773808135667,0.07385171745132546,-0.018688519064247126,0.004361009590027443,0.16582055692137224,0.024165296185880463,0.04592232351530598,0.11167111193495279,0.05944030793103984,-0.11731371571797294,-0.10224452940578788,0.07057516055181941,-0.036146269782448615,-0.00370202160510303,-0.07233548518018905,-0.01960552633904771,0.14858184891893472,0.015529491734633256,-0.11107287881399575,-0.0012760485927281184,0.10737156056975661,0.15772668560805617,-0.020026820733627167,-0.007822312753365618,-0.01922078413903011,0.002851131036483219,-0.10617562392030422,0.03018446923053401,0.06896417475091046,-0.05266096147951783,0.13381718432568027,-0.0499772879524262,-0.05350979039959788,0.02770689467417161,0.1150665778397887,0.07365217871753965,0.09795184294039436,-0.015523501555184591,0.019619118980890648,-0.11941268386755788,-0.1010748444416575,-0.10627450510021727,-0.15729619816920956,-0.024387487986964863,0.08177247435237078,-0.034593734327359106,-0.007498850024384879,-0.05781103919807298,-0.1267381243299032,-0.08686774085452095,0.13821634907509955,0.08906893886327702,-0.07073209457873195,-0.01818969579245245,0.07533990477130147,0.01922160774730138,-0.1366086278529018,0.012197723597152488,0.009288076484772263,0.010123146346396442,0.02136498695977288,-0.11742201266414964,0.10620541972263065,0.07981256953243648,-0.0019950423880649715,-0.06555666613531574,0.054199082428675605,0.09870394501726279,-0.036762916036452306,-0.0026380308492363266,0.09776043916761111,-0.1991752025651542,-0.06898793153562668,0.04036873689874732,0.022419380574180997,-0.01745788669988689,-0.0557258515132867,0.038025092385697935,0.12997871148467363,0.06567462547924872,-0.0659382236423736,-0.10177302554481162,0.010192585327027343,-0.1203164207793238,0.0677981859393087,-0.09666770408527525,-0.008515485512320752,-0.015918649713477034,0.10283422396403388,-0.11824491836284681,-0.09935529091125009,0.167653325440623,0.07782477541036102,0.14612008052458092,-0.07978249820484495,0.11625146439185327,-0.03681873973158226,0.09037112102496542,-0.053740865203506585,0.10730522158695643,-0.1292312786120054,-0.02574328147010673,0.07820154811522477,-0.006338804352543382,0.09470538247820175,0.051968343160237546,0.11959386083300616,0.19036098011045924,-0.04781308556568825,-0.09901738399748365,-0.04946692392725911,0.08723213624230634,-0.012214290889439997,0.08195247356283458,0.10817371059539932,0.025125051780987465,-0.025204826454106606,0.11785291383910532,0.06250220180618848,-0.0018676654513163117,-0.19038873884489188,0.10150351950873276,-0.11487072758485778,0.12794789327994516,-0.06926213794845124,0.06098555217546048,-0.07578278213157849,-0.16643820935878487,0.02780543275578086,0.054944633748194305,0.15174548166672255,-0.11684648397704403,-0.05828489693243953,-0.009342275219754073,0.01186698596723382,0.031112208634858998,-0.0942394944218605,-0.10061047157663776,-0.08499835732439036,-0.14953260344956962,-0.041975124420503426,-0.08847901528723662,-0.059951181579961134,0.1865761341600419,-0.013769041369492224,-0.08736219069736842,0.02485806874138627,0.01887123474332456,0.03509877749237275,-0.10555373410319628,0.04352125521981097,-0.10667134993794028,-0.04865091183350763,-0.09236538244720842,0.09657342160859929,0.04209437156711096,-0.011182684627622282,-0.10546027272189551,0.032329681120846526,0.12811473090399172,-0.039239633548062716,0.09712273924234216,0.10875578091764106,0.11829839621447776,0.0962094740280418,0.09840341149605342,0.10703251852109824,-0.03681111323725585,-0.012846759348621367,-0.1288117559862806,0.13979990390362013,0.08465784399756031,-0.08113901115828973,-0.06136268504284419,-0.005271273167367793,0.09627034941374193,-0.004196042532336849,0.12441064332321335,0.014932727780168114,-0.11172253359035011,0.05626397899933573,-0.0442111858619349,-0.10413633783306633,-0.0615128929355127],\"xaxis\":\"x\",\"y\":[0.1517658766819391,0.07558267475221864,0.019095317844051794,0.11943230726340552,-0.16614982512297896,0.07566870370194767,-0.22889002702123995,0.08690538604423304,0.09638721194021092,0.09328595870548857,0.13328303989269008,0.011640023794304968,0.052859099914316546,0.10265379983194535,0.12629098020722204,0.19363283372835108,0.02264825613943621,0.005955327482629287,0.0419348615673783,0.09079656062944738,0.12080054757083543,0.15091778133677758,0.10232724619864489,0.010386100684924059,0.07649113692170845,0.05508659071464524,0.031005874346722126,0.1607961615226884,0.15903465271836992,0.10924325048324826,0.11234116208449832,0.15319943935825112,0.06783866317076866,0.14426537031928918,0.028481059891781443,0.10233024310186618,0.10506296772692945,0.19598087930623126,0.0467999973579285,0.04873840564952575,0.18397225205161905,-0.010179290024739114,-0.07056618418521962,0.12994835400208282,0.16316702458903,0.19004134246863613,0.05920382174895846,0.0720313563369292,0.11078230482328634,0.10923264923294465,0.09947440459300093,0.022593851901311177,0.14193201889983553,0.1948513301250336,0.053534726728659485,-0.2156368200828545,0.0202804786421521,-0.12271506081376622,0.06956337816114219,0.18926936011187312,-0.2209836607879366,0.06778608085247315,-0.2533773764161493,0.03582274954539633,0.11243888416487179,0.08823230786174663,-0.13376203301795278,0.0031681657744088865,0.06518417627359874,0.13470756749583473,-0.17753001229832951,0.11381549964576648,0.10320437965953246,-0.008828050578624574,0.09505115064478936,0.11255756462618721,-0.10802073317624555,0.013347975931404788,0.08979593403679619,0.14621074527410577,0.10486706628048392,0.05851631432244802,0.06739948578732265,0.035111373778825686,-0.09399774629060284,0.11866051367289186,0.03521493879442664,-0.11734812704282109,0.025386765040117196,0.04946880345334402,0.17380429577536105,0.05009274499840697,-0.1658130379096494,0.17113174318066754,0.0795214766562952,0.06274666620042757,0.06639176427864556,-0.0036439274644330553,-0.05464950881158731,0.08916473199357491,0.16620072787693474,0.07014242202175572,0.09835913637844262,0.011796832993369186,0.11825256768885753,0.09693599555875276,0.10307290741522421,0.14695408637234245,-0.0069690995462020535,0.12290342529440507,0.1576662548237052,0.12798973543987174,0.07151905803505604,-0.13187727102840208,0.006750261504024865,0.10447264985136279,0.1235180773261321,0.14044029086341475,0.04494934543796424,0.1641829402700139,0.12129168389262657,0.10309380826192238,0.1346357925794987,0.10858077718473463,0.12258577762412956,0.0025599732722537266,0.1319827599930511,0.08889576797825385,0.14584687345840328,0.12706668337517013,-0.010873878878148925,0.09772612895743438,-0.13885565058407767,-0.1060161683375645,-0.12524943676899974,0.036493953809072374,0.03200557280137995,0.05348686258299245,0.06986178853010828,-0.22283574603273276,-0.016686224175700495,-0.15541647695581534,0.03703677722004023,0.09387220712860067,0.11004503169453438,-0.2962758784697113,-0.008971497272293983,0.07036005658027894,0.11455950609788086,0.16140215345364683,-0.1677010676187192,0.09142864441033811,0.10211639004712939,0.0100437283465408,0.07963469281774119,0.091295907346788,0.045986664281422056,0.12391942679630774,0.08043003807846859,-0.18004343536692097,0.06072258874876063,-0.025123476500848178,0.10853971752640196,-0.26740633190184815,-0.041653947160315244,0.1090975727556619,0.17292448943767424,0.07799209667569802,0.01996218474034325,0.08417105184300719,0.024987190259737543,0.10917277176729367,-0.1443959786626468,0.17011563481590622,-0.029684662034764976,0.1714236034394097,0.1438048871547876,0.01048736268708883,-0.004567984344436282,0.08039326464102745,0.09491613639353202,0.10269366389891252,0.09915687649489466,-0.04939781341991545,-0.008777886519864874,0.0713204658560338,-0.06663970708195953,0.20128429777840814,0.16293870743666544,-0.1773864137418453,-0.02025197441761147,0.1695234604472393,0.06643074760665756,-0.22764352246333638,0.1551539486090679,0.10032803641603946,0.1808587181784212,0.14171434000877253,-0.04858269635099797,0.09194562415596683,0.06142270839048927,0.0018477970525973076,0.1511560100956889,0.09494989937867146,0.1321780374002534,0.17439996839754857,0.08897733924864448,0.13282352914797044,0.012523019629777976,0.004760465826037591,0.030465151797680588,0.09719091437333316,0.14392385137807967,0.003356599767078486,0.1635854760541981,0.0982954984127101,0.07320658548056992,0.022304925042531003,0.08354310800513709,0.08855503827177334,-0.10227683736493445,0.14415947045864108,0.043475170437143544,0.21516693742302706,0.10416024699777068,0.13046097322892802,0.013501821962502637,-0.1097863384622783,0.14392258970527758,0.026962680830049445,0.08085044198919768],\"yaxis\":\"y\",\"type\":\"scatter\"},{\"line\":{\"color\":\"grey\"},\"mode\":\"lines\",\"name\":\"Convex Hull\",\"showlegend\":false,\"x\":[0.054944633748194305,0.05633502725148252,0.05740820421121485,0.05803861855715373,0.05810072421906166,0.05746897512670106,0.056017825209834456,0.05362172839822428,0.05015513862163298,0.04549262430524024,0.03977230011127469,0.033914565538842825,0.028378208992597062,0.023156941945253275,0.018233319301168404,0.013589895964699414,0.009209226840203194,0.0050738668320367015,0.0011663708445568723,-0.002530706217879379,-0.00603480945091511,-0.009363383950193385,-0.012533874811357293,-0.015563727130049857,-0.018470386001914193,-0.021263834197323753,-0.023732612533484267,-0.025412007023053407,-0.02582344282172917,-0.024571378194038603,-0.021791600721196687,-0.01782925099140611,-0.013029976096256038,-0.007728149990070048,-0.002115470811010697,0.0037142511944415956,0.00966912083792742,0.015657242931087438,0.02158672228556225,0.027357328253953584,0.032232593403480635,0.035855816297877534,0.03909695351575111,0.042072744908318443,0.04479371552586354,0.04727039041867031,0.04951329463702281,0.05153295323120497,0.053339891251500814,0.05494463374819432],\"y\":[0.1438048871547876,0.1509972237169453,0.1585475782254676,0.16613985784117388,0.17345796972488361,0.18018582103741612,0.186007318939591,0.19060637059222751,0.19366688315614514,0.19487289385882736,0.19420782815408236,0.19255245066607465,0.19038699251486213,0.1877558254574167,0.18469286557242276,0.18123202893856516,0.17740723163452823,0.17325238973899673,0.16880141933065512,0.16408823648818807,0.1591467572902801,0.15401089781561586,0.14871457414287984,0.14329170235075664,0.1377761985179309,0.1322018711195975,0.12659933553415403,0.1209955553156994,0.11541729415079459,0.10991473517715082,0.10468792272823901,0.0999959490593701,0.09609804928490838,0.09323613947644911,0.09143294130530791,0.09056079021555298,0.09048907952673822,0.09108720255841742,0.09222455263014444,0.09378470492811614,0.09673379304241174,0.10139452915774955,0.1061243475824867,0.11081311222296283,0.11556298944629317,0.12047614561959273,0.12565474710997684,0.13120096028456055,0.1372169515104591,0.14380488715478762],\"type\":\"scatter\"},{\"line\":{\"color\":\"grey\"},\"mode\":\"lines\",\"name\":\"Convex Hull\",\"showlegend\":false,\"x\":[-0.1022445294057879,-0.10161149600030864,-0.09950546533124381,-0.09658078870253275,-0.09337328638648751,-0.08998271032619987,-0.08640855695201992,-0.08265032269429792,-0.07870750398338404,-0.07457959724962844,-0.0702660989233813,-0.06576650543499281,-0.06108031321481317,-0.056208020634952116,-0.05115842782273394,-0.04594443815791374,-0.040578984139460664,-0.035074998266343846,-0.029466621000813185,-0.02389802696584652,-0.018548966832743843,-0.01359920916677554,-0.009228522533212035,-0.0056166754973237506,-0.0029434366243810918,-0.001388574479654473,-0.0010838339424036,-0.0018739471544164325,-0.0034974806698572737,-0.0056928299026296845,-0.00819839026663725,-0.010816108988737005,-0.01371689482941766,-0.017198386061118117,-0.021384180135423835,-0.0262022304334645,-0.03157009905983502,-0.03740534811913037,-0.043625539715945405,-0.050148235954875074,-0.056890998940514304,-0.06377055007862367,-0.07065828608171688,-0.07735814472902083,-0.08366857561812273,-0.0893880283466097,-0.094314952512069,-0.09824779771208782,-0.10098501354425338,-0.10224452940578792],\"y\":[-0.12271506081376625,-0.12825810412852107,-0.13360376152636963,-0.1390096696733195,-0.14465148706710987,-0.15040327959822267,-0.15606977466256555,-0.16145569965604634,-0.16636578197457266,-0.17060474901405231,-0.173977328170393,-0.17628824683950245,-0.17734223241728841,-0.17698204648776153,-0.17536558923095688,-0.17280652225045892,-0.169619612529137,-0.16611962704986039,-0.16257484949180007,-0.15901239227017128,-0.15538139273786694,-0.15163094902803703,-0.14771015927383171,-0.143568121608401,-0.13915393416489502,-0.1344166950764638,-0.129320373854375,-0.12391781854667748,-0.11829475324088666,-0.11253695502110662,-0.10673020097144144,-0.10103993780735382,-0.09609414868510867,-0.09266959211521436,-0.09103595225781176,-0.09089322484048297,-0.09191114763293995,-0.09375945840489484,-0.09610789492605959,-0.09862619496614627,-0.10098409629486693,-0.10285589137880465,-0.10416143058241793,-0.10518603996705836,-0.1062447791951247,-0.10765270792901582,-0.10972488583113055,-0.11277637256386769,-0.11712222778962608,-0.12271506081376626],\"type\":\"scatter\"},{\"line\":{\"color\":\"grey\"},\"mode\":\"lines\",\"name\":\"Convex Hull\",\"showlegend\":false,\"x\":[0.1473218050613171,0.14760530851939146,0.14734574294540875,0.14657401091652175,0.14532101500988304,0.14361765780264518,0.14149484187196085,0.13898346979498266,0.13611444414886334,0.13291866751075543,0.1294270424578116,0.12567047156718442,0.12167985741602663,0.11748610258149082,0.1131212447845147,0.10865230667449809,0.10418707900865924,0.09983565281621208,0.09570807556919828,0.09189126572595302,0.08841103591272646,0.08528322403501945,0.08252366799833286,0.08014820570816751,0.07817267507002436,0.0766129139894042,0.07548476037180796,0.07480405212273647,0.07458662714769058,0.07484832335217122,0.07560497864167923,0.07687243092171543,0.07866651809778077,0.08100307807537607,0.0838979487600022,0.08736696805716007,0.09142212854792577,0.09600840745763585,0.10101387094844348,0.10632477765230038,0.11182738620115819,0.1174079552269686,0.12294636624951108,0.1282900699912587,0.13327623344093914,0.13774201943842124,0.14152459082357371,0.14446111043626558,0.14638938943308857,0.1473218050613171],\"y\":[-0.010179290024739118,-0.004013941991809668,0.002604954847003084,0.009514266635574588,0.016550859517780313,0.023551599637495712,0.030353353138596245,0.03679298616495737,0.04270736486045455,0.04793335536896327,0.05230782383435893,0.055667636400517036,0.05784965921131305,0.058690758410622414,0.05803331210849622,0.05588957622682327,0.05246976613041367,0.04799526671308435,0.04268741109856569,0.036740042310107315,0.030274375740342904,0.023399771279585767,0.01622558881814926,0.008861188246346694,0.001415929454491401,-0.006000827667103256,-0.013279723228124006,-0.020311397338257493,-0.026986490107190352,-0.03319564164460931,-0.038829492060201025,-0.04377868146365211,-0.047933849964649326,-0.051185637672879265,-0.05342468469802864,-0.054541631149784116,-0.054437832016147936,-0.053201378514038646,-0.051078942788658176,-0.04832223361255711,-0.045182959758285936,-0.04191282999839514,-0.03871473944687083,-0.03554334140794147,-0.032274572259699284,-0.028784336622762627,-0.024948539117749823,-0.02064308436527919,-0.015744068994776046,-0.010179290024739121],\"type\":\"scatter\"},{\"line\":{\"color\":\"grey\"},\"mode\":\"lines\",\"name\":\"Convex Hull\",\"showlegend\":false,\"x\":[-0.19038873884489182,-0.19408321871882753,-0.1970281223722364,-0.19908458860402573,-0.20011375621310268,-0.19997676399837472,-0.19853679956662057,-0.19577674238392234,-0.19186315679750018,-0.18697819517730724,-0.18130400989329631,-0.17502275331542055,-0.1683165778136329,-0.16136763575788635,-0.15435807951813393,-0.1474700614643285,-0.14088024953611458,-0.13463478277391397,-0.12864678655109024,-0.12282340480173395,-0.11707178782613838,-0.11139559444380137,-0.10613878140370732,-0.10115720889252332,-0.09590147040763107,-0.09095993802990313,-0.08696886310136263,-0.08451578061791833,-0.08368283100154583,-0.08425287318783424,-0.08600485408723745,-0.08872305669287808,-0.09225878538834839,-0.09650907765717294,-0.10137185348475396,-0.10674503285649375,-0.1125266124249169,-0.1186242598339007,-0.12496464111487895,-0.13147663552689928,-0.13808912232900927,-0.14473098078025656,-0.15133109013968873,-0.15781832966635356,-0.16412157861929844,-0.17016971625757107,-0.17589162184021917,-0.18121617462629022,-0.18607225387483192,-0.19038873884489188],\"y\":[0.07799209667569801,0.0724847646518104,0.06647296545320729,0.0602547901541304,0.054128329828821466,0.048391675551522226,0.043340342887612925,0.0391193855419146,0.035642951215000766,0.03280559226556906,0.03050186105231712,0.02862630993394259,0.02707349126914309,0.025737957416616282,0.024514260735059787,0.023296953583171236,0.021989459997329885,0.020706349065794414,0.019777354317793847,0.019541884927668292,0.020339342119239677,0.022388601149399202,0.025483526925161027,0.029022584133531728,0.032465990153055097,0.036153777596461996,0.04045964520311843,0.045709921443215396,0.051739504724627246,0.058092281388437673,0.06430833384340676,0.06995152474836512,0.07488439755934902,0.07917330527216623,0.08288853375185509,0.08610036886345401,0.08887884343621089,0.09126207170292003,0.09322546472111995,0.09473712890743995,0.09576517067850934,0.0962776964509575,0.09624281264141375,0.09562862566650744,0.09440324194286784,0.09253476788712436,0.08999130991590631,0.08674097444584301,0.08275186789356381,0.07799209667569802],\"type\":\"scatter\"},{\"line\":{\"color\":\"grey\"},\"mode\":\"lines\",\"name\":\"Convex Hull\",\"showlegend\":false,\"x\":[-0.0537408652035066,-0.04975178286328718,-0.04407966360334779,-0.036956781819305624,-0.028615411906777785,-0.019287828261381364,-0.009206305278733513,0.0013968826455486364,0.012289461115847996,0.023239155736547425,0.03401369211202978,0.044380795846677985,0.05410819254487486,0.06296360781100331,0.07071476724944621,0.07712939646458647,0.08201067098161792,0.0853686758026942,0.0872883523402873,0.08785474489047926,0.08715289774935213,0.08526785521298792,0.08228466157746869,0.07828836113887648,0.0733639981932933,0.06759661703680118,0.061071261965482224,0.05387370823843176,0.046137154738697846,0.03807043411833637,0.029889140287576322,0.021808867156646573,0.014045208635776024,0.006813758635193582,0.00033011106512815836,-0.0051901401641913465,-0.009652104066205555,-0.013954631591035188,-0.01883303715662636,-0.024136477355524447,-0.029652193465125463,-0.03516742676282541,-0.04046941852602031,-0.04534541003210611,-0.04958264255847885,-0.05296835738253451,-0.05528979578166912,-0.056334199033278666,-0.055888808414759183,-0.05374086520350659],\"y\":[-0.2962758784697114,-0.3002257909445139,-0.30269543822103073,-0.3037381815368288,-0.30340738212947516,-0.30175640123653646,-0.29883860009557967,-0.2947073399441717,-0.28941598201987945,-0.2830178875602697,-0.27556641780290947,-0.2671149339853656,-0.257716797345205,-0.24742536911999444,-0.23629401054730098,-0.2243760828646914,-0.21175311648571282,-0.19867105599847493,-0.18543532830719028,-0.1723514420693295,-0.15972490594236302,-0.14786122858376122,-0.13706591865099474,-0.12764448480153395,-0.11990243569284936,-0.11414527998241147,-0.11067852632769076,-0.10980375379673431,-0.11156759644982882,-0.11561008821383673,-0.12153491511822861,-0.128945763192475,-0.13744631846604638,-0.1466402669684134,-0.15613129472904647,-0.16552308777741634,-0.1745234275930116,-0.18369913370904623,-0.19355968680159322,-0.20396203633690435,-0.21471750750783272,-0.2256374255072313,-0.23653311552795317,-0.24721590276285127,-0.2574971124047787,-0.26718806964658837,-0.27610009968113347,-0.28404452770126704,-0.29083267889984205,-0.2962758784697113],\"type\":\"scatter\"},{\"line\":{\"color\":\"grey\"},\"mode\":\"lines\",\"name\":\"Convex Hull\",\"showlegend\":false,\"x\":[-0.1550842941240666,-0.15455569812746006,-0.15239737363838005,-0.1487752283276423,-0.1438551698660628,-0.13780310592445724,-0.1307849441736416,-0.12296659228443156,-0.11451395792764302,-0.10559294877409181,-0.09636947249459375,-0.0870094367599647,-0.07767874924102047,-0.06854331760857686,-0.05976904953344972,-0.05152185268645493,-0.04396763473840826,-0.0372699615418284,-0.031423765341585475,-0.026144997424017873,-0.021123429012867245,-0.016048831331875204,-0.010656320356351542,-0.0053466104405181835,-0.0010244028145395653,0.0016858379080758328,0.0027678086907963213,0.0022809044038603044,0.0002845199175061671,-0.003161949898027684,-0.007991696485186271,-0.014075595987638878,-0.021253352564481416,-0.029364438813620615,-0.03824832733296321,-0.04774449072041587,-0.05769240157388528,-0.06793153249127822,-0.07830135607050134,-0.08864134490946132,-0.09879097160606495,-0.10858970875821891,-0.11787702896382983,-0.12649240482080454,-0.1342753089270497,-0.1410652138804719,-0.14670159227897805,-0.15102391672047477,-0.1538716598028687,-0.15508429412406666],\"y\":[0.19004134246863616,0.18371597037512,0.17729325449876623,0.17086848583622716,0.16453695538415553,0.15839395413920374,0.15253477309802435,0.1470547032572698,0.14204903561359267,0.1376130611636455,0.13384207090408073,0.13083135583155092,0.1286762069427086,0.12747191523420623,0.12731377170269634,0.12829706734483148,0.13051709315726415,0.1340666320798322,0.13885786266074993,0.14450417848482694,0.1505909346317141,0.15670348618106233,0.16246963460384647,0.1681402358211974,0.17443744814395482,0.18174768333963603,0.18973560319235003,0.19797603322389712,0.20604379895607772,0.2135137259106919,0.2199952659943529,0.22538892108961497,0.22974078502095255,0.23309803314305666,0.2355078408106179,0.23701738337832715,0.2376738362008752,0.2375243746329527,0.23661617402925064,0.2349964097444597,0.2327122571332707,0.2298108915503744,0.2263394883504616,0.22234522288822306,0.21787527051834965,0.21297680659553206,0.20769700647446113,0.20208304550982767,0.19618209905632245,0.19004134246863622],\"type\":\"scatter\"},{\"line\":{\"color\":\"grey\"},\"mode\":\"lines\",\"name\":\"Convex Hull\",\"showlegend\":false,\"x\":[0.07820154811522478,0.0727626154576449,0.0679697056074308,0.06381361717863514,0.06028514878531049,0.057375099041509434,0.055074266561284585,0.053373449958688535,0.05226344784777386,0.05173505884259317,0.051779081557199055,0.05238542240294053,0.05352927742439455,0.05517378423071882,0.057292029870271405,0.05988944629646524,0.06297779451225152,0.06656883552058142,0.07067433032440612,0.0753060399266768,0.08047572533034468,0.08616466155607094,0.092101276603582,0.09789272015348395,0.10330699787994176,0.10833075939070552,0.11296615733372423,0.11721534435694696,0.12108047310832278,0.12456369623580067,0.1276671663873297,0.13038796602008373,0.13269066797857307,0.13452701211861454,0.13584870690716966,0.13660746081119998,0.136754982297667,0.13624297983353234,0.13502316188575744,0.1330472369213039,0.13026691340713323,0.12663389981020695,0.12210080614093306,0.11670838071507078,0.11065830114597777,0.10416938048974467,0.09746043180246217,0.09075026814022091,0.08425770255911158,0.07820154811522478],\"y\":[0.1614021534536469,0.1577825430588402,0.15340366605456457,0.14837963694923328,0.14282457025125947,0.1368525804690563,0.13057778211103704,0.12411428968561486,0.11757621770120294,0.11107768066621446,0.10473279308906262,0.09864019370397253,0.09264336138803024,0.08637660860401265,0.07963312182526316,0.07272411512928492,0.0660621670082647,0.060059855954389244,0.0551297604598453,0.05168445901681962,0.05013653011749898,0.05080002532974502,0.053171825921294505,0.05635357330174388,0.0598269648482227,0.0635913362258146,0.06768272646042862,0.07213717457797385,0.07699071960435935,0.08227940056549415,0.0880392564872873,0.09428988046577882,0.10094541575623434,0.10787837987606819,0.11496118852819978,0.12206625741554857,0.12906600224103393,0.13583283870757532,0.1422391825180921,0.14815744937550376,0.1534600549827297,0.15801941504268924,0.16170841777527548,0.1644461464511629,0.16623603060846606,0.1670904808139686,0.1670219076344543,0.16604272163670675,0.16416533338750972,0.1614021534536469],\"type\":\"scatter\"},{\"line\":{\"color\":\"grey\"},\"mode\":\"lines\",\"name\":\"Convex Hull\",\"showlegend\":false,\"x\":[-0.1017730255448116,-0.10640759743235621,-0.11068905966795743,-0.11453540632789265,-0.11786463148843931,-0.12059472922587477,-0.12264369361647653,-0.12392951873652192,-0.12437019866228839,-0.12390784675554849,-0.12259660769431738,-0.12052312971838298,-0.11777406452938916,-0.11443606382897971,-0.11059577931879853,-0.1063398627004895,-0.10175496567569643,-0.09692773994606325,-0.09194483721323383,-0.08689290917885199,-0.08186019689547021,-0.07695651793660593,-0.07230723943999978,-0.0679277540564015,-0.06341324754658305,-0.05860201167649915,-0.05371523326021756,-0.04899362893923345,-0.044677915355042,-0.041008809149138375,-0.038227026963017705,-0.03657263472589536,-0.036167875875381075,-0.03688137254694563,-0.03854671465163616,-0.04099125761909735,-0.04404120882201102,-0.04752277563305903,-0.05126518162465143,-0.05517611661084549,-0.05924714806700207,-0.06347394346134777,-0.06785217026210912,-0.0723774959375127,-0.07704558795578513,-0.08185211378515293,-0.08679273759186674,-0.09183836210407842,-0.09687557312845815,-0.1017730255448116],\"y\":[0.14584687345840322,0.14422918738551158,0.14146471372336555,0.13776414441464452,0.1333381714020279,0.12839748662819497,0.12315278203582526,0.11781474956759805,0.11259408116619278,0.10766823485100399,0.10306030087749542,0.0987485828975372,0.09471137979291377,0.09092699044540957,0.08737371373680901,0.08402984854889654,0.08087369376345664,0.0778835482622737,0.0750377109271322,0.07231448063981656,0.06973439913006467,0.06789148355684871,0.06779303855263026,0.06994128511714635,0.0728564518114369,0.07555472654160479,0.0781386093242952,0.08076600827859752,0.08359483152360112,0.0867829871783953,0.0904883833620695,0.09486776477431313,0.0998672193057576,0.10497948683495481,0.10977011772648161,0.11419443208898185,0.11827952470483949,0.12205249035643864,0.12554005671390775,0.128759401045696,0.1317174915756933,0.1344207975032673,0.13687578802778577,0.13908893234861636,0.14106669966512678,0.1428155591766847,0.144341970199774,0.14557828054274763,0.1462044756839913,0.14584687345840322],\"type\":\"scatter\"},{\"line\":{\"color\":\"grey\"},\"mode\":\"lines\",\"name\":\"Convex Hull\",\"showlegend\":false,\"x\":[0.18657613416004187,0.19012579517783657,0.19334188222139623,0.1962068336587334,0.19870308785786076,0.20081308318679097,0.2025192580135367,0.2038040507061105,0.20464989963252506,0.20503924316079294,0.20495451965892686,0.20437816749493937,0.20329262503684314,0.20168033065265084,0.199523722710375,0.1968052395780283,0.1935073196236234,0.18961256874801147,0.18514969222745672,0.18025600766999694,0.17508446464535227,0.1697880127232425,0.16451960147338762,0.15943218046550758,0.15467867357797702,0.1503779711778902,0.14654785639619236,0.14318742279962487,0.14029576395492913,0.13787197342884652,0.13591514478811856,0.13442437159948653,0.13339874742969196,0.13283736584547615,0.13275042359594139,0.13320497077426813,0.13428620594131563,0.13607933557076424,0.13866956613629441,0.14212487794392306,0.14629566250076992,0.15088323631778375,0.1556090255438656,0.1603557180066399,0.1650749599225923,0.1697186576591518,0.17423871758374745,0.17858704606380832,0.18271554946676347,0.18657613416004187],\"y\":[-0.020251974417611472,-0.02025169085422939,-0.018869391525910495,-0.01623286039314507,-0.012469881416423424,-0.007708238556235856,-0.002075715773072676,0.004299902972575849,0.011290833720219386,0.018769292509367645,0.02660749537953033,0.034677658370217156,0.04285199752093779,0.05100272887120199,0.05900206846051939,0.06672223232839972,0.0740354365143527,0.08081389664361675,0.0869297143479817,0.09225472268522417,0.09666071605877453,0.10001948887206306,0.10220283552852014,0.10308255043157608,0.10253048308937714,0.10049148062659412,0.097127252518406,0.09263959501298191,0.08723030435849101,0.08110117680310246,0.07445400859498537,0.06749059598230889,0.060412735213242176,0.05342222253595437,0.04670194514184844,0.04033796725071455,0.03438544569071394,0.028899523814232705,0.02393534497365706,0.019527317844782146,0.015447945294572558,0.011290292610271426,0.006705278780491315,0.0017736879953543965,-0.00323987747772557,-0.00807012190318683,-0.012451749545467733,-0.016119464669006624,-0.018807971538241753,-0.020251974417611472],\"type\":\"scatter\"},{\"line\":{\"color\":\"grey\"},\"mode\":\"lines\",\"name\":\"Convex Hull\",\"showlegend\":false,\"x\":[-0.1938718717416383,-0.19582794096474163,-0.19665288765130579,-0.196433106371825,-0.19525499169679358,-0.1932049381967057,-0.1903693404420557,-0.1868345930033377,-0.18268709045104606,-0.17801322735567496,-0.17289939828771864,-0.1674319978176714,-0.16169742051602742,-0.15578206095328098,-0.1497723136999263,-0.14374291826047558,-0.13771608135532934,-0.13169921559979975,-0.12569973278152186,-0.11972504468813078,-0.11381487979786872,-0.10817252412571689,-0.10305288517981846,-0.0987108901605833,-0.09540146626842114,-0.09336854659087658,-0.09261762882848719,-0.09292352626514706,-0.09405160879671645,-0.0957672463190556,-0.09783580872802476,-0.1000226659194842,-0.10212970282978306,-0.10430285742710031,-0.10687699088806238,-0.11018891350273094,-0.11455305074715119,-0.11997075429530143,-0.12621308812424753,-0.13304577970007103,-0.14023624547200225,-0.14759070617553913,-0.15495416333247425,-0.1621733027477536,-0.1690948102263234,-0.17556537157312943,-0.1814316725931179,-0.18654039909123482,-0.19073823687242628,-0.1938718717416383],\"y\":[0.0059553274826292905,0.0027895517196116007,-0.0012254512929394054,-0.00595469833104051,-0.011263206170708518,-0.017015991587960216,-0.02307807135881238,-0.029314462259281814,-0.035590181065385314,-0.04177024455313965,-0.047719669498561615,-0.05330347267766801,-0.058386670866475615,-0.06283428084100122,-0.06651131937726162,-0.06929795974978362,-0.07114268999556247,-0.07201323672407958,-0.07187732762114556,-0.0707026903725709,-0.06848211200341639,-0.06533520699919917,-0.0614216187124227,-0.056901005765569425,-0.05193302678112175,-0.046673714623498286,-0.04120046834302595,-0.03551460937521149,-0.029614344812391606,-0.023497881746902854,-0.017163427271081944,-0.010609188477265453,-0.0038734438521128914,0.002627966309710477,0.008271878476838468,0.01243299017208964,0.014539084397754344,0.01476039718166331,0.013813290724418082,0.012426782736917868,0.011311084500296699,0.010744330702828167,0.010572841106593867,0.010624181377249953,0.010725917180452583,0.01070561418185791,0.010390838047122089,0.00960915444190128,0.008188129031851636,0.005955327482629287],\"type\":\"scatter\"}],                        {\"template\":{\"data\":{\"histogram2dcontour\":[{\"type\":\"histogram2dcontour\",\"colorbar\":{\"outlinewidth\":0,\"ticks\":\"\"},\"colorscale\":[[0.0,\"#0d0887\"],[0.1111111111111111,\"#46039f\"],[0.2222222222222222,\"#7201a8\"],[0.3333333333333333,\"#9c179e\"],[0.4444444444444444,\"#bd3786\"],[0.5555555555555556,\"#d8576b\"],[0.6666666666666666,\"#ed7953\"],[0.7777777777777778,\"#fb9f3a\"],[0.8888888888888888,\"#fdca26\"],[1.0,\"#f0f921\"]]}],\"choropleth\":[{\"type\":\"choropleth\",\"colorbar\":{\"outlinewidth\":0,\"ticks\":\"\"}}],\"histogram2d\":[{\"type\":\"histogram2d\",\"colorbar\":{\"outlinewidth\":0,\"ticks\":\"\"},\"colorscale\":[[0.0,\"#0d0887\"],[0.1111111111111111,\"#46039f\"],[0.2222222222222222,\"#7201a8\"],[0.3333333333333333,\"#9c179e\"],[0.4444444444444444,\"#bd3786\"],[0.5555555555555556,\"#d8576b\"],[0.6666666666666666,\"#ed7953\"],[0.7777777777777778,\"#fb9f3a\"],[0.8888888888888888,\"#fdca26\"],[1.0,\"#f0f921\"]]}],\"heatmap\":[{\"type\":\"heatmap\",\"colorbar\":{\"outlinewidth\":0,\"ticks\":\"\"},\"colorscale\":[[0.0,\"#0d0887\"],[0.1111111111111111,\"#46039f\"],[0.2222222222222222,\"#7201a8\"],[0.3333333333333333,\"#9c179e\"],[0.4444444444444444,\"#bd3786\"],[0.5555555555555556,\"#d8576b\"],[0.6666666666666666,\"#ed7953\"],[0.7777777777777778,\"#fb9f3a\"],[0.8888888888888888,\"#fdca26\"],[1.0,\"#f0f921\"]]}],\"heatmapgl\":[{\"type\":\"heatmapgl\",\"colorbar\":{\"outlinewidth\":0,\"ticks\":\"\"},\"colorscale\":[[0.0,\"#0d0887\"],[0.1111111111111111,\"#46039f\"],[0.2222222222222222,\"#7201a8\"],[0.3333333333333333,\"#9c179e\"],[0.4444444444444444,\"#bd3786\"],[0.5555555555555556,\"#d8576b\"],[0.6666666666666666,\"#ed7953\"],[0.7777777777777778,\"#fb9f3a\"],[0.8888888888888888,\"#fdca26\"],[1.0,\"#f0f921\"]]}],\"contourcarpet\":[{\"type\":\"contourcarpet\",\"colorbar\":{\"outlinewidth\":0,\"ticks\":\"\"}}],\"contour\":[{\"type\":\"contour\",\"colorbar\":{\"outlinewidth\":0,\"ticks\":\"\"},\"colorscale\":[[0.0,\"#0d0887\"],[0.1111111111111111,\"#46039f\"],[0.2222222222222222,\"#7201a8\"],[0.3333333333333333,\"#9c179e\"],[0.4444444444444444,\"#bd3786\"],[0.5555555555555556,\"#d8576b\"],[0.6666666666666666,\"#ed7953\"],[0.7777777777777778,\"#fb9f3a\"],[0.8888888888888888,\"#fdca26\"],[1.0,\"#f0f921\"]]}],\"surface\":[{\"type\":\"surface\",\"colorbar\":{\"outlinewidth\":0,\"ticks\":\"\"},\"colorscale\":[[0.0,\"#0d0887\"],[0.1111111111111111,\"#46039f\"],[0.2222222222222222,\"#7201a8\"],[0.3333333333333333,\"#9c179e\"],[0.4444444444444444,\"#bd3786\"],[0.5555555555555556,\"#d8576b\"],[0.6666666666666666,\"#ed7953\"],[0.7777777777777778,\"#fb9f3a\"],[0.8888888888888888,\"#fdca26\"],[1.0,\"#f0f921\"]]}],\"mesh3d\":[{\"type\":\"mesh3d\",\"colorbar\":{\"outlinewidth\":0,\"ticks\":\"\"}}],\"scatter\":[{\"fillpattern\":{\"fillmode\":\"overlay\",\"size\":10,\"solidity\":0.2},\"type\":\"scatter\"}],\"parcoords\":[{\"type\":\"parcoords\",\"line\":{\"colorbar\":{\"outlinewidth\":0,\"ticks\":\"\"}}}],\"scatterpolargl\":[{\"type\":\"scatterpolargl\",\"marker\":{\"colorbar\":{\"outlinewidth\":0,\"ticks\":\"\"}}}],\"bar\":[{\"error_x\":{\"color\":\"#2a3f5f\"},\"error_y\":{\"color\":\"#2a3f5f\"},\"marker\":{\"line\":{\"color\":\"#E5ECF6\",\"width\":0.5},\"pattern\":{\"fillmode\":\"overlay\",\"size\":10,\"solidity\":0.2}},\"type\":\"bar\"}],\"scattergeo\":[{\"type\":\"scattergeo\",\"marker\":{\"colorbar\":{\"outlinewidth\":0,\"ticks\":\"\"}}}],\"scatterpolar\":[{\"type\":\"scatterpolar\",\"marker\":{\"colorbar\":{\"outlinewidth\":0,\"ticks\":\"\"}}}],\"histogram\":[{\"marker\":{\"pattern\":{\"fillmode\":\"overlay\",\"size\":10,\"solidity\":0.2}},\"type\":\"histogram\"}],\"scattergl\":[{\"type\":\"scattergl\",\"marker\":{\"colorbar\":{\"outlinewidth\":0,\"ticks\":\"\"}}}],\"scatter3d\":[{\"type\":\"scatter3d\",\"line\":{\"colorbar\":{\"outlinewidth\":0,\"ticks\":\"\"}},\"marker\":{\"colorbar\":{\"outlinewidth\":0,\"ticks\":\"\"}}}],\"scattermapbox\":[{\"type\":\"scattermapbox\",\"marker\":{\"colorbar\":{\"outlinewidth\":0,\"ticks\":\"\"}}}],\"scatterternary\":[{\"type\":\"scatterternary\",\"marker\":{\"colorbar\":{\"outlinewidth\":0,\"ticks\":\"\"}}}],\"scattercarpet\":[{\"type\":\"scattercarpet\",\"marker\":{\"colorbar\":{\"outlinewidth\":0,\"ticks\":\"\"}}}],\"carpet\":[{\"aaxis\":{\"endlinecolor\":\"#2a3f5f\",\"gridcolor\":\"white\",\"linecolor\":\"white\",\"minorgridcolor\":\"white\",\"startlinecolor\":\"#2a3f5f\"},\"baxis\":{\"endlinecolor\":\"#2a3f5f\",\"gridcolor\":\"white\",\"linecolor\":\"white\",\"minorgridcolor\":\"white\",\"startlinecolor\":\"#2a3f5f\"},\"type\":\"carpet\"}],\"table\":[{\"cells\":{\"fill\":{\"color\":\"#EBF0F8\"},\"line\":{\"color\":\"white\"}},\"header\":{\"fill\":{\"color\":\"#C8D4E3\"},\"line\":{\"color\":\"white\"}},\"type\":\"table\"}],\"barpolar\":[{\"marker\":{\"line\":{\"color\":\"#E5ECF6\",\"width\":0.5},\"pattern\":{\"fillmode\":\"overlay\",\"size\":10,\"solidity\":0.2}},\"type\":\"barpolar\"}],\"pie\":[{\"automargin\":true,\"type\":\"pie\"}]},\"layout\":{\"autotypenumbers\":\"strict\",\"colorway\":[\"#636efa\",\"#EF553B\",\"#00cc96\",\"#ab63fa\",\"#FFA15A\",\"#19d3f3\",\"#FF6692\",\"#B6E880\",\"#FF97FF\",\"#FECB52\"],\"font\":{\"color\":\"#2a3f5f\"},\"hovermode\":\"closest\",\"hoverlabel\":{\"align\":\"left\"},\"paper_bgcolor\":\"white\",\"plot_bgcolor\":\"#E5ECF6\",\"polar\":{\"bgcolor\":\"#E5ECF6\",\"angularaxis\":{\"gridcolor\":\"white\",\"linecolor\":\"white\",\"ticks\":\"\"},\"radialaxis\":{\"gridcolor\":\"white\",\"linecolor\":\"white\",\"ticks\":\"\"}},\"ternary\":{\"bgcolor\":\"#E5ECF6\",\"aaxis\":{\"gridcolor\":\"white\",\"linecolor\":\"white\",\"ticks\":\"\"},\"baxis\":{\"gridcolor\":\"white\",\"linecolor\":\"white\",\"ticks\":\"\"},\"caxis\":{\"gridcolor\":\"white\",\"linecolor\":\"white\",\"ticks\":\"\"}},\"coloraxis\":{\"colorbar\":{\"outlinewidth\":0,\"ticks\":\"\"}},\"colorscale\":{\"sequential\":[[0.0,\"#0d0887\"],[0.1111111111111111,\"#46039f\"],[0.2222222222222222,\"#7201a8\"],[0.3333333333333333,\"#9c179e\"],[0.4444444444444444,\"#bd3786\"],[0.5555555555555556,\"#d8576b\"],[0.6666666666666666,\"#ed7953\"],[0.7777777777777778,\"#fb9f3a\"],[0.8888888888888888,\"#fdca26\"],[1.0,\"#f0f921\"]],\"sequentialminus\":[[0.0,\"#0d0887\"],[0.1111111111111111,\"#46039f\"],[0.2222222222222222,\"#7201a8\"],[0.3333333333333333,\"#9c179e\"],[0.4444444444444444,\"#bd3786\"],[0.5555555555555556,\"#d8576b\"],[0.6666666666666666,\"#ed7953\"],[0.7777777777777778,\"#fb9f3a\"],[0.8888888888888888,\"#fdca26\"],[1.0,\"#f0f921\"]],\"diverging\":[[0,\"#8e0152\"],[0.1,\"#c51b7d\"],[0.2,\"#de77ae\"],[0.3,\"#f1b6da\"],[0.4,\"#fde0ef\"],[0.5,\"#f7f7f7\"],[0.6,\"#e6f5d0\"],[0.7,\"#b8e186\"],[0.8,\"#7fbc41\"],[0.9,\"#4d9221\"],[1,\"#276419\"]]},\"xaxis\":{\"gridcolor\":\"white\",\"linecolor\":\"white\",\"ticks\":\"\",\"title\":{\"standoff\":15},\"zerolinecolor\":\"white\",\"automargin\":true,\"zerolinewidth\":2},\"yaxis\":{\"gridcolor\":\"white\",\"linecolor\":\"white\",\"ticks\":\"\",\"title\":{\"standoff\":15},\"zerolinecolor\":\"white\",\"automargin\":true,\"zerolinewidth\":2},\"scene\":{\"xaxis\":{\"backgroundcolor\":\"#E5ECF6\",\"gridcolor\":\"white\",\"linecolor\":\"white\",\"showbackground\":true,\"ticks\":\"\",\"zerolinecolor\":\"white\",\"gridwidth\":2},\"yaxis\":{\"backgroundcolor\":\"#E5ECF6\",\"gridcolor\":\"white\",\"linecolor\":\"white\",\"showbackground\":true,\"ticks\":\"\",\"zerolinecolor\":\"white\",\"gridwidth\":2},\"zaxis\":{\"backgroundcolor\":\"#E5ECF6\",\"gridcolor\":\"white\",\"linecolor\":\"white\",\"showbackground\":true,\"ticks\":\"\",\"zerolinecolor\":\"white\",\"gridwidth\":2}},\"shapedefaults\":{\"line\":{\"color\":\"#2a3f5f\"}},\"annotationdefaults\":{\"arrowcolor\":\"#2a3f5f\",\"arrowhead\":0,\"arrowwidth\":1},\"geo\":{\"bgcolor\":\"white\",\"landcolor\":\"#E5ECF6\",\"subunitcolor\":\"white\",\"showland\":true,\"showlakes\":true,\"lakecolor\":\"white\"},\"title\":{\"x\":0.05},\"mapbox\":{\"style\":\"light\"}}},\"xaxis\":{\"title\":{\"text\":\"\"},\"scaleanchor\":\"y\",\"scaleratio\":1,\"showgrid\":false,\"showticklabels\":false,\"zeroline\":true,\"zerolinecolor\":\"white\",\"zerolinewidth\":2},\"yaxis\":{\"title\":{\"text\":\"\"},\"scaleanchor\":\"x\",\"scaleratio\":1,\"showgrid\":false,\"showticklabels\":false,\"zeroline\":true,\"zerolinecolor\":\"white\",\"zerolinewidth\":2},\"shapes\":[{\"line\":{\"color\":\"white\",\"width\":3},\"type\":\"line\",\"x0\":0,\"x1\":0,\"y0\":-0.2962758784697113,\"y1\":0.21516693742302706},{\"line\":{\"color\":\"white\",\"width\":3},\"type\":\"line\",\"x0\":-0.1991752025651542,\"x1\":0.19036098011045924,\"y0\":0,\"y1\":0}],\"annotations\":[{\"font\":{\"color\":\"white\",\"size\":16.0},\"showarrow\":false,\"text\":\"men\",\"x\":0,\"xanchor\":\"right\",\"xref\":\"x\",\"y\":0.21516693742302706,\"yanchor\":\"top\",\"yref\":\"y\"},{\"font\":{\"color\":\"white\",\"size\":16.0},\"showarrow\":false,\"text\":\"women\",\"x\":0,\"xanchor\":\"left\",\"xref\":\"x\",\"y\":-0.2962758784697113,\"yanchor\":\"bottom\",\"yref\":\"y\"},{\"font\":{\"color\":\"white\",\"size\":16.0},\"showarrow\":false,\"text\":\"war\",\"x\":0.19036098011045924,\"xanchor\":\"right\",\"xref\":\"x\",\"y\":0,\"yanchor\":\"top\",\"yref\":\"y\"},{\"font\":{\"color\":\"white\",\"size\":16.0},\"showarrow\":false,\"text\":\"peace\",\"x\":-0.1991752025651542,\"xanchor\":\"left\",\"xref\":\"x\",\"y\":0,\"yanchor\":\"bottom\",\"yref\":\"y\"},{\"bgcolor\":\"white\",\"bordercolor\":\"#c7c7c7\",\"borderpad\":1.6,\"borderwidth\":0.8,\"font\":{\"color\":\"red\",\"family\":\"Courier New, monospace\",\"size\":8.0},\"opacity\":1,\"text\":\"Donald Trump and Bugs\\u003cbr\\u003e\",\"x\":0.014487050977036349,\"y\":0.12333383154918696},{\"bgcolor\":\"white\",\"bordercolor\":\"#c7c7c7\",\"borderpad\":1.6,\"borderwidth\":0.8,\"font\":{\"color\":\"red\",\"family\":\"Courier New, monospace\",\"size\":8.0},\"opacity\":1,\"text\":\"Political Email Scandal\\u003cbr\\u003e\",\"x\":-0.05246431866174653,\"y\":-0.1289048101670229},{\"bgcolor\":\"white\",\"bordercolor\":\"#c7c7c7\",\"borderpad\":1.6,\"borderwidth\":0.8,\"font\":{\"color\":\"red\",\"family\":\"Courier New, monospace\",\"size\":8.0},\"opacity\":1,\"text\":\"Obama, Debt, and Obstruction\\u003cbr\\u003e\",\"x\":0.11324934142810691,\"y\":0.009564345483940874},{\"bgcolor\":\"white\",\"bordercolor\":\"#c7c7c7\",\"borderpad\":1.6,\"borderwidth\":0.8,\"font\":{\"color\":\"red\",\"family\":\"Courier New, monospace\",\"size\":8.0},\"opacity\":1,\"text\":\"Peace and Security\\u003cbr\\u003e\",\"x\":-0.12338847876909949,\"y\":0.053979347261322835},{\"bgcolor\":\"white\",\"bordercolor\":\"#c7c7c7\",\"borderpad\":1.6,\"borderwidth\":0.8,\"font\":{\"color\":\"red\",\"family\":\"Courier New, monospace\",\"size\":8.0},\"opacity\":1,\"text\":\"Talent and Daughter Statement\\u003cbr\\u003e\",\"x\":0.019198828233259538,\"y\":-0.20070221944907232},{\"bgcolor\":\"white\",\"bordercolor\":\"#c7c7c7\",\"borderpad\":1.6,\"borderwidth\":0.8,\"font\":{\"color\":\"red\",\"family\":\"Courier New, monospace\",\"size\":8.0},\"opacity\":1,\"text\":\"Approval Ratings\\u003cbr\\u003e\",\"x\":-0.04542278313058335,\"y\":0.1712298902447458},{\"bgcolor\":\"white\",\"bordercolor\":\"#c7c7c7\",\"borderpad\":1.6,\"borderwidth\":0.8,\"font\":{\"color\":\"red\",\"family\":\"Courier New, monospace\",\"size\":8.0},\"opacity\":1,\"text\":\"Jobs, Economy, and Romney\\u003cbr\\u003e\",\"x\":0.08468240528677479,\"y\":0.10120374949070897},{\"bgcolor\":\"white\",\"bordercolor\":\"#c7c7c7\",\"borderpad\":1.6,\"borderwidth\":0.8,\"font\":{\"color\":\"red\",\"family\":\"Courier New, monospace\",\"size\":8.0},\"opacity\":1,\"text\":\"Making a Decision\\u003cbr\\u003e\",\"x\":-0.06770218345592491,\"y\":0.10021237705605701},{\"bgcolor\":\"white\",\"bordercolor\":\"#c7c7c7\",\"borderpad\":1.6,\"borderwidth\":0.8,\"font\":{\"color\":\"red\",\"family\":\"Courier New, monospace\",\"size\":8.0},\"opacity\":1,\"text\":\"Military Spending\\u003cbr\\u003e\",\"x\":0.16084069986559385,\"y\":0.03846125481678893},{\"bgcolor\":\"white\",\"bordercolor\":\"#c7c7c7\",\"borderpad\":1.6,\"borderwidth\":0.8,\"font\":{\"color\":\"red\",\"family\":\"Courier New, monospace\",\"size\":8.0},\"opacity\":1,\"text\":\"Terror Attack\\u003cbr\\u003e\",\"x\":-0.12613192817796673,\"y\":-0.021048767730894855},{\"font\":{\"color\":\"grey\",\"family\":\"Courier New, monospace\",\"size\":40.0},\"opacity\":0.4,\"text\":\"12.6%\",\"x\":-0.1991752025651542,\"xanchor\":\"left\",\"y\":-0.2962758784697113},{\"font\":{\"color\":\"grey\",\"family\":\"Courier New, monospace\",\"size\":40.0},\"opacity\":0.4,\"text\":\"35.9%\",\"x\":-0.1991752025651542,\"xanchor\":\"left\",\"y\":0.21516693742302706},{\"font\":{\"color\":\"grey\",\"family\":\"Courier New, monospace\",\"size\":40.0},\"opacity\":0.4,\"text\":\"6.9%\",\"x\":0.19036098011045924,\"xanchor\":\"left\",\"y\":-0.2962758784697113},{\"font\":{\"color\":\"grey\",\"family\":\"Courier New, monospace\",\"size\":40.0},\"opacity\":0.4,\"text\":\"44.6%\",\"x\":0.19036098011045924,\"xanchor\":\"left\",\"y\":0.21516693742302706}],\"font\":{\"size\":25},\"margin\":{\"t\":16.0,\"b\":16.0,\"r\":16.0,\"l\":16.0},\"height\":800,\"width\":800,\"showlegend\":false},                        {\"responsive\": true}                    ).then(function(){\n",
       "                            \n",
       "var gd = document.getElementById('a1fbe4fb-607a-4e21-86cd-5fa09dccd117');\n",
       "var x = new MutationObserver(function (mutations, observer) {{\n",
       "        var display = window.getComputedStyle(gd).display;\n",
       "        if (!display || display === 'none') {{\n",
       "            console.log([gd, 'removed!']);\n",
       "            Plotly.purge(gd);\n",
       "            observer.disconnect();\n",
       "        }}\n",
       "}});\n",
       "\n",
       "// Listen for the removal of the full notebook cells\n",
       "var notebookContainer = gd.closest('#notebook-container');\n",
       "if (notebookContainer) {{\n",
       "    x.observe(notebookContainer, {childList: true});\n",
       "}}\n",
       "\n",
       "// Listen for the clearing of the current output cell\n",
       "var outputEl = gd.closest('.output');\n",
       "if (outputEl) {{\n",
       "    x.observe(outputEl, {childList: true});\n",
       "}}\n",
       "\n",
       "                        })                };                });            </script>        </div>"
      ]
     },
     "metadata": {},
     "output_type": "display_data"
    }
   ],
   "source": [
    "fig"
   ]
  },
  {
   "cell_type": "code",
   "execution_count": null,
   "id": "a8d61c0d-ac28-4d64-a3ae-9a6413eb5998",
   "metadata": {},
   "outputs": [],
   "source": []
  },
  {
   "cell_type": "code",
   "execution_count": 12,
   "id": "1df2b375-a4b6-4cb9-8f28-9591487620d4",
   "metadata": {},
   "outputs": [],
   "source": [
    "import json\n",
    "\n",
    "\n",
    "file_path = \"bourdieu_docs.json\"\n",
    "bourdieu_docs_json = [x.dict() for x in bourdieu_docs]\n",
    "\n",
    "with open(file_path, 'w') as json_file:\n",
    "    json.dump(bourdieu_docs_json, json_file)\n",
    "\n",
    "   \n",
    "file_path = \"bourdieu_topics.json\"\n",
    "bourdieu_topics_json = [x.dict() for x in bourdieu_topics]\n",
    "with open(file_path, 'w') as json_file:\n",
    "    json.dump(bourdieu_topics_json, json_file)\n"
   ]
  },
  {
   "cell_type": "code",
   "execution_count": 13,
   "id": "225adc62-bb1b-4e2f-a361-c24bc21f5556",
   "metadata": {},
   "outputs": [],
   "source": []
  }
 ],
 "metadata": {
  "kernelspec": {
   "display_name": "Python 3 (ipykernel)",
   "language": "python",
   "name": "python3"
  },
  "language_info": {
   "codemirror_mode": {
    "name": "ipython",
    "version": 3
   },
   "file_extension": ".py",
   "mimetype": "text/x-python",
   "name": "python",
   "nbconvert_exporter": "python",
   "pygments_lexer": "ipython3",
   "version": "3.10.13"
  }
 },
 "nbformat": 4,
 "nbformat_minor": 5
}
