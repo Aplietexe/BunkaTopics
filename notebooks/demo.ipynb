{
 "cells": [
  {
   "cell_type": "code",
   "execution_count": 2,
   "id": "8deb089d-2056-4f1f-8ed0-b767738fab1c",
   "metadata": {},
   "outputs": [
    {
     "ename": "ModuleNotFoundError",
     "evalue": "No module named 'bunkatopics'",
     "output_type": "error",
     "traceback": [
      "\u001b[0;31m---------------------------------------------------------------------------\u001b[0m",
      "\u001b[0;31mModuleNotFoundError\u001b[0m                       Traceback (most recent call last)",
      "\u001b[0;32m/var/folders/lx/9b13r6ln63jb54_3xlf9b_380000gn/T/ipykernel_93319/1255350474.py\u001b[0m in \u001b[0;36m<module>\u001b[0;34m\u001b[0m\n\u001b[0;32m----> 1\u001b[0;31m \u001b[0;32mfrom\u001b[0m \u001b[0mbunkatopics\u001b[0m \u001b[0;32mimport\u001b[0m \u001b[0mBunkaTopics\u001b[0m\u001b[0;34m\u001b[0m\u001b[0;34m\u001b[0m\u001b[0m\n\u001b[0m\u001b[1;32m      2\u001b[0m \u001b[0;32mimport\u001b[0m \u001b[0mpandas\u001b[0m \u001b[0;32mas\u001b[0m \u001b[0mpd\u001b[0m\u001b[0;34m\u001b[0m\u001b[0;34m\u001b[0m\u001b[0m\n\u001b[1;32m      3\u001b[0m \u001b[0;34m\u001b[0m\u001b[0m\n\u001b[1;32m      4\u001b[0m \u001b[0mdata\u001b[0m \u001b[0;34m=\u001b[0m \u001b[0mpd\u001b[0m\u001b[0;34m.\u001b[0m\u001b[0mread_csv\u001b[0m\u001b[0;34m(\u001b[0m\u001b[0;34m'data/imdb.csv'\u001b[0m\u001b[0;34m,\u001b[0m \u001b[0mindex_col\u001b[0m \u001b[0;34m=\u001b[0m \u001b[0;34m[\u001b[0m\u001b[0;36m0\u001b[0m\u001b[0;34m]\u001b[0m\u001b[0;34m)\u001b[0m\u001b[0;34m\u001b[0m\u001b[0;34m\u001b[0m\u001b[0m\n\u001b[1;32m      5\u001b[0m \u001b[0mdata\u001b[0m \u001b[0;34m=\u001b[0m \u001b[0mdata\u001b[0m\u001b[0;34m.\u001b[0m\u001b[0msample\u001b[0m\u001b[0;34m(\u001b[0m\u001b[0;36m2000\u001b[0m\u001b[0;34m,\u001b[0m \u001b[0mrandom_state\u001b[0m \u001b[0;34m=\u001b[0m \u001b[0;36m42\u001b[0m\u001b[0;34m)\u001b[0m\u001b[0;34m\u001b[0m\u001b[0;34m\u001b[0m\u001b[0m\n",
      "\u001b[0;31mModuleNotFoundError\u001b[0m: No module named 'bunkatopics'"
     ]
    }
   ],
   "source": [
    "from bunkatopics import BunkaTopics\n",
    "import pandas as pd\n",
    "\n",
    "data = pd.read_csv('data/imdb.csv', index_col = [0])\n",
    "data = data.sample(2000, random_state = 42)\n",
    "\n",
    "# Instantiate the model, extract ther terms and Embed the documents\n",
    "\n",
    "model = BunkaTopics(data, # dataFrame\n",
    "                    text_var = 'description', # Text Columns\n",
    "                    index_var = 'imdb',  # Index Column (Mandatory)\n",
    "                    extract_terms=True, # extract Terms ?\n",
    "                    terms_embeddings=True, # extract terms Embeddings?\n",
    "                    docs_embeddings=True, # extract Docs Embeddings?\n",
    "                    embeddings_model=\"distiluse-base-multilingual-cased-v1\", # Chose an embeddings Model\n",
    "                    multiprocessing=True, # Multiprocessing of Embeddings\n",
    "                    language=\"en\", # Chose between English \"en\" and French \"fr\"\n",
    "                    sample_size_terms = len(data),\n",
    "                    terms_limit=10000, # Top Terms to Output\n",
    "                    terms_ents=True, # Extract entities\n",
    "                    terms_ngrams=(1, 2), # Chose Ngrams to extract\n",
    "                    terms_ncs=True, # Extract Noun Chunks\n",
    "                    terms_include_pos=[\"NOUN\", \"PROPN\", \"ADJ\"], # Include Part-of-Speech\n",
    "                    terms_include_types=[\"PERSON\", \"ORG\"]) # Include Entity Types\n",
    "\n",
    "# Extract the topics\n",
    "\n",
    "topics = model.get_clusters(topic_number= 15, # Number of Topics\n",
    "                    top_terms_included = 1000, # Compute the specific terms from the top n terms\n",
    "                    top_terms = 5, # Most specific Terms to describe the topics\n",
    "                    term_type = \"lemma\", # Use \"lemma\" of \"text\"\n",
    "                    ngrams = [1, 2]) # N-grams for Topic Representation\n",
    "\n",
    "# Visualize the clusters. It is adviced to choose less that 5 terms - top_terms = 5 - to avoid overchanging the Figure\n",
    "\n",
    "fig = model.visualize_clusters(search = None, width=1000, height=1000)\n",
    "fig.show()"
   ]
  },
  {
   "cell_type": "code",
   "execution_count": null,
   "id": "f821a7ca-fbc5-4311-bc19-ab5a15fe6050",
   "metadata": {},
   "outputs": [],
   "source": []
  }
 ],
 "metadata": {
  "kernelspec": {
   "display_name": "Python 3 (ipykernel)",
   "language": "python",
   "name": "python3"
  },
  "language_info": {
   "codemirror_mode": {
    "name": "ipython",
    "version": 3
   },
   "file_extension": ".py",
   "mimetype": "text/x-python",
   "name": "python",
   "nbconvert_exporter": "python",
   "pygments_lexer": "ipython3",
   "version": "3.9.7"
  }
 },
 "nbformat": 4,
 "nbformat_minor": 5
}
