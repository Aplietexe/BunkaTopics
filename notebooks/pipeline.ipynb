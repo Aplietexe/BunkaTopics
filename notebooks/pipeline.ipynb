{
 "cells": [
  {
   "cell_type": "code",
   "execution_count": 1,
   "id": "778b6c2e-611e-411f-b36b-ab62ad399b8d",
   "metadata": {},
   "outputs": [],
   "source": [
    "import sys\n",
    "sys.path.append('../')\n",
    "import pandas as pd\n",
    "from bunkatopics import Bunka\n",
    "import random\n",
    "from sklearn.datasets import fetch_20newsgroups\n",
    "\n",
    "full_docs = fetch_20newsgroups(subset='all',  remove=('headers', 'footers', 'quotes'))['data']\n",
    "full_docs = random.sample(full_docs, 5000)"
   ]
  },
  {
   "attachments": {},
   "cell_type": "markdown",
   "id": "4e14ed9d-d548-4566-907f-0bc43770412e",
   "metadata": {},
   "source": [
    "#### Instantiate BunkaTopics"
   ]
  },
  {
   "attachments": {},
   "cell_type": "markdown",
   "id": "12d2ba17-e598-4bb4-b948-ce6126207048",
   "metadata": {},
   "source": [
    "#### Add the Embedding Model you wish from Langchain"
   ]
  },
  {
   "cell_type": "code",
   "execution_count": 2,
   "id": "57759278-7f45-4f16-8a53-2f2a43144501",
   "metadata": {},
   "outputs": [
    {
     "name": "stderr",
     "output_type": "stream",
     "text": [
      "\u001b[1mINFO      \u001b[0m|\u001b[33m2023-06-07 15:00:04\u001b[0m|\u001b[35m{}\u001b[0m|\u001b[34mfit\u001b[0m|\u001b[1mExtracting Terms\u001b[0m\n",
      "100%|█████████████████████████████████████████████████████████████████████████| 5000/5000 [03:20<00:00, 24.93it/s]\n",
      "\u001b[1mINFO      \u001b[0m|\u001b[33m2023-06-07 15:03:27\u001b[0m|\u001b[35m{}\u001b[0m|\u001b[34mfit\u001b[0m|\u001b[1mEmbedding Documents, this may take few minutes\u001b[0m\n",
      "\u001b[1mINFO      \u001b[0m|\u001b[33m2023-06-07 15:04:33\u001b[0m|\u001b[35m{}\u001b[0m|\u001b[34mfit\u001b[0m|\u001b[1mReducing Dimensions\u001b[0m\n",
      "OMP: Info #276: omp_set_nested routine deprecated, please use omp_set_max_active_levels instead.\n"
     ]
    }
   ],
   "source": [
    "from langchain.embeddings import HuggingFaceEmbeddings, HuggingFaceInstructEmbeddings\n",
    "#embedding_model = HuggingFaceInstructEmbeddings(model_name=\"hkunlp/instructor-large\")\n",
    "embedding_model = HuggingFaceEmbeddings(model_name=\"all-MiniLM-L6-v2\")\n",
    "\n",
    "bunka = Bunka(model_hf=embedding_model)\n",
    "\n",
    "bunka.fit(full_docs)"
   ]
  },
  {
   "attachments": {},
   "cell_type": "markdown",
   "id": "b800e956-051d-4e7d-bd52-c1a215ac7bef",
   "metadata": {},
   "source": [
    "#### Get the topics"
   ]
  },
  {
   "cell_type": "code",
   "execution_count": 3,
   "id": "192a5b8c-a416-46ff-8834-39f94d57ca78",
   "metadata": {},
   "outputs": [],
   "source": [
    "df_topics = bunka.get_topics(n_clusters = 5)"
   ]
  },
  {
   "cell_type": "code",
   "execution_count": 4,
   "id": "8469ef94-b2e8-4fba-9fe1-0861a9a363ba",
   "metadata": {},
   "outputs": [],
   "source": [
    "topic_fig = bunka.visualize_topics(width=800, height=800)"
   ]
  },
  {
   "attachments": {},
   "cell_type": "markdown",
   "id": "79be6418-1931-4e26-b7be-aaf3a1ab0ea4",
   "metadata": {},
   "source": [
    "### Get the Bourdieu Visualization"
   ]
  },
  {
   "cell_type": "code",
   "execution_count": 5,
   "id": "b379e6a9-784c-4306-917d-09df36e31268",
   "metadata": {},
   "outputs": [],
   "source": [
    "\n",
    "bourdieu_fig = bunka.visualize_bourdieu(x_left_words=[\"past\"],\n",
    "                                        x_right_words=[\"future\", \"futuristis\"],\n",
    "                                        y_top_words=[\"politics\", \"Government\"],\n",
    "                                        y_bottom_words=[\"cultural phenomenons\"],\n",
    "                                        height=2000,\n",
    "                                        width=2000, \n",
    "                                        clustering =False)\n"
   ]
  },
  {
   "attachments": {},
   "cell_type": "markdown",
   "id": "2921a9f7-f088-4bdf-8916-3f93e91ef26e",
   "metadata": {},
   "source": [
    "#### Get the most speficic documents per topic"
   ]
  },
  {
   "cell_type": "code",
   "execution_count": 6,
   "id": "dd25255f-8547-4f7e-980e-17cd05ebc162",
   "metadata": {},
   "outputs": [],
   "source": [
    "top_doc = bunka.get_top_documents(top_docs=5)"
   ]
  },
  {
   "attachments": {},
   "cell_type": "markdown",
   "id": "574dbcbb-470d-4c03-b4a6-07ff74da5adc",
   "metadata": {},
   "source": [
    "#### Get the Distribution of topics"
   ]
  },
  {
   "cell_type": "code",
   "execution_count": 7,
   "id": "9784114f-e597-4149-bd54-94c44901b903",
   "metadata": {},
   "outputs": [],
   "source": [
    "fig_repartition = bunka.get_topic_repartition(width=1200, height=800)"
   ]
  },
  {
   "attachments": {},
   "cell_type": "markdown",
   "id": "09ef41f8-d2c4-4aab-a3d2-bcdbdf04b14a",
   "metadata": {},
   "source": [
    "#### Search your data using Vector Search"
   ]
  },
  {
   "cell_type": "code",
   "execution_count": 8,
   "id": "71ff26db-a802-4dbe-a10c-6d093675ffc1",
   "metadata": {},
   "outputs": [],
   "source": [
    "df_search = bunka.search('Space Exploration')"
   ]
  },
  {
   "attachments": {},
   "cell_type": "markdown",
   "id": "89e43c14-2a91-45d9-a94a-89b8fdab0be3",
   "metadata": {},
   "source": [
    "#### Compute Topic Coherence"
   ]
  },
  {
   "cell_type": "code",
   "execution_count": 9,
   "id": "41aaceab-0028-41bf-ae30-5de8deca5f61",
   "metadata": {},
   "outputs": [
    {
     "data": {
      "text/plain": [
       "0.6518552907085245"
      ]
     },
     "execution_count": 9,
     "metadata": {},
     "output_type": "execute_result"
    }
   ],
   "source": [
    "topic_coherence = bunka.get_topic_coherence()\n",
    "topic_coherence"
   ]
  },
  {
   "cell_type": "code",
   "execution_count": null,
   "id": "88cdffdf-bc34-478d-a0b0-026b7abbc844",
   "metadata": {},
   "outputs": [],
   "source": []
  },
  {
   "cell_type": "code",
   "execution_count": 10,
   "id": "26b587fd-af42-4875-8c27-5b265e43e63a",
   "metadata": {},
   "outputs": [],
   "source": [
    "### Add GPT Embeddings"
   ]
  },
  {
   "cell_type": "code",
   "execution_count": null,
   "id": "55b581f1-77a3-40f3-abee-780b05c15b67",
   "metadata": {},
   "outputs": [],
   "source": []
  }
 ],
 "metadata": {
  "kernelspec": {
   "display_name": "Python 3 (ipykernel)",
   "language": "python",
   "name": "python3"
  },
  "language_info": {
   "codemirror_mode": {
    "name": "ipython",
    "version": 3
   },
   "file_extension": ".py",
   "mimetype": "text/x-python",
   "name": "python",
   "nbconvert_exporter": "python",
   "pygments_lexer": "ipython3",
   "version": "3.9.16"
  }
 },
 "nbformat": 4,
 "nbformat_minor": 5
}
