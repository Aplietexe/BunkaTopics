{
 "cells": [
  {
   "cell_type": "code",
   "execution_count": null,
   "metadata": {},
   "outputs": [],
   "source": [
    "from bunkatopics import Bunka\n",
    "from langchain_community.embeddings import HuggingFaceEmbeddings\n",
    "from datasets import load_dataset\n",
    "import random\n",
    "\n",
    "model_name = \"all-MiniLM-L6-v2\"\n",
    "embedding_model = HuggingFaceEmbeddings(model_name=model_name) # We recommend starting with a small model\n",
    "\n",
    "\n",
    "#Scientific Litterature Data\n",
    "dataset = load_dataset(\"CShorten/ML-ArXiv-Papers\")[\"train\"][\"title\"]\n",
    "raw_docs = random.sample(dataset, 200)\n",
    "\n",
    "\n",
    "# Initialize Bunka with your chosen model and language preference\n",
    "bunka = Bunka(embedding_model=embedding_model, language='english') # You can choose any language you prefer\n",
    "\n",
    "# Fit Bunka to your text data\n",
    "bunka.fit(raw_docs)\n",
    "\n",
    "df_topics = bunka.get_topics(n_clusters=10, name_length=5, min_count_terms = 2) # Specify the number of terms to describe each topic\n",
    "bunka.clean_data_by_topics()\n"
   ]
  }
 ],
 "metadata": {
  "language_info": {
   "name": "python"
  }
 },
 "nbformat": 4,
 "nbformat_minor": 2
}
