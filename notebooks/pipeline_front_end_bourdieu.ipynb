{
 "cells": [
  {
   "cell_type": "code",
   "execution_count": 1,
   "id": "778b6c2e-611e-411f-b36b-ab62ad399b8d",
   "metadata": {
    "scrolled": true
   },
   "outputs": [
    {
     "data": {
      "text/plain": [
       "True"
      ]
     },
     "execution_count": 1,
     "metadata": {},
     "output_type": "execute_result"
    }
   ],
   "source": [
    "import sys\n",
    "\n",
    "sys.path.append(\"../\")\n",
    "\n",
    "from bunkatopics import Bunka\n",
    "from bunkatopics.functions.clean_text import clean_tweet\n",
    "from langchain.embeddings import HuggingFaceEmbeddings\n",
    "import random\n",
    "from datasets import load_dataset\n",
    "import os\n",
    "from dotenv import load_dotenv\n",
    "from bunkatopics.functions.clean_text import clean_tweet\n",
    "\n",
    "load_dotenv()"
   ]
  },
  {
   "cell_type": "code",
   "execution_count": 2,
   "id": "57df812b-b04c-4103-8106-f6915d4088ad",
   "metadata": {},
   "outputs": [],
   "source": [
    "dataset = load_dataset(\"rguo123/trump_tweets\")[\"train\"]\n",
    "full_docs = dataset[\"content\"]\n",
    "full_docs = random.sample(full_docs, 2000)\n",
    "full_docs = [clean_tweet(x) for x in full_docs]\n",
    "full_docs = [x for x in full_docs if len(x)>50]"
   ]
  },
  {
   "cell_type": "code",
   "execution_count": 3,
   "id": "21e0b21d-c0b0-4560-a913-9c6cc2b51b74",
   "metadata": {},
   "outputs": [
    {
     "name": "stderr",
     "output_type": "stream",
     "text": [
      "\u001b[1mINFO      \u001b[0m|\u001b[33m2023-10-28 19:37:44\u001b[0m|\u001b[35m{}\u001b[0m|\u001b[34mfit\u001b[0m|\u001b[1mExtracting Terms\u001b[0m\n",
      "/Users/charlesdedampierre/Desktop/bunka_related_projects/BunkaTopics/.venv/lib/python3.10/site-packages/spacy/util.py:910: UserWarning: [W095] Model 'en_core_web_sm' (3.5.0) was trained with spaCy v3.5.0 and may not be 100% compatible with the current version (3.6.1). If you see errors or degraded performance, download a newer compatible model or retrain your custom model with the current spaCy version. For more details and available updates, run: python -m spacy validate\n",
      "  warnings.warn(warn_msg)\n",
      "100%|███████████████████████████████████████████████████████| 1615/1615 [00:09<00:00, 163.71it/s]\n",
      "\u001b[1mINFO      \u001b[0m|\u001b[33m2023-10-28 19:37:55\u001b[0m|\u001b[35m{}\u001b[0m|\u001b[34mfit\u001b[0m|\u001b[1mEmbedding Documents, this may take few minutes\u001b[0m\n",
      "\u001b[1mINFO      \u001b[0m|\u001b[33m2023-10-28 19:38:10\u001b[0m|\u001b[35m{}\u001b[0m|\u001b[34mfit\u001b[0m|\u001b[1mReducing Dimensions\u001b[0m\n",
      "/Users/charlesdedampierre/Desktop/bunka_related_projects/BunkaTopics/.venv/lib/python3.10/site-packages/umap/umap_.py:1943: UserWarning: n_jobs value -1 overridden to 1 by setting random_state. Use no seed for parallelism.\n",
      "  warn(f\"n_jobs value {self.n_jobs} overridden to 1 by setting random_state. Use no seed for parallelism.\")\n",
      "OMP: Info #276: omp_set_nested routine deprecated, please use omp_set_max_active_levels instead.\n"
     ]
    },
    {
     "name": "stdout",
     "output_type": "stream",
     "text": [
      "CPU times: user 1min 1s, sys: 8.57 s, total: 1min 9s\n",
      "Wall time: 31.7 s\n"
     ]
    }
   ],
   "source": [
    "%%time\n",
    "\n",
    "#embedding_model = HuggingFaceEmbeddings(model_name=\"all-MiniLM-L6-v2\")\n",
    "embedding_model = HuggingFaceEmbeddings(model_name=\"BAAI/bge-base-en-v1.5\")\n",
    "\n",
    "bunka = Bunka(embedding_model=embedding_model)\n",
    "bunka.fit(full_docs)"
   ]
  },
  {
   "cell_type": "code",
   "execution_count": null,
   "id": "cb51d93d-0da7-481f-bb55-7531a73fe571",
   "metadata": {},
   "outputs": [],
   "source": []
  },
  {
   "cell_type": "code",
   "execution_count": 4,
   "id": "e35cc552-af9c-4fff-9525-3cf9fe93582d",
   "metadata": {},
   "outputs": [],
   "source": [
    "import pandas as pd\n",
    "\n",
    "test = pd.DataFrame({\"lemma\":[x.lemma for x in bunka.terms], \n",
    "                    \"count_terms\":[x.count_terms for x in bunka.terms], \n",
    "                    \"term_id\":[x.term_id for x in bunka.terms]})\n",
    "test = test.drop_duplicates()\n"
   ]
  },
  {
   "cell_type": "code",
   "execution_count": null,
   "id": "68513e09-0215-4587-8b5b-4d2078600546",
   "metadata": {},
   "outputs": [],
   "source": []
  },
  {
   "cell_type": "code",
   "execution_count": 5,
   "id": "04c8472e-677e-41ec-965a-a44f6f8161f7",
   "metadata": {},
   "outputs": [],
   "source": [
    "# Topic Modeling\n",
    "df_topics = bunka.get_topics(n_clusters=20, \n",
    "                             name_lenght=5, \n",
    "                             ngrams = [1, 2], \n",
    "                             top_terms_overall=2000,\n",
    "                            min_count_terms=10,)"
   ]
  },
  {
   "cell_type": "code",
   "execution_count": 6,
   "id": "c43fe442-4d6e-4420-82c9-ddca55ae225e",
   "metadata": {},
   "outputs": [
    {
     "data": {
      "text/plain": [
       "['unemployment | jobs | economy | cuts | tax',\n",
       " 'endorsement | vets | crime | military | border',\n",
       " 'attack | government | politicians | obama | mess',\n",
       " 'disaster | care | cuts | tax | obama',\n",
       " 'news | hillary clinton | politicians | story | person',\n",
       " 'apprentice | celebrity | season | pm | tonight',\n",
       " 'president | leader | country | office | vote',\n",
       " 'poll | cruz | governor | obama | candidate',\n",
       " 'com | honor | family | friends | today',\n",
       " 'fbi | hunt | collusion | witch | information',\n",
       " 'golf | hotel | course | tower | trump',\n",
       " 'trump | president | donald | words | class',\n",
       " 'dems | immigration | house | gop | election',\n",
       " 'interview | rod | money | ratings | person',\n",
       " 'ratings | women | rod | time | attack',\n",
       " 'crowd | tomorrow | com | tonight | morning',\n",
       " 'trade | countries | market | u | farmers',\n",
       " 'thanks | book | fan | success | man',\n",
       " 'champion | thanks | twitter | honor | com',\n",
       " 'entrepreneurs | success | deal | work | deals']"
      ]
     },
     "execution_count": 6,
     "metadata": {},
     "output_type": "execute_result"
    }
   ],
   "source": [
    "list(set(df_topics.name))"
   ]
  },
  {
   "cell_type": "code",
   "execution_count": null,
   "id": "c79cdc1b-e08a-4ccf-981b-768c9c7a5c15",
   "metadata": {},
   "outputs": [],
   "source": []
  },
  {
   "cell_type": "code",
   "execution_count": 7,
   "id": "b1d73a35-16d3-442f-bc81-2b109eeb7387",
   "metadata": {},
   "outputs": [],
   "source": [
    "from langchain.llms import OpenAI\n",
    "llm = OpenAI(openai_api_key = os.getenv('OPEN_AI_KEY'))"
   ]
  },
  {
   "cell_type": "code",
   "execution_count": 8,
   "id": "33a3af6f-a0fb-44e0-855d-fdb59095f9a6",
   "metadata": {},
   "outputs": [
    {
     "name": "stderr",
     "output_type": "stream",
     "text": [
      "Creating new labels for clusters: 100%|██████████████████████████| 20/20 [00:10<00:00,  1.97it/s]\n"
     ]
    }
   ],
   "source": [
    "df_topics = bunka.get_clean_topic_name(generative_model=llm, use_doc=False)\n",
    "#topic_fig_clean = bunka.visualize_topics(width=800, height=800)"
   ]
  },
  {
   "cell_type": "code",
   "execution_count": null,
   "id": "dba0ad94-f02c-4b50-9b73-7f5b1a8d28b9",
   "metadata": {},
   "outputs": [],
   "source": []
  },
  {
   "cell_type": "code",
   "execution_count": 9,
   "id": "03060516-b102-485d-97bc-e80f4d19ff25",
   "metadata": {},
   "outputs": [],
   "source": [
    "def clean_topic(topic_text):\n",
    "    # Remove leading and trailing spaces\n",
    "    cleaned_string = topic_text.strip()\n",
    "    \n",
    "    # Remove double quotes, if they exist\n",
    "    if cleaned_string.startswith('\"') and cleaned_string.endswith('\"'):\n",
    "        cleaned_string = cleaned_string[1:-1]\n",
    "    \n",
    "    return cleaned_string"
   ]
  },
  {
   "cell_type": "code",
   "execution_count": 10,
   "id": "27304a08-17ce-4d3f-aba8-1213b1ece4b7",
   "metadata": {},
   "outputs": [],
   "source": [
    "for topic in bunka.topics:\n",
    "    topic.name = clean_topic(topic.name)"
   ]
  },
  {
   "cell_type": "code",
   "execution_count": 11,
   "id": "88105478-8965-4ff7-8a7f-b247532002c1",
   "metadata": {},
   "outputs": [],
   "source": [
    "import pandas as pd\n",
    "df_topics = pd.DataFrame([x.dict() for x in bunka.topics])"
   ]
  },
  {
   "cell_type": "code",
   "execution_count": 12,
   "id": "007fc7b0-d608-486c-a01e-3c18b9ccd318",
   "metadata": {},
   "outputs": [
    {
     "data": {
      "text/plain": [
       "['Appreciation and Acknowledgement',\n",
       " 'Donald Trump Presidency',\n",
       " 'Political News and Figures',\n",
       " 'Political Investigation',\n",
       " 'Political Criticism of Obama Administration',\n",
       " \"Women's Ratings Over Time\",\n",
       " 'Interviews and Ratings',\n",
       " 'The Crowd of Tomorrow',\n",
       " 'Television Programming',\n",
       " 'Election Campaigns',\n",
       " 'International Trade Markets',\n",
       " 'Golfing at a Luxury Hotel',\n",
       " 'Economic Challenges',\n",
       " 'Entrepreneurial Success in Deal-Making',\n",
       " 'Military and Border Security',\n",
       " 'Politcal Impact of Disasters and Cuts to Care and Taxation',\n",
       " 'Achieving Success',\n",
       " 'Relationships and Connections',\n",
       " 'Politics and Immigration',\n",
       " 'Political Leadership']"
      ]
     },
     "execution_count": 12,
     "metadata": {},
     "output_type": "execute_result"
    }
   ],
   "source": [
    "list(set(df_topics.name))"
   ]
  },
  {
   "cell_type": "code",
   "execution_count": null,
   "id": "eaef5108-6dcd-4606-a97b-e1c8d16ef57a",
   "metadata": {},
   "outputs": [],
   "source": []
  },
  {
   "cell_type": "code",
   "execution_count": null,
   "id": "875c40f1-e1b5-4790-a251-3d1dea44d8d7",
   "metadata": {},
   "outputs": [],
   "source": [
    "bunka.start_server()"
   ]
  },
  {
   "cell_type": "code",
   "execution_count": null,
   "id": "da70dabf-3758-4c82-a9bd-943adabb9cbb",
   "metadata": {},
   "outputs": [],
   "source": []
  },
  {
   "cell_type": "code",
   "execution_count": 19,
   "id": "eb432794-0413-4216-bad1-3988140c8bc9",
   "metadata": {},
   "outputs": [
    {
     "name": "stderr",
     "output_type": "stream",
     "text": [
      "Creating new labels for clusters: 100%|██████████████████████████| 15/15 [00:08<00:00,  1.76it/s]\n"
     ]
    }
   ],
   "source": [
    "manual_axis_name = {\n",
    "                    'x_left_name':'hate',\n",
    "                    'x_right_name':'peace',\n",
    "                   'y_top_name':'past',\n",
    "                    'y_bottom_name':'future',\n",
    "                    }\n",
    "\n",
    "\n",
    "from bunkatopics.datamodel import BourdieuQuery\n",
    "boudieu_query = BourdieuQuery(x_left_words=[\"this is about about positive content\"],\n",
    "                                x_right_words=[\"this is a about negative content\"],\n",
    "                                y_top_words=[\"this is about women\"],\n",
    "                                y_bottom_words=[\"this is about men\"],\n",
    "                                radius_size = 0.5)\n",
    "\n",
    "\n",
    "bourdieu_fig = bunka.visualize_bourdieu(\n",
    "    generative_model=llm,\n",
    "    x_left_words=boudieu_query.x_left_words,\n",
    "    x_right_words=boudieu_query.x_right_words,\n",
    "    y_top_words=boudieu_query.y_top_words,\n",
    "    y_bottom_words=boudieu_query.y_bottom_words,\n",
    "    height=1000,\n",
    "    width=1000,\n",
    "    display_percent=False,\n",
    "    clustering=True,\n",
    "    topic_n_clusters=15,\n",
    "    topic_terms=5,\n",
    "    topic_top_terms_overall=500,\n",
    "    topic_gen_name=True,\n",
    "    convex_hull = True,\n",
    "    radius_size = 0.5,\n",
    "    manual_axis_name = None\n",
    ")\n",
    "\n",
    "#bourdieu_fig.show()"
   ]
  },
  {
   "cell_type": "code",
   "execution_count": null,
   "id": "ee0effbf-ef08-4b99-98b9-690a18565f97",
   "metadata": {},
   "outputs": [],
   "source": []
  },
  {
   "cell_type": "code",
   "execution_count": 20,
   "id": "45c2eb1d-eee0-406c-899b-4220997dbb52",
   "metadata": {},
   "outputs": [
    {
     "name": "stdout",
     "output_type": "stream",
     "text": [
      "Server on port 3000 is already running. Killing it...\n",
      "NPM server started.\n",
      "\n",
      "> json-display-app@0.1.0 start\n",
      "> react-scripts start\n",
      "\n"
     ]
    },
    {
     "name": "stderr",
     "output_type": "stream",
     "text": [
      "(node:42960) [DEP_WEBPACK_DEV_SERVER_ON_AFTER_SETUP_MIDDLEWARE] DeprecationWarning: 'onAfterSetupMiddleware' option is deprecated. Please use the 'setupMiddlewares' option.\n",
      "(Use `node --trace-deprecation ...` to show where the warning was created)\n",
      "(node:42960) [DEP_WEBPACK_DEV_SERVER_ON_BEFORE_SETUP_MIDDLEWARE] DeprecationWarning: 'onBeforeSetupMiddleware' option is deprecated. Please use the 'setupMiddlewares' option.\n"
     ]
    },
    {
     "name": "stdout",
     "output_type": "stream",
     "text": [
      "\u001b[36mStarting the development server...\u001b[39m\n",
      "\u001b[36m\u001b[39m\n",
      "\u001b[32mCompiled successfully!\u001b[39m\n",
      "\n",
      "You can now view \u001b[1mjson-display-app\u001b[22m in the browser.\n",
      "\n",
      "  \u001b[1mLocal:\u001b[22m            http://localhost:\u001b[1m3000\u001b[22m\n",
      "  \u001b[1mOn Your Network:\u001b[22m  http://172.23.1.164:\u001b[1m3000\u001b[22m\n",
      "\n",
      "Note that the development build is not optimized.\n",
      "To create a production build, use \u001b[36mnpm run build\u001b[39m.\n",
      "\n",
      "webpack compiled \u001b[1m\u001b[32msuccessfully\u001b[39m\u001b[22m\n"
     ]
    }
   ],
   "source": [
    "bunka.start_server_bourdieu()"
   ]
  },
  {
   "cell_type": "code",
   "execution_count": null,
   "id": "785faa66-eb10-47eb-8758-e6efa219b3ef",
   "metadata": {},
   "outputs": [],
   "source": []
  },
  {
   "cell_type": "code",
   "execution_count": null,
   "id": "5ba783b2-d61c-4f63-917b-8510a3f4687a",
   "metadata": {},
   "outputs": [],
   "source": []
  }
 ],
 "metadata": {
  "kernelspec": {
   "display_name": "Python 3 (ipykernel)",
   "language": "python",
   "name": "python3"
  },
  "language_info": {
   "codemirror_mode": {
    "name": "ipython",
    "version": 3
   },
   "file_extension": ".py",
   "mimetype": "text/x-python",
   "name": "python",
   "nbconvert_exporter": "python",
   "pygments_lexer": "ipython3",
   "version": "3.10.13"
  }
 },
 "nbformat": 4,
 "nbformat_minor": 5
}
