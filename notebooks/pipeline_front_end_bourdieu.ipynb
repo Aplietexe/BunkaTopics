{
 "cells": [
  {
   "cell_type": "code",
   "execution_count": 17,
   "id": "778b6c2e-611e-411f-b36b-ab62ad399b8d",
   "metadata": {
    "scrolled": true
   },
   "outputs": [
    {
     "data": {
      "text/plain": [
       "True"
      ]
     },
     "execution_count": 17,
     "metadata": {},
     "output_type": "execute_result"
    }
   ],
   "source": [
    "import sys\n",
    "\n",
    "sys.path.append(\"../\")\n",
    "\n",
    "from bunkatopics import Bunka\n",
    "from bunkatopics.functions.clean_text import clean_tweet\n",
    "from langchain.embeddings import HuggingFaceEmbeddings\n",
    "import random\n",
    "from datasets import load_dataset\n",
    "import os\n",
    "from dotenv import load_dotenv\n",
    "from bunkatopics.functions.clean_text import clean_tweet\n",
    "\n",
    "load_dotenv()"
   ]
  },
  {
   "cell_type": "code",
   "execution_count": null,
   "id": "57df812b-b04c-4103-8106-f6915d4088ad",
   "metadata": {},
   "outputs": [],
   "source": [
    "dataset = load_dataset(\"rguo123/trump_tweets\")[\"train\"]\n",
    "full_docs = dataset[\"content\"]\n",
    "full_docs = random.sample(full_docs, 2000)\n",
    "full_docs = [clean_tweet(x) for x in full_docs]\n",
    "full_docs = [x for x in full_docs if len(x)>50]"
   ]
  },
  {
   "cell_type": "code",
   "execution_count": null,
   "id": "9fb23c81-f746-4a79-a33f-52062845042d",
   "metadata": {},
   "outputs": [],
   "source": []
  },
  {
   "cell_type": "code",
   "execution_count": null,
   "id": "21e0b21d-c0b0-4560-a913-9c6cc2b51b74",
   "metadata": {},
   "outputs": [],
   "source": [
    "#embedding_model = HuggingFaceEmbeddings(model_name=\"all-MiniLM-L6-v2\")\n",
    "embedding_model = HuggingFaceEmbeddings(model_name=\"BAAI/bge-base-en-v1.5\")\n",
    "\n",
    "bunka = Bunka(embedding_model=embedding_model)\n",
    "bunka.fit(full_docs)"
   ]
  },
  {
   "cell_type": "code",
   "execution_count": null,
   "id": "5dc67751-9522-470c-8035-a6999cdfd447",
   "metadata": {},
   "outputs": [],
   "source": [
    "from dotenv import load_dotenv\n",
    "\n",
    "load_dotenv()\n",
    "\n",
    "from langchain.llms import OpenAI\n",
    "open_ai_generative_model = OpenAI(openai_api_key = os.getenv('OPEN_AI_KEY'))"
   ]
  },
  {
   "cell_type": "code",
   "execution_count": null,
   "id": "eb432794-0413-4216-bad1-3988140c8bc9",
   "metadata": {},
   "outputs": [],
   "source": [
    "manual_axis_name = {\n",
    "                    'x_left_name':'hate',\n",
    "                    'x_right_name':'peace',\n",
    "                   'y_top_name':'past',\n",
    "                    'y_bottom_name':'future',\n",
    "                    }\n",
    "\n",
    "\n",
    "from bunkatopics.datamodel import BourdieuQuery\n",
    "boudieu_query = BourdieuQuery(x_left_words=[\"this is about about men\"],\n",
    "                                x_right_words=[\"this is a about women\"],\n",
    "                                y_top_words=[\"this is about war\"],\n",
    "                                y_bottom_words=[\"this is about peace\"],\n",
    "                                radius_size = 0.5)\n",
    "\n",
    "\n",
    "bourdieu_fig = bunka.visualize_bourdieu(\n",
    "    generative_model=open_ai_generative_model,\n",
    "    x_left_words=boudieu_query.x_left_words,\n",
    "    x_right_words=boudieu_query.x_right_words,\n",
    "    y_top_words=boudieu_query.y_top_words,\n",
    "    y_bottom_words=boudieu_query.y_bottom_words,\n",
    "    height=1000,\n",
    "    width=1000,\n",
    "    display_percent=False,\n",
    "    clustering=True,\n",
    "    topic_n_clusters=10,\n",
    "    topic_terms=5,\n",
    "    topic_top_terms_overall=500,\n",
    "    topic_gen_name=True,\n",
    "    convex_hull = True,\n",
    "    radius_size = 0.5,\n",
    "    manual_axis_name = manual_axis_name\n",
    ")\n",
    "\n",
    "#bourdieu_fig.show()"
   ]
  },
  {
   "cell_type": "code",
   "execution_count": null,
   "id": "ee0effbf-ef08-4b99-98b9-690a18565f97",
   "metadata": {},
   "outputs": [],
   "source": []
  },
  {
   "cell_type": "code",
   "execution_count": null,
   "id": "45c2eb1d-eee0-406c-899b-4220997dbb52",
   "metadata": {},
   "outputs": [],
   "source": [
    "bunka.start_server_bourdieu()"
   ]
  },
  {
   "cell_type": "code",
   "execution_count": null,
   "id": "785faa66-eb10-47eb-8758-e6efa219b3ef",
   "metadata": {},
   "outputs": [],
   "source": []
  },
  {
   "cell_type": "code",
   "execution_count": null,
   "id": "5ba783b2-d61c-4f63-917b-8510a3f4687a",
   "metadata": {},
   "outputs": [],
   "source": []
  }
 ],
 "metadata": {
  "kernelspec": {
   "display_name": "Python 3 (ipykernel)",
   "language": "python",
   "name": "python3"
  },
  "language_info": {
   "codemirror_mode": {
    "name": "ipython",
    "version": 3
   },
   "file_extension": ".py",
   "mimetype": "text/x-python",
   "name": "python",
   "nbconvert_exporter": "python",
   "pygments_lexer": "ipython3",
   "version": "3.10.13"
  }
 },
 "nbformat": 4,
 "nbformat_minor": 5
}
