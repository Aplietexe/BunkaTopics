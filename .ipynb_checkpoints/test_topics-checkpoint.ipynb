{
 "cells": [
  {
   "cell_type": "code",
   "execution_count": 12,
   "id": "40ac150b-8fa2-45ab-9312-dcb6ee821147",
   "metadata": {},
   "outputs": [],
   "source": [
    "import pandas as pd\n",
    "from bunka_topics.basic_class import BasicSemantics"
   ]
  },
  {
   "cell_type": "code",
   "execution_count": 14,
   "id": "a3dd08a9-fa72-4c53-ade9-252c6bb4e9a7",
   "metadata": {},
   "outputs": [],
   "source": [
    "df = pd.read_csv('data/imdb.csv', index_col = [0])\n",
    "df = df.sample(1000, random_state = 42)\n",
    "df = df[['imdb', 'description']].dropna()\n"
   ]
  },
  {
   "cell_type": "code",
   "execution_count": null,
   "id": "d27e37a4-c361-4198-a87c-e328f4dad711",
   "metadata": {
    "tags": []
   },
   "outputs": [
    {
     "name": "stdout",
     "output_type": "stream",
     "text": [
      "Extracting Terms...\n"
     ]
    },
    {
     "name": "stderr",
     "output_type": "stream",
     "text": [
      "  0%|                                                                           | 0/995 [00:00<?, ?it/s]"
     ]
    }
   ],
   "source": [
    "# instantiate model\n",
    "model = BasicSemantics(df, \n",
    "                       index_var=\"imdb\", \n",
    "                       text_var=\"description\")\n",
    "\n",
    "\n",
    "model.fit(extract_terms=True,\n",
    "            terms_embeddings=True,\n",
    "            docs_embeddings=True,\n",
    "            sample_size_terms=10000,\n",
    "            terms_limit=3000,\n",
    "            terms_ents=True, \n",
    "            language = 'en'\n",
    "         )"
   ]
  },
  {
   "cell_type": "code",
   "execution_count": null,
   "id": "04616db0-5be0-4111-895d-2e52b3c25db3",
   "metadata": {},
   "outputs": [],
   "source": []
  },
  {
   "cell_type": "code",
   "execution_count": null,
   "id": "9239d1f5-f478-411a-a3f6-35bad0b5c67f",
   "metadata": {},
   "outputs": [],
   "source": []
  },
  {
   "cell_type": "code",
   "execution_count": null,
   "id": "d7d8baeb-2e19-4205-bfdd-228f5da04ca3",
   "metadata": {},
   "outputs": [],
   "source": []
  },
  {
   "cell_type": "code",
   "execution_count": 4,
   "id": "7951d49a-3ca0-432e-a579-f6cce3b3cc95",
   "metadata": {},
   "outputs": [
    {
     "name": "stdout",
     "output_type": "stream",
     "text": [
      "Extracting Terms...\n"
     ]
    },
    {
     "name": "stderr",
     "output_type": "stream",
     "text": [
      "100%|████████████████████████████████████████████████████████████| 10000/10000 [00:25<00:00, 391.76it/s]\n"
     ]
    },
    {
     "name": "stdout",
     "output_type": "stream",
     "text": [
      "Extracting Docs Embeddings...\n"
     ]
    },
    {
     "name": "stderr",
     "output_type": "stream",
     "text": [
      "100%|█████████████████████████████████████████████████████████████| 12531/12531 [02:52<00:00, 72.66it/s]\n"
     ]
    },
    {
     "name": "stdout",
     "output_type": "stream",
     "text": [
      "UMAP(n_components=5, verbose=True)\n",
      "Fri May 20 09:43:01 2022 Construct fuzzy simplicial set\n",
      "Fri May 20 09:43:01 2022 Finding Nearest Neighbors\n",
      "Fri May 20 09:43:01 2022 Building RP forest with 11 trees\n",
      "Fri May 20 09:43:01 2022 NN descent for 14 iterations\n",
      "\t 1  /  14\n",
      "\t 2  /  14\n",
      "\t 3  /  14\n",
      "\t 4  /  14\n",
      "\t 5  /  14\n",
      "\t 6  /  14\n",
      "\tStopping threshold met -- exiting after 6 iterations\n",
      "Fri May 20 09:43:07 2022 Finished Nearest Neighbor Search\n",
      "Fri May 20 09:43:09 2022 Construct embedding\n"
     ]
    },
    {
     "data": {
      "application/vnd.jupyter.widget-view+json": {
       "model_id": "07217165cb2344258111fa77242ff1da",
       "version_major": 2,
       "version_minor": 0
      },
      "text/plain": [
       "Epochs completed:   0%|            0/200 [00:00]"
      ]
     },
     "metadata": {},
     "output_type": "display_data"
    },
    {
     "name": "stdout",
     "output_type": "stream",
     "text": [
      "Fri May 20 09:43:18 2022 Finished embedding\n",
      "Extracting Terms Embeddings...\n"
     ]
    },
    {
     "name": "stderr",
     "output_type": "stream",
     "text": [
      "100%|██████████████████████████████████████████████████████████████| 3000/3000 [00:25<00:00, 119.83it/s]\n"
     ]
    },
    {
     "name": "stdout",
     "output_type": "stream",
     "text": [
      "UMAP(n_components=5, verbose=True)\n",
      "Fri May 20 09:43:44 2022 Construct fuzzy simplicial set\n",
      "Fri May 20 09:43:48 2022 Finding Nearest Neighbors\n",
      "Fri May 20 09:43:49 2022 Finished Nearest Neighbor Search\n",
      "Fri May 20 09:43:50 2022 Construct embedding\n"
     ]
    },
    {
     "data": {
      "application/vnd.jupyter.widget-view+json": {
       "model_id": "3dadb71cdb994e0c924c5e7035edce96",
       "version_major": 2,
       "version_minor": 0
      },
      "text/plain": [
       "Epochs completed:   0%|            0/500 [00:00]"
      ]
     },
     "metadata": {},
     "output_type": "display_data"
    },
    {
     "name": "stdout",
     "output_type": "stream",
     "text": [
      "Fri May 20 09:43:53 2022 Finished embedding\n"
     ]
    }
   ],
   "source": []
  },
  {
   "cell_type": "code",
   "execution_count": null,
   "id": "c717bbbd-1aa5-453a-8962-a898d66da7b9",
   "metadata": {},
   "outputs": [],
   "source": []
  },
  {
   "cell_type": "code",
   "execution_count": 5,
   "id": "8edc7d5b-9a77-41af-9657-f77c4afb7b67",
   "metadata": {},
   "outputs": [],
   "source": [
    "import pandas as pd\n",
    "import plotly.express as px\n",
    "import numpy as np\n",
    "import warnings\n",
    "import umap\n",
    "from sklearn.cluster import KMeans\n",
    "import logging\n",
    "\n",
    "from topic_modeling.specificity import specificity\n",
    "from topic_modeling.basic_class import BasicSemantics\n",
    "from topic_modeling.centroids import find_centroids\n",
    "from topic_modeling.extract_terms import extract_terms, extract_terms_df"
   ]
  },
  {
   "cell_type": "code",
   "execution_count": 6,
   "id": "14784cab-c971-4961-a2cf-3efd97721875",
   "metadata": {},
   "outputs": [],
   "source": [
    "import bamboolib"
   ]
  },
  {
   "cell_type": "code",
   "execution_count": 219,
   "id": "00499fba-1d22-4885-8f56-d1461b3345d6",
   "metadata": {},
   "outputs": [],
   "source": []
  },
  {
   "cell_type": "code",
   "execution_count": 7,
   "id": "92c0f27d-c4a4-4233-8705-bc71c34f6390",
   "metadata": {},
   "outputs": [],
   "source": [
    "#top_terms = model.terms.head(300).copy()\n",
    "\n",
    "#df_terms_indexed = model.df_terms_indexed.reset_index().copy()\n",
    "#df_terms_indexed = df_terms_indexed.explode('text')\n",
    "#df_terms_indexed = df_terms_indexed[df_terms_indexed['text'].isin(top_terms.index)]\n",
    "\n",
    "#model.terms = top_terms\n",
    "#model.df_terms_indexed = df_terms_indexed"
   ]
  },
  {
   "cell_type": "code",
   "execution_count": null,
   "id": "1c32d7e2-ccaf-4882-aa68-193635e0e90c",
   "metadata": {},
   "outputs": [],
   "source": []
  },
  {
   "cell_type": "code",
   "execution_count": 8,
   "id": "d556557a-26e3-4d8e-ac3c-b0bc80a31bad",
   "metadata": {},
   "outputs": [],
   "source": [
    "#df_index_extented = model.df_terms_indexed.reset_index().copy()\n",
    "#df_index_extented = df_index_extented.explode('text').reset_index(drop=True)\n",
    "#df_index_extented = df_index_extented.set_index(model.index_var)"
   ]
  },
  {
   "cell_type": "code",
   "execution_count": null,
   "id": "d9fa24ce-9465-4bda-b123-5a9b911943a6",
   "metadata": {},
   "outputs": [],
   "source": []
  },
  {
   "cell_type": "code",
   "execution_count": null,
   "id": "22a49a0f-a076-45b8-bd7c-b0e5e1e878be",
   "metadata": {},
   "outputs": [],
   "source": []
  },
  {
   "cell_type": "code",
   "execution_count": null,
   "id": "aaa0d8c2-18dd-4f42-9819-cc83f475cfc4",
   "metadata": {},
   "outputs": [],
   "source": []
  },
  {
   "cell_type": "code",
   "execution_count": null,
   "id": "a365dc1f-7b09-4b44-8ebf-67950f1bfed8",
   "metadata": {},
   "outputs": [],
   "source": []
  },
  {
   "cell_type": "code",
   "execution_count": 58,
   "id": "09c7dc6c-b590-4621-a911-9103819b277c",
   "metadata": {},
   "outputs": [],
   "source": [
    "def get_clusters(topic_number=20, top_terms=10, term_type = 'lemma', top_terms_included = 100, ngrams = [1, 2]):  \n",
    "    \n",
    "    \n",
    "    model.data[\"cluster\"] = (\n",
    "        KMeans(n_clusters=topic_number)\n",
    "        .fit(model.docs_embeddings)\n",
    "        .labels_.astype(str)\n",
    "    )\n",
    "    \n",
    "    df_index_extented = model.df_terms_indexed.reset_index().copy()\n",
    "    df_index_extented = df_index_extented.explode('text').reset_index(drop=True)\n",
    "    \n",
    "    df_index_extented = pd.merge(df_index_extented, model.terms[model.terms['ngrams'].isin(ngrams)].reset_index().head(top_terms_included), on = 'text')\n",
    "    df_index_extented = df_index_extented.set_index(model.index_var)\n",
    "\n",
    "    # Get the Topics Names\n",
    "    df_clusters = pd.merge(\n",
    "        model.data[[\"cluster\"]],\n",
    "        df_index_extented,\n",
    "        left_index=True,\n",
    "        right_index = True\n",
    "    )\n",
    "\n",
    "    _, _, edge = specificity(\n",
    "        df_clusters, X=\"cluster\", Y=term_type, Z=None, top_n=top_terms\n",
    "    )\n",
    "\n",
    "    topics = (\n",
    "        edge.groupby(\"cluster\")[term_type].apply(lambda x: \" | \".join(x)).reset_index()\n",
    "    )\n",
    "    topics = topics.rename(columns={term_type: \"cluster_name\"})\n",
    "\n",
    "    # Get the Topics Size\n",
    "\n",
    "    topic_size = (\n",
    "        model.data[[\"cluster\"]].reset_index()\n",
    "        .groupby(\"cluster\")[model.index_var]\n",
    "        .count()\n",
    "        .reset_index()\n",
    "    )\n",
    "    topic_size.columns = [\"cluster\", \"topic_size\"]\n",
    "\n",
    "    topics = pd.merge(topics, topic_size, on=\"cluster\")\n",
    "    topics = topics.sort_values(\"topic_size\", ascending=False)\n",
    "    model.topics = topics.reset_index(drop=True)\n",
    "\n",
    "    model.df_topics_names = pd.merge(\n",
    "        model.data[[\"cluster\"]].reset_index(), topics, on=\"cluster\"\n",
    "    )\n",
    "\n",
    "    model.df_topics_names[\"cluster_name_number\"] = (\n",
    "        model.df_topics_names[\"cluster\"]\n",
    "        + \" - \"\n",
    "        + model.df_topics_names[\"cluster_name\"]\n",
    "    )\n",
    "    \n",
    "    model.df_topics_names = model.df_topics_names.set_index(model.index_var)\n",
    "\n",
    "    return model.topics"
   ]
  },
  {
   "cell_type": "code",
   "execution_count": null,
   "id": "055e8924-2f42-40e4-bbff-a879f63dc42e",
   "metadata": {},
   "outputs": [],
   "source": []
  },
  {
   "cell_type": "code",
   "execution_count": null,
   "id": "00733ff2-bbc6-4123-a8f4-a5d2629f1a10",
   "metadata": {},
   "outputs": [],
   "source": []
  },
  {
   "cell_type": "code",
   "execution_count": 61,
   "id": "477e7c7f-29ab-4415-abb0-5c89ed82c62c",
   "metadata": {},
   "outputs": [],
   "source": [
    "res = get_clusters(topic_number=10, top_terms=10, top_terms_included = 200, term_type = \"text\", ngrams = [1, 2])"
   ]
  },
  {
   "cell_type": "code",
   "execution_count": null,
   "id": "5e91d764-baaf-485a-b2c0-c90454f034ef",
   "metadata": {},
   "outputs": [],
   "source": []
  },
  {
   "cell_type": "code",
   "execution_count": null,
   "id": "81e768b6-deae-43e1-9ad8-5f1de11be241",
   "metadata": {},
   "outputs": [],
   "source": []
  },
  {
   "cell_type": "code",
   "execution_count": 52,
   "id": "344eaeee-e2ac-407b-a4e2-e5e54f735514",
   "metadata": {},
   "outputs": [],
   "source": [
    "def wrap_by_word(string, n_words):\n",
    "    \"\"\"returns a string where \\\\n is inserted between every n words\"\"\"\n",
    "    try:\n",
    "        a = string.split()\n",
    "        ret = \"\"\n",
    "        for i in range(0, len(a), n_words):\n",
    "            ret += \" \".join(a[i : i + n_words]) + \"<br>\"\n",
    "    except:\n",
    "        pass\n",
    "\n",
    "    return ret"
   ]
  },
  {
   "cell_type": "code",
   "execution_count": null,
   "id": "9ff6490c-1d16-45b5-9cac-3be60c6fa644",
   "metadata": {},
   "outputs": [],
   "source": []
  },
  {
   "cell_type": "code",
   "execution_count": null,
   "id": "fca2ea3b-bb92-4ece-91fe-9e011fcffc0b",
   "metadata": {},
   "outputs": [],
   "source": [
    "\n",
    "\n",
    "\n"
   ]
  },
  {
   "cell_type": "code",
   "execution_count": null,
   "id": "740005df-6c25-49cf-98ec-e0ce03bdd628",
   "metadata": {},
   "outputs": [],
   "source": []
  },
  {
   "cell_type": "code",
   "execution_count": 77,
   "id": "ce3a9f48-9ba3-4bb8-9033-f0addca9b608",
   "metadata": {},
   "outputs": [],
   "source": [
    "search = 'commercial'\n",
    "\n",
    "df_search = model.data[model.text_var].reset_index()\n",
    "df_search = df_search[df_search['text'].str.contains(search, case=False)]\n",
    "df_search = df_search.set_index(model.index_var)"
   ]
  },
  {
   "cell_type": "code",
   "execution_count": 62,
   "id": "e3b512c9-1302-4fa9-a1ce-ba8a9dc30970",
   "metadata": {},
   "outputs": [
    {
     "name": "stdout",
     "output_type": "stream",
     "text": [
      "UMAP( verbose=True)\n",
      "Fri May 20 13:30:05 2022 Construct fuzzy simplicial set\n",
      "Fri May 20 13:30:05 2022 Finding Nearest Neighbors\n",
      "Fri May 20 13:30:05 2022 Building RP forest with 11 trees\n",
      "Fri May 20 13:30:05 2022 NN descent for 14 iterations\n",
      "\t 1  /  14\n",
      "\t 2  /  14\n",
      "\t 3  /  14\n",
      "\tStopping threshold met -- exiting after 3 iterations\n",
      "Fri May 20 13:30:05 2022 Finished Nearest Neighbor Search\n",
      "Fri May 20 13:30:05 2022 Construct embedding\n"
     ]
    },
    {
     "data": {
      "application/vnd.jupyter.widget-view+json": {
       "model_id": "c04532c43fcf4654991328ecc793ef85",
       "version_major": 2,
       "version_minor": 0
      },
      "text/plain": [
       "Epochs completed:   0%|            0/200 [00:00]"
      ]
     },
     "metadata": {},
     "output_type": "display_data"
    },
    {
     "name": "stdout",
     "output_type": "stream",
     "text": [
      "Fri May 20 13:30:19 2022 Finished embedding\n"
     ]
    }
   ],
   "source": [
    "\n",
    "\n",
    "\n",
    "\"\"\"\n",
    "Visualize the embeddings in 2D.\n",
    "There is an hover for the text and clusters have names.\n",
    "\n",
    "\"\"\"\n",
    "\n",
    "res = pd.merge(\n",
    "    model.docs_embeddings,\n",
    "    model.df_topics_names,\n",
    "    left_index = True, \n",
    "    right_index = True,\n",
    ")\n",
    "\n",
    "\n",
    "#model.data = model.data.set_index(model.index_var)\n",
    "res = pd.merge(res.drop(\"cluster\", axis=1), model.data, left_index = True, right_index = True,)\n",
    "\n",
    "# if not hasattr(model, \"embeddings_2d\"):\n",
    "model.embeddings_2d = umap.UMAP(n_components=2, verbose=True).fit_transform(\n",
    "    res[[0, 1, 2, 3, 4]]\n",
    ")\n",
    "\n",
    "res[\"dim_1\"] = model.embeddings_2d[:, 0]\n",
    "res[\"dim_2\"] = model.embeddings_2d[:, 1]\n",
    "\n",
    "res[model.text_var] = res[model.text_var].apply(lambda x: wrap_by_word(x, 10))\n",
    "res[\"cluster_label\"] = (\n",
    "    res[\"cluster\"].astype(object) + \" - \" + res[\"cluster_name\"]\n",
    ")\n",
    "\n",
    "res['cluster_size'] = res['cluster'].astype(str) + '| ' + res['topic_size'].astype(str)\n",
    "\n",
    "model.df_fig = res.reset_index(drop=True)"
   ]
  },
  {
   "cell_type": "code",
   "execution_count": null,
   "id": "d10ca94f-2e78-4705-a1cf-ef3dd519b41b",
   "metadata": {},
   "outputs": [],
   "source": []
  },
  {
   "cell_type": "code",
   "execution_count": null,
   "id": "fa545f6d-530c-4fc6-8ea5-a6268ee5c62e",
   "metadata": {},
   "outputs": [],
   "source": []
  },
  {
   "cell_type": "code",
   "execution_count": 82,
   "id": "5034f7aa-e66c-4676-9921-6823578fed93",
   "metadata": {},
   "outputs": [
    {
     "data": {
      "text/plain": [
       "'test_topic.html'"
      ]
     },
     "execution_count": 82,
     "metadata": {},
     "output_type": "execute_result"
    }
   ],
   "source": [
    "df_fig = model.df_fig.copy()\n",
    "\n",
    "\n",
    "#if search is not None:\n",
    "    \n",
    "centroids_emb = df_fig[['dim_1', 'dim_2', 'cluster_name_number']]\n",
    "centroids_emb = centroids_emb.groupby('cluster_name_number').mean().reset_index()\n",
    "centroids_emb.columns = ['centroid_name', 'dim_1', 'dim_2']\n",
    "\n",
    "df_fig_centroids = pd.concat([df_fig, centroids_emb])\n",
    "df_fig_centroids['centroid_name'] = df_fig_centroids['centroid_name'].fillna(\" \")\n",
    "df_fig_centroids['cluster_size'] = df_fig_centroids['cluster_size'].fillna(\"centroids\")\n",
    "\n",
    "fig = px.scatter(\n",
    "            df_fig_centroids,\n",
    "            x=\"dim_1\",\n",
    "            y=\"dim_2\",\n",
    "            color=\"cluster_size\",\n",
    "            text = 'centroid_name',\n",
    "            hover_data=[model.text_var],\n",
    "            width=2000,\n",
    "            height=2000,\n",
    "        )\n",
    "#fig.update_layout(showlegend=False)\n",
    "#fig.show()\n",
    "import plotly\n",
    "plotly.offline.plot(fig, filename='test_topic.html')\n"
   ]
  },
  {
   "cell_type": "code",
   "execution_count": null,
   "id": "4d4d039d-c845-481b-a8fb-f88a9646fecf",
   "metadata": {},
   "outputs": [],
   "source": []
  },
  {
   "cell_type": "code",
   "execution_count": null,
   "id": "f00933f5-8b80-45c5-879e-ac64837c27f8",
   "metadata": {},
   "outputs": [],
   "source": []
  },
  {
   "cell_type": "code",
   "execution_count": null,
   "id": "0388c8ca-6915-4c1b-a352-e2b1f552343c",
   "metadata": {},
   "outputs": [],
   "source": []
  }
 ],
 "metadata": {
  "kernelspec": {
   "display_name": "Python 3 (ipykernel)",
   "language": "python",
   "name": "python3"
  },
  "language_info": {
   "codemirror_mode": {
    "name": "ipython",
    "version": 3
   },
   "file_extension": ".py",
   "mimetype": "text/x-python",
   "name": "python",
   "nbconvert_exporter": "python",
   "pygments_lexer": "ipython3",
   "version": "3.9.7"
  }
 },
 "nbformat": 4,
 "nbformat_minor": 5
}
